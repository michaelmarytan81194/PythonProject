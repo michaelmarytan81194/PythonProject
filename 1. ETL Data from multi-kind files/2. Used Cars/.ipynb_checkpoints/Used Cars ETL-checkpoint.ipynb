{
 "cells": [
  {
   "cell_type": "code",
   "execution_count": 2,
   "id": "d806aaaa-d48f-4e3a-bc70-0ee07ec20b0d",
   "metadata": {},
   "outputs": [],
   "source": [
    "#unzip the zip file\n",
    "import zipfile\n",
    "with zipfile.ZipFile('datasource.zip', 'r') as zip_ref:\n",
    "    zip_ref.extractall()"
   ]
  },
  {
   "cell_type": "code",
   "execution_count": 1,
   "id": "d56675ef-802d-47da-8cd6-2723792aedd5",
   "metadata": {},
   "outputs": [],
   "source": [
    "#Necessary libraries\n",
    "import glob \n",
    "import pandas as pd \n",
    "import xml.etree.ElementTree as ET \n",
    "from datetime import datetime "
   ]
  },
  {
   "cell_type": "markdown",
   "id": "3af2d346-94ba-4660-9156-c759563fc3a7",
   "metadata": {},
   "source": [
    "<h3> 1. Build extract function <h3>"
   ]
  },
  {
   "cell_type": "code",
   "execution_count": 64,
   "id": "e91b883f-17c7-41b3-b804-a6e60223f7ef",
   "metadata": {},
   "outputs": [],
   "source": [
    "def extract_from_csv (input_file):\n",
    "    df = pd.read_csv(input_file)\n",
    "    return df\n",
    "def extract_from_json (input_file):\n",
    "    df = pd.read_json(input_file, lines = True)\n",
    "    return df\n",
    "def extract_from_xml (input_file):\n",
    "    df = pd.DataFrame(columns = [\"car_model\", \"year_of_manufacture\", \"price\", \"fuel\"])\n",
    "    data = ET.parse(input_file)\n",
    "    root = data.getroot()\n",
    "    for row in root:\n",
    "        car_model = row.find(\"car_model\").text\n",
    "        year_of_manufacture = row.find(\"year_of_manufacture\").text\n",
    "        price = float(row.find(\"price\").text)\n",
    "        fuel = row.find(\"fuel\").text\n",
    "        df = pd.concat([df, pd.DataFrame([{\"car_model\":car_model, \"year_of_manufacture\":year_of_manufacture, \"price\":price, \"fuel\":fuel}])], ignore_index=True)\n",
    "    return df\n",
    "def extract():\n",
    "    extracted_data = pd.DataFrame(columns =[\"car_model\", \"year_of_manufacture\", \"price\", \"fuel\"])\n",
    "    for csvfile in glob.glob(\"*.csv\"):\n",
    "        extracted_data = pd.concat([extracted_data, pd.DataFrame(extract_from_csv(csvfile))], ignore_index = True)\n",
    "    for jsonfile in glob.glob(\"*.json\"):\n",
    "        extracted_data = pd.concat([extracted_data, pd.DataFrame(extract_from_json(jsonfile))], ignore_index = True)\n",
    "    for xmlfile in glob.glob(\"*.xml\"):\n",
    "        extracted_data = pd.concat([extracted_data, pd.DataFrame(extract_from_xml(xmlfile))], ignore_index = True)\n",
    "    return extracted_data"
   ]
  },
  {
   "cell_type": "code",
   "execution_count": 63,
   "id": "e25634c8",
   "metadata": {},
   "outputs": [
    {
     "data": {
      "text/html": [
       "<div>\n",
       "<style scoped>\n",
       "    .dataframe tbody tr th:only-of-type {\n",
       "        vertical-align: middle;\n",
       "    }\n",
       "\n",
       "    .dataframe tbody tr th {\n",
       "        vertical-align: top;\n",
       "    }\n",
       "\n",
       "    .dataframe thead th {\n",
       "        text-align: right;\n",
       "    }\n",
       "</style>\n",
       "<table border=\"1\" class=\"dataframe\">\n",
       "  <thead>\n",
       "    <tr style=\"text-align: right;\">\n",
       "      <th></th>\n",
       "      <th>car_model</th>\n",
       "      <th>year_of_manufacture</th>\n",
       "      <th>price</th>\n",
       "      <th>fuel</th>\n",
       "      <th>Unnamed: 0</th>\n",
       "    </tr>\n",
       "  </thead>\n",
       "  <tbody>\n",
       "    <tr>\n",
       "      <th>0</th>\n",
       "      <td>ritz</td>\n",
       "      <td>2014</td>\n",
       "      <td>5000.000000</td>\n",
       "      <td>Petrol</td>\n",
       "      <td>NaN</td>\n",
       "    </tr>\n",
       "    <tr>\n",
       "      <th>1</th>\n",
       "      <td>sx4</td>\n",
       "      <td>2013</td>\n",
       "      <td>7089.552239</td>\n",
       "      <td>Diesel</td>\n",
       "      <td>NaN</td>\n",
       "    </tr>\n",
       "    <tr>\n",
       "      <th>2</th>\n",
       "      <td>ciaz</td>\n",
       "      <td>2017</td>\n",
       "      <td>10820.895522</td>\n",
       "      <td>Petrol</td>\n",
       "      <td>NaN</td>\n",
       "    </tr>\n",
       "    <tr>\n",
       "      <th>3</th>\n",
       "      <td>wagon r</td>\n",
       "      <td>2011</td>\n",
       "      <td>4253.731343</td>\n",
       "      <td>Petrol</td>\n",
       "      <td>NaN</td>\n",
       "    </tr>\n",
       "    <tr>\n",
       "      <th>4</th>\n",
       "      <td>swift</td>\n",
       "      <td>2014</td>\n",
       "      <td>6865.671642</td>\n",
       "      <td>Diesel</td>\n",
       "      <td>NaN</td>\n",
       "    </tr>\n",
       "    <tr>\n",
       "      <th>...</th>\n",
       "      <td>...</td>\n",
       "      <td>...</td>\n",
       "      <td>...</td>\n",
       "      <td>...</td>\n",
       "      <td>...</td>\n",
       "    </tr>\n",
       "    <tr>\n",
       "      <th>85</th>\n",
       "      <td>camry</td>\n",
       "      <td>2006</td>\n",
       "      <td>3731.343284</td>\n",
       "      <td>Petrol</td>\n",
       "      <td>NaN</td>\n",
       "    </tr>\n",
       "    <tr>\n",
       "      <th>86</th>\n",
       "      <td>land cruiser</td>\n",
       "      <td>2010</td>\n",
       "      <td>52238.805970</td>\n",
       "      <td>Diesel</td>\n",
       "      <td>NaN</td>\n",
       "    </tr>\n",
       "    <tr>\n",
       "      <th>87</th>\n",
       "      <td>corolla altis</td>\n",
       "      <td>2012</td>\n",
       "      <td>8805.970149</td>\n",
       "      <td>Petrol</td>\n",
       "      <td>NaN</td>\n",
       "    </tr>\n",
       "    <tr>\n",
       "      <th>88</th>\n",
       "      <td>etios liva</td>\n",
       "      <td>2013</td>\n",
       "      <td>5149.253731</td>\n",
       "      <td>Petrol</td>\n",
       "      <td>NaN</td>\n",
       "    </tr>\n",
       "    <tr>\n",
       "      <th>89</th>\n",
       "      <td>etios g</td>\n",
       "      <td>2014</td>\n",
       "      <td>7089.552239</td>\n",
       "      <td>Petrol</td>\n",
       "      <td>NaN</td>\n",
       "    </tr>\n",
       "  </tbody>\n",
       "</table>\n",
       "<p>90 rows × 5 columns</p>\n",
       "</div>"
      ],
      "text/plain": [
       "        car_model year_of_manufacture         price    fuel Unnamed: 0\n",
       "0            ritz                2014   5000.000000  Petrol        NaN\n",
       "1             sx4                2013   7089.552239  Diesel        NaN\n",
       "2            ciaz                2017  10820.895522  Petrol        NaN\n",
       "3         wagon r                2011   4253.731343  Petrol        NaN\n",
       "4           swift                2014   6865.671642  Diesel        NaN\n",
       "..            ...                 ...           ...     ...        ...\n",
       "85          camry                2006   3731.343284  Petrol        NaN\n",
       "86   land cruiser                2010  52238.805970  Diesel        NaN\n",
       "87  corolla altis                2012   8805.970149  Petrol        NaN\n",
       "88     etios liva                2013   5149.253731  Petrol        NaN\n",
       "89        etios g                2014   7089.552239  Petrol        NaN\n",
       "\n",
       "[90 rows x 5 columns]"
      ]
     },
     "execution_count": 63,
     "metadata": {},
     "output_type": "execute_result"
    }
   ],
   "source": []
  },
  {
   "cell_type": "markdown",
   "id": "8ff47fb8",
   "metadata": {},
   "source": [
    "<h3> 2. Transform Function <h3>"
   ]
  },
  {
   "cell_type": "code",
   "execution_count": 42,
   "id": "900aca1d",
   "metadata": {},
   "outputs": [],
   "source": [
    "def transform(data):\n",
    "    data['price'] = round(data.price, 2)\n",
    "    return data"
   ]
  },
  {
   "cell_type": "markdown",
   "id": "d0023efd",
   "metadata": {},
   "source": [
    "<h3> 3.Load and Log function <h3>"
   ]
  },
  {
   "cell_type": "code",
   "execution_count": 43,
   "id": "ed8e0ebd",
   "metadata": {},
   "outputs": [],
   "source": [
    "\n",
    "def load_data (transformed_data):\n",
    "    transformed_data.to_csv(\"transformed_data.csv\")"
   ]
  },
  {
   "cell_type": "code",
   "execution_count": 44,
   "id": "80c051f1",
   "metadata": {},
   "outputs": [],
   "source": [
    "def log_progress (message):\n",
    "    timestamp_format = '%Y-%h-%d-%H:%M:%S'\n",
    "    now = datetime.now()\n",
    "    timestamp = now.strftime(timestamp_format)\n",
    "    with open(\"log_file.txt\", 'a') as file:\n",
    "        file.write ('At' + timestamp + ',' + message + '\\n')"
   ]
  },
  {
   "cell_type": "code",
   "execution_count": 65,
   "id": "9c1dc357",
   "metadata": {},
   "outputs": [
    {
     "name": "stdout",
     "output_type": "stream",
     "text": [
      "Transformed Data\n",
      "        car_model year_of_manufacture     price    fuel Unnamed: 0\n",
      "0            ritz                2014   5000.00  Petrol        NaN\n",
      "1             sx4                2013   7089.55  Diesel        NaN\n",
      "2            ciaz                2017  10820.90  Petrol        NaN\n",
      "3         wagon r                2011   4253.73  Petrol        NaN\n",
      "4           swift                2014   6865.67  Diesel        NaN\n",
      "..            ...                 ...       ...     ...        ...\n",
      "85          camry                2006   3731.34  Petrol        NaN\n",
      "86   land cruiser                2010  52238.81  Diesel        NaN\n",
      "87  corolla altis                2012   8805.97  Petrol        NaN\n",
      "88     etios liva                2013   5149.25  Petrol        NaN\n",
      "89        etios g                2014   7089.55  Petrol        NaN\n",
      "\n",
      "[90 rows x 5 columns]\n"
     ]
    }
   ],
   "source": [
    "# Log the initialization of the ETL process \n",
    "log_progress(\"ETL Job Started\") \n",
    " \n",
    "# Log the beginning of the Extraction process \n",
    "log_progress(\"Extract phase Started\") \n",
    "extracted_data = extract() \n",
    " \n",
    "# Log the completion of the Extraction process \n",
    "log_progress(\"Extract phase Ended\") \n",
    " \n",
    "# Log the beginning of the Transformation process \n",
    "log_progress(\"Transform phase Started\") \n",
    "transformed_data = transform(extracted_data) \n",
    "print(\"Transformed Data\") \n",
    "print(transformed_data) \n",
    " \n",
    "# Log the completion of the Transformation process \n",
    "log_progress(\"Transform phase Ended\") \n",
    " \n",
    "# Log the beginning of the Loading process \n",
    "log_progress(\"Load phase Started\") \n",
    "load_data(transformed_data) \n",
    " \n",
    "# Log the completion of the Loading process \n",
    "log_progress(\"Load phase Ended\") \n",
    " \n",
    "# Log the completion of the ETL process \n",
    "log_progress(\"ETL Job Ended\") "
   ]
  },
  {
   "cell_type": "code",
   "execution_count": null,
   "id": "fd199b8e",
   "metadata": {},
   "outputs": [],
   "source": []
  }
 ],
 "metadata": {
  "kernelspec": {
   "display_name": "Python 3 (ipykernel)",
   "language": "python",
   "name": "python3"
  },
  "language_info": {
   "codemirror_mode": {
    "name": "ipython",
    "version": 3
   },
   "file_extension": ".py",
   "mimetype": "text/x-python",
   "name": "python",
   "nbconvert_exporter": "python",
   "pygments_lexer": "ipython3",
   "version": "3.9.13"
  }
 },
 "nbformat": 4,
 "nbformat_minor": 5
}

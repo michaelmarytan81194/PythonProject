{
 "cells": [
  {
   "cell_type": "markdown",
   "id": "021821a8",
   "metadata": {},
   "source": [
    "<h3> 1. Retrieve the Data Source <h3>"
   ]
  },
  {
   "cell_type": "code",
   "execution_count": 1,
   "id": "622a975b",
   "metadata": {},
   "outputs": [
    {
     "name": "stderr",
     "output_type": "stream",
     "text": [
      "--2024-01-10 00:52:27--  https://cf-courses-data.s3.us.cloud-object-storage.appdomain.cloud/IBMDeveloperSkillsNetwork-PY0221EN-SkillsNetwork/labs/module%206/Lab%20-%20Extract%20Transform%20Load/data/source.zip\n",
      "Resolving cf-courses-data.s3.us.cloud-object-storage.appdomain.cloud (cf-courses-data.s3.us.cloud-object-storage.appdomain.cloud)... 169.45.118.108\n",
      "Connecting to cf-courses-data.s3.us.cloud-object-storage.appdomain.cloud (cf-courses-data.s3.us.cloud-object-storage.appdomain.cloud)|169.45.118.108|:443... connected.\n",
      "HTTP request sent, awaiting response... 200 OK\n",
      "Length: 2707 (2,6K) [application/zip]\n",
      "Saving to: 'source.zip'\n",
      "\n",
      "     0K ..                                                    100%  506M=0s\n",
      "\n",
      "2024-01-10 00:52:29 (506 MB/s) - 'source.zip' saved [2707/2707]\n",
      "\n"
     ]
    }
   ],
   "source": [
    "!wget https://cf-courses-data.s3.us.cloud-object-storage.appdomain.cloud/IBMDeveloperSkillsNetwork-PY0221EN-SkillsNetwork/labs/module%206/Lab%20-%20Extract%20Transform%20Load/data/source.zip"
   ]
  },
  {
   "cell_type": "code",
   "execution_count": 3,
   "id": "5f5284c4",
   "metadata": {},
   "outputs": [],
   "source": [
    "#unzip the zip file\n",
    "import zipfile\n",
    "with zipfile.ZipFile('source.zip', 'r') as zip_ref:\n",
    "    zip_ref.extractall()"
   ]
  },
  {
   "cell_type": "markdown",
   "id": "daf3022f-4699-465c-8500-da3196e7f489",
   "metadata": {},
   "source": [
    "<h3> 2. Import necessary libraries <h3>"
   ]
  },
  {
   "cell_type": "code",
   "execution_count": 5,
   "id": "58f3b3a3-3fef-4920-af94-955dffdddb3c",
   "metadata": {},
   "outputs": [],
   "source": [
    "import glob \n",
    "import pandas as pd \n",
    "import xml.etree.ElementTree as ET \n",
    "from datetime import datetime "
   ]
  },
  {
   "cell_type": "code",
   "execution_count": 6,
   "id": "db3df91d-1c37-44a1-ae89-4bc6b9edd22e",
   "metadata": {},
   "outputs": [],
   "source": [
    "#declare variables that state file name:\n",
    "log_file = \"log_file.txt\" \n",
    "target_file = \"transformed_data.csv\" "
   ]
  },
  {
   "cell_type": "markdown",
   "id": "0bbdb811-62a2-4bea-b6a5-940356aa8ba8",
   "metadata": {},
   "source": [
    "<h3>3. Write functions for Extract stage <h3>"
   ]
  },
  {
   "cell_type": "code",
   "execution_count": 7,
   "id": "b6644158-953a-46f1-8eca-75b4807165c9",
   "metadata": {},
   "outputs": [],
   "source": [
    "#CSV\n",
    "def extract_from_csv (input_file):\n",
    "    df = pd.read_csv(input_file)\n",
    "    return df"
   ]
  },
  {
   "cell_type": "code",
   "execution_count": null,
   "id": "06f5408d-3207-4bc9-bd50-394d37d514ee",
   "metadata": {},
   "outputs": [],
   "source": [
    "#JSON\n",
    "def extract_from_json (input_file):\n",
    "    df = pd.read_json(input_file, lines = True) #Notice how json file is oschestrated as below, in turn, we need to add arg lines = True"
   ]
  },
  {
   "cell_type": "markdown",
   "id": "9920c01a-960c-458f-85d0-c6219c30cdaa",
   "metadata": {},
   "source": [
    "<img src=\"jsonsample.png\" alt=\"Alternative text\" />"
   ]
  },
  {
   "cell_type": "code",
   "execution_count": 18,
   "id": "d18806f2-2a65-4551-8533-48657b180d91",
   "metadata": {},
   "outputs": [],
   "source": [
    "#XML\n",
    "def extract_from_xml (input_file):\n",
    "    dataframe = pd.DataFrame (columns=[\"name\", \"height\", \"weight\"]) #blueprint the columns for DF\n",
    "    tree= ET.parse(input_file) #turn input_file as xml to an instance of ET\n",
    "    data = tree.getroot() #get into data ticket\n",
    "    for person in data:\n",
    "        name = person.find(\"name\").text \n",
    "        height = float(person.find(\"height\").text) \n",
    "        weight = float(person.find(\"weight\").text) \n",
    "        dataframe = pd.concat([dataframe, pd.DataFrame([{\"name\":name, \"height\": height, \"weight\":weight}])], ignore_index=True) #need to be the same name from dataframe which was declared below\n",
    "    return dataframe"
   ]
  },
  {
   "cell_type": "markdown",
   "id": "e026554e-84c0-4aeb-a61b-e5ddf9f7cb67",
   "metadata": {},
   "source": [
    "<img src=\"xmlsample.png\" alt=\"Alternative text\" />"
   ]
  },
  {
   "cell_type": "code",
   "execution_count": 19,
   "id": "9164b9cb-083c-4bac-a673-8389dc2f67d6",
   "metadata": {},
   "outputs": [
    {
     "data": {
      "text/html": [
       "<div>\n",
       "<style scoped>\n",
       "    .dataframe tbody tr th:only-of-type {\n",
       "        vertical-align: middle;\n",
       "    }\n",
       "\n",
       "    .dataframe tbody tr th {\n",
       "        vertical-align: top;\n",
       "    }\n",
       "\n",
       "    .dataframe thead th {\n",
       "        text-align: right;\n",
       "    }\n",
       "</style>\n",
       "<table border=\"1\" class=\"dataframe\">\n",
       "  <thead>\n",
       "    <tr style=\"text-align: right;\">\n",
       "      <th></th>\n",
       "      <th>name</th>\n",
       "      <th>height</th>\n",
       "      <th>weight</th>\n",
       "    </tr>\n",
       "  </thead>\n",
       "  <tbody>\n",
       "    <tr>\n",
       "      <th>0</th>\n",
       "      <td>simon</td>\n",
       "      <td>67.90</td>\n",
       "      <td>112.37</td>\n",
       "    </tr>\n",
       "    <tr>\n",
       "      <th>1</th>\n",
       "      <td>jacob</td>\n",
       "      <td>66.78</td>\n",
       "      <td>120.67</td>\n",
       "    </tr>\n",
       "    <tr>\n",
       "      <th>2</th>\n",
       "      <td>cindy</td>\n",
       "      <td>66.49</td>\n",
       "      <td>127.45</td>\n",
       "    </tr>\n",
       "    <tr>\n",
       "      <th>3</th>\n",
       "      <td>ivan</td>\n",
       "      <td>67.62</td>\n",
       "      <td>114.14</td>\n",
       "    </tr>\n",
       "  </tbody>\n",
       "</table>\n",
       "</div>"
      ],
      "text/plain": [
       "    name  height  weight\n",
       "0  simon   67.90  112.37\n",
       "1  jacob   66.78  120.67\n",
       "2  cindy   66.49  127.45\n",
       "3   ivan   67.62  114.14"
      ]
     },
     "execution_count": 19,
     "metadata": {},
     "output_type": "execute_result"
    }
   ],
   "source": [
    "extract_from_xml(\"source3.xml\")"
   ]
  },
  {
   "cell_type": "code",
   "execution_count": null,
   "id": "e08a696a-1f5f-4c23-af80-3e35a08a3d8e",
   "metadata": {},
   "outputs": [],
   "source": []
  }
 ],
 "metadata": {
  "kernelspec": {
   "display_name": "Python 3 (ipykernel)",
   "language": "python",
   "name": "python3"
  },
  "language_info": {
   "codemirror_mode": {
    "name": "ipython",
    "version": 3
   },
   "file_extension": ".py",
   "mimetype": "text/x-python",
   "name": "python",
   "nbconvert_exporter": "python",
   "pygments_lexer": "ipython3",
   "version": "3.9.13"
  }
 },
 "nbformat": 4,
 "nbformat_minor": 5
}

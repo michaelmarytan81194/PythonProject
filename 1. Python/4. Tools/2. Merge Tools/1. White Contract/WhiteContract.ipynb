{
 "cells": [
  {
   "cell_type": "code",
   "execution_count": 34,
   "id": "64d24a21",
   "metadata": {},
   "outputs": [],
   "source": [
    "from dateutil.parser import parse\n",
    "from datetime import datetime as dt"
   ]
  },
  {
   "cell_type": "code",
   "execution_count": 35,
   "id": "538fd1f5",
   "metadata": {},
   "outputs": [],
   "source": [
    "from docxtpl import DocxTemplate\n",
    "doc_ZD = DocxTemplate(\"ZD_Final.docx\")\n",
    "doc_SZD = DocxTemplate(\"SZD_Final.docx\")\n",
    "doc_RAD = DocxTemplate(\"RAD_Final.docx\")\n",
    "doc_RD = DocxTemplate(\"RD_Final.docx\")\n",
    "doc_SRD = DocxTemplate(\"SRD_Final.docx\")\n",
    "doc_TD = DocxTemplate(\"TD_Final.docx\")"
   ]
  },
  {
   "cell_type": "code",
   "execution_count": 36,
   "id": "68bbfc04",
   "metadata": {},
   "outputs": [],
   "source": [
    "import pandas as pd\n",
    "handle_excel = pd.ExcelFile(\"202403_Final.xlsx\")\n",
    "data = handle_excel.parse('Sheet1')"
   ]
  },
  {
   "cell_type": "code",
   "execution_count": 37,
   "id": "8c003be0",
   "metadata": {},
   "outputs": [],
   "source": [
    "data['THỜI GIAN BẮT ĐẦU KÝ HỢP ĐỒNG'] = pd.to_datetime(data['THỜI GIAN BẮT ĐẦU KÝ HỢP ĐỒNG'], errors='ignore')\n",
    "data['THỜI GIAN BẮT ĐẦU KÝ HỢP ĐỒNG'] = data['THỜI GIAN BẮT ĐẦU KÝ HỢP ĐỒNG'].dt.strftime(\"%d/%m/%Y\")"
   ]
  },
  {
   "cell_type": "code",
   "execution_count": 38,
   "id": "e7287835",
   "metadata": {},
   "outputs": [],
   "source": [
    "data['NGÀY CẤP'] = pd.to_datetime(data['NGÀY CẤP'], errors='ignore')\n",
    "data['NGÀY CẤP'] = data['NGÀY CẤP'].dt.strftime(\"%d/%m/%Y\")"
   ]
  },
  {
   "cell_type": "code",
   "execution_count": 39,
   "id": "ea4c6b36",
   "metadata": {},
   "outputs": [
    {
     "data": {
      "text/plain": [
       "0    01/03/2024\n",
       "Name: THỜI GIAN BẮT ĐẦU KÝ HỢP ĐỒNG, dtype: object"
      ]
     },
     "execution_count": 39,
     "metadata": {},
     "output_type": "execute_result"
    }
   ],
   "source": [
    "data['THỜI GIAN BẮT ĐẦU KÝ HỢP ĐỒNG'] = pd.to_datetime(data['THỜI GIAN BẮT ĐẦU KÝ HỢP ĐỒNG'], errors='ignore')\n",
    "data['THỜI GIAN BẮT ĐẦU KÝ HỢP ĐỒNG'] = data['THỜI GIAN BẮT ĐẦU KÝ HỢP ĐỒNG'].dt.strftime(\"%d/%m/%Y\")\n",
    "data['THỜI GIAN BẮT ĐẦU KÝ HỢP ĐỒNG']"
   ]
  },
  {
   "cell_type": "code",
   "execution_count": 40,
   "id": "091246b3",
   "metadata": {},
   "outputs": [],
   "source": [
    "for index, row in data.iterrows():\n",
    "    context = { \n",
    "            'Gender' : row['Gender'],\n",
    "            'Gender_VN' : row['Gender_VN'],\n",
    "            'Sex' : row['Sex'],\n",
    "            'AD_Name' : row['HỌ TÊN'],\n",
    "            'AD_CMND' : row['SỐ CMND'],\n",
    "            'CMND_Date' : row['NGÀY CẤP'],\n",
    "            'CMND_Place' : row['NƠI CẤP'],\n",
    "            'Address' : row['ĐỊA CHỈ'],\n",
    "            'TaxCode' : row['MÃ SỐ THUẾ CÁ NHÂN'],\n",
    "            'BankAccount' : row['SỐ TÀI KHOẢN'],\n",
    "            'ContractDate': row['THỜI GIAN BẮT ĐẦU KÝ HỢP ĐỒNG'],\n",
    "            'BankBranch' : row['CHI NHÁNH - NGÂN HÀNG'],\n",
    "            'AD_Position_VN' : row['VN_Position'],\n",
    "            'AD_Position':row['Eng_Position'],\n",
    "            'Higher_AD' : row['VỊ TRÍ CẤP QUẢN LÝ TRỰC TIẾP'],\n",
    "            'Higher_AD_VN': row['CẤP QUẢN LÝ TRỰC TIẾP'],\n",
    "    'ContractDate' : row['THỜI GIAN BẮT ĐẦU KÝ HỢP ĐỒNG'],\n",
    "    'TargetM1' : row['TargetM1'],\n",
    "    'TargetM2' : row['TargetM2'],\n",
    "    'TargetM3' : row['TargetM3'],\n",
    "    'TargetM4' : row['TargetM4'],\n",
    "    'TargetM5' : row['TargetM5'],\n",
    "    'TargetM6' : row['TargetM6'],\n",
    "    'TargetM7' : row['TargetM7'],\n",
    "    'TargetM8' : row['TargetM8'],\n",
    "    'TargetM9' : row['TargetM9'],\n",
    "    'TargetM10' : row['TargetM10'],\n",
    "    'TargetM11' : row['TargetM11'],\n",
    "    'TargetM12' : row['TargetM12'],\n",
    "    'TargetM13' : row['TargetM11'],\n",
    "    'TargetM14' : row['TargetM12'],\n",
    "    'TargetTotalDirect' : row['TargetTotal']\n",
    "                }\n",
    "    if data['VỊ TRÍ '].values[0] == 'ZD':\n",
    "        doc_ZD.render(context)\n",
    "        doc_ZD.save(f\"ZD_{row['HỌ TÊN']}_{row['THỜI GIAN BẮT ĐẦU KÝ HỢP ĐỒNG'].replace('/','')}.docx\")\n",
    "    if data['VỊ TRÍ '].values[0] == 'SZD':\n",
    "        doc_SZD.render(context)\n",
    "        doc_SZD.save(f\"SZD_{row['HỌ TÊN']}_{row['THỜI GIAN BẮT ĐẦU KÝ HỢP ĐỒNG'].replace('/','')}.docx\")\n",
    "    if data['VỊ TRÍ '].values[0] == 'RAD':\n",
    "        doc_RAD.render(context)\n",
    "        doc_RAD.save(f\"RAD_{row['HỌ TÊN']}_{row['THỜI GIAN BẮT ĐẦU KÝ HỢP ĐỒNG'].replace('/','')}.docx\")\n",
    "    if data['VỊ TRÍ '].values[0] == 'RD':\n",
    "        doc_RD.render(context)\n",
    "        doc_RD.save(f\"RD_{row['HỌ TÊN']}_{row['THỜI GIAN BẮT ĐẦU KÝ HỢP ĐỒNG'].replace('/','')}.docx\")\n",
    "    if data['VỊ TRÍ '].values[0] == 'SRD':\n",
    "        doc_SRD.render(context)\n",
    "        doc_SRD.save(f\"SRD_{row['HỌ TÊN']}_{row['THỜI GIAN BẮT ĐẦU KÝ HỢP ĐỒNG'].replace('/','')}.docx\")\n",
    "    if data['VỊ TRÍ '].values[0] == 'TD':\n",
    "        doc_TD.render(context)\n",
    "        doc_TD.save(f\"TD_{row['HỌ TÊN']}_{row['THỜI GIAN BẮT ĐẦU KÝ HỢP ĐỒNG'].replace('/','')}.docx\")\n",
    "\n",
    "#result = sr.replace(to_replace = 3, value = 1000)"
   ]
  },
  {
   "cell_type": "code",
   "execution_count": null,
   "id": "e55aa0fd",
   "metadata": {},
   "outputs": [],
   "source": []
  }
 ],
 "metadata": {
  "kernelspec": {
   "display_name": "Python 3 (ipykernel)",
   "language": "python",
   "name": "python3"
  },
  "language_info": {
   "codemirror_mode": {
    "name": "ipython",
    "version": 3
   },
   "file_extension": ".py",
   "mimetype": "text/x-python",
   "name": "python",
   "nbconvert_exporter": "python",
   "pygments_lexer": "ipython3",
   "version": "3.10.9"
  }
 },
 "nbformat": 4,
 "nbformat_minor": 5
}

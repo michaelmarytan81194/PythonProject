{
 "cells": [
  {
   "cell_type": "code",
   "execution_count": 30,
   "id": "64d24a21",
   "metadata": {},
   "outputs": [],
   "source": [
    "from dateutil.parser import parse\n",
    "from datetime import datetime as dt"
   ]
  },
  {
   "cell_type": "code",
   "execution_count": 166,
   "id": "538fd1f5",
   "metadata": {},
   "outputs": [],
   "source": [
    "from docxtpl import DocxTemplate\n",
    "doc = DocxTemplate(\"AZD_TT_KO_DTN.docx\")\n"
   ]
  },
  {
   "cell_type": "code",
   "execution_count": 138,
   "id": "45d0945c",
   "metadata": {},
   "outputs": [],
   "source": [
    "handle_excel.close()"
   ]
  },
  {
   "cell_type": "code",
   "execution_count": 139,
   "id": "68bbfc04",
   "metadata": {},
   "outputs": [],
   "source": [
    "import pandas as pd\n",
    "handle_excel = pd.ExcelFile(\"202403_Final.xlsx\")\n",
    "data = handle_excel.parse('Sheet1')\n"
   ]
  },
  {
   "cell_type": "code",
   "execution_count": 152,
   "id": "8c003be0",
   "metadata": {},
   "outputs": [],
   "source": [
    "data['THỜI GIAN BẮT ĐẦU KÝ HỢP ĐỒNG'] = pd.to_datetime(data['THỜI GIAN BẮT ĐẦU KÝ HỢP ĐỒNG'], errors='ignore')\n",
    "data['THỜI GIAN BẮT ĐẦU KÝ HỢP ĐỒNG'] = data['THỜI GIAN BẮT ĐẦU KÝ HỢP ĐỒNG'].dt.strftime(\"%d/%m/%Y\")"
   ]
  },
  {
   "cell_type": "code",
   "execution_count": 159,
   "id": "e7287835",
   "metadata": {},
   "outputs": [],
   "source": [
    "data['NGÀY CẤP'] = pd.to_datetime(data['NGÀY CẤP'], errors='ignore')\n",
    "data['NGÀY CẤP'] = data['NGÀY CẤP'].dt.strftime(\"%d/%m/%Y\")"
   ]
  },
  {
   "cell_type": "code",
   "execution_count": 160,
   "id": "fc5fb89d",
   "metadata": {},
   "outputs": [
    {
     "data": {
      "text/plain": [
       "0    12/08/2021\n",
       "Name: NGÀY CẤP, dtype: object"
      ]
     },
     "execution_count": 160,
     "metadata": {},
     "output_type": "execute_result"
    }
   ],
   "source": [
    "data['NGÀY CẤP']"
   ]
  },
  {
   "cell_type": "code",
   "execution_count": 161,
   "id": "ea4c6b36",
   "metadata": {},
   "outputs": [
    {
     "data": {
      "text/plain": [
       "0    01/03/2024\n",
       "Name: THỜI GIAN BẮT ĐẦU KÝ HỢP ĐỒNG, dtype: object"
      ]
     },
     "execution_count": 161,
     "metadata": {},
     "output_type": "execute_result"
    }
   ],
   "source": [
    "data['THỜI GIAN BẮT ĐẦU KÝ HỢP ĐỒNG']"
   ]
  },
  {
   "cell_type": "code",
   "execution_count": 132,
   "id": "1083dd2d",
   "metadata": {
    "scrolled": true
   },
   "outputs": [
    {
     "data": {
      "text/plain": [
       "Index(['Gender', 'Gender_VN', 'Sex', 'HỌ TÊN', 'NGÀY SINH', 'SỐ CMND',\n",
       "       'NGÀY CẤP', 'NƠI CẤP', 'ĐỊA CHỈ', 'SỐ ĐIỆN THOẠI', 'MÃ SỐ THUẾ CÁ NHÂN',\n",
       "       'SỐ TÀI KHOẢN', 'CHI NHÁNH - NGÂN HÀNG', 'VỊ TRÍ ', 'VN_Position',\n",
       "       'Eng_Position', 'VỊ TRÍ CẤP QUẢN LÝ TRỰC TIẾP', 'CẤP QUẢN LÝ TRỰC TIẾP',\n",
       "       'TÊN QUẢN LÝ TRỰC TIẾP', 'LOẠI HỢP ĐỒNG', 'GHI CHÚ',\n",
       "       'THỜI GIAN BẮT ĐẦU KÝ HỢP ĐỒNG', 'Mã AD', 'Miền', 'TargetM1',\n",
       "       'TargetM2', 'TargetM3', 'TargetM4', 'TargetM5', 'TargetM6', 'TargetM7',\n",
       "       'TargetM8', 'TargetM9', 'TargetM10', 'TargetM11', 'TargetM12',\n",
       "       'TargetTotal'],\n",
       "      dtype='object')"
      ]
     },
     "execution_count": 132,
     "metadata": {},
     "output_type": "execute_result"
    }
   ],
   "source": [
    "data.columns"
   ]
  },
  {
   "cell_type": "code",
   "execution_count": 167,
   "id": "091246b3",
   "metadata": {},
   "outputs": [],
   "source": [
    "for index, row in data.iterrows():\n",
    "    context = { \n",
    "            'Gender' : row['Gender'],\n",
    "            'Gender_VN' : row['Gender_VN'],\n",
    "            'Sex' : row['Sex'],\n",
    "            'AD_Name' : row['HỌ TÊN'],\n",
    "            'AD_CMND' : row['SỐ CMND'],\n",
    "            'CMND_Date' : row['NGÀY CẤP'],\n",
    "            'CMND_Place' : row['NƠI CẤP'],\n",
    "            'Address' : row['ĐỊA CHỈ'],\n",
    "            'TaxCode' : row['MÃ SỐ THUẾ CÁ NHÂN'],\n",
    "            'BankAccount' : row['SỐ TÀI KHOẢN'],\n",
    "            'ContractDate': row['THỜI GIAN BẮT ĐẦU KÝ HỢP ĐỒNG'],\n",
    "            'BankBranch' : row['CHI NHÁNH - NGÂN HÀNG'],\n",
    "            'AD_Position_VN' : row['VN_Position'],\n",
    "            'AD_Position':row['Eng_Position'],\n",
    "            'Higher_AD' : row['VỊ TRÍ CẤP QUẢN LÝ TRỰC TIẾP'],\n",
    "            'Higher_AD_VN': row['CẤP QUẢN LÝ TRỰC TIẾP'],\n",
    "    'ContractDate' : row['THỜI GIAN BẮT ĐẦU KÝ HỢP ĐỒNG'],\n",
    "    'TargetM1' : row['TargetM1'],\n",
    "    'TargetM2' : row['TargetM2'],\n",
    "    'TargetM3' : row['TargetM3'],\n",
    "    'TargetM4' : row['TargetM4'],\n",
    "    'TargetM5' : row['TargetM5'],\n",
    "    'TargetM6' : row['TargetM6'],\n",
    "    'TargetM7' : row['TargetM7'],\n",
    "    'TargetM8' : row['TargetM8'],\n",
    "    'TargetM9' : row['TargetM9'],\n",
    "    'TargetM10' : row['TargetM10'],\n",
    "    'TargetM11' : row['TargetM11'],\n",
    "    'TargetM12' : row['TargetM12'],\n",
    "    'TargetM13' : row['TargetM11'],\n",
    "    'TargetM14' : row['TargetM12'],\n",
    "    'TargetTotalDirect' : row['TargetTotal']\n",
    "                }\n",
    "    doc.render(context)\n",
    "    doc.save(\"file.docx\")"
   ]
  },
  {
   "cell_type": "code",
   "execution_count": null,
   "id": "e55aa0fd",
   "metadata": {},
   "outputs": [],
   "source": []
  }
 ],
 "metadata": {
  "kernelspec": {
   "display_name": "Python 3 (ipykernel)",
   "language": "python",
   "name": "python3"
  },
  "language_info": {
   "codemirror_mode": {
    "name": "ipython",
    "version": 3
   },
   "file_extension": ".py",
   "mimetype": "text/x-python",
   "name": "python",
   "nbconvert_exporter": "python",
   "pygments_lexer": "ipython3",
   "version": "3.10.9"
  }
 },
 "nbformat": 4,
 "nbformat_minor": 5
}

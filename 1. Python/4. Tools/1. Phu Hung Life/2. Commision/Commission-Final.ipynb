{
 "cells": [
  {
   "cell_type": "code",
   "execution_count": 1,
   "id": "68431d80",
   "metadata": {},
   "outputs": [],
   "source": [
    "import numpy as np\n",
    "import pandas as pd\n",
    "import pyodbc as pyo\n",
    "import sqlalchemy as sa\n",
    "import numpy as np\n",
    "import math\n",
    "import datetime\n",
    "connection_uri = (\n",
    "    \"mssql+pyodbc://TEDPHO0134\\TANDT_DP/DP_Tan?driver=ODBC+Driver+17+for+SQL+Server\"\n",
    ")\n",
    "conn = sa.create_engine(connection_uri)"
   ]
  },
  {
   "cell_type": "markdown",
   "id": "ecdd8529",
   "metadata": {},
   "source": [
    "<h4>1. Lấy bảng Commision <h4>"
   ]
  },
  {
   "cell_type": "code",
   "execution_count": 2,
   "id": "165fb198",
   "metadata": {},
   "outputs": [],
   "source": [
    "cutoff = '202401'\n",
    "commission_query = f\"select * from AGENT_COM_CUTOFF where CUTOFF like '{cutoff}%'\"\n",
    "agent_com = pd.read_sql(commission_query, conn)"
   ]
  },
  {
   "cell_type": "code",
   "execution_count": 3,
   "id": "a4ec579a",
   "metadata": {},
   "outputs": [],
   "source": [
    "#1.1 Lấy bảng AGENT_INFO \n",
    "commission_query = f\"select * from AGENT_INFO where CUTOFF like '{cutoff}%'\"\n",
    "agent_info = pd.read_sql(commission_query, conn)"
   ]
  },
  {
   "cell_type": "markdown",
   "id": "81f44af8",
   "metadata": {},
   "source": [
    "<h4>2. Lấy bảng PY2 <h4>"
   ]
  },
  {
   "cell_type": "code",
   "execution_count": 9,
   "id": "e1286739",
   "metadata": {},
   "outputs": [],
   "source": [
    "wcc2_query = f\"select * from AGENT_COM_CUTOFF where CUTOFF like '{cutoff}%'\"\n",
    "py2 = pd.read_sql(py2_query, conn)"
   ]
  },
  {
   "cell_type": "markdown",
   "id": "235b8e26",
   "metadata": {},
   "source": [
    "<h4>3. Copy bảng <h4>"
   ]
  },
  {
   "cell_type": "code",
   "execution_count": 4,
   "id": "bb337480",
   "metadata": {
    "scrolled": true
   },
   "outputs": [],
   "source": [
    "com_table = agent_com\n",
    "#py2_table = py2"
   ]
  },
  {
   "cell_type": "markdown",
   "id": "920383b3",
   "metadata": {},
   "source": [
    "<h4> 4. Xét Period <h4>"
   ]
  },
  {
   "cell_type": "code",
   "execution_count": 56,
   "id": "e39af53d",
   "metadata": {},
   "outputs": [],
   "source": [
    "Period_Com = com_table"
   ]
  },
  {
   "cell_type": "code",
   "execution_count": 57,
   "id": "2caab3b0",
   "metadata": {},
   "outputs": [],
   "source": [
    "#LƯU Ý CÁCH CỘNG 1 NGÀY VÀO CỘT APPLIED PREMIUM DATE\n",
    "Period_Com ['Date_Period_1'] = np.where( (Period_Com['Policy Status'] == 'FL'), Period_Com['Issued Date'],\n",
    "np.where( (Period_Com['Receive Policy date'].isnull()), Period_Com['Issued Date'],\n",
    "np.where((((Period_Com['Applied Premium Date'] + datetime.timedelta(days=1)) - Period_Com['Receive Policy date']) / np.timedelta64(1, 'D')) < 22,\n",
    "Period_Com['Issued Date'], Period_Com['Applied Premium Date'])))"
   ]
  },
  {
   "cell_type": "code",
   "execution_count": 58,
   "id": "55cb589c",
   "metadata": {},
   "outputs": [],
   "source": [
    "#Logic: Nếu ngày Period đầu tiên xét đi trước ngày ACK, thì lấy ngày ACK để xét trong kỳ tính phí\n",
    "Period_Com ['Date_Period'] = np.where(\n",
    "(((Period_Com['Receive Policy date']) - Period_Com['Date_Period_1']) / np.timedelta64(1, 'D')) >0,\n",
    "Period_Com['Receive Policy date'], Period_Com['Date_Period_1']\n",
    ")"
   ]
  },
  {
   "cell_type": "markdown",
   "id": "3815b47d",
   "metadata": {},
   "source": [
    "<h4> 5. Xét các cột ngày theo CUTOFF <h4>"
   ]
  },
  {
   "cell_type": "code",
   "execution_count": 59,
   "id": "82c98fd6",
   "metadata": {},
   "outputs": [],
   "source": [
    "#Thêm cột ngày xét\n",
    "Monthly_Com = Period_Com\n",
    "Monthly_Com['Date_On_Set'] = \"\" #Tạo ra cột trống\n",
    "Monthly_Com['Date_On_Set']= Monthly_Com['Date_On_Set'].str.cat(Monthly_Com['CUTOFF'].str[:4] ,sep =\"\")\n",
    "Monthly_Com['Date_On_Set']= Monthly_Com['Date_On_Set'].str.cat(Monthly_Com['CUTOFF'].str[4:6] ,sep =\"-\")\n",
    "Monthly_Com['Date_On_Set']= Monthly_Com['Date_On_Set'].str.cat(Monthly_Com['CUTOFF'].str[6:8] ,sep =\"-\")\n",
    "#Thêm cột ưu tiên\n",
    "Monthly_Com['Priority'] = Monthly_Com['CUTOFF'].rank(method='dense', ascending=True)\n",
    "#Phải biến thành kiểu datetime trước\n",
    "Monthly_Com['Date_On_Set'] = pd.to_datetime(Monthly_Com['Date_On_Set'])\n",
    "#Thêm cột ngày đầu tháng:\n",
    "#-> Đưa vào ngày 1 của tháng\n",
    "if not('20240229' in Monthly_Com['CUTOFF'].values): \n",
    "    Monthly_Com['Start_Month'] = (Monthly_Com['Date_On_Set'].dt.floor('d') + pd.offsets.MonthEnd(0) - pd.offsets.MonthBegin(1))\n",
    "else:\n",
    "    Monthly_Com.loc[:,'Start_Month'] = '2024-01-27'"
   ]
  },
  {
   "cell_type": "markdown",
   "id": "0869f7f2",
   "metadata": {},
   "source": [
    "<h4> 6. Xét các điều kiện <h4>"
   ]
  },
  {
   "cell_type": "code",
   "execution_count": 60,
   "id": "9e5634b0",
   "metadata": {},
   "outputs": [
    {
     "data": {
      "text/html": [
       "<div>\n",
       "<style scoped>\n",
       "    .dataframe tbody tr th:only-of-type {\n",
       "        vertical-align: middle;\n",
       "    }\n",
       "\n",
       "    .dataframe tbody tr th {\n",
       "        vertical-align: top;\n",
       "    }\n",
       "\n",
       "    .dataframe thead th {\n",
       "        text-align: right;\n",
       "    }\n",
       "</style>\n",
       "<table border=\"1\" class=\"dataframe\">\n",
       "  <thead>\n",
       "    <tr style=\"text-align: right;\">\n",
       "      <th></th>\n",
       "      <th>Policy No</th>\n",
       "      <th>Product Code</th>\n",
       "      <th>Premium transaction</th>\n",
       "      <th>Premium transaction name</th>\n",
       "      <th>Premium Collected</th>\n",
       "      <th>Collected Date</th>\n",
       "      <th>Applied Premium Date</th>\n",
       "      <th>FYC</th>\n",
       "      <th>RYC</th>\n",
       "      <th>Shared Commission Rate</th>\n",
       "      <th>...</th>\n",
       "      <th>RISK_COMMENCE_DATE</th>\n",
       "      <th>Receive Policy date</th>\n",
       "      <th>Premium Year</th>\n",
       "      <th>CUTOFF</th>\n",
       "      <th>RETURN_DATE</th>\n",
       "      <th>Date_Period_1</th>\n",
       "      <th>Date_Period</th>\n",
       "      <th>Date_On_Set</th>\n",
       "      <th>Priority</th>\n",
       "      <th>Start_Month</th>\n",
       "    </tr>\n",
       "  </thead>\n",
       "  <tbody>\n",
       "    <tr>\n",
       "      <th>316</th>\n",
       "      <td>80001330</td>\n",
       "      <td>EN04</td>\n",
       "      <td>B522</td>\n",
       "      <td>Premium Collection</td>\n",
       "      <td>7449000.0</td>\n",
       "      <td>2024-01-08</td>\n",
       "      <td>2024-01-08</td>\n",
       "      <td>0.0</td>\n",
       "      <td>149000.0</td>\n",
       "      <td>100.0</td>\n",
       "      <td>...</td>\n",
       "      <td>2015-12-21</td>\n",
       "      <td>2015-12-26</td>\n",
       "      <td>9</td>\n",
       "      <td>20240115</td>\n",
       "      <td>None</td>\n",
       "      <td>2024-01-08</td>\n",
       "      <td>2024-01-08</td>\n",
       "      <td>2024-01-15</td>\n",
       "      <td>1.0</td>\n",
       "      <td>2024-01-01</td>\n",
       "    </tr>\n",
       "    <tr>\n",
       "      <th>702</th>\n",
       "      <td>80001331</td>\n",
       "      <td>EN04</td>\n",
       "      <td>B522</td>\n",
       "      <td>Premium Collection</td>\n",
       "      <td>7523000.0</td>\n",
       "      <td>2024-01-08</td>\n",
       "      <td>2024-01-08</td>\n",
       "      <td>0.0</td>\n",
       "      <td>150000.0</td>\n",
       "      <td>100.0</td>\n",
       "      <td>...</td>\n",
       "      <td>2015-12-21</td>\n",
       "      <td>2015-12-26</td>\n",
       "      <td>9</td>\n",
       "      <td>20240115</td>\n",
       "      <td>None</td>\n",
       "      <td>2024-01-08</td>\n",
       "      <td>2024-01-08</td>\n",
       "      <td>2024-01-15</td>\n",
       "      <td>1.0</td>\n",
       "      <td>2024-01-01</td>\n",
       "    </tr>\n",
       "    <tr>\n",
       "      <th>5604</th>\n",
       "      <td>80001378</td>\n",
       "      <td>EN04</td>\n",
       "      <td>B522</td>\n",
       "      <td>Premium Collection</td>\n",
       "      <td>11328000.0</td>\n",
       "      <td>2024-01-04</td>\n",
       "      <td>2024-01-04</td>\n",
       "      <td>0.0</td>\n",
       "      <td>227000.0</td>\n",
       "      <td>100.0</td>\n",
       "      <td>...</td>\n",
       "      <td>2015-12-27</td>\n",
       "      <td>2016-01-07</td>\n",
       "      <td>9</td>\n",
       "      <td>20240115</td>\n",
       "      <td>None</td>\n",
       "      <td>2024-01-04</td>\n",
       "      <td>2024-01-04</td>\n",
       "      <td>2024-01-15</td>\n",
       "      <td>1.0</td>\n",
       "      <td>2024-01-01</td>\n",
       "    </tr>\n",
       "    <tr>\n",
       "      <th>11179</th>\n",
       "      <td>80002454</td>\n",
       "      <td>EE02</td>\n",
       "      <td>B522</td>\n",
       "      <td>Premium Collection</td>\n",
       "      <td>16417000.0</td>\n",
       "      <td>2024-01-02</td>\n",
       "      <td>2024-01-02</td>\n",
       "      <td>0.0</td>\n",
       "      <td>328000.0</td>\n",
       "      <td>100.0</td>\n",
       "      <td>...</td>\n",
       "      <td>2016-03-30</td>\n",
       "      <td>2016-04-11</td>\n",
       "      <td>8</td>\n",
       "      <td>20240115</td>\n",
       "      <td>None</td>\n",
       "      <td>2024-01-02</td>\n",
       "      <td>2024-01-02</td>\n",
       "      <td>2024-01-15</td>\n",
       "      <td>1.0</td>\n",
       "      <td>2024-01-01</td>\n",
       "    </tr>\n",
       "    <tr>\n",
       "      <th>11180</th>\n",
       "      <td>80002454</td>\n",
       "      <td>RTR2</td>\n",
       "      <td>B522</td>\n",
       "      <td>Premium Collection</td>\n",
       "      <td>406000.0</td>\n",
       "      <td>2024-01-02</td>\n",
       "      <td>2024-01-02</td>\n",
       "      <td>0.0</td>\n",
       "      <td>8000.0</td>\n",
       "      <td>100.0</td>\n",
       "      <td>...</td>\n",
       "      <td>2016-03-30</td>\n",
       "      <td>2016-04-11</td>\n",
       "      <td>8</td>\n",
       "      <td>20240115</td>\n",
       "      <td>None</td>\n",
       "      <td>2024-01-02</td>\n",
       "      <td>2024-01-02</td>\n",
       "      <td>2024-01-15</td>\n",
       "      <td>1.0</td>\n",
       "      <td>2024-01-01</td>\n",
       "    </tr>\n",
       "    <tr>\n",
       "      <th>...</th>\n",
       "      <td>...</td>\n",
       "      <td>...</td>\n",
       "      <td>...</td>\n",
       "      <td>...</td>\n",
       "      <td>...</td>\n",
       "      <td>...</td>\n",
       "      <td>...</td>\n",
       "      <td>...</td>\n",
       "      <td>...</td>\n",
       "      <td>...</td>\n",
       "      <td>...</td>\n",
       "      <td>...</td>\n",
       "      <td>...</td>\n",
       "      <td>...</td>\n",
       "      <td>...</td>\n",
       "      <td>...</td>\n",
       "      <td>...</td>\n",
       "      <td>...</td>\n",
       "      <td>...</td>\n",
       "      <td>...</td>\n",
       "      <td>...</td>\n",
       "    </tr>\n",
       "    <tr>\n",
       "      <th>3172045</th>\n",
       "      <td>80123950</td>\n",
       "      <td>RHB1</td>\n",
       "      <td>B522</td>\n",
       "      <td>Premium Collection</td>\n",
       "      <td>259000.0</td>\n",
       "      <td>2024-01-26</td>\n",
       "      <td>2024-01-26</td>\n",
       "      <td>0.0</td>\n",
       "      <td>26000.0</td>\n",
       "      <td>100.0</td>\n",
       "      <td>...</td>\n",
       "      <td>2022-10-27</td>\n",
       "      <td>2022-11-02</td>\n",
       "      <td>2</td>\n",
       "      <td>20240126</td>\n",
       "      <td>None</td>\n",
       "      <td>2024-01-26</td>\n",
       "      <td>2024-01-26</td>\n",
       "      <td>2024-01-26</td>\n",
       "      <td>2.0</td>\n",
       "      <td>2024-01-01</td>\n",
       "    </tr>\n",
       "    <tr>\n",
       "      <th>3172046</th>\n",
       "      <td>80123950</td>\n",
       "      <td>RHS1</td>\n",
       "      <td>B522</td>\n",
       "      <td>Premium Collection</td>\n",
       "      <td>85000.0</td>\n",
       "      <td>2024-01-26</td>\n",
       "      <td>2024-01-26</td>\n",
       "      <td>0.0</td>\n",
       "      <td>17000.0</td>\n",
       "      <td>100.0</td>\n",
       "      <td>...</td>\n",
       "      <td>2022-10-27</td>\n",
       "      <td>2022-11-02</td>\n",
       "      <td>2</td>\n",
       "      <td>20240126</td>\n",
       "      <td>None</td>\n",
       "      <td>2024-01-26</td>\n",
       "      <td>2024-01-26</td>\n",
       "      <td>2024-01-26</td>\n",
       "      <td>2.0</td>\n",
       "      <td>2024-01-01</td>\n",
       "    </tr>\n",
       "    <tr>\n",
       "      <th>3172047</th>\n",
       "      <td>80123950</td>\n",
       "      <td>URA5</td>\n",
       "      <td>B522</td>\n",
       "      <td>Premium Collection</td>\n",
       "      <td>448000.0</td>\n",
       "      <td>2024-01-26</td>\n",
       "      <td>2024-01-26</td>\n",
       "      <td>0.0</td>\n",
       "      <td>31000.0</td>\n",
       "      <td>100.0</td>\n",
       "      <td>...</td>\n",
       "      <td>2022-10-27</td>\n",
       "      <td>2022-11-02</td>\n",
       "      <td>2</td>\n",
       "      <td>20240126</td>\n",
       "      <td>None</td>\n",
       "      <td>2024-01-26</td>\n",
       "      <td>2024-01-26</td>\n",
       "      <td>2024-01-26</td>\n",
       "      <td>2.0</td>\n",
       "      <td>2024-01-01</td>\n",
       "    </tr>\n",
       "    <tr>\n",
       "      <th>3172048</th>\n",
       "      <td>80123950</td>\n",
       "      <td>URC6</td>\n",
       "      <td>B522</td>\n",
       "      <td>Premium Collection</td>\n",
       "      <td>329000.0</td>\n",
       "      <td>2024-01-26</td>\n",
       "      <td>2024-01-26</td>\n",
       "      <td>0.0</td>\n",
       "      <td>23000.0</td>\n",
       "      <td>100.0</td>\n",
       "      <td>...</td>\n",
       "      <td>2022-10-27</td>\n",
       "      <td>2022-11-02</td>\n",
       "      <td>2</td>\n",
       "      <td>20240126</td>\n",
       "      <td>None</td>\n",
       "      <td>2024-01-26</td>\n",
       "      <td>2024-01-26</td>\n",
       "      <td>2024-01-26</td>\n",
       "      <td>2.0</td>\n",
       "      <td>2024-01-01</td>\n",
       "    </tr>\n",
       "    <tr>\n",
       "      <th>3172049</th>\n",
       "      <td>80123950</td>\n",
       "      <td>URC5</td>\n",
       "      <td>B522</td>\n",
       "      <td>Premium Collection</td>\n",
       "      <td>169000.0</td>\n",
       "      <td>2024-01-26</td>\n",
       "      <td>2024-01-26</td>\n",
       "      <td>0.0</td>\n",
       "      <td>12000.0</td>\n",
       "      <td>100.0</td>\n",
       "      <td>...</td>\n",
       "      <td>2022-10-27</td>\n",
       "      <td>2022-11-02</td>\n",
       "      <td>2</td>\n",
       "      <td>20240126</td>\n",
       "      <td>None</td>\n",
       "      <td>2024-01-26</td>\n",
       "      <td>2024-01-26</td>\n",
       "      <td>2024-01-26</td>\n",
       "      <td>2.0</td>\n",
       "      <td>2024-01-01</td>\n",
       "    </tr>\n",
       "  </tbody>\n",
       "</table>\n",
       "<p>19395 rows × 36 columns</p>\n",
       "</div>"
      ],
      "text/plain": [
       "        Policy No Product Code Premium transaction  \\\n",
       "316      80001330         EN04                B522   \n",
       "702      80001331         EN04                B522   \n",
       "5604     80001378         EN04                B522   \n",
       "11179    80002454         EE02                B522   \n",
       "11180    80002454         RTR2                B522   \n",
       "...           ...          ...                 ...   \n",
       "3172045  80123950         RHB1                B522   \n",
       "3172046  80123950         RHS1                B522   \n",
       "3172047  80123950         URA5                B522   \n",
       "3172048  80123950         URC6                B522   \n",
       "3172049  80123950         URC5                B522   \n",
       "\n",
       "               Premium transaction name  Premium Collected Collected Date  \\\n",
       "316      Premium Collection                      7449000.0     2024-01-08   \n",
       "702      Premium Collection                      7523000.0     2024-01-08   \n",
       "5604     Premium Collection                     11328000.0     2024-01-04   \n",
       "11179    Premium Collection                     16417000.0     2024-01-02   \n",
       "11180    Premium Collection                       406000.0     2024-01-02   \n",
       "...                                 ...                ...            ...   \n",
       "3172045  Premium Collection                       259000.0     2024-01-26   \n",
       "3172046  Premium Collection                        85000.0     2024-01-26   \n",
       "3172047  Premium Collection                       448000.0     2024-01-26   \n",
       "3172048  Premium Collection                       329000.0     2024-01-26   \n",
       "3172049  Premium Collection                       169000.0     2024-01-26   \n",
       "\n",
       "        Applied Premium Date  FYC       RYC  Shared Commission Rate  ...  \\\n",
       "316               2024-01-08  0.0  149000.0                   100.0  ...   \n",
       "702               2024-01-08  0.0  150000.0                   100.0  ...   \n",
       "5604              2024-01-04  0.0  227000.0                   100.0  ...   \n",
       "11179             2024-01-02  0.0  328000.0                   100.0  ...   \n",
       "11180             2024-01-02  0.0    8000.0                   100.0  ...   \n",
       "...                      ...  ...       ...                     ...  ...   \n",
       "3172045           2024-01-26  0.0   26000.0                   100.0  ...   \n",
       "3172046           2024-01-26  0.0   17000.0                   100.0  ...   \n",
       "3172047           2024-01-26  0.0   31000.0                   100.0  ...   \n",
       "3172048           2024-01-26  0.0   23000.0                   100.0  ...   \n",
       "3172049           2024-01-26  0.0   12000.0                   100.0  ...   \n",
       "\n",
       "        RISK_COMMENCE_DATE  Receive Policy date Premium Year    CUTOFF  \\\n",
       "316             2015-12-21           2015-12-26            9  20240115   \n",
       "702             2015-12-21           2015-12-26            9  20240115   \n",
       "5604            2015-12-27           2016-01-07            9  20240115   \n",
       "11179           2016-03-30           2016-04-11            8  20240115   \n",
       "11180           2016-03-30           2016-04-11            8  20240115   \n",
       "...                    ...                  ...          ...       ...   \n",
       "3172045         2022-10-27           2022-11-02            2  20240126   \n",
       "3172046         2022-10-27           2022-11-02            2  20240126   \n",
       "3172047         2022-10-27           2022-11-02            2  20240126   \n",
       "3172048         2022-10-27           2022-11-02            2  20240126   \n",
       "3172049         2022-10-27           2022-11-02            2  20240126   \n",
       "\n",
       "        RETURN_DATE Date_Period_1 Date_Period Date_On_Set Priority Start_Month  \n",
       "316            None    2024-01-08  2024-01-08  2024-01-15      1.0  2024-01-01  \n",
       "702            None    2024-01-08  2024-01-08  2024-01-15      1.0  2024-01-01  \n",
       "5604           None    2024-01-04  2024-01-04  2024-01-15      1.0  2024-01-01  \n",
       "11179          None    2024-01-02  2024-01-02  2024-01-15      1.0  2024-01-01  \n",
       "11180          None    2024-01-02  2024-01-02  2024-01-15      1.0  2024-01-01  \n",
       "...             ...           ...         ...         ...      ...         ...  \n",
       "3172045        None    2024-01-26  2024-01-26  2024-01-26      2.0  2024-01-01  \n",
       "3172046        None    2024-01-26  2024-01-26  2024-01-26      2.0  2024-01-01  \n",
       "3172047        None    2024-01-26  2024-01-26  2024-01-26      2.0  2024-01-01  \n",
       "3172048        None    2024-01-26  2024-01-26  2024-01-26      2.0  2024-01-01  \n",
       "3172049        None    2024-01-26  2024-01-26  2024-01-26      2.0  2024-01-01  \n",
       "\n",
       "[19395 rows x 36 columns]"
      ]
     },
     "execution_count": 60,
     "metadata": {},
     "output_type": "execute_result"
    }
   ],
   "source": [
    "calculate_condition = ((Monthly_Com['Date_Period'] >= Monthly_Com['Start_Month']) & (Monthly_Com['Date_Period'] <= Monthly_Com['Date_On_Set'])) |\\\n",
    "((Monthly_Com['Applied Premium Date'] >= Monthly_Com['Start_Month']) & (Monthly_Com['Applied Premium Date'] <= Monthly_Com['Date_On_Set']))\n",
    "( (Monthly_Com['Policy Status'] != 'SU') | (Monthly_Com['Policy Status'] != 'TR'))\n",
    "calculate_month = Monthly_Com.loc[calculate_condition]\n",
    "calculate_month"
   ]
  },
  {
   "cell_type": "markdown",
   "id": "8ee6a039",
   "metadata": {},
   "source": [
    "<h4>7. Join với Agent Info để lấy Terminate Date <h4>"
   ]
  },
  {
   "cell_type": "code",
   "execution_count": 62,
   "id": "20cdcb19",
   "metadata": {},
   "outputs": [],
   "source": [
    "calculate_month = pd.merge(calculate_month, agent_info, left_on = ['Commission Agent', 'CUTOFF'], \n",
    "                           right_on = ['Agent_Number', 'CUTOFF'], how = 'left' )"
   ]
  },
  {
   "cell_type": "code",
   "execution_count": 63,
   "id": "8745a47d",
   "metadata": {},
   "outputs": [],
   "source": [
    "#Bốc ra các cột cần thiết\n",
    "calculate_month = calculate_month[['Date_Period', 'Commission Agent', 'Policy No',\n",
    "       'Premium transaction name', 'Policy Status', 'Applied Premium Date', 'Issued Date_x', 'Receive Policy date', 'Freelook',\n",
    "       'CUTOFF', 'Premium Collected', 'FYC', 'RYC', 'Terminated_date']].rename(columns={'Issued Date_x': 'Issued Date'})\n",
    "                                                                                        "
   ]
  },
  {
   "cell_type": "code",
   "execution_count": 64,
   "id": "4b661b13",
   "metadata": {},
   "outputs": [],
   "source": [
    "#Tạo ra cột Status với các điều kiện\n",
    "#1. Chưa pass FL\n",
    "#2. Chưa có ACK\n",
    "#3. Không pass FL trong 21 ngày\n",
    "#4. Ter trước khi phát sinh phí\n",
    "#5. Thanh toán\n",
    "#len của CheckTer >1 => Terminated\n",
    "calculate_month['Status'] = np.where((calculate_month['Freelook']<=21) & (calculate_month['Receive Policy date'].notnull()), \"1\", \n",
    "                     np.where(calculate_month['Receive Policy date'].isnull(), \"2\",\n",
    "                     np.where((calculate_month['Policy Status'] == \"FL\") & (calculate_month['Terminated_date'].isnull() ), \"3\",\n",
    "                     np.where((calculate_month['Policy Status'] != \"FL\") & calculate_month['Terminated_date'].notnull(), \"4\", \n",
    "                     np.where((calculate_month['Policy Status'] != \"FL\") & (calculate_month['Terminated_date'].isnull()) & (calculate_month['Freelook']>21), \"5\",\"\")     \n",
    "                             ))))"
   ]
  },
  {
   "cell_type": "code",
   "execution_count": 86,
   "id": "c9ba97bd",
   "metadata": {},
   "outputs": [
    {
     "name": "stderr",
     "output_type": "stream",
     "text": [
      "C:\\Users\\vagy1255\\AppData\\Local\\Temp\\ipykernel_22036\\2521604217.py:3: SettingWithCopyWarning: \n",
      "A value is trying to be set on a copy of a slice from a DataFrame.\n",
      "Try using .loc[row_indexer,col_indexer] = value instead\n",
      "\n",
      "See the caveats in the documentation: https://pandas.pydata.org/pandas-docs/stable/user_guide/indexing.html#returning-a-view-versus-a-copy\n",
      "  Filter_Month['Mark_Time'] =  Filter_Month.groupby(['Policy No', 'Applied Premium Date', 'Premium Collected', 'Status'])['CUTOFF'].rank(method=\"dense\", ascending=True)\n"
     ]
    }
   ],
   "source": [
    "Filter_Month = calculate_month[['Date_Period','Commission Agent', 'Terminated_date' ,'Policy No', 'Premium transaction name', 'Policy Status', 'Applied Premium Date',\n",
    " 'Issued Date', 'Receive Policy date', 'Freelook' ,'CUTOFF', 'Premium Collected', 'FYC', 'RYC', 'Status']]\n",
    "Filter_Month['Mark_Time'] =  Filter_Month.groupby(['Policy No', 'Applied Premium Date', 'Premium Collected', 'Status'])['CUTOFF'].rank(method=\"dense\", ascending=True)\n",
    "#Lấy các dòng cần giữ 2 dòng\n",
    "keep_two = Filter_Month[(Filter_Month['Status'] == \"1\") | (Filter_Month['Status'] == \"2\") ]\n",
    "#Lấy các dòng cần giữ 1 dòng\n",
    "keep_one = Filter_Month[(Filter_Month['Status'] == \"3\") | (Filter_Month['Status'] == \"4\") | (Filter_Month['Status'] == \"5\") ]\n",
    "keep_one = keep_one[keep_one['Mark_Time'] == 1]\n",
    "full_modified = pd.concat([keep_one, keep_two])"
   ]
  },
  {
   "cell_type": "code",
   "execution_count": 87,
   "id": "a5e02d24",
   "metadata": {
    "scrolled": true
   },
   "outputs": [
    {
     "name": "stderr",
     "output_type": "stream",
     "text": [
      "C:\\Users\\vagy1255\\AppData\\Local\\Temp\\ipykernel_22036\\2424443321.py:6: FutureWarning: Setting an item of incompatible dtype is deprecated and will raise in a future error of pandas. Value '0' has dtype incompatible with float64, please explicitly cast to a compatible dtype first.\n",
      "  full_modified.loc[(full_modified['Status'].isin(['1','2','4'])), 'Final_FYC'] = \"0\"\n"
     ]
    }
   ],
   "source": [
    "full_modified = full_modified[['Date_Period','Commission Agent', 'Terminated_date','Policy No', 'Premium transaction name',\n",
    "       'Policy Status', 'Applied Premium Date', 'Issued Date', 'Freelook',\n",
    "       'Receive Policy date', 'CUTOFF', 'Premium Collected', 'FYC', 'RYC', 'Mark_Time',\n",
    "       'Status']]\n",
    "#Rút ra cột Final FYC để về 0 trong các trạng thái không thanh toán\n",
    "full_modified.loc[(full_modified['Status'].isin(['1','2','4'])), 'Final_FYC'] = \"0\"\n",
    "full_modified.loc[(full_modified['Status'].isin(['3','5'])), 'Final_FYC'] = full_modified['FYC']   "
   ]
  },
  {
   "cell_type": "code",
   "execution_count": 88,
   "id": "07fc7144",
   "metadata": {
    "scrolled": true
   },
   "outputs": [
    {
     "name": "stderr",
     "output_type": "stream",
     "text": [
      "C:\\Users\\vagy1255\\AppData\\Local\\Temp\\ipykernel_22036\\4155379092.py:2: FutureWarning: Setting an item of incompatible dtype is deprecated and will raise in a future error of pandas. Value '0' has dtype incompatible with float64, please explicitly cast to a compatible dtype first.\n",
      "  full_modified.loc[(full_modified['Status'].isin(['1','2','4'])), 'Final_RYC'] = \"0\"\n"
     ]
    }
   ],
   "source": [
    "#Rút ra cột Final RYC để về 0 trong các trạng thái không thanh toán\n",
    "full_modified.loc[(full_modified['Status'].isin(['1','2','4'])), 'Final_RYC'] = \"0\"\n",
    "full_modified.loc[(full_modified['Status'].isin(['3','5'])), 'Final_RYC'] = full_modified['RYC'] "
   ]
  },
  {
   "cell_type": "code",
   "execution_count": 89,
   "id": "cb9e2d63",
   "metadata": {},
   "outputs": [],
   "source": [
    "#Tính Total Commision\n",
    "full_modified['Total_Commision'] = full_modified['Final_FYC'] + full_modified['Final_RYC']"
   ]
  },
  {
   "cell_type": "markdown",
   "id": "e23175e4",
   "metadata": {},
   "source": [
    "<h4>7. Xét WCC <h4>"
   ]
  },
  {
   "cell_type": "code",
   "execution_count": 69,
   "id": "b944f941",
   "metadata": {},
   "outputs": [],
   "source": [
    "###### Chỉ xét WCC trên Policy\n",
    "wcc_policy_query = f\"select * from WCC_Policy where CUTOFF like '{cutoff}%'\"\n",
    "wcc_policy = pd.read_sql(wcc_policy_query, conn)\n",
    "policy_wcc = wcc_policy"
   ]
  },
  {
   "cell_type": "code",
   "execution_count": 90,
   "id": "0fd5dfa5",
   "metadata": {},
   "outputs": [],
   "source": [
    "#Xét điều kiên bảng PolicyWCC\n",
    "policy_wcc.loc[(policy_wcc['finalResult'] == \"WCC không thành công\"), \"Policy_Result\"] = \"Fail\"\n",
    "policy_wcc.loc[(policy_wcc['finalResult'] != \"WCC không thành công\"), \"Policy_Result\"] = \"Success\""
   ]
  },
  {
   "cell_type": "code",
   "execution_count": 91,
   "id": "5a097bbf",
   "metadata": {},
   "outputs": [],
   "source": [
    "# Đổi sang kiểu int để join bảng\n",
    "policy_wcc['CONTRACT_NUMBER'] = policy_wcc['CONTRACT_NUMBER'].astype('int')\n",
    "full_modified['Policy No'] = full_modified['Policy No'].astype('int')"
   ]
  },
  {
   "cell_type": "code",
   "execution_count": 92,
   "id": "c9f930db",
   "metadata": {},
   "outputs": [],
   "source": [
    "Full_Com = pd.merge(full_modified, policy_wcc, left_on = 'Policy No', right_on = 'CONTRACT_NUMBER' ,how = 'left')"
   ]
  },
  {
   "cell_type": "code",
   "execution_count": 93,
   "id": "e8568bdc",
   "metadata": {},
   "outputs": [],
   "source": [
    "Full_Com = Full_Com[['Date_Period', 'Commission Agent', 'Policy No',\n",
    "       'Premium transaction name', 'Policy Status', 'Applied Premium Date',\n",
    "       'Issued Date', 'Receive Policy date','Freelook', 'CUTOFF_x', 'Premium Collected',\n",
    "       'FYC', 'RYC', 'Mark_Time', 'Status', 'Final_FYC', 'Final_RYC',\n",
    "       'Total_Commision', 'Policy_Result']].rename(columns={\"CUTOFF_x\": \"CUTOFF\"})"
   ]
  },
  {
   "cell_type": "code",
   "execution_count": 94,
   "id": "1d2f41b1",
   "metadata": {},
   "outputs": [],
   "source": [
    "Full_Com['Final_Result'] = np.where((Full_Com['Policy_Result'] == 'Success'), Full_Com['Status'],\n",
    "np.where((Full_Com['Policy_Result'] == 'Fail') & (Full_Com['Status'] == '5'), \"6\",Full_Com['Status']))"
   ]
  },
  {
   "cell_type": "markdown",
   "id": "fb926761",
   "metadata": {},
   "source": [
    "<h4> SUM Group by kết quả <h4>"
   ]
  },
  {
   "cell_type": "code",
   "execution_count": 106,
   "id": "1def0e6f",
   "metadata": {},
   "outputs": [],
   "source": [
    "Groupby_Com = Full_Com.groupby(['Commission Agent', 'Policy No', 'CUTOFF', 'Applied Premium Date', 'Issued Date'\n",
    "      ])[['Premium Collected','FYC','RYC', 'Final_FYC', 'Final_RYC',\n",
    "       'Total_Commision']].sum()"
   ]
  },
  {
   "cell_type": "code",
   "execution_count": 107,
   "id": "bb754e77",
   "metadata": {},
   "outputs": [],
   "source": [
    "Groupby_Com = Groupby_Com.reset_index().rename(columns={'Commission Agent': 'AgentNumber', 'Policy No': 'PolicyNo', 'CUTOFF': 'CUT_OFF'})"
   ]
  },
  {
   "cell_type": "code",
   "execution_count": 108,
   "id": "c45f66c3",
   "metadata": {},
   "outputs": [],
   "source": [
    "Groupby_Com = pd.merge(Groupby_Com, Full_Com[['Commission Agent', 'Policy No' ,'Freelook', 'CUTOFF', 'Status', 'Final_Result']],\n",
    "    left_on = ['AgentNumber', 'PolicyNo', 'CUT_OFF'], right_on =['Commission Agent', 'Policy No', 'CUTOFF'], how = 'left')"
   ]
  },
  {
   "cell_type": "code",
   "execution_count": 109,
   "id": "980d2b20",
   "metadata": {},
   "outputs": [],
   "source": [
    "#Loại bỏ dòng trùng\n",
    "Groupby_Com = Groupby_Com.drop_duplicates()"
   ]
  },
  {
   "cell_type": "code",
   "execution_count": 110,
   "id": "da579ef9",
   "metadata": {},
   "outputs": [],
   "source": [
    "Groupby_Com['FYC/RYC'] = np.where(Groupby_Com['FYC'] !=0, 'FYC', \n",
    "                         np.where(Groupby_Com['RYC'] !=0, 'RYC','' ))"
   ]
  },
  {
   "cell_type": "code",
   "execution_count": 111,
   "id": "8144d901",
   "metadata": {},
   "outputs": [],
   "source": [
    "#Xét các kỳ thanh toán:\n",
    "Groupby_Com['KyTinhToan'] = Groupby_Com['CUTOFF']\n",
    "Groupby_Com['KyKhoaSo'] = Groupby_Com['CUTOFF']\n",
    "Groupby_Com['KyThanhToan'] = np.where(Groupby_Com['Status'].isin(['3','5']), Groupby_Com['CUTOFF'], \"\")"
   ]
  },
  {
   "cell_type": "code",
   "execution_count": 112,
   "id": "5057a935",
   "metadata": {},
   "outputs": [],
   "source": [
    "Groupby_Com = Groupby_Com[['AgentNumber', 'PolicyNo', 'CUT_OFF', 'Applied Premium Date', 'Issued Date', 'Premium Collected',  'Freelook', 'FYC',\n",
    " 'RYC', 'Final_FYC', 'Final_RYC', 'Total_Commision',  'FYC/RYC',  'Status',  'Final_Result', \n",
    " 'KyTinhToan', 'KyKhoaSo',  'KyThanhToan']]"
   ]
  },
  {
   "cell_type": "code",
   "execution_count": 113,
   "id": "2ab343b5",
   "metadata": {},
   "outputs": [],
   "source": [
    "Final_Result = pd.merge(Groupby_Com, Full_Com[['Policy No', 'Receive Policy date', 'CUTOFF']], left_on = ['PolicyNo', 'CUT_OFF'],\n",
    "                       right_on = ['Policy No', 'CUTOFF'], how = 'left')"
   ]
  },
  {
   "cell_type": "code",
   "execution_count": 114,
   "id": "554342d9",
   "metadata": {},
   "outputs": [],
   "source": [
    "Final_Result = Final_Result[['AgentNumber', 'PolicyNo', 'CUT_OFF', 'Applied Premium Date', 'Issued Date', 'Premium Collected', 'Receive Policy date' ,'Freelook', \n",
    "                             'FYC', 'RYC', 'Final_FYC', 'Final_RYC', 'Total_Commision',  'FYC/RYC',  'Status',  'Final_Result', \n",
    " 'KyTinhToan', 'KyKhoaSo',  'KyThanhToan']]"
   ]
  },
  {
   "cell_type": "code",
   "execution_count": 115,
   "id": "eed6c963",
   "metadata": {},
   "outputs": [],
   "source": [
    "Final_Result = Final_Result.drop_duplicates()"
   ]
  },
  {
   "cell_type": "code",
   "execution_count": 116,
   "id": "2619feea",
   "metadata": {},
   "outputs": [],
   "source": [
    "Final_Result.to_csv('check_new.csv')"
   ]
  },
  {
   "cell_type": "code",
   "execution_count": null,
   "id": "6df02185",
   "metadata": {},
   "outputs": [],
   "source": []
  }
 ],
 "metadata": {
  "kernelspec": {
   "display_name": "Python 3 (ipykernel)",
   "language": "python",
   "name": "python3"
  },
  "language_info": {
   "codemirror_mode": {
    "name": "ipython",
    "version": 3
   },
   "file_extension": ".py",
   "mimetype": "text/x-python",
   "name": "python",
   "nbconvert_exporter": "python",
   "pygments_lexer": "ipython3",
   "version": "3.10.9"
  }
 },
 "nbformat": 4,
 "nbformat_minor": 5
}

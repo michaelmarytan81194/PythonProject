{
 "cells": [
  {
   "cell_type": "code",
   "execution_count": 1,
   "id": "68431d80",
   "metadata": {},
   "outputs": [],
   "source": [
    "import numpy as np\n",
    "import pandas as pd\n",
    "import pyodbc as pyo\n",
    "import sqlalchemy as sa\n",
    "import math\n",
    "connection_uri = (\n",
    "    \"mssql+pyodbc://TEDPHO0134\\TANDT_DP/DP_Tan?driver=ODBC+Driver+17+for+SQL+Server\"\n",
    ")\n",
    "conn = sa.create_engine(connection_uri)"
   ]
  },
  {
   "cell_type": "markdown",
   "id": "a2c665cc",
   "metadata": {},
   "source": [
    "<h3> Phụ lục: Lấy bảng Period <h3>"
   ]
  },
  {
   "cell_type": "code",
   "execution_count": null,
   "id": "bc788433",
   "metadata": {},
   "outputs": [],
   "source": [
    "period = pd.DataFrame(columns=['Period', ])"
   ]
  },
  {
   "cell_type": "markdown",
   "id": "ecdd8529",
   "metadata": {},
   "source": [
    "<h4>1. Lấy bảng Commision <h4>"
   ]
  },
  {
   "cell_type": "code",
   "execution_count": 7,
   "id": "165fb198",
   "metadata": {},
   "outputs": [],
   "source": [
    "cutoff = '202401'\n",
    "commission_query = f\"select * from AGENT_COM_CUTOFF where CUTOFF like '{cutoff}%'\"\n",
    "agent_com = pd.read_sql(commission_query, conn)"
   ]
  },
  {
   "cell_type": "markdown",
   "id": "81f44af8",
   "metadata": {},
   "source": [
    "<h4>2. Lấy bảng PY2 <h4>"
   ]
  },
  {
   "cell_type": "code",
   "execution_count": 9,
   "id": "e1286739",
   "metadata": {},
   "outputs": [],
   "source": [
    "py2_query = f\"select * from AGENT_COM_CUTOFF where CUTOFF like '{cutoff}%'\"\n",
    "py2 = pd.read_sql(py2_query, conn)"
   ]
  },
  {
   "cell_type": "markdown",
   "id": "235b8e26",
   "metadata": {},
   "source": [
    "<h4>3. Copy bảng <h4>"
   ]
  },
  {
   "cell_type": "code",
   "execution_count": 10,
   "id": "bb337480",
   "metadata": {
    "scrolled": true
   },
   "outputs": [],
   "source": [
    "com_table = agent_com\n",
    "py2_table = py2"
   ]
  },
  {
   "cell_type": "markdown",
   "id": "d8d63516",
   "metadata": {},
   "source": [
    "<h4>4. Bổ sung cột liên quan đến CUTOFF <h4>"
   ]
  },
  {
   "cell_type": "code",
   "execution_count": 145,
   "id": "c9f581c0",
   "metadata": {},
   "outputs": [],
   "source": [
    "#Thêm cột ngày xét\n",
    "Monthly_Com = com_table\n",
    "Monthly_Com['Date_On_Set'] = \"\" #Tạo ra cột trống\n",
    "Monthly_Com['Date_On_Set']= Monthly_Com['Date_On_Set'].str.cat(Monthly_Com['CUTOFF'].str[:4] ,sep =\"\")\n",
    "Monthly_Com['Date_On_Set']= Monthly_Com['Date_On_Set'].str.cat(Monthly_Com['CUTOFF'].str[4:6] ,sep =\"-\")\n",
    "Monthly_Com['Date_On_Set']= Monthly_Com['Date_On_Set'].str.cat(Monthly_Com['CUTOFF'].str[6:] ,sep =\"-\")"
   ]
  },
  {
   "cell_type": "code",
   "execution_count": 146,
   "id": "7a379bd6",
   "metadata": {},
   "outputs": [],
   "source": [
    "#Thêm cột ưu tiên\n",
    "Monthly_Com['Priority'] = Monthly_Com['CUTOFF'].rank(method='dense', ascending=True)"
   ]
  },
  {
   "cell_type": "markdown",
   "id": "7c58e13a",
   "metadata": {},
   "source": [
    "<h4>5. Biến cột Applied Date và Date_On_Set thành kiểu date <h4>"
   ]
  },
  {
   "cell_type": "code",
   "execution_count": 148,
   "id": "a8a83c2b",
   "metadata": {},
   "outputs": [],
   "source": [
    "Monthly_Com['Date_On_Set'] = pd.to_datetime(Monthly_Com['Date_On_Set'])\n",
    "Monthly_Com['Start_Month'] = pd.to_datetime(Monthly_Com['Start_Month'])\n",
    "Monthly_Com['Applied Premium Date'] = pd.to_datetime(Monthly_Com['Applied Premium Date'])"
   ]
  },
  {
   "cell_type": "code",
   "execution_count": 149,
   "id": "e1573fe6",
   "metadata": {},
   "outputs": [],
   "source": [
    "#Thêm cột ngày đầu tháng:\n",
    "#-> Đưa vào ngày 1 của tháng\n",
    "if not('20240229' in Monthly_Com['CUTOFF'].values): \n",
    "    Monthly_Com['Start_Month'] = (Monthly_Com['Date_On_Set'].dt.floor('d') + pd.offsets.MonthEnd(0) - pd.offsets.MonthBegin(1))\n",
    "else:\n",
    "    Monthly_Com.loc[:,'Start_Month'] = '2024-01-27'"
   ]
  },
  {
   "cell_type": "markdown",
   "id": "a73820bf",
   "metadata": {},
   "source": [
    "<h4>6. Kỳ I <h4>"
   ]
  },
  {
   "cell_type": "code",
   "execution_count": 206,
   "id": "05acf04a",
   "metadata": {},
   "outputs": [],
   "source": [
    "Com_I = (Monthly_Com['Applied Premium Date'] >= Monthly_Com['Start_Month']) & \\\n",
    "(Monthly_Com['Applied Premium Date'] <= Monthly_Com['Date_On_Set']) & \\\n",
    "(Monthly_Com['Priority'] == 1) & ( (Monthly_Com['Policy Status'] != 'SU') | (Monthly_Com['Policy Status'] != 'TR'))\n",
    "Monthly_Com_I = Monthly_Com.loc[Com_I]"
   ]
  },
  {
   "cell_type": "code",
   "execution_count": 207,
   "id": "596cca72",
   "metadata": {},
   "outputs": [],
   "source": [
    "#Lấy ra các HD trong kỳ I\n",
    "com_pe_1 = Monthly_Com_I"
   ]
  },
  {
   "cell_type": "code",
   "execution_count": 221,
   "id": "e311376a",
   "metadata": {},
   "outputs": [
    {
     "data": {
      "text/plain": [
       "<bound method Series.to_string of 175       2016-04-11\n",
       "198       2016-04-11\n",
       "199       2016-04-11\n",
       "200       2016-04-11\n",
       "201       2016-04-11\n",
       "             ...    \n",
       "1565994   2020-01-21\n",
       "1565995   2020-01-21\n",
       "1565996   2020-01-21\n",
       "1566197   2020-02-28\n",
       "1573023   2020-03-26\n",
       "Name: Receive Policy date, Length: 6115, dtype: datetime64[ns]>"
      ]
     },
     "execution_count": 221,
     "metadata": {},
     "output_type": "execute_result"
    }
   ],
   "source": [
    "com_pe_1['Receive Policy date'].to_string"
   ]
  },
  {
   "cell_type": "code",
   "execution_count": null,
   "id": "840fd395",
   "metadata": {},
   "outputs": [],
   "source": [
    "com_pe_1.loc[(com_pe_1['Freelook'] <= 21), 'Status'] = \"1\" #Chưa pass FL\n",
    "com_pe_1.loc[(com_pe_1['Receive Policy date'].str.len() <1), 'Status'] = \"2\" #Chưa có ACK\n",
    "com_pe_1.loc[(com_pe_1['Mark_Status'].str.len() > 1) & (com_pe_1['Terminated Date'].str.len() <1), 'Status'] = \"3\" #FL trong 21 ngày\n",
    "com_pe_1.loc[(com_pe_1['Mark_Status'].str.len() < 1) & (com_pe_1['Terminated Date'].str.len() >1), 'Status'] = \"4\" #Ter trước khi phát sinh phí\n",
    "com_pe_1.loc[(com_pe_1['Mark_Status'].str.len() < 1) & (com_pe_1['Freelook'] > 21) , 'Status'] = \"5\""
   ]
  },
  {
   "cell_type": "code",
   "execution_count": 229,
   "id": "45dcc05a",
   "metadata": {},
   "outputs": [
    {
     "name": "stderr",
     "output_type": "stream",
     "text": [
      "C:\\Users\\vagy1255\\AppData\\Local\\Temp\\ipykernel_21648\\1145856748.py:2: SettingWithCopyWarning: \n",
      "A value is trying to be set on a copy of a slice from a DataFrame.\n",
      "Try using .loc[row_indexer,col_indexer] = value instead\n",
      "\n",
      "See the caveats in the documentation: https://pandas.pydata.org/pandas-docs/stable/user_guide/indexing.html#returning-a-view-versus-a-copy\n",
      "  com_pe_1['Status'] = np.where(com_pe_1['Freelook']<=21, \"1\",\n"
     ]
    }
   ],
   "source": [
    "import numpy as np\n",
    "com_pe_1['Status'] = np.where(com_pe_1['Freelook']<=21, \"1\", \n",
    "                     np.where(com_pe_1['Receive Policy date'].isnull(), \"2\",\n",
    "                     np.where((com_pe_1['Policy Status'] == \"FL\") & (com_pe_1['Terminated Date'].isnull()), \"3\",\n",
    "                     np.where((com_pe_1['Policy Status'] != \"FL\") & (com_pe_1['Terminated Date'].notnull()), \"4\", \"5\")     \n",
    "                             )))"
   ]
  },
  {
   "cell_type": "code",
   "execution_count": 166,
   "id": "3bebf616",
   "metadata": {},
   "outputs": [],
   "source": [
    "#Lấy ra các HD "
   ]
  },
  {
   "cell_type": "code",
   "execution_count": 230,
   "id": "831fec65",
   "metadata": {},
   "outputs": [],
   "source": [
    "com_pe_1.to_csv(\"check.csv\")"
   ]
  },
  {
   "cell_type": "code",
   "execution_count": null,
   "id": "2d8de648",
   "metadata": {},
   "outputs": [],
   "source": []
  }
 ],
 "metadata": {
  "kernelspec": {
   "display_name": "Python 3 (ipykernel)",
   "language": "python",
   "name": "python3"
  },
  "language_info": {
   "codemirror_mode": {
    "name": "ipython",
    "version": 3
   },
   "file_extension": ".py",
   "mimetype": "text/x-python",
   "name": "python",
   "nbconvert_exporter": "python",
   "pygments_lexer": "ipython3",
   "version": "3.10.9"
  }
 },
 "nbformat": 4,
 "nbformat_minor": 5
}

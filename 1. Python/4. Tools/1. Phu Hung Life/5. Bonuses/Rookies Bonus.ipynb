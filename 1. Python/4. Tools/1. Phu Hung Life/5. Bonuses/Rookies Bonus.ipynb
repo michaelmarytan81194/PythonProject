{
 "cells": [
  {
   "cell_type": "code",
   "execution_count": 1,
   "id": "8735b9f9",
   "metadata": {},
   "outputs": [],
   "source": [
    "import numpy as np\n",
    "import pandas as pd\n",
    "import pyodbc as pyo\n",
    "import sqlalchemy as sa\n",
    "import numpy as np\n",
    "import math\n",
    "import datetime\n",
    "import datetime as dt\n",
    "#Kết nối SV_UAT (SQL_SV64)\n",
    "connection_uri_UAT = (\n",
    "    \"mssql+pyodbc://PHLHCMHOUPBI01\\PBIRS/PowerBI?driver=ODBC+Driver+17+for+SQL+Server\"\n",
    ")\n",
    "conn = sa.create_engine(connection_uri_UAT)"
   ]
  },
  {
   "cell_type": "markdown",
   "id": "8c6d80cb",
   "metadata": {},
   "source": [
    "<h3> 1. Lấy bảng"
   ]
  },
  {
   "cell_type": "markdown",
   "id": "9be0411b",
   "metadata": {},
   "source": [
    "<h5>1.1 Lấy bảng KPI đã tính"
   ]
  },
  {
   "cell_type": "code",
   "execution_count": 4,
   "id": "969e333b",
   "metadata": {},
   "outputs": [],
   "source": [
    "cutoff = '202401'\n",
    "kpi_query = f\"SELECT * FROM [DPO].[BSP_TAN_INDIVIDUAL_KPI] WHERE Period = {cutoff}\"\n",
    "kpi_info = pd.read_sql(kpi_query, conn)"
   ]
  },
  {
   "cell_type": "code",
   "execution_count": 6,
   "id": "30da206f",
   "metadata": {},
   "outputs": [
    {
     "data": {
      "text/plain": [
       "Period            object\n",
       "Agent_Number      object\n",
       "Agent_Name        object\n",
       "Grade             object\n",
       "Agent_Status      object\n",
       "Date_Appointed    object\n",
       "Segmentation      object\n",
       "Rookie            object\n",
       "PY2               object\n",
       "CC(+)             object\n",
       "CC(-)             object\n",
       "CC                object\n",
       "Base              object\n",
       "Rider             object\n",
       "%Rider/Base       object\n",
       "Active Agent      object\n",
       "AFYP(+)           object\n",
       "AFYP(-)           object\n",
       "AFYP              object\n",
       "FYP(-)            object\n",
       "FYP(+)            object\n",
       "FYP               object\n",
       "RYP               object\n",
       "Case Size         object\n",
       "dtype: object"
      ]
     },
     "execution_count": 6,
     "metadata": {},
     "output_type": "execute_result"
    }
   ],
   "source": []
  },
  {
   "cell_type": "code",
   "execution_count": null,
   "id": "0a2c9121",
   "metadata": {},
   "outputs": [],
   "source": []
  }
 ],
 "metadata": {
  "kernelspec": {
   "display_name": "Python 3 (ipykernel)",
   "language": "python",
   "name": "python3"
  },
  "language_info": {
   "codemirror_mode": {
    "name": "ipython",
    "version": 3
   },
   "file_extension": ".py",
   "mimetype": "text/x-python",
   "name": "python",
   "nbconvert_exporter": "python",
   "pygments_lexer": "ipython3",
   "version": "3.10.9"
  }
 },
 "nbformat": 4,
 "nbformat_minor": 5
}

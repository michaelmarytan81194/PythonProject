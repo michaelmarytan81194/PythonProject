{
 "cells": [
  {
   "cell_type": "code",
   "execution_count": 21,
   "id": "a1921655",
   "metadata": {},
   "outputs": [],
   "source": [
    "import numpy as np\n",
    "import pandas as pd\n",
    "import pyodbc as pyo\n",
    "import sqlalchemy as sa\n",
    "import numpy as np\n",
    "import math\n",
    "import datetime\n",
    "import datetime as dt\n",
    "connection_uri = (\n",
    "    \"mssql+pyodbc://PHLHCMHOPPBI02\\PBIRS/PowerBI?driver=ODBC+Driver+17+for+SQL+Server\"\n",
    ")\n",
    "conn = sa.create_engine(connection_uri)"
   ]
  },
  {
   "cell_type": "markdown",
   "id": "3bf3fa12",
   "metadata": {},
   "source": [
    "<h4>1. Lấy bảng<h4>"
   ]
  },
  {
   "cell_type": "markdown",
   "id": "b68d9aee",
   "metadata": {},
   "source": [
    "<h4> 1.1 Lấy bảng Premium"
   ]
  },
  {
   "cell_type": "code",
   "execution_count": 2,
   "id": "92eef4f8",
   "metadata": {},
   "outputs": [],
   "source": [
    "cutoff = '20230131'"
   ]
  },
  {
   "cell_type": "code",
   "execution_count": 13,
   "id": "caa7d81f",
   "metadata": {},
   "outputs": [],
   "source": [
    "premium_query = f\"\"\"\\\n",
    "WITH CUTOFF_TABLE AS (\n",
    "SELECT DISTINCT CUTOFF\n",
    "  FROM [DPO].[DP_TAGENTPREMIUM_TEST_CUTOFF])\n",
    "\n",
    ", CUTOFF_1 AS (SELECT *, LEFT(CUTOFF, 6) AS MONTH_CUTOFF, \n",
    "ROW_NUMBER() OVER (PARTITION BY LEFT(CUTOFF, 6) ORDER BY CUTOFF DESC) AS PRI_NO\n",
    "FROM CUTOFF_TABLE )\n",
    "\n",
    ", CUTOFF_FINAL AS (SELECT CUTOFF, \n",
    "LEAD(CUTOFF, 1) OVER (ORDER BY MONTH_CUTOFF DESC ) AS LAST_CUTOFF\n",
    "FROM CUTOFF_1 \n",
    "WHERE PRI_NO = 1)\n",
    "\n",
    ", PREMIUM_CURRENT AS (\n",
    "SELECT * FROM [DPO].[DP_TAGENTPREMIUM_TEST_CUTOFF])\n",
    "\n",
    ", PREMIUM_LAST AS (\n",
    "SELECT DISTINCT [Policy No], [Policy Status], CUTOFF, CONCAT([Policy No], CUTOFF) as Link_Key_Prev FROM [DPO].[DP_TAGENTPREMIUM_TEST_CUTOFF])\n",
    "\n",
    ", CURRENT_PRE AS (SELECT a.*, CONCAT([Policy No], LAST_CUTOFF) AS Link_Key FROM PREMIUM_CURRENT a\n",
    "LEFT JOIN CUTOFF_FINAL b\n",
    "on a.CUTOFF = b.CUTOFF)\n",
    "\n",
    "select a.*, b.[Policy Status] as Last_Policy_STT from CURRENT_PRE a\n",
    "LEFT JOIN PREMIUM_LAST b\n",
    "on a.Link_Key = b.Link_Key_Prev \n",
    "where a.CUTOFF = '{cutoff}'\"\"\"\n",
    "premium = pd.read_sql(premium_query, conn)"
   ]
  },
  {
   "cell_type": "code",
   "execution_count": 14,
   "id": "3df6d665",
   "metadata": {},
   "outputs": [],
   "source": [
    "premium_table = premium"
   ]
  },
  {
   "cell_type": "markdown",
   "id": "df4e0312",
   "metadata": {},
   "source": [
    "<h4>1.2 Lấy bảng DAILYSALES\n",
    "\n"
   ]
  },
  {
   "cell_type": "code",
   "execution_count": 3,
   "id": "082c1a13",
   "metadata": {},
   "outputs": [],
   "source": [
    "daily_duong_query = f\"\"\"\\\n",
    "SELECT [Agent Code], [Policy_Number],[Issuing_Agent],[Contract Type],[Component_Code],[Proposal_Receive_Date]\n",
    "      ,[Policy_Issue_Date] ,[Sum_Assured],[Before_Discount_Premium],[Discount_Premium],[After_Discount_Premium],[Policy_Status]\n",
    "      ,[Bill_Frequency],[Modal_Factor],[Lapsed_date],[AFYP],[RISK_COMMENCE_DATE],[CUTOFF],[ACK_DATE] \n",
    "FROM [DPO].[DP_TDAILYSALES_DA_CUTOFF]\n",
    "where CUTOFF = '{cutoff}' \"\"\"\n",
    "daily_duong = pd.read_sql(daily_duong_query, conn)"
   ]
  },
  {
   "cell_type": "code",
   "execution_count": 4,
   "id": "ad214ddf",
   "metadata": {},
   "outputs": [],
   "source": [
    "daily_am_query = f\"\"\"\\\n",
    "SELECT [Agent Code], [Policy_Number],[Issuing_Agent],[Contract Type],[Component_Code],[Proposal_Receive_Date]\n",
    "      ,[Policy_Issue_Date] ,[Sum_Assured],[Before_Discount_Premium],[Discount_Premium],[After_Discount_Premium],[Policy_Status]\n",
    "      ,[Bill_Frequency],[Modal_Factor],[Lapsed_date],[AFYP],[RISK_COMMENCE_DATE],[CUTOFF],[ACK_DATE] \n",
    "FROM [DPO].[DP_DA_Daily_DC_PO_WD_NT_CUTOFF]\n",
    "where CUTOFF = '{cutoff}' \"\"\"\n",
    "daily_am = pd.read_sql(daily_am_query, conn)"
   ]
  },
  {
   "cell_type": "code",
   "execution_count": 7,
   "id": "0087a747",
   "metadata": {},
   "outputs": [
    {
     "name": "stderr",
     "output_type": "stream",
     "text": [
      "C:\\Users\\vagy1255\\AppData\\Local\\Temp\\ipykernel_10884\\796227512.py:1: FutureWarning: The behavior of DataFrame concatenation with empty or all-NA entries is deprecated. In a future version, this will no longer exclude empty or all-NA columns when determining the result dtypes. To retain the old behavior, exclude the relevant entries before the concat operation.\n",
      "  salesdaily = pd.concat([daily_duong, daily_am])\n"
     ]
    }
   ],
   "source": [
    "salesdaily = pd.concat([daily_duong, daily_am])"
   ]
  },
  {
   "cell_type": "markdown",
   "id": "fddb6eaf",
   "metadata": {},
   "source": [
    "<h4> 1.3 Lấy bảng PY2 "
   ]
  },
  {
   "cell_type": "code",
   "execution_count": 15,
   "id": "d61f982e",
   "metadata": {},
   "outputs": [],
   "source": [
    "py2_query = f\"select * from [DPO].[DP_K2_CUTOFF] where CUTOFF = '{cutoff}'\"\n",
    "py2 = pd.read_sql(py2_query, conn)"
   ]
  },
  {
   "cell_type": "markdown",
   "id": "af107e30",
   "metadata": {},
   "source": [
    "<h4> 1.4 Lấy bảng Agent_Info"
   ]
  },
  {
   "cell_type": "code",
   "execution_count": 16,
   "id": "48a365e7",
   "metadata": {},
   "outputs": [],
   "source": [
    "agent_query = f\"select * from [DPO].[Main_AGENT_INFO_DA_CUTOFF] where CUTOFF = '{cutoff}'\"\n",
    "agent_info = pd.read_sql(agent_query, conn)"
   ]
  },
  {
   "cell_type": "markdown",
   "id": "5ae2dc12",
   "metadata": {},
   "source": [
    "<h4> 2. Lấy ra PERIOD<h4>"
   ]
  },
  {
   "cell_type": "code",
   "execution_count": 17,
   "id": "1a7c28e0",
   "metadata": {},
   "outputs": [],
   "source": [
    "premium_table = premium_table.loc[:, premium_table.columns != 'Link_Key']"
   ]
  },
  {
   "cell_type": "code",
   "execution_count": 18,
   "id": "eee7de37",
   "metadata": {},
   "outputs": [],
   "source": [
    "#Thêm cột ngày xét\n",
    "Monthly_Premium = premium_table\n",
    "Monthly_Premium['Date_On_Set'] = \"\" #Tạo ra cột trống\n",
    "Monthly_Premium['Date_On_Set']= Monthly_Premium['Date_On_Set'].str.cat(Monthly_Premium['CUTOFF'].str[:4] ,sep =\"\")\n",
    "Monthly_Premium['Date_On_Set']= Monthly_Premium['Date_On_Set'].str.cat(Monthly_Premium['CUTOFF'].str[4:6] ,sep =\"-\")\n",
    "Monthly_Premium['Date_On_Set']= Monthly_Premium['Date_On_Set'].str.cat(Monthly_Premium['CUTOFF'].str[6:8] ,sep =\"-\")"
   ]
  },
  {
   "cell_type": "code",
   "execution_count": 19,
   "id": "428b6114",
   "metadata": {},
   "outputs": [],
   "source": [
    "#Phải biến thành kiểu datetime trước\n",
    "Monthly_Premium['Date_On_Set'] = pd.to_datetime(Monthly_Premium['Date_On_Set'])\n",
    "#Thêm cột ngày đầu tháng:\n",
    "#-> Đưa vào ngày 1 của tháng\n",
    "#LƯU Ý CÁC NGÀY OFF ĐẶC BIỆT CỦA THÁNG 4.2023 VÀ 01/2024\n",
    "if not('20240229' in Monthly_Premium['CUTOFF'].values): \n",
    "    Monthly_Premium['Start_Month'] = (Monthly_Premium['Date_On_Set'].dt.floor('d') + pd.offsets.MonthEnd(0) - pd.offsets.MonthBegin(1))\n",
    "elif ('20230531' in Monthly_Premium['CUTOFF'].values):\n",
    "    Monthly_Premium.loc[:,'Start_Month'] = '2023-04-29'\n",
    "else:\n",
    "    Monthly_Premium.loc[:,'Start_Month'] = '2024-01-27'"
   ]
  },
  {
   "cell_type": "code",
   "execution_count": 22,
   "id": "d72ce2e7",
   "metadata": {},
   "outputs": [],
   "source": [
    "#Lấy ra ngày Period:\n",
    "#LƯU Ý CÁCH CỘNG 1 NGÀY VÀO CỘT APPLIED PREMIUM DATE\n",
    "Period_Com = Monthly_Premium\n",
    "Period_Com ['Date_Period_1'] = np.where( (Period_Com['Policy Status'] == 'FL'), Period_Com['Issued Date'],\n",
    "np.where( (Period_Com['POLICY ACKNOWLED'].isnull()), Period_Com['Issued Date'],\n",
    "np.where((((Period_Com['Applied Premium Date'] + datetime.timedelta(days=1)) - Period_Com['POLICY ACKNOWLED']) / np.timedelta64(1, 'D')) < 22,\n",
    "Period_Com['Issued Date'], Period_Com['Applied Premium Date'])))"
   ]
  },
  {
   "cell_type": "code",
   "execution_count": 23,
   "id": "7240c2a7",
   "metadata": {},
   "outputs": [],
   "source": [
    "Period_Prem = Period_Com\n",
    "calculate_condition = ((Period_Prem['Applied Premium Date'] >= Period_Prem['Start_Month']) & (Period_Prem['Applied Premium Date'] <= Period_Prem['Date_On_Set']))\n",
    "PREM_month = Period_Prem[((Period_Prem['Applied Premium Date'] >= Period_Prem['Start_Month']) & (Period_Prem['Applied Premium Date'] <= Period_Prem['Date_On_Set']))]"
   ]
  },
  {
   "cell_type": "code",
   "execution_count": 24,
   "id": "cb281138",
   "metadata": {},
   "outputs": [
    {
     "name": "stderr",
     "output_type": "stream",
     "text": [
      "C:\\Users\\vagy1255\\AppData\\Local\\Temp\\ipykernel_10884\\3346513835.py:1: SettingWithCopyWarning: \n",
      "A value is trying to be set on a copy of a slice from a DataFrame.\n",
      "Try using .loc[row_indexer,col_indexer] = value instead\n",
      "\n",
      "See the caveats in the documentation: https://pandas.pydata.org/pandas-docs/stable/user_guide/indexing.html#returning-a-view-versus-a-copy\n",
      "  PREM_month['Date_Period'] = np.where((PREM_month['Date_Period_1'].isnull()), PREM_month['Applied Premium Date'], PREM_month['Date_Period_1'])\n"
     ]
    }
   ],
   "source": [
    "PREM_month['Date_Period'] = np.where((PREM_month['Date_Period_1'].isnull()), PREM_month['Applied Premium Date'], PREM_month['Date_Period_1'])"
   ]
  },
  {
   "cell_type": "code",
   "execution_count": 25,
   "id": "3ede7c1b",
   "metadata": {},
   "outputs": [
    {
     "name": "stderr",
     "output_type": "stream",
     "text": [
      "C:\\Users\\vagy1255\\AppData\\Local\\Temp\\ipykernel_10884\\4075263784.py:1: SettingWithCopyWarning: \n",
      "A value is trying to be set on a copy of a slice from a DataFrame.\n",
      "Try using .loc[row_indexer,col_indexer] = value instead\n",
      "\n",
      "See the caveats in the documentation: https://pandas.pydata.org/pandas-docs/stable/user_guide/indexing.html#returning-a-view-versus-a-copy\n",
      "  PREM_month['Period_Month'] = pd.DatetimeIndex(PREM_month['Date_Period']).month\n",
      "C:\\Users\\vagy1255\\AppData\\Local\\Temp\\ipykernel_10884\\4075263784.py:2: SettingWithCopyWarning: \n",
      "A value is trying to be set on a copy of a slice from a DataFrame.\n",
      "Try using .loc[row_indexer,col_indexer] = value instead\n",
      "\n",
      "See the caveats in the documentation: https://pandas.pydata.org/pandas-docs/stable/user_guide/indexing.html#returning-a-view-versus-a-copy\n",
      "  PREM_month['Period_Year'] = pd.DatetimeIndex(PREM_month['Date_Period']).year\n",
      "C:\\Users\\vagy1255\\AppData\\Local\\Temp\\ipykernel_10884\\4075263784.py:3: SettingWithCopyWarning: \n",
      "A value is trying to be set on a copy of a slice from a DataFrame.\n",
      "Try using .loc[row_indexer,col_indexer] = value instead\n",
      "\n",
      "See the caveats in the documentation: https://pandas.pydata.org/pandas-docs/stable/user_guide/indexing.html#returning-a-view-versus-a-copy\n",
      "  PREM_month['Period'] = np.where(PREM_month['Period_Month'] >9, PREM_month['Period_Year'].astype('str') + PREM_month['Period_Month'].astype('str'),\n"
     ]
    }
   ],
   "source": [
    "PREM_month['Period_Month'] = pd.DatetimeIndex(PREM_month['Date_Period']).month\n",
    "PREM_month['Period_Year'] = pd.DatetimeIndex(PREM_month['Date_Period']).year\n",
    "PREM_month['Period'] = np.where(PREM_month['Period_Month'] >9, PREM_month['Period_Year'].astype('str') + PREM_month['Period_Month'].astype('str'),\n",
    "PREM_month['Period_Year'].astype('str') + \"0\" +PREM_month['Period_Month'].astype('str')                              \n",
    "                               )"
   ]
  },
  {
   "cell_type": "markdown",
   "id": "20295e76",
   "metadata": {},
   "source": [
    "<h4>3. Tính CaseCount <h4>"
   ]
  },
  {
   "cell_type": "code",
   "execution_count": 26,
   "id": "4cd3118e",
   "metadata": {},
   "outputs": [
    {
     "name": "stderr",
     "output_type": "stream",
     "text": [
      "C:\\Users\\vagy1255\\AppData\\Local\\Temp\\ipykernel_10884\\1393532758.py:2: SettingWithCopyWarning: \n",
      "A value is trying to be set on a copy of a slice from a DataFrame.\n",
      "Try using .loc[row_indexer,col_indexer] = value instead\n",
      "\n",
      "See the caveats in the documentation: https://pandas.pydata.org/pandas-docs/stable/user_guide/indexing.html#returning-a-view-versus-a-copy\n",
      "  CC_prem['Status Transition'] = CC_prem['Last_Policy_STT'] + \"to\" + CC_prem['Policy Status']\n",
      "C:\\Users\\vagy1255\\AppData\\Local\\Temp\\ipykernel_10884\\1393532758.py:4: SettingWithCopyWarning: \n",
      "A value is trying to be set on a copy of a slice from a DataFrame.\n",
      "Try using .loc[row_indexer,col_indexer] = value instead\n",
      "\n",
      "See the caveats in the documentation: https://pandas.pydata.org/pandas-docs/stable/user_guide/indexing.html#returning-a-view-versus-a-copy\n",
      "  CC_prem['PREM TRAN NAME'] = CC_prem['PREM TRAN NAME'].str.strip()\n"
     ]
    }
   ],
   "source": [
    "CC_prem = PREM_month\n",
    "CC_prem['Status Transition'] = CC_prem['Last_Policy_STT'] + \"to\" + CC_prem['Policy Status'] \n",
    "#Loại bỏ khoản trắng:\n",
    "CC_prem['PREM TRAN NAME'] = CC_prem['PREM TRAN NAME'].str.strip()"
   ]
  },
  {
   "cell_type": "code",
   "execution_count": 27,
   "id": "db7010f1",
   "metadata": {},
   "outputs": [
    {
     "name": "stderr",
     "output_type": "stream",
     "text": [
      "C:\\Users\\vagy1255\\AppData\\Local\\Temp\\ipykernel_10884\\3210236533.py:1: SettingWithCopyWarning: \n",
      "A value is trying to be set on a copy of a slice from a DataFrame.\n",
      "Try using .loc[row_indexer,col_indexer] = value instead\n",
      "\n",
      "See the caveats in the documentation: https://pandas.pydata.org/pandas-docs/stable/user_guide/indexing.html#returning-a-view-versus-a-copy\n",
      "  CC_prem['Count_Stage_1'] = np.where((CC_prem['PREM TRAN NAME'] == 'Contract Issue') & (CC_prem['Last_Policy_STT'].isnull()) , 1,\n"
     ]
    }
   ],
   "source": [
    "CC_prem['Count_Stage_1'] = np.where((CC_prem['PREM TRAN NAME'] == 'Contract Issue') & (CC_prem['Last_Policy_STT'].isnull()) , 1,\n",
    "                        np.where((CC_prem['PREM TRAN NAME'] == 'Freelook Cancellation') & (CC_prem['Last_Policy_STT'].isnull()),-1, 0))"
   ]
  },
  {
   "cell_type": "code",
   "execution_count": 28,
   "id": "e7e4a8d8",
   "metadata": {
    "scrolled": true
   },
   "outputs": [
    {
     "name": "stderr",
     "output_type": "stream",
     "text": [
      "C:\\Users\\vagy1255\\AppData\\Local\\Temp\\ipykernel_10884\\2212519876.py:1: SettingWithCopyWarning: \n",
      "A value is trying to be set on a copy of a slice from a DataFrame.\n",
      "Try using .loc[row_indexer,col_indexer] = value instead\n",
      "\n",
      "See the caveats in the documentation: https://pandas.pydata.org/pandas-docs/stable/user_guide/indexing.html#returning-a-view-versus-a-copy\n",
      "  CC_prem['Count_Stage_2'] = np.where((CC_prem['Status Transition'].str.len() >5) &\\\n"
     ]
    }
   ],
   "source": [
    "CC_prem['Count_Stage_2'] = np.where((CC_prem['Status Transition'].str.len() >5) &\\\n",
    "                        CC_prem['Status Transition'].str[4:].isin(['FL', 'CF', 'DC', 'DH', 'NT', 'PO', 'WD']), -1,\n",
    "                        np.where((CC_prem['Status Transition'].str.len() < 5) &\\\n",
    "                        CC_prem['Status Transition'].str[4:].isin(['IF']), 1, \n",
    "                        np.where((CC_prem['Policy Status'].isin(['CF', 'DC', 'NT', 'PO', 'WD'])), -1, 0    \n",
    "                                )))"
   ]
  },
  {
   "cell_type": "code",
   "execution_count": 29,
   "id": "ef4c869d",
   "metadata": {},
   "outputs": [
    {
     "name": "stderr",
     "output_type": "stream",
     "text": [
      "C:\\Users\\vagy1255\\AppData\\Local\\Temp\\ipykernel_10884\\3545740601.py:1: SettingWithCopyWarning: \n",
      "A value is trying to be set on a copy of a slice from a DataFrame.\n",
      "Try using .loc[row_indexer,col_indexer] = value instead\n",
      "\n",
      "See the caveats in the documentation: https://pandas.pydata.org/pandas-docs/stable/user_guide/indexing.html#returning-a-view-versus-a-copy\n",
      "  CC_prem['Count_Policy'] = np.where((CC_prem['Count_Stage_2']) == 0, CC_prem['Count_Stage_1'], CC_prem['Count_Stage_2'] )\n"
     ]
    }
   ],
   "source": [
    "CC_prem['Count_Policy'] = np.where((CC_prem['Count_Stage_2']) == 0, CC_prem['Count_Stage_1'], CC_prem['Count_Stage_2'] )"
   ]
  },
  {
   "cell_type": "markdown",
   "id": "2555c299",
   "metadata": {},
   "source": [
    "<h4>4. Sum để lấy CaseCount <h4>"
   ]
  },
  {
   "cell_type": "code",
   "execution_count": 30,
   "id": "f061dff4",
   "metadata": {},
   "outputs": [],
   "source": [
    "#Nếu muốn check trạng thái CC của HD, check chỗ này\n",
    "CaseCount = CC_prem\n",
    "CaseCount = CaseCount[['Issuing Agent', 'Policy No', 'CUTOFF', 'Count_Policy']].drop_duplicates()\n",
    "Sum_CC = CaseCount.groupby(['Issuing Agent', 'Policy No', 'CUTOFF'])['Count_Policy'].sum()\n",
    "Sum_CC = Sum_CC.reset_index()"
   ]
  },
  {
   "cell_type": "code",
   "execution_count": 31,
   "id": "e26ae5b2",
   "metadata": {},
   "outputs": [],
   "source": [
    "Sum_CC.loc[(Sum_CC['Count_Policy'] <0),'CC(-)'] = Sum_CC['Count_Policy']\n",
    "Sum_CC.loc[(Sum_CC['Count_Policy'] >0),'CC(+)'] = Sum_CC['Count_Policy']"
   ]
  },
  {
   "cell_type": "markdown",
   "id": "eb42ca53",
   "metadata": {},
   "source": [
    "<h5>4.1 Sum lại CaseCount theo Đại lý phát hành HD <h4>"
   ]
  },
  {
   "cell_type": "code",
   "execution_count": 32,
   "id": "28af40a3",
   "metadata": {},
   "outputs": [],
   "source": [
    "Agent_CC = Sum_CC.groupby(['Issuing Agent', 'CUTOFF'])[['CC(-)', 'CC(+)']].sum()\n",
    "Agent_CC = Agent_CC.reset_index()"
   ]
  },
  {
   "cell_type": "markdown",
   "id": "51f89a91",
   "metadata": {},
   "source": [
    "<h4>5. Tính FYP <h4>"
   ]
  },
  {
   "cell_type": "code",
   "execution_count": 33,
   "id": "2bdee249",
   "metadata": {},
   "outputs": [],
   "source": [
    "FYP_month = PREM_month\n",
    "FYP_month = pd.merge(FYP_month, Sum_CC, left_on = 'Policy No', right_on = 'Policy No', how = 'left' )\n",
    "FYP_month = FYP_month[['Policy No', 'Product Code', 'Premium transaction', 'PREM TRAN NAME',\n",
    "       'Premium Collected', 'Collected Date', 'Applied Premium Date',\n",
    "       'FYP Before Discount', 'FYP Discount', 'FYP', 'RYP', 'Topup Premium',\n",
    "       'Premium Term', 'Premium Year', 'Policy Status', 'Policy Year',\n",
    "       'Policy Term', 'Frequency of Payment', 'Issued Date', 'Effected Date',\n",
    "       'Terminated Date', 'Lapse Date', 'Due date', 'Next Due Date',\n",
    "       'Transfer Date', 'POLICY ACKNOWLED', 'Sum Assure', 'Area Code',\n",
    "       'Servicing Agent', 'Freelook', 'Proposal Receive Date',\n",
    "       'RISK_COMMENCE_DATE', 'Age_Customer', 'Issuing Agent_x', 'AFYP',\n",
    "       'CUTOFF_x', 'RETURN_DATE', 'Count_Policy_y']].rename(columns={'Issuing Agent_x': 'Issuing Agent', 'Count_Policy_y': 'Count_Policy','CUTOFF_x':'CUTOFF'})"
   ]
  },
  {
   "cell_type": "markdown",
   "id": "3461767a",
   "metadata": {},
   "source": [
    "<h5> 5.1 Sum lại theo Servicing Agent lấy FYP <h5>"
   ]
  },
  {
   "cell_type": "code",
   "execution_count": 34,
   "id": "f5e2ab08",
   "metadata": {},
   "outputs": [
    {
     "data": {
      "text/html": [
       "<div>\n",
       "<style scoped>\n",
       "    .dataframe tbody tr th:only-of-type {\n",
       "        vertical-align: middle;\n",
       "    }\n",
       "\n",
       "    .dataframe tbody tr th {\n",
       "        vertical-align: top;\n",
       "    }\n",
       "\n",
       "    .dataframe thead th {\n",
       "        text-align: right;\n",
       "    }\n",
       "</style>\n",
       "<table border=\"1\" class=\"dataframe\">\n",
       "  <thead>\n",
       "    <tr style=\"text-align: right;\">\n",
       "      <th></th>\n",
       "      <th></th>\n",
       "      <th>FYP(-)</th>\n",
       "      <th>FYP(+)</th>\n",
       "    </tr>\n",
       "    <tr>\n",
       "      <th>Servicing Agent</th>\n",
       "      <th>CUTOFF</th>\n",
       "      <th></th>\n",
       "      <th></th>\n",
       "    </tr>\n",
       "  </thead>\n",
       "  <tbody>\n",
       "    <tr>\n",
       "      <th>60000194</th>\n",
       "      <th>20230131</th>\n",
       "      <td>0.0</td>\n",
       "      <td>0.0</td>\n",
       "    </tr>\n",
       "    <tr>\n",
       "      <th>60000449</th>\n",
       "      <th>20230131</th>\n",
       "      <td>0.0</td>\n",
       "      <td>0.0</td>\n",
       "    </tr>\n",
       "    <tr>\n",
       "      <th>60000482</th>\n",
       "      <th>20230131</th>\n",
       "      <td>0.0</td>\n",
       "      <td>16026000.0</td>\n",
       "    </tr>\n",
       "    <tr>\n",
       "      <th>60000564</th>\n",
       "      <th>20230131</th>\n",
       "      <td>0.0</td>\n",
       "      <td>0.0</td>\n",
       "    </tr>\n",
       "    <tr>\n",
       "      <th>60000717</th>\n",
       "      <th>20230131</th>\n",
       "      <td>0.0</td>\n",
       "      <td>16141000.0</td>\n",
       "    </tr>\n",
       "    <tr>\n",
       "      <th>...</th>\n",
       "      <th>...</th>\n",
       "      <td>...</td>\n",
       "      <td>...</td>\n",
       "    </tr>\n",
       "    <tr>\n",
       "      <th>60076140</th>\n",
       "      <th>20230131</th>\n",
       "      <td>0.0</td>\n",
       "      <td>10003000.0</td>\n",
       "    </tr>\n",
       "    <tr>\n",
       "      <th>60076141</th>\n",
       "      <th>20230131</th>\n",
       "      <td>0.0</td>\n",
       "      <td>30256000.0</td>\n",
       "    </tr>\n",
       "    <tr>\n",
       "      <th>60076148</th>\n",
       "      <th>20230131</th>\n",
       "      <td>0.0</td>\n",
       "      <td>32048000.0</td>\n",
       "    </tr>\n",
       "    <tr>\n",
       "      <th>69999997</th>\n",
       "      <th>20230131</th>\n",
       "      <td>0.0</td>\n",
       "      <td>20622000.0</td>\n",
       "    </tr>\n",
       "    <tr>\n",
       "      <th>69999998</th>\n",
       "      <th>20230131</th>\n",
       "      <td>0.0</td>\n",
       "      <td>2075500.0</td>\n",
       "    </tr>\n",
       "  </tbody>\n",
       "</table>\n",
       "<p>2655 rows × 2 columns</p>\n",
       "</div>"
      ],
      "text/plain": [
       "                          FYP(-)      FYP(+)\n",
       "Servicing Agent CUTOFF                      \n",
       "60000194        20230131     0.0         0.0\n",
       "60000449        20230131     0.0         0.0\n",
       "60000482        20230131     0.0  16026000.0\n",
       "60000564        20230131     0.0         0.0\n",
       "60000717        20230131     0.0  16141000.0\n",
       "...                          ...         ...\n",
       "60076140        20230131     0.0  10003000.0\n",
       "60076141        20230131     0.0  30256000.0\n",
       "60076148        20230131     0.0  32048000.0\n",
       "69999997        20230131     0.0  20622000.0\n",
       "69999998        20230131     0.0   2075500.0\n",
       "\n",
       "[2655 rows x 2 columns]"
      ]
     },
     "execution_count": 34,
     "metadata": {},
     "output_type": "execute_result"
    }
   ],
   "source": [
    "Sum_FYP = FYP_month\n",
    "Sum_FYP['FYP_Total'] = Sum_FYP['FYP'] + Sum_FYP['Topup Premium']*0.1\n",
    "Sum_FYP.loc[(Sum_FYP['FYP_Total'] <0), 'FYP(-)'] = Sum_FYP['FYP_Total']\n",
    "Sum_FYP.loc[(Sum_FYP['FYP_Total'] >0), 'FYP(+)'] = Sum_FYP['FYP_Total']\n",
    "Sum_FYP = Sum_FYP.groupby(['Servicing Agent','Policy No', 'CUTOFF', 'Count_Policy'])['FYP_Total'].sum()\n",
    "Sum_FYP = Sum_FYP.reset_index()\n",
    "#Rules: Các HD Mark -1=> HD giảm phí, tính FYP(-), các HD đang còn IF, trạng thái 0, 1 => FYP(+)\n",
    "Sum_FYP.loc[(Sum_FYP['Count_Policy'] <0), 'FYP(-)'] = Sum_FYP['FYP_Total']\n",
    "Sum_FYP.loc[(Sum_FYP['Count_Policy'] >=0), 'FYP(+)'] = Sum_FYP['FYP_Total']\n",
    "Sum_FYP = Sum_FYP.groupby(['Servicing Agent', 'CUTOFF'])[['FYP(-)', 'FYP(+)']].sum()\n",
    "Sum_FYP"
   ]
  },
  {
   "cell_type": "markdown",
   "id": "c4dc1fbc",
   "metadata": {},
   "source": [
    "<h4> 6. Tính AFYP <h4>"
   ]
  },
  {
   "cell_type": "markdown",
   "id": "228a240f",
   "metadata": {},
   "source": [
    "<h5> 6.1 Sum lại AFYP <h4>"
   ]
  },
  {
   "cell_type": "code",
   "execution_count": 35,
   "id": "71759135",
   "metadata": {},
   "outputs": [],
   "source": [
    "AFYP = salesdaily\n",
    "Sum_AFYP = AFYP\n",
    "Sum_AFYP = Sum_AFYP.groupby(['Policy_Number'])['AFYP'].sum()\n",
    "Sum_AFYP = Sum_AFYP.reset_index()"
   ]
  },
  {
   "cell_type": "code",
   "execution_count": 36,
   "id": "0a09474a",
   "metadata": {},
   "outputs": [
    {
     "data": {
      "text/html": [
       "<div>\n",
       "<style scoped>\n",
       "    .dataframe tbody tr th:only-of-type {\n",
       "        vertical-align: middle;\n",
       "    }\n",
       "\n",
       "    .dataframe tbody tr th {\n",
       "        vertical-align: top;\n",
       "    }\n",
       "\n",
       "    .dataframe thead th {\n",
       "        text-align: right;\n",
       "    }\n",
       "</style>\n",
       "<table border=\"1\" class=\"dataframe\">\n",
       "  <thead>\n",
       "    <tr style=\"text-align: right;\">\n",
       "      <th></th>\n",
       "      <th>Policy_Number</th>\n",
       "      <th>AFYP</th>\n",
       "    </tr>\n",
       "  </thead>\n",
       "  <tbody>\n",
       "    <tr>\n",
       "      <th>0</th>\n",
       "      <td>80000003</td>\n",
       "      <td>196736000.0</td>\n",
       "    </tr>\n",
       "    <tr>\n",
       "      <th>1</th>\n",
       "      <td>80000006</td>\n",
       "      <td>42400000.0</td>\n",
       "    </tr>\n",
       "    <tr>\n",
       "      <th>2</th>\n",
       "      <td>80000007</td>\n",
       "      <td>42400000.0</td>\n",
       "    </tr>\n",
       "    <tr>\n",
       "      <th>3</th>\n",
       "      <td>80000008</td>\n",
       "      <td>57664000.0</td>\n",
       "    </tr>\n",
       "    <tr>\n",
       "      <th>4</th>\n",
       "      <td>80000012</td>\n",
       "      <td>11332000.0</td>\n",
       "    </tr>\n",
       "    <tr>\n",
       "      <th>...</th>\n",
       "      <td>...</td>\n",
       "      <td>...</td>\n",
       "    </tr>\n",
       "    <tr>\n",
       "      <th>128682</th>\n",
       "      <td>80133067</td>\n",
       "      <td>20235000.0</td>\n",
       "    </tr>\n",
       "    <tr>\n",
       "      <th>128683</th>\n",
       "      <td>80133068</td>\n",
       "      <td>12238000.0</td>\n",
       "    </tr>\n",
       "    <tr>\n",
       "      <th>128684</th>\n",
       "      <td>80133069</td>\n",
       "      <td>0.0</td>\n",
       "    </tr>\n",
       "    <tr>\n",
       "      <th>128685</th>\n",
       "      <td>80133070</td>\n",
       "      <td>19854000.0</td>\n",
       "    </tr>\n",
       "    <tr>\n",
       "      <th>128686</th>\n",
       "      <td>80133071</td>\n",
       "      <td>8066000.0</td>\n",
       "    </tr>\n",
       "  </tbody>\n",
       "</table>\n",
       "<p>128687 rows × 2 columns</p>\n",
       "</div>"
      ],
      "text/plain": [
       "       Policy_Number         AFYP\n",
       "0           80000003  196736000.0\n",
       "1           80000006   42400000.0\n",
       "2           80000007   42400000.0\n",
       "3           80000008   57664000.0\n",
       "4           80000012   11332000.0\n",
       "...              ...          ...\n",
       "128682      80133067   20235000.0\n",
       "128683      80133068   12238000.0\n",
       "128684      80133069          0.0\n",
       "128685      80133070   19854000.0\n",
       "128686      80133071    8066000.0\n",
       "\n",
       "[128687 rows x 2 columns]"
      ]
     },
     "execution_count": 36,
     "metadata": {},
     "output_type": "execute_result"
    }
   ],
   "source": [
    "Sum_AFYP"
   ]
  },
  {
   "cell_type": "markdown",
   "id": "ed712abc",
   "metadata": {},
   "source": [
    "<h5> 6.2 Sum lại Topup để cộng vào AFYP <h4>"
   ]
  },
  {
   "cell_type": "code",
   "execution_count": 37,
   "id": "0235d175",
   "metadata": {},
   "outputs": [
    {
     "data": {
      "text/html": [
       "<div>\n",
       "<style scoped>\n",
       "    .dataframe tbody tr th:only-of-type {\n",
       "        vertical-align: middle;\n",
       "    }\n",
       "\n",
       "    .dataframe tbody tr th {\n",
       "        vertical-align: top;\n",
       "    }\n",
       "\n",
       "    .dataframe thead th {\n",
       "        text-align: right;\n",
       "    }\n",
       "</style>\n",
       "<table border=\"1\" class=\"dataframe\">\n",
       "  <thead>\n",
       "    <tr style=\"text-align: right;\">\n",
       "      <th></th>\n",
       "      <th>Policy No</th>\n",
       "      <th>Count_Policy</th>\n",
       "      <th>Topup Premium</th>\n",
       "    </tr>\n",
       "  </thead>\n",
       "  <tbody>\n",
       "    <tr>\n",
       "      <th>0</th>\n",
       "      <td>80000077</td>\n",
       "      <td>0</td>\n",
       "      <td>0.0</td>\n",
       "    </tr>\n",
       "    <tr>\n",
       "      <th>1</th>\n",
       "      <td>80000089</td>\n",
       "      <td>0</td>\n",
       "      <td>0.0</td>\n",
       "    </tr>\n",
       "    <tr>\n",
       "      <th>2</th>\n",
       "      <td>80000222</td>\n",
       "      <td>0</td>\n",
       "      <td>0.0</td>\n",
       "    </tr>\n",
       "    <tr>\n",
       "      <th>3</th>\n",
       "      <td>80000292</td>\n",
       "      <td>0</td>\n",
       "      <td>0.0</td>\n",
       "    </tr>\n",
       "    <tr>\n",
       "      <th>4</th>\n",
       "      <td>80000301</td>\n",
       "      <td>0</td>\n",
       "      <td>0.0</td>\n",
       "    </tr>\n",
       "    <tr>\n",
       "      <th>...</th>\n",
       "      <td>...</td>\n",
       "      <td>...</td>\n",
       "      <td>...</td>\n",
       "    </tr>\n",
       "    <tr>\n",
       "      <th>4400</th>\n",
       "      <td>80133066</td>\n",
       "      <td>1</td>\n",
       "      <td>0.0</td>\n",
       "    </tr>\n",
       "    <tr>\n",
       "      <th>4401</th>\n",
       "      <td>80133067</td>\n",
       "      <td>1</td>\n",
       "      <td>0.0</td>\n",
       "    </tr>\n",
       "    <tr>\n",
       "      <th>4402</th>\n",
       "      <td>80133068</td>\n",
       "      <td>1</td>\n",
       "      <td>0.0</td>\n",
       "    </tr>\n",
       "    <tr>\n",
       "      <th>4403</th>\n",
       "      <td>80133070</td>\n",
       "      <td>1</td>\n",
       "      <td>0.0</td>\n",
       "    </tr>\n",
       "    <tr>\n",
       "      <th>4404</th>\n",
       "      <td>80133071</td>\n",
       "      <td>1</td>\n",
       "      <td>0.0</td>\n",
       "    </tr>\n",
       "  </tbody>\n",
       "</table>\n",
       "<p>4405 rows × 3 columns</p>\n",
       "</div>"
      ],
      "text/plain": [
       "     Policy No  Count_Policy  Topup Premium\n",
       "0     80000077             0            0.0\n",
       "1     80000089             0            0.0\n",
       "2     80000222             0            0.0\n",
       "3     80000292             0            0.0\n",
       "4     80000301             0            0.0\n",
       "...        ...           ...            ...\n",
       "4400  80133066             1            0.0\n",
       "4401  80133067             1            0.0\n",
       "4402  80133068             1            0.0\n",
       "4403  80133070             1            0.0\n",
       "4404  80133071             1            0.0\n",
       "\n",
       "[4405 rows x 3 columns]"
      ]
     },
     "execution_count": 37,
     "metadata": {},
     "output_type": "execute_result"
    }
   ],
   "source": [
    "Topup_month = FYP_month #đoạn này đã xong phần CC, FYP (-), FYP (+)\n",
    "Topup_month = Topup_month.groupby(['Policy No', 'Count_Policy'])['Topup Premium'].sum()\n",
    "Topup_month = Topup_month.reset_index()\n",
    "Topup_month"
   ]
  },
  {
   "cell_type": "markdown",
   "id": "31e78896",
   "metadata": {},
   "source": [
    "<h5>6.3 Tính tổng AFYP bao gồm Top_Up <h4>"
   ]
  },
  {
   "cell_type": "code",
   "execution_count": 38,
   "id": "cd893ab5",
   "metadata": {},
   "outputs": [
    {
     "data": {
      "text/html": [
       "<div>\n",
       "<style scoped>\n",
       "    .dataframe tbody tr th:only-of-type {\n",
       "        vertical-align: middle;\n",
       "    }\n",
       "\n",
       "    .dataframe tbody tr th {\n",
       "        vertical-align: top;\n",
       "    }\n",
       "\n",
       "    .dataframe thead th {\n",
       "        text-align: right;\n",
       "    }\n",
       "</style>\n",
       "<table border=\"1\" class=\"dataframe\">\n",
       "  <thead>\n",
       "    <tr style=\"text-align: right;\">\n",
       "      <th></th>\n",
       "      <th>Policy_Number</th>\n",
       "      <th>Count_Policy</th>\n",
       "      <th>AFYP_Topup</th>\n",
       "    </tr>\n",
       "  </thead>\n",
       "  <tbody>\n",
       "    <tr>\n",
       "      <th>0</th>\n",
       "      <td>80000003</td>\n",
       "      <td>0.0</td>\n",
       "      <td>196736000.0</td>\n",
       "    </tr>\n",
       "    <tr>\n",
       "      <th>1</th>\n",
       "      <td>80000006</td>\n",
       "      <td>0.0</td>\n",
       "      <td>42400000.0</td>\n",
       "    </tr>\n",
       "    <tr>\n",
       "      <th>2</th>\n",
       "      <td>80000007</td>\n",
       "      <td>0.0</td>\n",
       "      <td>42400000.0</td>\n",
       "    </tr>\n",
       "    <tr>\n",
       "      <th>3</th>\n",
       "      <td>80000008</td>\n",
       "      <td>0.0</td>\n",
       "      <td>57664000.0</td>\n",
       "    </tr>\n",
       "    <tr>\n",
       "      <th>4</th>\n",
       "      <td>80000012</td>\n",
       "      <td>0.0</td>\n",
       "      <td>11332000.0</td>\n",
       "    </tr>\n",
       "    <tr>\n",
       "      <th>...</th>\n",
       "      <td>...</td>\n",
       "      <td>...</td>\n",
       "      <td>...</td>\n",
       "    </tr>\n",
       "    <tr>\n",
       "      <th>128682</th>\n",
       "      <td>80133067</td>\n",
       "      <td>1.0</td>\n",
       "      <td>20235000.0</td>\n",
       "    </tr>\n",
       "    <tr>\n",
       "      <th>128683</th>\n",
       "      <td>80133068</td>\n",
       "      <td>1.0</td>\n",
       "      <td>12238000.0</td>\n",
       "    </tr>\n",
       "    <tr>\n",
       "      <th>128684</th>\n",
       "      <td>80133069</td>\n",
       "      <td>0.0</td>\n",
       "      <td>0.0</td>\n",
       "    </tr>\n",
       "    <tr>\n",
       "      <th>128685</th>\n",
       "      <td>80133070</td>\n",
       "      <td>1.0</td>\n",
       "      <td>19854000.0</td>\n",
       "    </tr>\n",
       "    <tr>\n",
       "      <th>128686</th>\n",
       "      <td>80133071</td>\n",
       "      <td>1.0</td>\n",
       "      <td>8066000.0</td>\n",
       "    </tr>\n",
       "  </tbody>\n",
       "</table>\n",
       "<p>128687 rows × 3 columns</p>\n",
       "</div>"
      ],
      "text/plain": [
       "       Policy_Number  Count_Policy   AFYP_Topup\n",
       "0           80000003           0.0  196736000.0\n",
       "1           80000006           0.0   42400000.0\n",
       "2           80000007           0.0   42400000.0\n",
       "3           80000008           0.0   57664000.0\n",
       "4           80000012           0.0   11332000.0\n",
       "...              ...           ...          ...\n",
       "128682      80133067           1.0   20235000.0\n",
       "128683      80133068           1.0   12238000.0\n",
       "128684      80133069           0.0          0.0\n",
       "128685      80133070           1.0   19854000.0\n",
       "128686      80133071           1.0    8066000.0\n",
       "\n",
       "[128687 rows x 3 columns]"
      ]
     },
     "execution_count": 38,
     "metadata": {},
     "output_type": "execute_result"
    }
   ],
   "source": [
    "AFYP_Topup = pd.merge(Sum_AFYP, Topup_month, left_on = 'Policy_Number', right_on ='Policy No', how = 'left')\n",
    "AFYP_Topup = AFYP_Topup[['Policy_Number', 'AFYP', 'Topup Premium', 'Count_Policy']].fillna(0)\n",
    "AFYP_Topup['AFYP_Topup'] = np.where(AFYP_Topup['Count_Policy'] >=0 , AFYP_Topup['AFYP'] + AFYP_Topup['Topup Premium'] *0.1,\n",
    "                           AFYP_Topup['AFYP'] + AFYP_Topup['Topup Premium'] *-0.1)     \n",
    "AFYP_Topup = AFYP_Topup[['Policy_Number', 'Count_Policy', 'AFYP_Topup']]\n",
    "AFYP_Topup['AFYP_Topup'] = AFYP_Topup['AFYP_Topup'].abs()\n",
    "AFYP_Topup"
   ]
  },
  {
   "cell_type": "markdown",
   "id": "ade0cc74",
   "metadata": {},
   "source": [
    "<h5> 6.4 Lấy thông tin Servicing Agent với HD <h4>"
   ]
  },
  {
   "cell_type": "code",
   "execution_count": 39,
   "id": "aab376af",
   "metadata": {},
   "outputs": [],
   "source": [
    "Final_AFYP = FYP_month[['Servicing Agent', 'Policy No']].drop_duplicates()\n",
    "Final_AFYP = pd.merge(AFYP_Topup, Final_AFYP, left_on = 'Policy_Number', right_on = 'Policy No', how = 'left')\n",
    "Final_AFYP = Final_AFYP[['Servicing Agent', 'Policy_Number', 'Count_Policy', 'AFYP_Topup']]"
   ]
  },
  {
   "cell_type": "markdown",
   "id": "cad9cade",
   "metadata": {},
   "source": [
    "<h5>6.5 Sum kết quả  AFYP lại (Nếu check AFYP thì check ở đây)"
   ]
  },
  {
   "cell_type": "code",
   "execution_count": 40,
   "id": "99c5ddf5",
   "metadata": {},
   "outputs": [],
   "source": [
    "Complete_AFYP = Final_AFYP\n",
    "Complete_AFYP.loc[Complete_AFYP['Count_Policy'] >0, 'AFYP(+)'] = Complete_AFYP['AFYP_Topup']\n",
    "Complete_AFYP.loc[Complete_AFYP['Count_Policy'] <0, 'AFYP(-)'] = Complete_AFYP['AFYP_Topup'] * -1\n",
    "Complete_AFYP = Complete_AFYP.groupby(['Servicing Agent'])[['AFYP(+)', 'AFYP(-)']].sum()\n",
    "Complete_AFYP.to_csv('checkAFYP.csv')"
   ]
  },
  {
   "cell_type": "markdown",
   "id": "53e4063e",
   "metadata": {},
   "source": [
    "<h4>7. Tính PY2 <h4>"
   ]
  },
  {
   "cell_type": "code",
   "execution_count": 41,
   "id": "01581223",
   "metadata": {},
   "outputs": [],
   "source": [
    "py2_table = py2"
   ]
  },
  {
   "cell_type": "code",
   "execution_count": 52,
   "id": "4766ca20",
   "metadata": {},
   "outputs": [],
   "source": [
    "py2_month = py2_table.groupby(['AGENT NO'])[['Y2 ACTUAL PREM', 'Y2 EXPECTED PREM']].sum()\n",
    "py2_month['PY2'] = np.where((py2_month['Y2 ACTUAL PREM'] / py2_month['Y2 EXPECTED PREM']) > 1, 1, \n",
    "py2_month['Y2 ACTUAL PREM'] / py2_month['Y2 EXPECTED PREM'])\n",
    "py2_month = py2_month.reset_index()"
   ]
  },
  {
   "cell_type": "code",
   "execution_count": 53,
   "id": "ad891aea",
   "metadata": {},
   "outputs": [
    {
     "data": {
      "text/plain": [
       "Index(['AGENT NO', 'Y2 ACTUAL PREM', 'Y2 EXPECTED PREM', 'PY2'], dtype='object')"
      ]
     },
     "execution_count": 53,
     "metadata": {},
     "output_type": "execute_result"
    }
   ],
   "source": [
    "py2_month.columns"
   ]
  },
  {
   "cell_type": "markdown",
   "id": "633c6762",
   "metadata": {},
   "source": [
    "<h4> 8. Tính Base và Rider <h4>"
   ]
  },
  {
   "cell_type": "markdown",
   "id": "fc6fa817",
   "metadata": {},
   "source": [
    "<h5> 8.1 Check phân loại Base/ Rider tại đây!"
   ]
  },
  {
   "cell_type": "code",
   "execution_count": 43,
   "id": "45a4e35b",
   "metadata": {},
   "outputs": [
    {
     "data": {
      "text/html": [
       "<div>\n",
       "<style scoped>\n",
       "    .dataframe tbody tr th:only-of-type {\n",
       "        vertical-align: middle;\n",
       "    }\n",
       "\n",
       "    .dataframe tbody tr th {\n",
       "        vertical-align: top;\n",
       "    }\n",
       "\n",
       "    .dataframe thead th {\n",
       "        text-align: right;\n",
       "    }\n",
       "</style>\n",
       "<table border=\"1\" class=\"dataframe\">\n",
       "  <thead>\n",
       "    <tr style=\"text-align: right;\">\n",
       "      <th></th>\n",
       "      <th>Issuing Agent</th>\n",
       "      <th>PolicyNum</th>\n",
       "      <th>Product Code</th>\n",
       "      <th>Count_Policy</th>\n",
       "      <th>Base/Rider</th>\n",
       "    </tr>\n",
       "  </thead>\n",
       "  <tbody>\n",
       "    <tr>\n",
       "      <th>2179</th>\n",
       "      <td>60059033</td>\n",
       "      <td>80132217</td>\n",
       "      <td>URC5</td>\n",
       "      <td>1</td>\n",
       "      <td>Rider</td>\n",
       "    </tr>\n",
       "    <tr>\n",
       "      <th>2180</th>\n",
       "      <td>60059033</td>\n",
       "      <td>80132217</td>\n",
       "      <td>RHB1</td>\n",
       "      <td>1</td>\n",
       "      <td>Rider</td>\n",
       "    </tr>\n",
       "    <tr>\n",
       "      <th>2181</th>\n",
       "      <td>60059033</td>\n",
       "      <td>80132217</td>\n",
       "      <td>URA5</td>\n",
       "      <td>1</td>\n",
       "      <td>Rider</td>\n",
       "    </tr>\n",
       "    <tr>\n",
       "      <th>2182</th>\n",
       "      <td>60059033</td>\n",
       "      <td>80132217</td>\n",
       "      <td>UL05</td>\n",
       "      <td>1</td>\n",
       "      <td>Base</td>\n",
       "    </tr>\n",
       "    <tr>\n",
       "      <th>2183</th>\n",
       "      <td>60059033</td>\n",
       "      <td>80132217</td>\n",
       "      <td>RHS1</td>\n",
       "      <td>1</td>\n",
       "      <td>Rider</td>\n",
       "    </tr>\n",
       "    <tr>\n",
       "      <th>...</th>\n",
       "      <td>...</td>\n",
       "      <td>...</td>\n",
       "      <td>...</td>\n",
       "      <td>...</td>\n",
       "      <td>...</td>\n",
       "    </tr>\n",
       "    <tr>\n",
       "      <th>18752</th>\n",
       "      <td>60069832</td>\n",
       "      <td>80131896</td>\n",
       "      <td>UL06</td>\n",
       "      <td>1</td>\n",
       "      <td>Base</td>\n",
       "    </tr>\n",
       "    <tr>\n",
       "      <th>18753</th>\n",
       "      <td>60069832</td>\n",
       "      <td>80131896</td>\n",
       "      <td>URA5</td>\n",
       "      <td>1</td>\n",
       "      <td>Rider</td>\n",
       "    </tr>\n",
       "    <tr>\n",
       "      <th>18754</th>\n",
       "      <td>60069832</td>\n",
       "      <td>80131896</td>\n",
       "      <td>URC5</td>\n",
       "      <td>1</td>\n",
       "      <td>Rider</td>\n",
       "    </tr>\n",
       "    <tr>\n",
       "      <th>18756</th>\n",
       "      <td>60040745</td>\n",
       "      <td>80132240</td>\n",
       "      <td>URA5</td>\n",
       "      <td>1</td>\n",
       "      <td>Rider</td>\n",
       "    </tr>\n",
       "    <tr>\n",
       "      <th>18757</th>\n",
       "      <td>60040745</td>\n",
       "      <td>80132240</td>\n",
       "      <td>URC5</td>\n",
       "      <td>1</td>\n",
       "      <td>Rider</td>\n",
       "    </tr>\n",
       "  </tbody>\n",
       "</table>\n",
       "<p>6393 rows × 5 columns</p>\n",
       "</div>"
      ],
      "text/plain": [
       "      Issuing Agent PolicyNum Product Code  Count_Policy Base/Rider\n",
       "2179       60059033  80132217         URC5             1      Rider\n",
       "2180       60059033  80132217         RHB1             1      Rider\n",
       "2181       60059033  80132217         URA5             1      Rider\n",
       "2182       60059033  80132217         UL05             1       Base\n",
       "2183       60059033  80132217         RHS1             1      Rider\n",
       "...             ...       ...          ...           ...        ...\n",
       "18752      60069832  80131896         UL06             1       Base\n",
       "18753      60069832  80131896         URA5             1      Rider\n",
       "18754      60069832  80131896         URC5             1      Rider\n",
       "18756      60040745  80132240         URA5             1      Rider\n",
       "18757      60040745  80132240         URC5             1      Rider\n",
       "\n",
       "[6393 rows x 5 columns]"
      ]
     },
     "execution_count": 43,
     "metadata": {},
     "output_type": "execute_result"
    }
   ],
   "source": [
    "base_rider = PREM_month\n",
    "base_rider = base_rider[['Issuing Agent','Policy No' , 'Product Code']].rename(columns= {'Policy No': 'PolicyNum', \n",
    "                                                                            'Issuing Agent': 'Agent_Issue'})\n",
    "#Join lấy STT hợp đồng\n",
    "base_rider = pd.merge(base_rider, Sum_CC, left_on = 'PolicyNum', right_on = 'Policy No', how = 'left')\n",
    "base_rider = base_rider[['Issuing Agent', 'PolicyNum', 'Product Code', 'Count_Policy']]\n",
    "base_rider = base_rider[base_rider['Count_Policy'] >0]\n",
    "base_rider['Base/Rider'] = np.where(base_rider['Product Code'].isin(['EC01', 'EC02', 'EE01', 'EE02', 'EE03', 'EE04', 'EN03', 'EN04', 'EN05', 'EN06', 'EN07',\\\n",
    "'ES01', 'TL01', 'UL01', 'UL02', 'UL03', 'UL04', 'UL05', 'UL06', 'UL81', 'UL82', 'UL83']), 'Base', 'Rider')\n",
    "base_rider"
   ]
  },
  {
   "cell_type": "markdown",
   "id": "e07808fb",
   "metadata": {},
   "source": [
    "<h5>8.2 Count lại theo Đại lý phát hành "
   ]
  },
  {
   "cell_type": "markdown",
   "id": "009fad8d",
   "metadata": {},
   "source": [
    "<h6> 8.2.1 Tính Base"
   ]
  },
  {
   "cell_type": "code",
   "execution_count": 44,
   "id": "5803bf6e",
   "metadata": {},
   "outputs": [
    {
     "data": {
      "text/html": [
       "<div>\n",
       "<style scoped>\n",
       "    .dataframe tbody tr th:only-of-type {\n",
       "        vertical-align: middle;\n",
       "    }\n",
       "\n",
       "    .dataframe tbody tr th {\n",
       "        vertical-align: top;\n",
       "    }\n",
       "\n",
       "    .dataframe thead th {\n",
       "        text-align: right;\n",
       "    }\n",
       "</style>\n",
       "<table border=\"1\" class=\"dataframe\">\n",
       "  <thead>\n",
       "    <tr style=\"text-align: right;\">\n",
       "      <th></th>\n",
       "      <th>Issuing Agent</th>\n",
       "      <th>Base</th>\n",
       "    </tr>\n",
       "  </thead>\n",
       "  <tbody>\n",
       "    <tr>\n",
       "      <th>0</th>\n",
       "      <td>60000482</td>\n",
       "      <td>1</td>\n",
       "    </tr>\n",
       "    <tr>\n",
       "      <th>1</th>\n",
       "      <td>60000717</td>\n",
       "      <td>1</td>\n",
       "    </tr>\n",
       "    <tr>\n",
       "      <th>2</th>\n",
       "      <td>60000727</td>\n",
       "      <td>3</td>\n",
       "    </tr>\n",
       "    <tr>\n",
       "      <th>3</th>\n",
       "      <td>60005660</td>\n",
       "      <td>1</td>\n",
       "    </tr>\n",
       "    <tr>\n",
       "      <th>4</th>\n",
       "      <td>60005897</td>\n",
       "      <td>1</td>\n",
       "    </tr>\n",
       "    <tr>\n",
       "      <th>...</th>\n",
       "      <td>...</td>\n",
       "      <td>...</td>\n",
       "    </tr>\n",
       "    <tr>\n",
       "      <th>1070</th>\n",
       "      <td>60076139</td>\n",
       "      <td>1</td>\n",
       "    </tr>\n",
       "    <tr>\n",
       "      <th>1071</th>\n",
       "      <td>60076140</td>\n",
       "      <td>1</td>\n",
       "    </tr>\n",
       "    <tr>\n",
       "      <th>1072</th>\n",
       "      <td>60076141</td>\n",
       "      <td>2</td>\n",
       "    </tr>\n",
       "    <tr>\n",
       "      <th>1073</th>\n",
       "      <td>60076148</td>\n",
       "      <td>2</td>\n",
       "    </tr>\n",
       "    <tr>\n",
       "      <th>1074</th>\n",
       "      <td>69999997</td>\n",
       "      <td>1</td>\n",
       "    </tr>\n",
       "  </tbody>\n",
       "</table>\n",
       "<p>1075 rows × 2 columns</p>\n",
       "</div>"
      ],
      "text/plain": [
       "     Issuing Agent  Base\n",
       "0         60000482     1\n",
       "1         60000717     1\n",
       "2         60000727     3\n",
       "3         60005660     1\n",
       "4         60005897     1\n",
       "...            ...   ...\n",
       "1070      60076139     1\n",
       "1071      60076140     1\n",
       "1072      60076141     2\n",
       "1073      60076148     2\n",
       "1074      69999997     1\n",
       "\n",
       "[1075 rows x 2 columns]"
      ]
     },
     "execution_count": 44,
     "metadata": {},
     "output_type": "execute_result"
    }
   ],
   "source": [
    "Sum_base_rider = base_rider\n",
    "#Tính Base\n",
    "Sum_base = Sum_base_rider[Sum_base_rider['Base/Rider'] == 'Base']\n",
    "Sum_base = Sum_base.groupby(['Issuing Agent'])['Base/Rider'].count()\n",
    "Sum_base = Sum_base.reset_index().rename(columns={'Base/Rider':'Base'})\n",
    "Sum_base"
   ]
  },
  {
   "cell_type": "markdown",
   "id": "9e04a57e",
   "metadata": {},
   "source": [
    "<h6>8.2.2 Tính Rider"
   ]
  },
  {
   "cell_type": "code",
   "execution_count": 45,
   "id": "044978b8",
   "metadata": {},
   "outputs": [
    {
     "data": {
      "text/html": [
       "<div>\n",
       "<style scoped>\n",
       "    .dataframe tbody tr th:only-of-type {\n",
       "        vertical-align: middle;\n",
       "    }\n",
       "\n",
       "    .dataframe tbody tr th {\n",
       "        vertical-align: top;\n",
       "    }\n",
       "\n",
       "    .dataframe thead th {\n",
       "        text-align: right;\n",
       "    }\n",
       "</style>\n",
       "<table border=\"1\" class=\"dataframe\">\n",
       "  <thead>\n",
       "    <tr style=\"text-align: right;\">\n",
       "      <th></th>\n",
       "      <th>Issuing Agent</th>\n",
       "      <th>Rider</th>\n",
       "    </tr>\n",
       "  </thead>\n",
       "  <tbody>\n",
       "    <tr>\n",
       "      <th>0</th>\n",
       "      <td>60000482</td>\n",
       "      <td>3</td>\n",
       "    </tr>\n",
       "    <tr>\n",
       "      <th>1</th>\n",
       "      <td>60000717</td>\n",
       "      <td>3</td>\n",
       "    </tr>\n",
       "    <tr>\n",
       "      <th>2</th>\n",
       "      <td>60000727</td>\n",
       "      <td>7</td>\n",
       "    </tr>\n",
       "    <tr>\n",
       "      <th>3</th>\n",
       "      <td>60005660</td>\n",
       "      <td>4</td>\n",
       "    </tr>\n",
       "    <tr>\n",
       "      <th>4</th>\n",
       "      <td>60005897</td>\n",
       "      <td>5</td>\n",
       "    </tr>\n",
       "    <tr>\n",
       "      <th>...</th>\n",
       "      <td>...</td>\n",
       "      <td>...</td>\n",
       "    </tr>\n",
       "    <tr>\n",
       "      <th>908</th>\n",
       "      <td>60076136</td>\n",
       "      <td>2</td>\n",
       "    </tr>\n",
       "    <tr>\n",
       "      <th>909</th>\n",
       "      <td>60076137</td>\n",
       "      <td>4</td>\n",
       "    </tr>\n",
       "    <tr>\n",
       "      <th>910</th>\n",
       "      <td>60076141</td>\n",
       "      <td>2</td>\n",
       "    </tr>\n",
       "    <tr>\n",
       "      <th>911</th>\n",
       "      <td>60076148</td>\n",
       "      <td>9</td>\n",
       "    </tr>\n",
       "    <tr>\n",
       "      <th>912</th>\n",
       "      <td>69999997</td>\n",
       "      <td>5</td>\n",
       "    </tr>\n",
       "  </tbody>\n",
       "</table>\n",
       "<p>913 rows × 2 columns</p>\n",
       "</div>"
      ],
      "text/plain": [
       "    Issuing Agent  Rider\n",
       "0        60000482      3\n",
       "1        60000717      3\n",
       "2        60000727      7\n",
       "3        60005660      4\n",
       "4        60005897      5\n",
       "..            ...    ...\n",
       "908      60076136      2\n",
       "909      60076137      4\n",
       "910      60076141      2\n",
       "911      60076148      9\n",
       "912      69999997      5\n",
       "\n",
       "[913 rows x 2 columns]"
      ]
     },
     "execution_count": 45,
     "metadata": {},
     "output_type": "execute_result"
    }
   ],
   "source": [
    "Sum_base_rider = base_rider\n",
    "#Tính Base\n",
    "Sum_rider = Sum_base_rider[Sum_base_rider['Base/Rider'] == 'Rider']\n",
    "Sum_rider = Sum_rider.groupby(['Issuing Agent'])['Base/Rider'].count()\n",
    "Sum_rider = Sum_rider.reset_index().rename(columns={'Base/Rider':'Rider'})\n",
    "Sum_rider"
   ]
  },
  {
   "cell_type": "markdown",
   "id": "fb8784bf",
   "metadata": {},
   "source": [
    "<h6>8.2.3 Tính Final Base/Rider"
   ]
  },
  {
   "cell_type": "code",
   "execution_count": 46,
   "id": "917c1d54",
   "metadata": {},
   "outputs": [
    {
     "data": {
      "text/html": [
       "<div>\n",
       "<style scoped>\n",
       "    .dataframe tbody tr th:only-of-type {\n",
       "        vertical-align: middle;\n",
       "    }\n",
       "\n",
       "    .dataframe tbody tr th {\n",
       "        vertical-align: top;\n",
       "    }\n",
       "\n",
       "    .dataframe thead th {\n",
       "        text-align: right;\n",
       "    }\n",
       "</style>\n",
       "<table border=\"1\" class=\"dataframe\">\n",
       "  <thead>\n",
       "    <tr style=\"text-align: right;\">\n",
       "      <th></th>\n",
       "      <th>Issuing Agent</th>\n",
       "      <th>Base</th>\n",
       "      <th>Rider</th>\n",
       "      <th>%Rider/Base</th>\n",
       "    </tr>\n",
       "  </thead>\n",
       "  <tbody>\n",
       "    <tr>\n",
       "      <th>0</th>\n",
       "      <td>60000482</td>\n",
       "      <td>1</td>\n",
       "      <td>3.0</td>\n",
       "      <td>3.00</td>\n",
       "    </tr>\n",
       "    <tr>\n",
       "      <th>1</th>\n",
       "      <td>60000717</td>\n",
       "      <td>1</td>\n",
       "      <td>3.0</td>\n",
       "      <td>3.00</td>\n",
       "    </tr>\n",
       "    <tr>\n",
       "      <th>2</th>\n",
       "      <td>60000727</td>\n",
       "      <td>3</td>\n",
       "      <td>7.0</td>\n",
       "      <td>2.33</td>\n",
       "    </tr>\n",
       "    <tr>\n",
       "      <th>3</th>\n",
       "      <td>60005660</td>\n",
       "      <td>1</td>\n",
       "      <td>4.0</td>\n",
       "      <td>4.00</td>\n",
       "    </tr>\n",
       "    <tr>\n",
       "      <th>4</th>\n",
       "      <td>60005897</td>\n",
       "      <td>1</td>\n",
       "      <td>5.0</td>\n",
       "      <td>5.00</td>\n",
       "    </tr>\n",
       "    <tr>\n",
       "      <th>...</th>\n",
       "      <td>...</td>\n",
       "      <td>...</td>\n",
       "      <td>...</td>\n",
       "      <td>...</td>\n",
       "    </tr>\n",
       "    <tr>\n",
       "      <th>1070</th>\n",
       "      <td>60076139</td>\n",
       "      <td>1</td>\n",
       "      <td>0.0</td>\n",
       "      <td>0.00</td>\n",
       "    </tr>\n",
       "    <tr>\n",
       "      <th>1071</th>\n",
       "      <td>60076140</td>\n",
       "      <td>1</td>\n",
       "      <td>0.0</td>\n",
       "      <td>0.00</td>\n",
       "    </tr>\n",
       "    <tr>\n",
       "      <th>1072</th>\n",
       "      <td>60076141</td>\n",
       "      <td>2</td>\n",
       "      <td>2.0</td>\n",
       "      <td>1.00</td>\n",
       "    </tr>\n",
       "    <tr>\n",
       "      <th>1073</th>\n",
       "      <td>60076148</td>\n",
       "      <td>2</td>\n",
       "      <td>9.0</td>\n",
       "      <td>4.50</td>\n",
       "    </tr>\n",
       "    <tr>\n",
       "      <th>1074</th>\n",
       "      <td>69999997</td>\n",
       "      <td>1</td>\n",
       "      <td>5.0</td>\n",
       "      <td>5.00</td>\n",
       "    </tr>\n",
       "  </tbody>\n",
       "</table>\n",
       "<p>1075 rows × 4 columns</p>\n",
       "</div>"
      ],
      "text/plain": [
       "     Issuing Agent  Base  Rider  %Rider/Base\n",
       "0         60000482     1    3.0         3.00\n",
       "1         60000717     1    3.0         3.00\n",
       "2         60000727     3    7.0         2.33\n",
       "3         60005660     1    4.0         4.00\n",
       "4         60005897     1    5.0         5.00\n",
       "...            ...   ...    ...          ...\n",
       "1070      60076139     1    0.0         0.00\n",
       "1071      60076140     1    0.0         0.00\n",
       "1072      60076141     2    2.0         1.00\n",
       "1073      60076148     2    9.0         4.50\n",
       "1074      69999997     1    5.0         5.00\n",
       "\n",
       "[1075 rows x 4 columns]"
      ]
     },
     "execution_count": 46,
     "metadata": {},
     "output_type": "execute_result"
    }
   ],
   "source": [
    "Final_Base_Rider = pd.merge(Sum_base, Sum_rider, on = 'Issuing Agent', how = 'left' )\n",
    "Final_Base_Rider = Final_Base_Rider.fillna(0)\n",
    "Final_Base_Rider['%Rider/Base'] = round(Final_Base_Rider['Rider'] / Final_Base_Rider['Base'], 2)\n",
    "Final_Base_Rider"
   ]
  },
  {
   "cell_type": "markdown",
   "id": "87c00579",
   "metadata": {},
   "source": [
    "<h4> 9. Xét trạng thái Agent <h4>"
   ]
  },
  {
   "cell_type": "code",
   "execution_count": 47,
   "id": "f2ca2d77",
   "metadata": {},
   "outputs": [],
   "source": [
    "agent_table = agent_info\n",
    "agent_table['Segment'] = np.where(\n",
    "agent_table['Agent_Name'].str[:5] == 'DUMMY', 'AL Trainee', \n",
    "np.where(agent_table['License_No'] == 'TAPSU', 'Agent Trainee',\n",
    "np.where(agent_table['SFC'] == 'S', 'SFC',\n",
    "np.where(agent_table['Area_Name'].isin(['DR1', 'HO1']), 'PHL',\n",
    "np.where(agent_table['Grade'].isin(['GM', 'RM', 'DM', 'FM']), 'AL', 'FC' )\n",
    "        ))))\n"
   ]
  },
  {
   "cell_type": "code",
   "execution_count": 48,
   "id": "7d30482e",
   "metadata": {},
   "outputs": [],
   "source": [
    "day_set = Monthly_Premium[['CUTOFF', 'Start_Month', 'Date_On_Set']].drop_duplicates()\n",
    "agent_T = pd.merge(agent_table, day_set, on = 'CUTOFF', how ='left')\n",
    "agent_T[['Date_Appointed', 'Date_On_Set']] = agent_T[['Date_Appointed', 'Date_On_Set']].apply(pd.to_datetime) \n",
    "agent_T['Rookie'] = np.where(\n",
    "(agent_T['Date_On_Set'] - agent_T['Date_Appointed']).dt.days < 30, '30',\n",
    "np.where( ((agent_T['Date_On_Set'] - agent_T['Date_Appointed']).dt.days > 30) &\n",
    "    ((agent_T['Date_On_Set'] - agent_T['Date_Appointed']).dt.days < 60), '60', \n",
    "np.where( ((agent_T['Date_On_Set'] - agent_T['Date_Appointed']).dt.days > 60) &\n",
    "    ((agent_T['Date_On_Set'] - agent_T['Date_Appointed']).dt.days < 90), '90', '' )        \n",
    "        ))"
   ]
  },
  {
   "cell_type": "markdown",
   "id": "ffdc6a17",
   "metadata": {},
   "source": [
    "<h4> 10. Hoàn thành thông tin cá nhân của Agent <h4>"
   ]
  },
  {
   "cell_type": "code",
   "execution_count": 49,
   "id": "329f5653",
   "metadata": {},
   "outputs": [
    {
     "data": {
      "text/html": [
       "<div>\n",
       "<style scoped>\n",
       "    .dataframe tbody tr th:only-of-type {\n",
       "        vertical-align: middle;\n",
       "    }\n",
       "\n",
       "    .dataframe tbody tr th {\n",
       "        vertical-align: top;\n",
       "    }\n",
       "\n",
       "    .dataframe thead th {\n",
       "        text-align: right;\n",
       "    }\n",
       "</style>\n",
       "<table border=\"1\" class=\"dataframe\">\n",
       "  <thead>\n",
       "    <tr style=\"text-align: right;\">\n",
       "      <th></th>\n",
       "      <th>Period</th>\n",
       "      <th>Agent_Number</th>\n",
       "      <th>Agent_Name</th>\n",
       "      <th>Grade</th>\n",
       "      <th>Agent_Status</th>\n",
       "      <th>Date_Appointed</th>\n",
       "      <th>Segmentation</th>\n",
       "      <th>Rookie</th>\n",
       "    </tr>\n",
       "  </thead>\n",
       "  <tbody>\n",
       "    <tr>\n",
       "      <th>0</th>\n",
       "      <td>202301</td>\n",
       "      <td>60060890</td>\n",
       "      <td>NGUYỄN HOÀNG ANH</td>\n",
       "      <td>FC</td>\n",
       "      <td>Enforce</td>\n",
       "      <td>2022-06-20</td>\n",
       "      <td>FC</td>\n",
       "      <td></td>\n",
       "    </tr>\n",
       "    <tr>\n",
       "      <th>1</th>\n",
       "      <td>202301</td>\n",
       "      <td>60060917</td>\n",
       "      <td>PHẠM BÁ KHƯƠNG</td>\n",
       "      <td>FC</td>\n",
       "      <td>Terminated</td>\n",
       "      <td>2022-06-20</td>\n",
       "      <td>FC</td>\n",
       "      <td></td>\n",
       "    </tr>\n",
       "    <tr>\n",
       "      <th>2</th>\n",
       "      <td>202301</td>\n",
       "      <td>60021398</td>\n",
       "      <td>NGUYỄN THỊ MẬU</td>\n",
       "      <td>FC</td>\n",
       "      <td>Terminated</td>\n",
       "      <td>2019-06-19</td>\n",
       "      <td>FC</td>\n",
       "      <td></td>\n",
       "    </tr>\n",
       "    <tr>\n",
       "      <th>3</th>\n",
       "      <td>202301</td>\n",
       "      <td>60055999</td>\n",
       "      <td>NGUYỄN THỊ BIÊN</td>\n",
       "      <td>FC</td>\n",
       "      <td>Enforce</td>\n",
       "      <td>2022-01-25</td>\n",
       "      <td>FC</td>\n",
       "      <td></td>\n",
       "    </tr>\n",
       "    <tr>\n",
       "      <th>4</th>\n",
       "      <td>202301</td>\n",
       "      <td>60075691</td>\n",
       "      <td>LÊ THỊ KHÁNH LY</td>\n",
       "      <td>FC</td>\n",
       "      <td>Enforce</td>\n",
       "      <td>2022-12-29</td>\n",
       "      <td>FC</td>\n",
       "      <td>60</td>\n",
       "    </tr>\n",
       "    <tr>\n",
       "      <th>...</th>\n",
       "      <td>...</td>\n",
       "      <td>...</td>\n",
       "      <td>...</td>\n",
       "      <td>...</td>\n",
       "      <td>...</td>\n",
       "      <td>...</td>\n",
       "      <td>...</td>\n",
       "      <td>...</td>\n",
       "    </tr>\n",
       "    <tr>\n",
       "      <th>75901</th>\n",
       "      <td>202301</td>\n",
       "      <td>60006002</td>\n",
       "      <td>NGÔ QUỐC TRUNG</td>\n",
       "      <td>FC</td>\n",
       "      <td>Terminated</td>\n",
       "      <td>2016-09-26</td>\n",
       "      <td>FC</td>\n",
       "      <td></td>\n",
       "    </tr>\n",
       "    <tr>\n",
       "      <th>75902</th>\n",
       "      <td>202301</td>\n",
       "      <td>60074423</td>\n",
       "      <td>PHAN THỊ TUYẾT HƯƠNG</td>\n",
       "      <td>FC</td>\n",
       "      <td>Enforce</td>\n",
       "      <td>2022-12-12</td>\n",
       "      <td>FC</td>\n",
       "      <td>60</td>\n",
       "    </tr>\n",
       "    <tr>\n",
       "      <th>75903</th>\n",
       "      <td>202301</td>\n",
       "      <td>60016239</td>\n",
       "      <td>LÊ THỊ PHƯỚC</td>\n",
       "      <td>FC</td>\n",
       "      <td>Terminated</td>\n",
       "      <td>2018-08-24</td>\n",
       "      <td>FC</td>\n",
       "      <td></td>\n",
       "    </tr>\n",
       "    <tr>\n",
       "      <th>75904</th>\n",
       "      <td>202301</td>\n",
       "      <td>60005479</td>\n",
       "      <td>HỒ NGỌC THÔNG</td>\n",
       "      <td>FC</td>\n",
       "      <td>Terminated</td>\n",
       "      <td>2016-08-25</td>\n",
       "      <td>FC</td>\n",
       "      <td></td>\n",
       "    </tr>\n",
       "    <tr>\n",
       "      <th>75905</th>\n",
       "      <td>202301</td>\n",
       "      <td>60042462</td>\n",
       "      <td>NGUYỄN THỊ XUÂN</td>\n",
       "      <td>FC</td>\n",
       "      <td>Enforce</td>\n",
       "      <td>2021-06-11</td>\n",
       "      <td>FC</td>\n",
       "      <td></td>\n",
       "    </tr>\n",
       "  </tbody>\n",
       "</table>\n",
       "<p>75906 rows × 8 columns</p>\n",
       "</div>"
      ],
      "text/plain": [
       "       Period Agent_Number              Agent_Name Grade Agent_Status  \\\n",
       "0      202301     60060890      NGUYỄN HOÀNG ANH    FC      Enforce   \n",
       "1      202301     60060917        PHẠM BÁ KHƯƠNG    FC   Terminated   \n",
       "2      202301     60021398       NGUYỄN THỊ MẬU    FC   Terminated   \n",
       "3      202301     60055999       NGUYỄN THỊ BIÊN    FC      Enforce   \n",
       "4      202301     60075691       LÊ THỊ KHÁNH LY    FC      Enforce   \n",
       "...       ...          ...                     ...   ...          ...   \n",
       "75901  202301     60006002         NGÔ QUỐC TRUNG    FC   Terminated   \n",
       "75902  202301     60074423  PHAN THỊ TUYẾT HƯƠNG    FC      Enforce   \n",
       "75903  202301     60016239          LÊ THỊ PHƯỚC    FC   Terminated   \n",
       "75904  202301     60005479         HỒ NGỌC THÔNG    FC   Terminated   \n",
       "75905  202301     60042462       NGUYỄN THỊ XUÂN    FC      Enforce   \n",
       "\n",
       "      Date_Appointed Segmentation Rookie  \n",
       "0         2022-06-20           FC         \n",
       "1         2022-06-20           FC         \n",
       "2         2019-06-19           FC         \n",
       "3         2022-01-25           FC         \n",
       "4         2022-12-29           FC     60  \n",
       "...              ...          ...    ...  \n",
       "75901     2016-09-26           FC         \n",
       "75902     2022-12-12           FC     60  \n",
       "75903     2018-08-24           FC         \n",
       "75904     2016-08-25           FC         \n",
       "75905     2021-06-11           FC         \n",
       "\n",
       "[75906 rows x 8 columns]"
      ]
     },
     "execution_count": 49,
     "metadata": {},
     "output_type": "execute_result"
    }
   ],
   "source": [
    "Individual_KPI = agent_T\n",
    "Individual_KPI = Individual_KPI[['CUTOFF', 'Agent_Number', 'Agent_Name', 'Grade', 'Agent_Status', 'Date_Appointed', \n",
    "                'Segment', 'Rookie']].rename(columns={'Segment':'Segmentation'})\n",
    "Individual_KPI['Period'] = Individual_KPI['CUTOFF'].str[:6]\n",
    "Individual_KPI = Individual_KPI[['Period','Agent_Number', 'Agent_Name', 'Grade', 'Agent_Status', 'Date_Appointed', \n",
    "                'Segmentation', 'Rookie']]\n",
    "Individual_KPI"
   ]
  },
  {
   "cell_type": "markdown",
   "id": "6897b039",
   "metadata": {},
   "source": [
    "<h4> 11. Ghép các Metric vào <h4>"
   ]
  },
  {
   "cell_type": "code",
   "execution_count": null,
   "id": "edf0d3df",
   "metadata": {},
   "outputs": [],
   "source": [
    "PY2_KPI = pd.merge(Individual_KPI, )"
   ]
  }
 ],
 "metadata": {
  "kernelspec": {
   "display_name": "Python 3 (ipykernel)",
   "language": "python",
   "name": "python3"
  },
  "language_info": {
   "codemirror_mode": {
    "name": "ipython",
    "version": 3
   },
   "file_extension": ".py",
   "mimetype": "text/x-python",
   "name": "python",
   "nbconvert_exporter": "python",
   "pygments_lexer": "ipython3",
   "version": "3.10.9"
  }
 },
 "nbformat": 4,
 "nbformat_minor": 5
}

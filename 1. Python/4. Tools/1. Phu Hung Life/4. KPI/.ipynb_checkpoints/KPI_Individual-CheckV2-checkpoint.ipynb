{
 "cells": [
  {
   "cell_type": "code",
   "execution_count": 1,
   "id": "a1921655",
   "metadata": {},
   "outputs": [],
   "source": [
    "import numpy as np\n",
    "import pandas as pd\n",
    "import pyodbc as pyo\n",
    "import sqlalchemy as sa\n",
    "import numpy as np\n",
    "import math\n",
    "import datetime\n",
    "connection_uri = (\n",
    "    \"mssql+pyodbc://TEDPHO0134\\TANDT_DP/DP_Tan?driver=ODBC+Driver+17+for+SQL+Server\"\n",
    ")\n",
    "conn = sa.create_engine(connection_uri)"
   ]
  },
  {
   "cell_type": "markdown",
   "id": "3bf3fa12",
   "metadata": {},
   "source": [
    "<h4>1. Lấy bảng<h4>"
   ]
  },
  {
   "cell_type": "markdown",
   "id": "1a6bdd89",
   "metadata": {},
   "source": [
    "<h4> 1.1 Lấy bảng Premium"
   ]
  },
  {
   "cell_type": "code",
   "execution_count": 2,
   "id": "caa7d81f",
   "metadata": {},
   "outputs": [],
   "source": [
    "cutoff = '20230131'\n",
    "premium_query = f\"select * from PREMIUM_KPI where CUTOFF = '{cutoff}'\"\n",
    "premium = pd.read_sql(premium_query, conn)"
   ]
  },
  {
   "cell_type": "code",
   "execution_count": 3,
   "id": "3df6d665",
   "metadata": {},
   "outputs": [],
   "source": [
    "premium_table = premium"
   ]
  },
  {
   "cell_type": "markdown",
   "id": "df4e0312",
   "metadata": {},
   "source": [
    "<h4>1.2 Lấy bảng DAILYSALES\n",
    "\n"
   ]
  },
  {
   "cell_type": "code",
   "execution_count": 69,
   "id": "082c1a13",
   "metadata": {},
   "outputs": [],
   "source": [
    "daily_query = f\"select * from KPI_DAILYSALES where CUTOFF = '{cutoff}'\"\n",
    "salesdaily = pd.read_sql(daily_query, conn)"
   ]
  },
  {
   "cell_type": "markdown",
   "id": "33d14d1d",
   "metadata": {},
   "source": [
    "<h4> 1.3 Lấy bảng PY2 "
   ]
  },
  {
   "cell_type": "code",
   "execution_count": 186,
   "id": "d8013894",
   "metadata": {},
   "outputs": [],
   "source": [
    "py2_query = f\"select * from PY2_CUTOFF where CUTOFF = '{cutoff}'\"\n",
    "py2 = pd.read_sql(py2_query, conn)"
   ]
  },
  {
   "cell_type": "markdown",
   "id": "1859d442",
   "metadata": {},
   "source": [
    "<h4> 1.4 Lấy bảng Agent_Info"
   ]
  },
  {
   "cell_type": "code",
   "execution_count": null,
   "id": "377d3211",
   "metadata": {},
   "outputs": [],
   "source": [
    "agent_query = f\"select * from AGENT_INFO where CUTOFF = '{cutoff}'\"\n",
    "agent_info = pd.read_sql(agent_query, conn)"
   ]
  },
  {
   "cell_type": "markdown",
   "id": "5ae2dc12",
   "metadata": {},
   "source": [
    "<h4> 2. Lấy ra PERIOD<h4>"
   ]
  },
  {
   "cell_type": "code",
   "execution_count": 5,
   "id": "1a7c28e0",
   "metadata": {},
   "outputs": [],
   "source": [
    "premium_table = premium_table.loc[:, premium_table.columns != 'Link_Key']"
   ]
  },
  {
   "cell_type": "code",
   "execution_count": 6,
   "id": "eee7de37",
   "metadata": {},
   "outputs": [],
   "source": [
    "#Thêm cột ngày xét\n",
    "Monthly_Premium = premium_table\n",
    "Monthly_Premium['Date_On_Set'] = \"\" #Tạo ra cột trống\n",
    "Monthly_Premium['Date_On_Set']= Monthly_Premium['Date_On_Set'].str.cat(Monthly_Premium['CUTOFF'].str[:4] ,sep =\"\")\n",
    "Monthly_Premium['Date_On_Set']= Monthly_Premium['Date_On_Set'].str.cat(Monthly_Premium['CUTOFF'].str[4:6] ,sep =\"-\")\n",
    "Monthly_Premium['Date_On_Set']= Monthly_Premium['Date_On_Set'].str.cat(Monthly_Premium['CUTOFF'].str[6:8] ,sep =\"-\")"
   ]
  },
  {
   "cell_type": "code",
   "execution_count": 7,
   "id": "428b6114",
   "metadata": {},
   "outputs": [],
   "source": [
    "#Phải biến thành kiểu datetime trước\n",
    "Monthly_Premium['Date_On_Set'] = pd.to_datetime(Monthly_Premium['Date_On_Set'])\n",
    "#Thêm cột ngày đầu tháng:\n",
    "#-> Đưa vào ngày 1 của tháng\n",
    "#LƯU Ý CÁC NGÀY OFF ĐẶC BIỆT CỦA THÁNG 4.2023 VÀ 01/2024\n",
    "if not('20240229' in Monthly_Premium['CUTOFF'].values): \n",
    "    Monthly_Premium['Start_Month'] = (Monthly_Premium['Date_On_Set'].dt.floor('d') + pd.offsets.MonthEnd(0) - pd.offsets.MonthBegin(1))\n",
    "elif ('20230531' in Monthly_Premium['CUTOFF'].values):\n",
    "    Monthly_Premium.loc[:,'Start_Month'] = '2023-04-29'\n",
    "else:\n",
    "    Monthly_Premium.loc[:,'Start_Month'] = '2024-01-27'"
   ]
  },
  {
   "cell_type": "code",
   "execution_count": 8,
   "id": "d72ce2e7",
   "metadata": {},
   "outputs": [],
   "source": [
    "#Lấy ra ngày Period:\n",
    "#LƯU Ý CÁCH CỘNG 1 NGÀY VÀO CỘT APPLIED PREMIUM DATE\n",
    "Period_Com = Monthly_Premium\n",
    "Period_Com ['Date_Period_1'] = np.where( (Period_Com['Policy Status'] == 'FL'), Period_Com['Issued Date'],\n",
    "np.where( (Period_Com['POLICY ACKNOWLED'].isnull()), Period_Com['Issued Date'],\n",
    "np.where((((Period_Com['Applied Premium Date'] + datetime.timedelta(days=1)) - Period_Com['POLICY ACKNOWLED']) / np.timedelta64(1, 'D')) < 22,\n",
    "Period_Com['Issued Date'], Period_Com['Applied Premium Date'])))"
   ]
  },
  {
   "cell_type": "code",
   "execution_count": 9,
   "id": "7240c2a7",
   "metadata": {},
   "outputs": [],
   "source": [
    "Period_Prem = Period_Com\n",
    "calculate_condition = ((Period_Prem['Applied Premium Date'] >= Period_Prem['Start_Month']) & (Period_Prem['Applied Premium Date'] <= Period_Prem['Date_On_Set']))\n",
    "PREM_month = Period_Prem[((Period_Prem['Applied Premium Date'] >= Period_Prem['Start_Month']) & (Period_Prem['Applied Premium Date'] <= Period_Prem['Date_On_Set']))]"
   ]
  },
  {
   "cell_type": "code",
   "execution_count": 10,
   "id": "cb281138",
   "metadata": {},
   "outputs": [
    {
     "name": "stderr",
     "output_type": "stream",
     "text": [
      "C:\\Users\\vagy1255\\AppData\\Local\\Temp\\ipykernel_16200\\3346513835.py:1: SettingWithCopyWarning: \n",
      "A value is trying to be set on a copy of a slice from a DataFrame.\n",
      "Try using .loc[row_indexer,col_indexer] = value instead\n",
      "\n",
      "See the caveats in the documentation: https://pandas.pydata.org/pandas-docs/stable/user_guide/indexing.html#returning-a-view-versus-a-copy\n",
      "  PREM_month['Date_Period'] = np.where((PREM_month['Date_Period_1'].isnull()), PREM_month['Applied Premium Date'], PREM_month['Date_Period_1'])\n"
     ]
    }
   ],
   "source": [
    "PREM_month['Date_Period'] = np.where((PREM_month['Date_Period_1'].isnull()), PREM_month['Applied Premium Date'], PREM_month['Date_Period_1'])"
   ]
  },
  {
   "cell_type": "code",
   "execution_count": 11,
   "id": "3ede7c1b",
   "metadata": {},
   "outputs": [
    {
     "name": "stderr",
     "output_type": "stream",
     "text": [
      "C:\\Users\\vagy1255\\AppData\\Local\\Temp\\ipykernel_16200\\4075263784.py:1: SettingWithCopyWarning: \n",
      "A value is trying to be set on a copy of a slice from a DataFrame.\n",
      "Try using .loc[row_indexer,col_indexer] = value instead\n",
      "\n",
      "See the caveats in the documentation: https://pandas.pydata.org/pandas-docs/stable/user_guide/indexing.html#returning-a-view-versus-a-copy\n",
      "  PREM_month['Period_Month'] = pd.DatetimeIndex(PREM_month['Date_Period']).month\n",
      "C:\\Users\\vagy1255\\AppData\\Local\\Temp\\ipykernel_16200\\4075263784.py:2: SettingWithCopyWarning: \n",
      "A value is trying to be set on a copy of a slice from a DataFrame.\n",
      "Try using .loc[row_indexer,col_indexer] = value instead\n",
      "\n",
      "See the caveats in the documentation: https://pandas.pydata.org/pandas-docs/stable/user_guide/indexing.html#returning-a-view-versus-a-copy\n",
      "  PREM_month['Period_Year'] = pd.DatetimeIndex(PREM_month['Date_Period']).year\n",
      "C:\\Users\\vagy1255\\AppData\\Local\\Temp\\ipykernel_16200\\4075263784.py:3: SettingWithCopyWarning: \n",
      "A value is trying to be set on a copy of a slice from a DataFrame.\n",
      "Try using .loc[row_indexer,col_indexer] = value instead\n",
      "\n",
      "See the caveats in the documentation: https://pandas.pydata.org/pandas-docs/stable/user_guide/indexing.html#returning-a-view-versus-a-copy\n",
      "  PREM_month['Period'] = np.where(PREM_month['Period_Month'] >9, PREM_month['Period_Year'].astype('str') + PREM_month['Period_Month'].astype('str'),\n"
     ]
    }
   ],
   "source": [
    "PREM_month['Period_Month'] = pd.DatetimeIndex(PREM_month['Date_Period']).month\n",
    "PREM_month['Period_Year'] = pd.DatetimeIndex(PREM_month['Date_Period']).year\n",
    "PREM_month['Period'] = np.where(PREM_month['Period_Month'] >9, PREM_month['Period_Year'].astype('str') + PREM_month['Period_Month'].astype('str'),\n",
    "PREM_month['Period_Year'].astype('str') + \"0\" +PREM_month['Period_Month'].astype('str')                              \n",
    "                               )"
   ]
  },
  {
   "cell_type": "markdown",
   "id": "20295e76",
   "metadata": {},
   "source": [
    "<h4>3. Tính CaseCount <h4>"
   ]
  },
  {
   "cell_type": "code",
   "execution_count": 12,
   "id": "4cd3118e",
   "metadata": {},
   "outputs": [
    {
     "name": "stderr",
     "output_type": "stream",
     "text": [
      "C:\\Users\\vagy1255\\AppData\\Local\\Temp\\ipykernel_16200\\1393532758.py:2: SettingWithCopyWarning: \n",
      "A value is trying to be set on a copy of a slice from a DataFrame.\n",
      "Try using .loc[row_indexer,col_indexer] = value instead\n",
      "\n",
      "See the caveats in the documentation: https://pandas.pydata.org/pandas-docs/stable/user_guide/indexing.html#returning-a-view-versus-a-copy\n",
      "  CC_prem['Status Transition'] = CC_prem['Last_Policy_STT'] + \"to\" + CC_prem['Policy Status']\n",
      "C:\\Users\\vagy1255\\AppData\\Local\\Temp\\ipykernel_16200\\1393532758.py:4: SettingWithCopyWarning: \n",
      "A value is trying to be set on a copy of a slice from a DataFrame.\n",
      "Try using .loc[row_indexer,col_indexer] = value instead\n",
      "\n",
      "See the caveats in the documentation: https://pandas.pydata.org/pandas-docs/stable/user_guide/indexing.html#returning-a-view-versus-a-copy\n",
      "  CC_prem['PREM TRAN NAME'] = CC_prem['PREM TRAN NAME'].str.strip()\n"
     ]
    }
   ],
   "source": [
    "CC_prem = PREM_month\n",
    "CC_prem['Status Transition'] = CC_prem['Last_Policy_STT'] + \"to\" + CC_prem['Policy Status'] \n",
    "#Loại bỏ khoản trắng:\n",
    "CC_prem['PREM TRAN NAME'] = CC_prem['PREM TRAN NAME'].str.strip()"
   ]
  },
  {
   "cell_type": "code",
   "execution_count": 13,
   "id": "db7010f1",
   "metadata": {},
   "outputs": [
    {
     "name": "stderr",
     "output_type": "stream",
     "text": [
      "C:\\Users\\vagy1255\\AppData\\Local\\Temp\\ipykernel_16200\\3210236533.py:1: SettingWithCopyWarning: \n",
      "A value is trying to be set on a copy of a slice from a DataFrame.\n",
      "Try using .loc[row_indexer,col_indexer] = value instead\n",
      "\n",
      "See the caveats in the documentation: https://pandas.pydata.org/pandas-docs/stable/user_guide/indexing.html#returning-a-view-versus-a-copy\n",
      "  CC_prem['Count_Stage_1'] = np.where((CC_prem['PREM TRAN NAME'] == 'Contract Issue') & (CC_prem['Last_Policy_STT'].isnull()) , 1,\n"
     ]
    }
   ],
   "source": [
    "CC_prem['Count_Stage_1'] = np.where((CC_prem['PREM TRAN NAME'] == 'Contract Issue') & (CC_prem['Last_Policy_STT'].isnull()) , 1,\n",
    "                        np.where((CC_prem['PREM TRAN NAME'] == 'Freelook Cancellation') & (CC_prem['Last_Policy_STT'].isnull()),-1, 0))"
   ]
  },
  {
   "cell_type": "code",
   "execution_count": 14,
   "id": "e7e4a8d8",
   "metadata": {
    "scrolled": true
   },
   "outputs": [
    {
     "name": "stderr",
     "output_type": "stream",
     "text": [
      "C:\\Users\\vagy1255\\AppData\\Local\\Temp\\ipykernel_16200\\2212519876.py:1: SettingWithCopyWarning: \n",
      "A value is trying to be set on a copy of a slice from a DataFrame.\n",
      "Try using .loc[row_indexer,col_indexer] = value instead\n",
      "\n",
      "See the caveats in the documentation: https://pandas.pydata.org/pandas-docs/stable/user_guide/indexing.html#returning-a-view-versus-a-copy\n",
      "  CC_prem['Count_Stage_2'] = np.where((CC_prem['Status Transition'].str.len() >5) &\\\n"
     ]
    }
   ],
   "source": [
    "CC_prem['Count_Stage_2'] = np.where((CC_prem['Status Transition'].str.len() >5) &\\\n",
    "                        CC_prem['Status Transition'].str[4:].isin(['FL', 'CF', 'DC', 'DH', 'NT', 'PO', 'WD']), -1,\n",
    "                        np.where((CC_prem['Status Transition'].str.len() < 5) &\\\n",
    "                        CC_prem['Status Transition'].str[4:].isin(['IF']), 1, \n",
    "                        np.where((CC_prem['Policy Status'].isin(['CF', 'DC', 'NT', 'PO', 'WD'])), -1, 0    \n",
    "                                )))"
   ]
  },
  {
   "cell_type": "code",
   "execution_count": 15,
   "id": "ef4c869d",
   "metadata": {},
   "outputs": [
    {
     "name": "stderr",
     "output_type": "stream",
     "text": [
      "C:\\Users\\vagy1255\\AppData\\Local\\Temp\\ipykernel_16200\\3545740601.py:1: SettingWithCopyWarning: \n",
      "A value is trying to be set on a copy of a slice from a DataFrame.\n",
      "Try using .loc[row_indexer,col_indexer] = value instead\n",
      "\n",
      "See the caveats in the documentation: https://pandas.pydata.org/pandas-docs/stable/user_guide/indexing.html#returning-a-view-versus-a-copy\n",
      "  CC_prem['Count_Policy'] = np.where((CC_prem['Count_Stage_2']) == 0, CC_prem['Count_Stage_1'], CC_prem['Count_Stage_2'] )\n"
     ]
    }
   ],
   "source": [
    "CC_prem['Count_Policy'] = np.where((CC_prem['Count_Stage_2']) == 0, CC_prem['Count_Stage_1'], CC_prem['Count_Stage_2'] )"
   ]
  },
  {
   "cell_type": "markdown",
   "id": "2555c299",
   "metadata": {},
   "source": [
    "<h4>4. Sum để lấy CaseCount <h4>"
   ]
  },
  {
   "cell_type": "code",
   "execution_count": 16,
   "id": "f061dff4",
   "metadata": {},
   "outputs": [],
   "source": [
    "#Nếu muốn check trạng thái CC của HD, check chỗ này\n",
    "CaseCount = CC_prem\n",
    "CaseCount = CaseCount[['Issuing Agent', 'Policy No', 'CUTOFF', 'Count_Policy']].drop_duplicates()\n",
    "Sum_CC = CaseCount.groupby(['Issuing Agent', 'Policy No', 'CUTOFF'])['Count_Policy'].sum()\n",
    "Sum_CC = Sum_CC.reset_index()"
   ]
  },
  {
   "cell_type": "code",
   "execution_count": 17,
   "id": "e26ae5b2",
   "metadata": {},
   "outputs": [],
   "source": [
    "Sum_CC.loc[(Sum_CC['Count_Policy'] <0),'CC(-)'] = Sum_CC['Count_Policy']\n",
    "Sum_CC.loc[(Sum_CC['Count_Policy'] >0),'CC(+)'] = Sum_CC['Count_Policy']"
   ]
  },
  {
   "cell_type": "markdown",
   "id": "eb42ca53",
   "metadata": {},
   "source": [
    "<h5>4.1 Sum lại CaseCount theo Đại lý phát hành HD <h4>"
   ]
  },
  {
   "cell_type": "code",
   "execution_count": 18,
   "id": "28af40a3",
   "metadata": {},
   "outputs": [],
   "source": [
    "Agent_CC = Sum_CC.groupby(['Issuing Agent', 'CUTOFF'])[['CC(-)', 'CC(+)']].sum()\n",
    "Agent_CC = Agent_CC.reset_index()"
   ]
  },
  {
   "cell_type": "markdown",
   "id": "51f89a91",
   "metadata": {},
   "source": [
    "<h4>5. Tính FYP <h4>"
   ]
  },
  {
   "cell_type": "code",
   "execution_count": 19,
   "id": "2bdee249",
   "metadata": {},
   "outputs": [],
   "source": [
    "FYP_month = PREM_month\n",
    "FYP_month = pd.merge(FYP_month, Sum_CC, left_on = 'Policy No', right_on = 'Policy No', how = 'left' )\n",
    "FYP_month = FYP_month[['Policy No', 'Product Code', 'Premium transaction', 'PREM TRAN NAME',\n",
    "       'Premium Collected', 'Collected Date', 'Applied Premium Date',\n",
    "       'FYP Before Discount', 'FYP Discount', 'FYP', 'RYP', 'Topup Premium',\n",
    "       'Premium Term', 'Premium Year', 'Policy Status', 'Policy Year',\n",
    "       'Policy Term', 'Frequency of Payment', 'Issued Date', 'Effected Date',\n",
    "       'Terminated Date', 'Lapse Date', 'Due date', 'Next Due Date',\n",
    "       'Transfer Date', 'POLICY ACKNOWLED', 'Sum Assure', 'Area Code',\n",
    "       'Servicing Agent', 'Freelook', 'Proposal Receive Date',\n",
    "       'RISK_COMMENCE_DATE', 'Age_Customer', 'Issuing Agent_x', 'AFYP',\n",
    "       'CUTOFF_x', 'RETURN_DATE', 'Count_Policy_y']].rename(columns={'Issuing Agent_x': 'Issuing Agent', 'Count_Policy_y': 'Count_Policy','CUTOFF_x':'CUTOFF'})"
   ]
  },
  {
   "cell_type": "markdown",
   "id": "3461767a",
   "metadata": {},
   "source": [
    "<h5> 5.1 Sum lại theo Servicing Agent lấy FYP <h5>"
   ]
  },
  {
   "cell_type": "code",
   "execution_count": 20,
   "id": "f5e2ab08",
   "metadata": {},
   "outputs": [
    {
     "data": {
      "text/html": [
       "<div>\n",
       "<style scoped>\n",
       "    .dataframe tbody tr th:only-of-type {\n",
       "        vertical-align: middle;\n",
       "    }\n",
       "\n",
       "    .dataframe tbody tr th {\n",
       "        vertical-align: top;\n",
       "    }\n",
       "\n",
       "    .dataframe thead th {\n",
       "        text-align: right;\n",
       "    }\n",
       "</style>\n",
       "<table border=\"1\" class=\"dataframe\">\n",
       "  <thead>\n",
       "    <tr style=\"text-align: right;\">\n",
       "      <th></th>\n",
       "      <th></th>\n",
       "      <th>FYP(-)</th>\n",
       "      <th>FYP(+)</th>\n",
       "    </tr>\n",
       "    <tr>\n",
       "      <th>Servicing Agent</th>\n",
       "      <th>CUTOFF</th>\n",
       "      <th></th>\n",
       "      <th></th>\n",
       "    </tr>\n",
       "  </thead>\n",
       "  <tbody>\n",
       "    <tr>\n",
       "      <th>60000194</th>\n",
       "      <th>20230131</th>\n",
       "      <td>0.0</td>\n",
       "      <td>0.0</td>\n",
       "    </tr>\n",
       "    <tr>\n",
       "      <th>60000449</th>\n",
       "      <th>20230131</th>\n",
       "      <td>0.0</td>\n",
       "      <td>0.0</td>\n",
       "    </tr>\n",
       "    <tr>\n",
       "      <th>60000482</th>\n",
       "      <th>20230131</th>\n",
       "      <td>0.0</td>\n",
       "      <td>16026000.0</td>\n",
       "    </tr>\n",
       "    <tr>\n",
       "      <th>60000564</th>\n",
       "      <th>20230131</th>\n",
       "      <td>0.0</td>\n",
       "      <td>0.0</td>\n",
       "    </tr>\n",
       "    <tr>\n",
       "      <th>60000717</th>\n",
       "      <th>20230131</th>\n",
       "      <td>0.0</td>\n",
       "      <td>16141000.0</td>\n",
       "    </tr>\n",
       "    <tr>\n",
       "      <th>...</th>\n",
       "      <th>...</th>\n",
       "      <td>...</td>\n",
       "      <td>...</td>\n",
       "    </tr>\n",
       "    <tr>\n",
       "      <th>60076140</th>\n",
       "      <th>20230131</th>\n",
       "      <td>0.0</td>\n",
       "      <td>10003000.0</td>\n",
       "    </tr>\n",
       "    <tr>\n",
       "      <th>60076141</th>\n",
       "      <th>20230131</th>\n",
       "      <td>0.0</td>\n",
       "      <td>30256000.0</td>\n",
       "    </tr>\n",
       "    <tr>\n",
       "      <th>60076148</th>\n",
       "      <th>20230131</th>\n",
       "      <td>0.0</td>\n",
       "      <td>32048000.0</td>\n",
       "    </tr>\n",
       "    <tr>\n",
       "      <th>69999997</th>\n",
       "      <th>20230131</th>\n",
       "      <td>0.0</td>\n",
       "      <td>20622000.0</td>\n",
       "    </tr>\n",
       "    <tr>\n",
       "      <th>69999998</th>\n",
       "      <th>20230131</th>\n",
       "      <td>0.0</td>\n",
       "      <td>2075500.0</td>\n",
       "    </tr>\n",
       "  </tbody>\n",
       "</table>\n",
       "<p>2655 rows × 2 columns</p>\n",
       "</div>"
      ],
      "text/plain": [
       "                          FYP(-)      FYP(+)\n",
       "Servicing Agent CUTOFF                      \n",
       "60000194        20230131     0.0         0.0\n",
       "60000449        20230131     0.0         0.0\n",
       "60000482        20230131     0.0  16026000.0\n",
       "60000564        20230131     0.0         0.0\n",
       "60000717        20230131     0.0  16141000.0\n",
       "...                          ...         ...\n",
       "60076140        20230131     0.0  10003000.0\n",
       "60076141        20230131     0.0  30256000.0\n",
       "60076148        20230131     0.0  32048000.0\n",
       "69999997        20230131     0.0  20622000.0\n",
       "69999998        20230131     0.0   2075500.0\n",
       "\n",
       "[2655 rows x 2 columns]"
      ]
     },
     "execution_count": 20,
     "metadata": {},
     "output_type": "execute_result"
    }
   ],
   "source": [
    "Sum_FYP = FYP_month\n",
    "Sum_FYP['FYP_Total'] = Sum_FYP['FYP'] + Sum_FYP['Topup Premium']*0.1\n",
    "Sum_FYP.loc[(Sum_FYP['FYP_Total'] <0), 'FYP(-)'] = Sum_FYP['FYP_Total']\n",
    "Sum_FYP.loc[(Sum_FYP['FYP_Total'] >0), 'FYP(+)'] = Sum_FYP['FYP_Total']\n",
    "Sum_FYP = Sum_FYP.groupby(['Servicing Agent','Policy No', 'CUTOFF', 'Count_Policy'])['FYP_Total'].sum()\n",
    "Sum_FYP = Sum_FYP.reset_index()\n",
    "#Rules: Các HD Mark -1=> HD giảm phí, tính FYP(-), các HD đang còn IF, trạng thái 0, 1 => FYP(+)\n",
    "Sum_FYP.loc[(Sum_FYP['Count_Policy'] <0), 'FYP(-)'] = Sum_FYP['FYP_Total']\n",
    "Sum_FYP.loc[(Sum_FYP['Count_Policy'] >=0), 'FYP(+)'] = Sum_FYP['FYP_Total']\n",
    "Sum_FYP = Sum_FYP.groupby(['Servicing Agent', 'CUTOFF'])[['FYP(-)', 'FYP(+)']].sum()\n",
    "Sum_FYP"
   ]
  },
  {
   "cell_type": "markdown",
   "id": "c4dc1fbc",
   "metadata": {},
   "source": [
    "<h4> 6. Tính AFYP <h4>"
   ]
  },
  {
   "cell_type": "markdown",
   "id": "228a240f",
   "metadata": {},
   "source": [
    "<h5> 6.1 Sum lại AFYP <h4>"
   ]
  },
  {
   "cell_type": "code",
   "execution_count": 142,
   "id": "71759135",
   "metadata": {},
   "outputs": [],
   "source": [
    "AFYP = salesdaily\n",
    "Sum_AFYP = AFYP\n",
    "Sum_AFYP = Sum_AFYP.groupby(['Policy_Number'])['AFYP'].sum()\n",
    "Sum_AFYP = Sum_AFYP.reset_index()"
   ]
  },
  {
   "cell_type": "code",
   "execution_count": 143,
   "id": "d44a5815",
   "metadata": {},
   "outputs": [
    {
     "data": {
      "text/html": [
       "<div>\n",
       "<style scoped>\n",
       "    .dataframe tbody tr th:only-of-type {\n",
       "        vertical-align: middle;\n",
       "    }\n",
       "\n",
       "    .dataframe tbody tr th {\n",
       "        vertical-align: top;\n",
       "    }\n",
       "\n",
       "    .dataframe thead th {\n",
       "        text-align: right;\n",
       "    }\n",
       "</style>\n",
       "<table border=\"1\" class=\"dataframe\">\n",
       "  <thead>\n",
       "    <tr style=\"text-align: right;\">\n",
       "      <th></th>\n",
       "      <th>Policy_Number</th>\n",
       "      <th>AFYP</th>\n",
       "    </tr>\n",
       "  </thead>\n",
       "  <tbody>\n",
       "    <tr>\n",
       "      <th>0</th>\n",
       "      <td>80000003</td>\n",
       "      <td>196736000.0</td>\n",
       "    </tr>\n",
       "    <tr>\n",
       "      <th>1</th>\n",
       "      <td>80000006</td>\n",
       "      <td>42400000.0</td>\n",
       "    </tr>\n",
       "    <tr>\n",
       "      <th>2</th>\n",
       "      <td>80000007</td>\n",
       "      <td>42400000.0</td>\n",
       "    </tr>\n",
       "    <tr>\n",
       "      <th>3</th>\n",
       "      <td>80000008</td>\n",
       "      <td>57664000.0</td>\n",
       "    </tr>\n",
       "    <tr>\n",
       "      <th>4</th>\n",
       "      <td>80000012</td>\n",
       "      <td>11332000.0</td>\n",
       "    </tr>\n",
       "    <tr>\n",
       "      <th>...</th>\n",
       "      <td>...</td>\n",
       "      <td>...</td>\n",
       "    </tr>\n",
       "    <tr>\n",
       "      <th>128682</th>\n",
       "      <td>80133067</td>\n",
       "      <td>20235000.0</td>\n",
       "    </tr>\n",
       "    <tr>\n",
       "      <th>128683</th>\n",
       "      <td>80133068</td>\n",
       "      <td>12238000.0</td>\n",
       "    </tr>\n",
       "    <tr>\n",
       "      <th>128684</th>\n",
       "      <td>80133069</td>\n",
       "      <td>0.0</td>\n",
       "    </tr>\n",
       "    <tr>\n",
       "      <th>128685</th>\n",
       "      <td>80133070</td>\n",
       "      <td>19854000.0</td>\n",
       "    </tr>\n",
       "    <tr>\n",
       "      <th>128686</th>\n",
       "      <td>80133071</td>\n",
       "      <td>8066000.0</td>\n",
       "    </tr>\n",
       "  </tbody>\n",
       "</table>\n",
       "<p>128687 rows × 2 columns</p>\n",
       "</div>"
      ],
      "text/plain": [
       "       Policy_Number         AFYP\n",
       "0           80000003  196736000.0\n",
       "1           80000006   42400000.0\n",
       "2           80000007   42400000.0\n",
       "3           80000008   57664000.0\n",
       "4           80000012   11332000.0\n",
       "...              ...          ...\n",
       "128682      80133067   20235000.0\n",
       "128683      80133068   12238000.0\n",
       "128684      80133069          0.0\n",
       "128685      80133070   19854000.0\n",
       "128686      80133071    8066000.0\n",
       "\n",
       "[128687 rows x 2 columns]"
      ]
     },
     "execution_count": 143,
     "metadata": {},
     "output_type": "execute_result"
    }
   ],
   "source": [
    "Sum_AFYP"
   ]
  },
  {
   "cell_type": "markdown",
   "id": "8d55d05d",
   "metadata": {},
   "source": [
    "<h5> 6.2 Sum lại Topup để cộng vào AFYP <h4>"
   ]
  },
  {
   "cell_type": "code",
   "execution_count": 144,
   "id": "508f898d",
   "metadata": {},
   "outputs": [
    {
     "data": {
      "text/html": [
       "<div>\n",
       "<style scoped>\n",
       "    .dataframe tbody tr th:only-of-type {\n",
       "        vertical-align: middle;\n",
       "    }\n",
       "\n",
       "    .dataframe tbody tr th {\n",
       "        vertical-align: top;\n",
       "    }\n",
       "\n",
       "    .dataframe thead th {\n",
       "        text-align: right;\n",
       "    }\n",
       "</style>\n",
       "<table border=\"1\" class=\"dataframe\">\n",
       "  <thead>\n",
       "    <tr style=\"text-align: right;\">\n",
       "      <th></th>\n",
       "      <th>Policy No</th>\n",
       "      <th>Count_Policy</th>\n",
       "      <th>Topup Premium</th>\n",
       "    </tr>\n",
       "  </thead>\n",
       "  <tbody>\n",
       "    <tr>\n",
       "      <th>0</th>\n",
       "      <td>80000077</td>\n",
       "      <td>0</td>\n",
       "      <td>0.0</td>\n",
       "    </tr>\n",
       "    <tr>\n",
       "      <th>1</th>\n",
       "      <td>80000089</td>\n",
       "      <td>0</td>\n",
       "      <td>0.0</td>\n",
       "    </tr>\n",
       "    <tr>\n",
       "      <th>2</th>\n",
       "      <td>80000222</td>\n",
       "      <td>0</td>\n",
       "      <td>0.0</td>\n",
       "    </tr>\n",
       "    <tr>\n",
       "      <th>3</th>\n",
       "      <td>80000292</td>\n",
       "      <td>0</td>\n",
       "      <td>0.0</td>\n",
       "    </tr>\n",
       "    <tr>\n",
       "      <th>4</th>\n",
       "      <td>80000301</td>\n",
       "      <td>0</td>\n",
       "      <td>0.0</td>\n",
       "    </tr>\n",
       "    <tr>\n",
       "      <th>...</th>\n",
       "      <td>...</td>\n",
       "      <td>...</td>\n",
       "      <td>...</td>\n",
       "    </tr>\n",
       "    <tr>\n",
       "      <th>4400</th>\n",
       "      <td>80133066</td>\n",
       "      <td>1</td>\n",
       "      <td>0.0</td>\n",
       "    </tr>\n",
       "    <tr>\n",
       "      <th>4401</th>\n",
       "      <td>80133067</td>\n",
       "      <td>1</td>\n",
       "      <td>0.0</td>\n",
       "    </tr>\n",
       "    <tr>\n",
       "      <th>4402</th>\n",
       "      <td>80133068</td>\n",
       "      <td>1</td>\n",
       "      <td>0.0</td>\n",
       "    </tr>\n",
       "    <tr>\n",
       "      <th>4403</th>\n",
       "      <td>80133070</td>\n",
       "      <td>1</td>\n",
       "      <td>0.0</td>\n",
       "    </tr>\n",
       "    <tr>\n",
       "      <th>4404</th>\n",
       "      <td>80133071</td>\n",
       "      <td>1</td>\n",
       "      <td>0.0</td>\n",
       "    </tr>\n",
       "  </tbody>\n",
       "</table>\n",
       "<p>4405 rows × 3 columns</p>\n",
       "</div>"
      ],
      "text/plain": [
       "     Policy No  Count_Policy  Topup Premium\n",
       "0     80000077             0            0.0\n",
       "1     80000089             0            0.0\n",
       "2     80000222             0            0.0\n",
       "3     80000292             0            0.0\n",
       "4     80000301             0            0.0\n",
       "...        ...           ...            ...\n",
       "4400  80133066             1            0.0\n",
       "4401  80133067             1            0.0\n",
       "4402  80133068             1            0.0\n",
       "4403  80133070             1            0.0\n",
       "4404  80133071             1            0.0\n",
       "\n",
       "[4405 rows x 3 columns]"
      ]
     },
     "execution_count": 144,
     "metadata": {},
     "output_type": "execute_result"
    }
   ],
   "source": [
    "Topup_month = FYP_month #đoạn này đã xong phần CC, FYP (-), FYP (+)\n",
    "Topup_month = Topup_month.groupby(['Policy No', 'Count_Policy'])['Topup Premium'].sum()\n",
    "Topup_month = Topup_month.reset_index()\n",
    "Topup_month"
   ]
  },
  {
   "cell_type": "markdown",
   "id": "bd5d0b88",
   "metadata": {},
   "source": [
    "<h5>6.3 Tính tổng AFYP bao gồm Top_Up <h4>"
   ]
  },
  {
   "cell_type": "code",
   "execution_count": 179,
   "id": "786e2117",
   "metadata": {},
   "outputs": [
    {
     "data": {
      "text/html": [
       "<div>\n",
       "<style scoped>\n",
       "    .dataframe tbody tr th:only-of-type {\n",
       "        vertical-align: middle;\n",
       "    }\n",
       "\n",
       "    .dataframe tbody tr th {\n",
       "        vertical-align: top;\n",
       "    }\n",
       "\n",
       "    .dataframe thead th {\n",
       "        text-align: right;\n",
       "    }\n",
       "</style>\n",
       "<table border=\"1\" class=\"dataframe\">\n",
       "  <thead>\n",
       "    <tr style=\"text-align: right;\">\n",
       "      <th></th>\n",
       "      <th>Policy_Number</th>\n",
       "      <th>Count_Policy</th>\n",
       "      <th>AFYP_Topup</th>\n",
       "    </tr>\n",
       "  </thead>\n",
       "  <tbody>\n",
       "    <tr>\n",
       "      <th>0</th>\n",
       "      <td>80000003</td>\n",
       "      <td>0.0</td>\n",
       "      <td>196736000.0</td>\n",
       "    </tr>\n",
       "    <tr>\n",
       "      <th>1</th>\n",
       "      <td>80000006</td>\n",
       "      <td>0.0</td>\n",
       "      <td>42400000.0</td>\n",
       "    </tr>\n",
       "    <tr>\n",
       "      <th>2</th>\n",
       "      <td>80000007</td>\n",
       "      <td>0.0</td>\n",
       "      <td>42400000.0</td>\n",
       "    </tr>\n",
       "    <tr>\n",
       "      <th>3</th>\n",
       "      <td>80000008</td>\n",
       "      <td>0.0</td>\n",
       "      <td>57664000.0</td>\n",
       "    </tr>\n",
       "    <tr>\n",
       "      <th>4</th>\n",
       "      <td>80000012</td>\n",
       "      <td>0.0</td>\n",
       "      <td>11332000.0</td>\n",
       "    </tr>\n",
       "    <tr>\n",
       "      <th>...</th>\n",
       "      <td>...</td>\n",
       "      <td>...</td>\n",
       "      <td>...</td>\n",
       "    </tr>\n",
       "    <tr>\n",
       "      <th>128682</th>\n",
       "      <td>80133067</td>\n",
       "      <td>1.0</td>\n",
       "      <td>20235000.0</td>\n",
       "    </tr>\n",
       "    <tr>\n",
       "      <th>128683</th>\n",
       "      <td>80133068</td>\n",
       "      <td>1.0</td>\n",
       "      <td>12238000.0</td>\n",
       "    </tr>\n",
       "    <tr>\n",
       "      <th>128684</th>\n",
       "      <td>80133069</td>\n",
       "      <td>0.0</td>\n",
       "      <td>0.0</td>\n",
       "    </tr>\n",
       "    <tr>\n",
       "      <th>128685</th>\n",
       "      <td>80133070</td>\n",
       "      <td>1.0</td>\n",
       "      <td>19854000.0</td>\n",
       "    </tr>\n",
       "    <tr>\n",
       "      <th>128686</th>\n",
       "      <td>80133071</td>\n",
       "      <td>1.0</td>\n",
       "      <td>8066000.0</td>\n",
       "    </tr>\n",
       "  </tbody>\n",
       "</table>\n",
       "<p>128687 rows × 3 columns</p>\n",
       "</div>"
      ],
      "text/plain": [
       "       Policy_Number  Count_Policy   AFYP_Topup\n",
       "0           80000003           0.0  196736000.0\n",
       "1           80000006           0.0   42400000.0\n",
       "2           80000007           0.0   42400000.0\n",
       "3           80000008           0.0   57664000.0\n",
       "4           80000012           0.0   11332000.0\n",
       "...              ...           ...          ...\n",
       "128682      80133067           1.0   20235000.0\n",
       "128683      80133068           1.0   12238000.0\n",
       "128684      80133069           0.0          0.0\n",
       "128685      80133070           1.0   19854000.0\n",
       "128686      80133071           1.0    8066000.0\n",
       "\n",
       "[128687 rows x 3 columns]"
      ]
     },
     "execution_count": 179,
     "metadata": {},
     "output_type": "execute_result"
    }
   ],
   "source": [
    "AFYP_Topup = pd.merge(Sum_AFYP, Topup_month, left_on = 'Policy_Number', right_on ='Policy No', how = 'left')\n",
    "AFYP_Topup = AFYP_Topup[['Policy_Number', 'AFYP', 'Topup Premium', 'Count_Policy']].fillna(0)\n",
    "AFYP_Topup['AFYP_Topup'] = np.where(AFYP_Topup['Count_Policy'] >=0 , AFYP_Topup['AFYP'] + AFYP_Topup['Topup Premium'] *0.1,\n",
    "                           AFYP_Topup['AFYP'] + AFYP_Topup['Topup Premium'] *-0.1)     \n",
    "AFYP_Topup = AFYP_Topup[['Policy_Number', 'Count_Policy', 'AFYP_Topup']]\n",
    "AFYP_Topup['AFYP_Topup'] = AFYP_Topup['AFYP_Topup'].abs()\n",
    "AFYP_Topup"
   ]
  },
  {
   "cell_type": "markdown",
   "id": "88899ee7",
   "metadata": {},
   "source": [
    "<h5> 6.4 Lấy thông tin Servicing Agent với HD <h4>"
   ]
  },
  {
   "cell_type": "code",
   "execution_count": 180,
   "id": "b9248ce7",
   "metadata": {},
   "outputs": [],
   "source": [
    "Final_AFYP = FYP_month[['Servicing Agent', 'Policy No']].drop_duplicates()\n",
    "Final_AFYP = pd.merge(AFYP_Topup, Final_AFYP, left_on = 'Policy_Number', right_on = 'Policy No', how = 'left')\n",
    "Final_AFYP = Final_AFYP[['Servicing Agent', 'Policy_Number', 'Count_Policy', 'AFYP_Topup']]"
   ]
  },
  {
   "cell_type": "markdown",
   "id": "fe45c45a",
   "metadata": {},
   "source": [
    "<h5>6.5 Sum kết quả  AFYP lại (Nếu check AFYP thì check ở đây)"
   ]
  },
  {
   "cell_type": "code",
   "execution_count": 184,
   "id": "cda3cd0f",
   "metadata": {},
   "outputs": [],
   "source": [
    "Complete_AFYP = Final_AFYP\n",
    "Complete_AFYP.loc[Complete_AFYP['Count_Policy'] >0, 'AFYP(+)'] = Complete_AFYP['AFYP_Topup']\n",
    "Complete_AFYP.loc[Complete_AFYP['Count_Policy'] <0, 'AFYP(-)'] = Complete_AFYP['AFYP_Topup'] * -1\n",
    "Complete_AFYP = Complete_AFYP.groupby(['Servicing Agent'])[['AFYP(+)', 'AFYP(-)']].sum()\n",
    "Complete_AFYP.to_csv('checkAFYP.csv')"
   ]
  },
  {
   "cell_type": "markdown",
   "id": "519c1eb9",
   "metadata": {},
   "source": [
    "<h4>7. Tính PY2 <h4>"
   ]
  },
  {
   "cell_type": "code",
   "execution_count": 188,
   "id": "05a987f9",
   "metadata": {},
   "outputs": [],
   "source": [
    "py2_table = py2"
   ]
  },
  {
   "cell_type": "code",
   "execution_count": 192,
   "id": "2201d756",
   "metadata": {},
   "outputs": [
    {
     "data": {
      "text/html": [
       "<div>\n",
       "<style scoped>\n",
       "    .dataframe tbody tr th:only-of-type {\n",
       "        vertical-align: middle;\n",
       "    }\n",
       "\n",
       "    .dataframe tbody tr th {\n",
       "        vertical-align: top;\n",
       "    }\n",
       "\n",
       "    .dataframe thead th {\n",
       "        text-align: right;\n",
       "    }\n",
       "</style>\n",
       "<table border=\"1\" class=\"dataframe\">\n",
       "  <thead>\n",
       "    <tr style=\"text-align: right;\">\n",
       "      <th></th>\n",
       "      <th>Y2 ACTUAL PREM</th>\n",
       "      <th>Y2 EXPECTED PREM</th>\n",
       "      <th>PY2</th>\n",
       "    </tr>\n",
       "    <tr>\n",
       "      <th>AGENT NO</th>\n",
       "      <th></th>\n",
       "      <th></th>\n",
       "      <th></th>\n",
       "    </tr>\n",
       "  </thead>\n",
       "  <tbody>\n",
       "    <tr>\n",
       "      <th>60000450</th>\n",
       "      <td>111587000.0</td>\n",
       "      <td>111587000.0</td>\n",
       "      <td>1.000000</td>\n",
       "    </tr>\n",
       "    <tr>\n",
       "      <th>60000580</th>\n",
       "      <td>4236000.0</td>\n",
       "      <td>8437000.0</td>\n",
       "      <td>0.502074</td>\n",
       "    </tr>\n",
       "    <tr>\n",
       "      <th>60000597</th>\n",
       "      <td>0.0</td>\n",
       "      <td>22714000.0</td>\n",
       "      <td>0.000000</td>\n",
       "    </tr>\n",
       "    <tr>\n",
       "      <th>60001375</th>\n",
       "      <td>0.0</td>\n",
       "      <td>17860000.0</td>\n",
       "      <td>0.000000</td>\n",
       "    </tr>\n",
       "    <tr>\n",
       "      <th>60001457</th>\n",
       "      <td>28758000.0</td>\n",
       "      <td>34098000.0</td>\n",
       "      <td>0.843393</td>\n",
       "    </tr>\n",
       "    <tr>\n",
       "      <th>...</th>\n",
       "      <td>...</td>\n",
       "      <td>...</td>\n",
       "      <td>...</td>\n",
       "    </tr>\n",
       "    <tr>\n",
       "      <th>69999896</th>\n",
       "      <td>41397000.0</td>\n",
       "      <td>69193000.0</td>\n",
       "      <td>0.598283</td>\n",
       "    </tr>\n",
       "    <tr>\n",
       "      <th>69999897</th>\n",
       "      <td>0.0</td>\n",
       "      <td>16314000.0</td>\n",
       "      <td>0.000000</td>\n",
       "    </tr>\n",
       "    <tr>\n",
       "      <th>69999899</th>\n",
       "      <td>8015000.0</td>\n",
       "      <td>23108000.0</td>\n",
       "      <td>0.346850</td>\n",
       "    </tr>\n",
       "    <tr>\n",
       "      <th>69999997</th>\n",
       "      <td>221168000.0</td>\n",
       "      <td>201938000.0</td>\n",
       "      <td>1.000000</td>\n",
       "    </tr>\n",
       "    <tr>\n",
       "      <th>69999998</th>\n",
       "      <td>79605000.0</td>\n",
       "      <td>477671000.0</td>\n",
       "      <td>0.166652</td>\n",
       "    </tr>\n",
       "  </tbody>\n",
       "</table>\n",
       "<p>6125 rows × 3 columns</p>\n",
       "</div>"
      ],
      "text/plain": [
       "          Y2 ACTUAL PREM  Y2 EXPECTED PREM       PY2\n",
       "AGENT NO                                            \n",
       "60000450     111587000.0       111587000.0  1.000000\n",
       "60000580       4236000.0         8437000.0  0.502074\n",
       "60000597             0.0        22714000.0  0.000000\n",
       "60001375             0.0        17860000.0  0.000000\n",
       "60001457      28758000.0        34098000.0  0.843393\n",
       "...                  ...               ...       ...\n",
       "69999896      41397000.0        69193000.0  0.598283\n",
       "69999897             0.0        16314000.0  0.000000\n",
       "69999899       8015000.0        23108000.0  0.346850\n",
       "69999997     221168000.0       201938000.0  1.000000\n",
       "69999998      79605000.0       477671000.0  0.166652\n",
       "\n",
       "[6125 rows x 3 columns]"
      ]
     },
     "execution_count": 192,
     "metadata": {},
     "output_type": "execute_result"
    }
   ],
   "source": [
    "py2_month = py2_table.groupby(['AGENT NO'])[['Y2 ACTUAL PREM', 'Y2 EXPECTED PREM']].sum()\n",
    "py2_month['PY2'] = np.where((py2_month['Y2 ACTUAL PREM'] / py2_month['Y2 EXPECTED PREM']) > 1, 1, \n",
    "py2_month['Y2 ACTUAL PREM'] / py2_month['Y2 EXPECTED PREM'])\n",
    "py2_month"
   ]
  },
  {
   "cell_type": "markdown",
   "id": "58dc9e2a",
   "metadata": {},
   "source": [
    "<h4> 8. Tính Base và Rider <h4>"
   ]
  },
  {
   "cell_type": "markdown",
   "id": "626c51b7",
   "metadata": {},
   "source": [
    "<h5> 8.1 Check phân loại Base/ Rider tại đây!"
   ]
  },
  {
   "cell_type": "code",
   "execution_count": 212,
   "id": "f7028d8e",
   "metadata": {},
   "outputs": [
    {
     "data": {
      "text/html": [
       "<div>\n",
       "<style scoped>\n",
       "    .dataframe tbody tr th:only-of-type {\n",
       "        vertical-align: middle;\n",
       "    }\n",
       "\n",
       "    .dataframe tbody tr th {\n",
       "        vertical-align: top;\n",
       "    }\n",
       "\n",
       "    .dataframe thead th {\n",
       "        text-align: right;\n",
       "    }\n",
       "</style>\n",
       "<table border=\"1\" class=\"dataframe\">\n",
       "  <thead>\n",
       "    <tr style=\"text-align: right;\">\n",
       "      <th></th>\n",
       "      <th>Issuing Agent</th>\n",
       "      <th>PolicyNum</th>\n",
       "      <th>Product Code</th>\n",
       "      <th>Count_Policy</th>\n",
       "      <th>Base/Rider</th>\n",
       "    </tr>\n",
       "  </thead>\n",
       "  <tbody>\n",
       "    <tr>\n",
       "      <th>2</th>\n",
       "      <td>60074988</td>\n",
       "      <td>80131593</td>\n",
       "      <td>URA5</td>\n",
       "      <td>1</td>\n",
       "      <td>Rider</td>\n",
       "    </tr>\n",
       "    <tr>\n",
       "      <th>3</th>\n",
       "      <td>60074988</td>\n",
       "      <td>80131593</td>\n",
       "      <td>UL05</td>\n",
       "      <td>1</td>\n",
       "      <td>Base</td>\n",
       "    </tr>\n",
       "    <tr>\n",
       "      <th>4</th>\n",
       "      <td>60074988</td>\n",
       "      <td>80131593</td>\n",
       "      <td>URC5</td>\n",
       "      <td>1</td>\n",
       "      <td>Rider</td>\n",
       "    </tr>\n",
       "    <tr>\n",
       "      <th>5</th>\n",
       "      <td>60074988</td>\n",
       "      <td>80131593</td>\n",
       "      <td>URC6</td>\n",
       "      <td>1</td>\n",
       "      <td>Rider</td>\n",
       "    </tr>\n",
       "    <tr>\n",
       "      <th>6</th>\n",
       "      <td>60074988</td>\n",
       "      <td>80131593</td>\n",
       "      <td>RHB1</td>\n",
       "      <td>1</td>\n",
       "      <td>Rider</td>\n",
       "    </tr>\n",
       "    <tr>\n",
       "      <th>...</th>\n",
       "      <td>...</td>\n",
       "      <td>...</td>\n",
       "      <td>...</td>\n",
       "      <td>...</td>\n",
       "      <td>...</td>\n",
       "    </tr>\n",
       "    <tr>\n",
       "      <th>18754</th>\n",
       "      <td>60075807</td>\n",
       "      <td>80131687</td>\n",
       "      <td>URC5</td>\n",
       "      <td>1</td>\n",
       "      <td>Rider</td>\n",
       "    </tr>\n",
       "    <tr>\n",
       "      <th>18755</th>\n",
       "      <td>60075807</td>\n",
       "      <td>80131687</td>\n",
       "      <td>RHS1</td>\n",
       "      <td>1</td>\n",
       "      <td>Rider</td>\n",
       "    </tr>\n",
       "    <tr>\n",
       "      <th>18756</th>\n",
       "      <td>60055932</td>\n",
       "      <td>80131787</td>\n",
       "      <td>UL05</td>\n",
       "      <td>1</td>\n",
       "      <td>Base</td>\n",
       "    </tr>\n",
       "    <tr>\n",
       "      <th>18757</th>\n",
       "      <td>60075667</td>\n",
       "      <td>80131499</td>\n",
       "      <td>URA5</td>\n",
       "      <td>1</td>\n",
       "      <td>Rider</td>\n",
       "    </tr>\n",
       "    <tr>\n",
       "      <th>18758</th>\n",
       "      <td>60075667</td>\n",
       "      <td>80131499</td>\n",
       "      <td>UL06</td>\n",
       "      <td>1</td>\n",
       "      <td>Base</td>\n",
       "    </tr>\n",
       "  </tbody>\n",
       "</table>\n",
       "<p>6393 rows × 5 columns</p>\n",
       "</div>"
      ],
      "text/plain": [
       "      Issuing Agent PolicyNum Product Code  Count_Policy Base/Rider\n",
       "2          60074988  80131593         URA5             1      Rider\n",
       "3          60074988  80131593         UL05             1       Base\n",
       "4          60074988  80131593         URC5             1      Rider\n",
       "5          60074988  80131593         URC6             1      Rider\n",
       "6          60074988  80131593         RHB1             1      Rider\n",
       "...             ...       ...          ...           ...        ...\n",
       "18754      60075807  80131687         URC5             1      Rider\n",
       "18755      60075807  80131687         RHS1             1      Rider\n",
       "18756      60055932  80131787         UL05             1       Base\n",
       "18757      60075667  80131499         URA5             1      Rider\n",
       "18758      60075667  80131499         UL06             1       Base\n",
       "\n",
       "[6393 rows x 5 columns]"
      ]
     },
     "execution_count": 212,
     "metadata": {},
     "output_type": "execute_result"
    }
   ],
   "source": [
    "base_rider = PREM_month\n",
    "base_rider = base_rider[['Issuing Agent','Policy No' , 'Product Code']].rename(columns= {'Policy No': 'PolicyNum', \n",
    "                                                                            'Issuing Agent': 'Agent_Issue'})\n",
    "#Join lấy STT hợp đồng\n",
    "base_rider = pd.merge(base_rider, Sum_CC, left_on = 'PolicyNum', right_on = 'Policy No', how = 'left')\n",
    "base_rider = base_rider[['Issuing Agent', 'PolicyNum', 'Product Code', 'Count_Policy']]\n",
    "base_rider = base_rider[base_rider['Count_Policy'] >0]\n",
    "base_rider['Base/Rider'] = np.where(base_rider['Product Code'].isin(['EC01', 'EC02', 'EE01', 'EE02', 'EE03', 'EE04', 'EN03', 'EN04', 'EN05', 'EN06', 'EN07',\\\n",
    "'ES01', 'TL01', 'UL01', 'UL02', 'UL03', 'UL04', 'UL05', 'UL06', 'UL81', 'UL82', 'UL83']), 'Base', 'Rider')\n",
    "base_rider"
   ]
  },
  {
   "cell_type": "markdown",
   "id": "f2cd5fcd",
   "metadata": {},
   "source": [
    "<h5>8.2 Count lại theo Đại lý phát hành "
   ]
  },
  {
   "cell_type": "markdown",
   "id": "476944ca",
   "metadata": {},
   "source": [
    "<h6> 8.2.1 Tính Base"
   ]
  },
  {
   "cell_type": "code",
   "execution_count": 222,
   "id": "2f244750",
   "metadata": {},
   "outputs": [
    {
     "data": {
      "text/html": [
       "<div>\n",
       "<style scoped>\n",
       "    .dataframe tbody tr th:only-of-type {\n",
       "        vertical-align: middle;\n",
       "    }\n",
       "\n",
       "    .dataframe tbody tr th {\n",
       "        vertical-align: top;\n",
       "    }\n",
       "\n",
       "    .dataframe thead th {\n",
       "        text-align: right;\n",
       "    }\n",
       "</style>\n",
       "<table border=\"1\" class=\"dataframe\">\n",
       "  <thead>\n",
       "    <tr style=\"text-align: right;\">\n",
       "      <th></th>\n",
       "      <th>Issuing Agent</th>\n",
       "      <th>Base</th>\n",
       "    </tr>\n",
       "  </thead>\n",
       "  <tbody>\n",
       "    <tr>\n",
       "      <th>0</th>\n",
       "      <td>60000482</td>\n",
       "      <td>1</td>\n",
       "    </tr>\n",
       "    <tr>\n",
       "      <th>1</th>\n",
       "      <td>60000717</td>\n",
       "      <td>1</td>\n",
       "    </tr>\n",
       "    <tr>\n",
       "      <th>2</th>\n",
       "      <td>60000727</td>\n",
       "      <td>3</td>\n",
       "    </tr>\n",
       "    <tr>\n",
       "      <th>3</th>\n",
       "      <td>60005660</td>\n",
       "      <td>1</td>\n",
       "    </tr>\n",
       "    <tr>\n",
       "      <th>4</th>\n",
       "      <td>60005897</td>\n",
       "      <td>1</td>\n",
       "    </tr>\n",
       "    <tr>\n",
       "      <th>...</th>\n",
       "      <td>...</td>\n",
       "      <td>...</td>\n",
       "    </tr>\n",
       "    <tr>\n",
       "      <th>1070</th>\n",
       "      <td>60076139</td>\n",
       "      <td>1</td>\n",
       "    </tr>\n",
       "    <tr>\n",
       "      <th>1071</th>\n",
       "      <td>60076140</td>\n",
       "      <td>1</td>\n",
       "    </tr>\n",
       "    <tr>\n",
       "      <th>1072</th>\n",
       "      <td>60076141</td>\n",
       "      <td>2</td>\n",
       "    </tr>\n",
       "    <tr>\n",
       "      <th>1073</th>\n",
       "      <td>60076148</td>\n",
       "      <td>2</td>\n",
       "    </tr>\n",
       "    <tr>\n",
       "      <th>1074</th>\n",
       "      <td>69999997</td>\n",
       "      <td>1</td>\n",
       "    </tr>\n",
       "  </tbody>\n",
       "</table>\n",
       "<p>1075 rows × 2 columns</p>\n",
       "</div>"
      ],
      "text/plain": [
       "     Issuing Agent  Base\n",
       "0         60000482     1\n",
       "1         60000717     1\n",
       "2         60000727     3\n",
       "3         60005660     1\n",
       "4         60005897     1\n",
       "...            ...   ...\n",
       "1070      60076139     1\n",
       "1071      60076140     1\n",
       "1072      60076141     2\n",
       "1073      60076148     2\n",
       "1074      69999997     1\n",
       "\n",
       "[1075 rows x 2 columns]"
      ]
     },
     "execution_count": 222,
     "metadata": {},
     "output_type": "execute_result"
    }
   ],
   "source": [
    "Sum_base_rider = base_rider\n",
    "#Tính Base\n",
    "Sum_base = Sum_base_rider[Sum_base_rider['Base/Rider'] == 'Base']\n",
    "Sum_base = Sum_base.groupby(['Issuing Agent'])['Base/Rider'].count()\n",
    "Sum_base = Sum_base.reset_index().rename(columns={'Base/Rider':'Base'})\n",
    "Sum_base"
   ]
  },
  {
   "cell_type": "markdown",
   "id": "9f719449",
   "metadata": {},
   "source": [
    "<h6>8.2.2 Tính Rider"
   ]
  },
  {
   "cell_type": "code",
   "execution_count": 225,
   "id": "96673d89",
   "metadata": {},
   "outputs": [
    {
     "data": {
      "text/html": [
       "<div>\n",
       "<style scoped>\n",
       "    .dataframe tbody tr th:only-of-type {\n",
       "        vertical-align: middle;\n",
       "    }\n",
       "\n",
       "    .dataframe tbody tr th {\n",
       "        vertical-align: top;\n",
       "    }\n",
       "\n",
       "    .dataframe thead th {\n",
       "        text-align: right;\n",
       "    }\n",
       "</style>\n",
       "<table border=\"1\" class=\"dataframe\">\n",
       "  <thead>\n",
       "    <tr style=\"text-align: right;\">\n",
       "      <th></th>\n",
       "      <th>Issuing Agent</th>\n",
       "      <th>Rider</th>\n",
       "    </tr>\n",
       "  </thead>\n",
       "  <tbody>\n",
       "    <tr>\n",
       "      <th>0</th>\n",
       "      <td>60000482</td>\n",
       "      <td>3</td>\n",
       "    </tr>\n",
       "    <tr>\n",
       "      <th>1</th>\n",
       "      <td>60000717</td>\n",
       "      <td>3</td>\n",
       "    </tr>\n",
       "    <tr>\n",
       "      <th>2</th>\n",
       "      <td>60000727</td>\n",
       "      <td>7</td>\n",
       "    </tr>\n",
       "    <tr>\n",
       "      <th>3</th>\n",
       "      <td>60005660</td>\n",
       "      <td>4</td>\n",
       "    </tr>\n",
       "    <tr>\n",
       "      <th>4</th>\n",
       "      <td>60005897</td>\n",
       "      <td>5</td>\n",
       "    </tr>\n",
       "    <tr>\n",
       "      <th>...</th>\n",
       "      <td>...</td>\n",
       "      <td>...</td>\n",
       "    </tr>\n",
       "    <tr>\n",
       "      <th>908</th>\n",
       "      <td>60076136</td>\n",
       "      <td>2</td>\n",
       "    </tr>\n",
       "    <tr>\n",
       "      <th>909</th>\n",
       "      <td>60076137</td>\n",
       "      <td>4</td>\n",
       "    </tr>\n",
       "    <tr>\n",
       "      <th>910</th>\n",
       "      <td>60076141</td>\n",
       "      <td>2</td>\n",
       "    </tr>\n",
       "    <tr>\n",
       "      <th>911</th>\n",
       "      <td>60076148</td>\n",
       "      <td>9</td>\n",
       "    </tr>\n",
       "    <tr>\n",
       "      <th>912</th>\n",
       "      <td>69999997</td>\n",
       "      <td>5</td>\n",
       "    </tr>\n",
       "  </tbody>\n",
       "</table>\n",
       "<p>913 rows × 2 columns</p>\n",
       "</div>"
      ],
      "text/plain": [
       "    Issuing Agent  Rider\n",
       "0        60000482      3\n",
       "1        60000717      3\n",
       "2        60000727      7\n",
       "3        60005660      4\n",
       "4        60005897      5\n",
       "..            ...    ...\n",
       "908      60076136      2\n",
       "909      60076137      4\n",
       "910      60076141      2\n",
       "911      60076148      9\n",
       "912      69999997      5\n",
       "\n",
       "[913 rows x 2 columns]"
      ]
     },
     "execution_count": 225,
     "metadata": {},
     "output_type": "execute_result"
    }
   ],
   "source": [
    "Sum_base_rider = base_rider\n",
    "#Tính Base\n",
    "Sum_rider = Sum_base_rider[Sum_base_rider['Base/Rider'] == 'Rider']\n",
    "Sum_rider = Sum_rider.groupby(['Issuing Agent'])['Base/Rider'].count()\n",
    "Sum_rider = Sum_rider.reset_index().rename(columns={'Base/Rider':'Rider'})\n",
    "Sum_rider"
   ]
  },
  {
   "cell_type": "markdown",
   "id": "67a9dfb8",
   "metadata": {},
   "source": [
    "<h6>8.2.3 Tính Final Base/Rider"
   ]
  },
  {
   "cell_type": "code",
   "execution_count": 233,
   "id": "4b08fc63",
   "metadata": {},
   "outputs": [
    {
     "data": {
      "text/html": [
       "<div>\n",
       "<style scoped>\n",
       "    .dataframe tbody tr th:only-of-type {\n",
       "        vertical-align: middle;\n",
       "    }\n",
       "\n",
       "    .dataframe tbody tr th {\n",
       "        vertical-align: top;\n",
       "    }\n",
       "\n",
       "    .dataframe thead th {\n",
       "        text-align: right;\n",
       "    }\n",
       "</style>\n",
       "<table border=\"1\" class=\"dataframe\">\n",
       "  <thead>\n",
       "    <tr style=\"text-align: right;\">\n",
       "      <th></th>\n",
       "      <th>Issuing Agent</th>\n",
       "      <th>Base</th>\n",
       "      <th>Rider</th>\n",
       "      <th>%Rider/Base</th>\n",
       "    </tr>\n",
       "  </thead>\n",
       "  <tbody>\n",
       "    <tr>\n",
       "      <th>0</th>\n",
       "      <td>60000482</td>\n",
       "      <td>1</td>\n",
       "      <td>3.0</td>\n",
       "      <td>3.00</td>\n",
       "    </tr>\n",
       "    <tr>\n",
       "      <th>1</th>\n",
       "      <td>60000717</td>\n",
       "      <td>1</td>\n",
       "      <td>3.0</td>\n",
       "      <td>3.00</td>\n",
       "    </tr>\n",
       "    <tr>\n",
       "      <th>2</th>\n",
       "      <td>60000727</td>\n",
       "      <td>3</td>\n",
       "      <td>7.0</td>\n",
       "      <td>2.33</td>\n",
       "    </tr>\n",
       "    <tr>\n",
       "      <th>3</th>\n",
       "      <td>60005660</td>\n",
       "      <td>1</td>\n",
       "      <td>4.0</td>\n",
       "      <td>4.00</td>\n",
       "    </tr>\n",
       "    <tr>\n",
       "      <th>4</th>\n",
       "      <td>60005897</td>\n",
       "      <td>1</td>\n",
       "      <td>5.0</td>\n",
       "      <td>5.00</td>\n",
       "    </tr>\n",
       "    <tr>\n",
       "      <th>...</th>\n",
       "      <td>...</td>\n",
       "      <td>...</td>\n",
       "      <td>...</td>\n",
       "      <td>...</td>\n",
       "    </tr>\n",
       "    <tr>\n",
       "      <th>1070</th>\n",
       "      <td>60076139</td>\n",
       "      <td>1</td>\n",
       "      <td>0.0</td>\n",
       "      <td>0.00</td>\n",
       "    </tr>\n",
       "    <tr>\n",
       "      <th>1071</th>\n",
       "      <td>60076140</td>\n",
       "      <td>1</td>\n",
       "      <td>0.0</td>\n",
       "      <td>0.00</td>\n",
       "    </tr>\n",
       "    <tr>\n",
       "      <th>1072</th>\n",
       "      <td>60076141</td>\n",
       "      <td>2</td>\n",
       "      <td>2.0</td>\n",
       "      <td>1.00</td>\n",
       "    </tr>\n",
       "    <tr>\n",
       "      <th>1073</th>\n",
       "      <td>60076148</td>\n",
       "      <td>2</td>\n",
       "      <td>9.0</td>\n",
       "      <td>4.50</td>\n",
       "    </tr>\n",
       "    <tr>\n",
       "      <th>1074</th>\n",
       "      <td>69999997</td>\n",
       "      <td>1</td>\n",
       "      <td>5.0</td>\n",
       "      <td>5.00</td>\n",
       "    </tr>\n",
       "  </tbody>\n",
       "</table>\n",
       "<p>1075 rows × 4 columns</p>\n",
       "</div>"
      ],
      "text/plain": [
       "     Issuing Agent  Base  Rider  %Rider/Base\n",
       "0         60000482     1    3.0         3.00\n",
       "1         60000717     1    3.0         3.00\n",
       "2         60000727     3    7.0         2.33\n",
       "3         60005660     1    4.0         4.00\n",
       "4         60005897     1    5.0         5.00\n",
       "...            ...   ...    ...          ...\n",
       "1070      60076139     1    0.0         0.00\n",
       "1071      60076140     1    0.0         0.00\n",
       "1072      60076141     2    2.0         1.00\n",
       "1073      60076148     2    9.0         4.50\n",
       "1074      69999997     1    5.0         5.00\n",
       "\n",
       "[1075 rows x 4 columns]"
      ]
     },
     "execution_count": 233,
     "metadata": {},
     "output_type": "execute_result"
    }
   ],
   "source": [
    "Final_Base_Rider = pd.merge(Sum_base, Sum_rider, on = 'Issuing Agent', how = 'left' )\n",
    "Final_Base_Rider = Final_Base_Rider.fillna(0)\n",
    "Final_Base_Rider['%Rider/Base'] = round(Final_Base_Rider['Rider'] / Final_Base_Rider['Base'], 2)\n",
    "Final_Base_Rider"
   ]
  },
  {
   "cell_type": "code",
   "execution_count": 232,
   "id": "660fea03",
   "metadata": {},
   "outputs": [],
   "source": []
  },
  {
   "cell_type": "code",
   "execution_count": null,
   "id": "977894cf",
   "metadata": {},
   "outputs": [],
   "source": []
  }
 ],
 "metadata": {
  "kernelspec": {
   "display_name": "Python 3 (ipykernel)",
   "language": "python",
   "name": "python3"
  },
  "language_info": {
   "codemirror_mode": {
    "name": "ipython",
    "version": 3
   },
   "file_extension": ".py",
   "mimetype": "text/x-python",
   "name": "python",
   "nbconvert_exporter": "python",
   "pygments_lexer": "ipython3",
   "version": "3.10.9"
  }
 },
 "nbformat": 4,
 "nbformat_minor": 5
}

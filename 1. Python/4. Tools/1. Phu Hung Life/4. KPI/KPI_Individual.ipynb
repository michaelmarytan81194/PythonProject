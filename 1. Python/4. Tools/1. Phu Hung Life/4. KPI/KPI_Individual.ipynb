{
 "cells": [
  {
   "cell_type": "code",
   "execution_count": 1,
   "id": "a1921655",
   "metadata": {},
   "outputs": [],
   "source": [
    "import numpy as np\n",
    "import pandas as pd\n",
    "import pyodbc as pyo\n",
    "import sqlalchemy as sa\n",
    "import numpy as np\n",
    "import math\n",
    "import datetime\n",
    "connection_uri = (\n",
    "    \"mssql+pyodbc://TEDPHO0134\\TANDT_DP/DP_Tan?driver=ODBC+Driver+17+for+SQL+Server\"\n",
    ")\n",
    "conn = sa.create_engine(connection_uri)"
   ]
  },
  {
   "cell_type": "markdown",
   "id": "3bf3fa12",
   "metadata": {},
   "source": [
    "<h4>1. Lấy bảng PREMIUM <h4>"
   ]
  },
  {
   "cell_type": "code",
   "execution_count": 2,
   "id": "caa7d81f",
   "metadata": {},
   "outputs": [],
   "source": [
    "cutoff = '20230131'\n",
    "premium_query = f\"select * from PREMIUM_KPI where CUTOFF = '{cutoff}'\"\n",
    "premium = pd.read_sql(premium_query, conn)"
   ]
  },
  {
   "cell_type": "code",
   "execution_count": 3,
   "id": "3df6d665",
   "metadata": {},
   "outputs": [],
   "source": [
    "premium_table = premium"
   ]
  },
  {
   "cell_type": "markdown",
   "id": "df4e0312",
   "metadata": {},
   "source": [
    "<h4>1.1 Lấy bảng DAILYSALES <h4>\n",
    "\n"
   ]
  },
  {
   "cell_type": "code",
   "execution_count": null,
   "id": "082c1a13",
   "metadata": {},
   "outputs": [],
   "source": [
    "dailysales_query = f\"select * from KPI_DAILYSALES where CUTOFF = '{cutoff}'\"\n",
    "dailysales = pd.read_sql(dailysales_query, conn)"
   ]
  },
  {
   "cell_type": "markdown",
   "id": "5ae2dc12",
   "metadata": {},
   "source": [
    "<h4> 2. Lấy ra PERIOD<h4>"
   ]
  },
  {
   "cell_type": "code",
   "execution_count": 10,
   "id": "1a7c28e0",
   "metadata": {},
   "outputs": [],
   "source": [
    "premium_table = premium_table.loc[:, premium_table.columns != 'Link_Key']"
   ]
  },
  {
   "cell_type": "code",
   "execution_count": 12,
   "id": "eee7de37",
   "metadata": {},
   "outputs": [],
   "source": [
    "#Thêm cột ngày xét\n",
    "Monthly_Premium = premium_table\n",
    "Monthly_Premium['Date_On_Set'] = \"\" #Tạo ra cột trống\n",
    "Monthly_Premium['Date_On_Set']= Monthly_Premium['Date_On_Set'].str.cat(Monthly_Premium['CUTOFF'].str[:4] ,sep =\"\")\n",
    "Monthly_Premium['Date_On_Set']= Monthly_Premium['Date_On_Set'].str.cat(Monthly_Premium['CUTOFF'].str[4:6] ,sep =\"-\")\n",
    "Monthly_Premium['Date_On_Set']= Monthly_Premium['Date_On_Set'].str.cat(Monthly_Premium['CUTOFF'].str[6:8] ,sep =\"-\")"
   ]
  },
  {
   "cell_type": "code",
   "execution_count": 13,
   "id": "428b6114",
   "metadata": {},
   "outputs": [],
   "source": [
    "#Phải biến thành kiểu datetime trước\n",
    "Monthly_Premium['Date_On_Set'] = pd.to_datetime(Monthly_Premium['Date_On_Set'])\n",
    "#Thêm cột ngày đầu tháng:\n",
    "#-> Đưa vào ngày 1 của tháng\n",
    "#LƯU Ý CÁC NGÀY OFF ĐẶC BIỆT CỦA THÁNG 4.2023 VÀ 01/2024\n",
    "if not('20240229' in Monthly_Premium['CUTOFF'].values): \n",
    "    Monthly_Premium['Start_Month'] = (Monthly_Premium['Date_On_Set'].dt.floor('d') + pd.offsets.MonthEnd(0) - pd.offsets.MonthBegin(1))\n",
    "elif ('20230531' in Monthly_Premium['CUTOFF'].values):\n",
    "    Monthly_Premium.loc[:,'Start_Month'] = '2023-04-29'\n",
    "else:\n",
    "    Monthly_Premium.loc[:,'Start_Month'] = '2024-01-27'"
   ]
  },
  {
   "cell_type": "code",
   "execution_count": 16,
   "id": "c82c22e0",
   "metadata": {},
   "outputs": [
    {
     "data": {
      "text/plain": [
       "Index(['Policy No', 'Product Code', 'Premium transaction', 'PREM TRAN NAME',\n",
       "       'Premium Collected', 'Collected Date', 'Applied Premium Date',\n",
       "       'FYP Before Discount', 'FYP Discount', 'FYP', 'RYP', 'Topup Premium',\n",
       "       'Premium Term', 'Premium Year', 'Policy Status', 'Policy Year',\n",
       "       'Policy Term', 'Frequency of Payment', 'Issued Date', 'Effected Date',\n",
       "       'Terminated Date', 'Lapse Date', 'Due date', 'Next Due Date',\n",
       "       'Transfer Date', 'POLICY ACKNOWLED', 'Sum Assure', 'Area Code',\n",
       "       'Servicing Agent', 'Freelook', 'Proposal Receive Date',\n",
       "       'RISK_COMMENCE_DATE', 'Age_Customer', 'Issuing Agent', 'AFYP', 'CUTOFF',\n",
       "       'RETURN_DATE', 'Last_Policy_STT', 'Date_On_Set', 'Start_Month'],\n",
       "      dtype='object')"
      ]
     },
     "execution_count": 16,
     "metadata": {},
     "output_type": "execute_result"
    }
   ],
   "source": [
    "Monthly_Premium.columns"
   ]
  },
  {
   "cell_type": "code",
   "execution_count": 17,
   "id": "d72ce2e7",
   "metadata": {},
   "outputs": [],
   "source": [
    "#Lấy ra ngày Period:\n",
    "#LƯU Ý CÁCH CỘNG 1 NGÀY VÀO CỘT APPLIED PREMIUM DATE\n",
    "Period_Com = Monthly_Premium\n",
    "Period_Com ['Date_Period_1'] = np.where( (Period_Com['Policy Status'] == 'FL'), Period_Com['Issued Date'],\n",
    "np.where( (Period_Com['POLICY ACKNOWLED'].isnull()), Period_Com['Issued Date'],\n",
    "np.where((((Period_Com['Applied Premium Date'] + datetime.timedelta(days=1)) - Period_Com['POLICY ACKNOWLED']) / np.timedelta64(1, 'D')) < 22,\n",
    "Period_Com['Issued Date'], Period_Com['Applied Premium Date'])))"
   ]
  },
  {
   "cell_type": "code",
   "execution_count": 20,
   "id": "7240c2a7",
   "metadata": {},
   "outputs": [],
   "source": [
    "Period_Prem = Period_Com\n",
    "calculate_condition = ((Period_Prem['Applied Premium Date'] >= Period_Prem['Start_Month']) & (Period_Prem['Applied Premium Date'] <= Period_Prem['Date_On_Set']))\n",
    "PREM_month = Period_Prem[((Period_Prem['Applied Premium Date'] >= Period_Prem['Start_Month']) & (Period_Prem['Applied Premium Date'] <= Period_Prem['Date_On_Set']))]"
   ]
  },
  {
   "cell_type": "markdown",
   "id": "20295e76",
   "metadata": {},
   "source": [
    "<h4>3. Tính CaseCount <h4>"
   ]
  },
  {
   "cell_type": "code",
   "execution_count": 27,
   "id": "4cd3118e",
   "metadata": {},
   "outputs": [
    {
     "name": "stderr",
     "output_type": "stream",
     "text": [
      "C:\\Users\\vagy1255\\AppData\\Local\\Temp\\ipykernel_17644\\632978849.py:2: SettingWithCopyWarning: \n",
      "A value is trying to be set on a copy of a slice from a DataFrame.\n",
      "Try using .loc[row_indexer,col_indexer] = value instead\n",
      "\n",
      "See the caveats in the documentation: https://pandas.pydata.org/pandas-docs/stable/user_guide/indexing.html#returning-a-view-versus-a-copy\n",
      "  CC_prem['Status Transition'] = CC_prem['Last_Policy_STT'] + \"to\" + CC_prem['Policy Status']\n"
     ]
    }
   ],
   "source": [
    "CC_prem = PREM_month\n",
    "CC_prem['Status Transition'] = CC_prem['Last_Policy_STT'] + \"to\" + CC_prem['Policy Status'] "
   ]
  },
  {
   "cell_type": "code",
   "execution_count": null,
   "id": "c48f5106",
   "metadata": {},
   "outputs": [],
   "source": [
    "#Loại bỏ khoản trắng:\n"
   ]
  },
  {
   "cell_type": "code",
   "execution_count": 51,
   "id": "320ccdef",
   "metadata": {
    "scrolled": true
   },
   "outputs": [
    {
     "name": "stderr",
     "output_type": "stream",
     "text": [
      "C:\\Users\\vagy1255\\AppData\\Local\\Temp\\ipykernel_17644\\1807299906.py:1: SettingWithCopyWarning: \n",
      "A value is trying to be set on a copy of a slice from a DataFrame.\n",
      "Try using .loc[row_indexer,col_indexer] = value instead\n",
      "\n",
      "See the caveats in the documentation: https://pandas.pydata.org/pandas-docs/stable/user_guide/indexing.html#returning-a-view-versus-a-copy\n",
      "  CC_prem['PREM TRAN NAME'] = CC_prem['PREM TRAN NAME'].str.strip()\n"
     ]
    }
   ],
   "source": [
    "CC_prem['PREM TRAN NAME'] = CC_prem['PREM TRAN NAME'].str.strip()"
   ]
  },
  {
   "cell_type": "code",
   "execution_count": 54,
   "id": "db7010f1",
   "metadata": {},
   "outputs": [
    {
     "name": "stderr",
     "output_type": "stream",
     "text": [
      "C:\\Users\\vagy1255\\AppData\\Local\\Temp\\ipykernel_17644\\3210236533.py:1: SettingWithCopyWarning: \n",
      "A value is trying to be set on a copy of a slice from a DataFrame.\n",
      "Try using .loc[row_indexer,col_indexer] = value instead\n",
      "\n",
      "See the caveats in the documentation: https://pandas.pydata.org/pandas-docs/stable/user_guide/indexing.html#returning-a-view-versus-a-copy\n",
      "  CC_prem['Count_Stage_1'] = np.where((CC_prem['PREM TRAN NAME'] == 'Contract Issue') & (CC_prem['Last_Policy_STT'].isnull()) , 1,\n"
     ]
    }
   ],
   "source": [
    "CC_prem['Count_Stage_1'] = np.where((CC_prem['PREM TRAN NAME'] == 'Contract Issue') & (CC_prem['Last_Policy_STT'].isnull()) , 1,\n",
    "                        np.where((CC_prem['PREM TRAN NAME'] == 'Freelook Cancellation') & (CC_prem['Last_Policy_STT'].isnull()),-1, 0))"
   ]
  },
  {
   "cell_type": "code",
   "execution_count": 59,
   "id": "e7e4a8d8",
   "metadata": {},
   "outputs": [
    {
     "name": "stderr",
     "output_type": "stream",
     "text": [
      "C:\\Users\\vagy1255\\AppData\\Local\\Temp\\ipykernel_17644\\3233848328.py:1: SettingWithCopyWarning: \n",
      "A value is trying to be set on a copy of a slice from a DataFrame.\n",
      "Try using .loc[row_indexer,col_indexer] = value instead\n",
      "\n",
      "See the caveats in the documentation: https://pandas.pydata.org/pandas-docs/stable/user_guide/indexing.html#returning-a-view-versus-a-copy\n",
      "  CC_prem['Count_Stage_2'] = np.where((CC_prem['Status Transition'].str.len() >5) &\\\n"
     ]
    }
   ],
   "source": [
    "CC_prem['Count_Stage_2'] = np.where((CC_prem['Status Transition'].str.len() >5) &\\\n",
    "                        CC_prem['Status Transition'].str[4:].isin(['FL', 'CF', 'DC', 'DH', 'NT', 'PO', 'WD']), -1,\n",
    "                        np.where((CC_prem['Status Transition'].str.len() < 5) &\\\n",
    "                        CC_prem['Status Transition'].str[4:].isin(['IF']), 1, 0))"
   ]
  },
  {
   "cell_type": "code",
   "execution_count": 61,
   "id": "ef4c869d",
   "metadata": {},
   "outputs": [
    {
     "name": "stderr",
     "output_type": "stream",
     "text": [
      "C:\\Users\\vagy1255\\AppData\\Local\\Temp\\ipykernel_17644\\3545740601.py:1: SettingWithCopyWarning: \n",
      "A value is trying to be set on a copy of a slice from a DataFrame.\n",
      "Try using .loc[row_indexer,col_indexer] = value instead\n",
      "\n",
      "See the caveats in the documentation: https://pandas.pydata.org/pandas-docs/stable/user_guide/indexing.html#returning-a-view-versus-a-copy\n",
      "  CC_prem['Count_Policy'] = np.where((CC_prem['Count_Stage_2']) == 0, CC_prem['Count_Stage_1'], CC_prem['Count_Stage_2'] )\n"
     ]
    }
   ],
   "source": [
    "CC_prem['Count_Policy'] = np.where((CC_prem['Count_Stage_2']) == 0, CC_prem['Count_Stage_1'], CC_prem['Count_Stage_2'] )"
   ]
  },
  {
   "cell_type": "markdown",
   "id": "2555c299",
   "metadata": {},
   "source": [
    "<h4>4. Sum để lấy CaseCount <h4>"
   ]
  },
  {
   "cell_type": "code",
   "execution_count": 67,
   "id": "f061dff4",
   "metadata": {},
   "outputs": [],
   "source": [
    "#Nếu muốn check trạng thái CC của HD, check chỗ này\n",
    "CaseCount = CC_prem\n",
    "CaseCount = CaseCount[['Issuing Agent', 'Policy No', 'CUTOFF', 'Count_Policy']].drop_duplicates()\n",
    "Sum_CC = CaseCount.groupby(['Issuing Agent', 'Policy No', 'CUTOFF'])['Count_Policy'].sum()\n",
    "Sum_CC = Sum_CC.reset_index()"
   ]
  },
  {
   "cell_type": "code",
   "execution_count": 73,
   "id": "e26ae5b2",
   "metadata": {},
   "outputs": [],
   "source": [
    "Sum_CC.loc[(Sum_CC['Count_Policy'] <0),'CC(-)'] = Sum_CC['Count_Policy']\n",
    "Sum_CC.loc[(Sum_CC['Count_Policy'] >0),'CC(+)'] = Sum_CC['Count_Policy']"
   ]
  },
  {
   "cell_type": "code",
   "execution_count": 76,
   "id": "5320fa27",
   "metadata": {},
   "outputs": [
    {
     "data": {
      "text/html": [
       "<div>\n",
       "<style scoped>\n",
       "    .dataframe tbody tr th:only-of-type {\n",
       "        vertical-align: middle;\n",
       "    }\n",
       "\n",
       "    .dataframe tbody tr th {\n",
       "        vertical-align: top;\n",
       "    }\n",
       "\n",
       "    .dataframe thead th {\n",
       "        text-align: right;\n",
       "    }\n",
       "</style>\n",
       "<table border=\"1\" class=\"dataframe\">\n",
       "  <thead>\n",
       "    <tr style=\"text-align: right;\">\n",
       "      <th></th>\n",
       "      <th>Issuing Agent</th>\n",
       "      <th>Policy No</th>\n",
       "      <th>CUTOFF</th>\n",
       "      <th>Count_Policy</th>\n",
       "      <th>CC(-)</th>\n",
       "      <th>CC(+)</th>\n",
       "    </tr>\n",
       "  </thead>\n",
       "  <tbody>\n",
       "    <tr>\n",
       "      <th>0</th>\n",
       "      <td>60000073</td>\n",
       "      <td>80000089</td>\n",
       "      <td>20230131</td>\n",
       "      <td>0</td>\n",
       "      <td>NaN</td>\n",
       "      <td>NaN</td>\n",
       "    </tr>\n",
       "    <tr>\n",
       "      <th>1</th>\n",
       "      <td>60000156</td>\n",
       "      <td>80000302</td>\n",
       "      <td>20230131</td>\n",
       "      <td>0</td>\n",
       "      <td>NaN</td>\n",
       "      <td>NaN</td>\n",
       "    </tr>\n",
       "    <tr>\n",
       "      <th>2</th>\n",
       "      <td>60000204</td>\n",
       "      <td>80000483</td>\n",
       "      <td>20230131</td>\n",
       "      <td>0</td>\n",
       "      <td>NaN</td>\n",
       "      <td>NaN</td>\n",
       "    </tr>\n",
       "    <tr>\n",
       "      <th>3</th>\n",
       "      <td>60000482</td>\n",
       "      <td>80132262</td>\n",
       "      <td>20230131</td>\n",
       "      <td>1</td>\n",
       "      <td>NaN</td>\n",
       "      <td>1.0</td>\n",
       "    </tr>\n",
       "    <tr>\n",
       "      <th>4</th>\n",
       "      <td>60000717</td>\n",
       "      <td>80132247</td>\n",
       "      <td>20230131</td>\n",
       "      <td>1</td>\n",
       "      <td>NaN</td>\n",
       "      <td>1.0</td>\n",
       "    </tr>\n",
       "    <tr>\n",
       "      <th>...</th>\n",
       "      <td>...</td>\n",
       "      <td>...</td>\n",
       "      <td>...</td>\n",
       "      <td>...</td>\n",
       "      <td>...</td>\n",
       "      <td>...</td>\n",
       "    </tr>\n",
       "    <tr>\n",
       "      <th>4400</th>\n",
       "      <td>69999993</td>\n",
       "      <td>80000222</td>\n",
       "      <td>20230131</td>\n",
       "      <td>0</td>\n",
       "      <td>NaN</td>\n",
       "      <td>NaN</td>\n",
       "    </tr>\n",
       "    <tr>\n",
       "      <th>4401</th>\n",
       "      <td>69999996</td>\n",
       "      <td>80000077</td>\n",
       "      <td>20230131</td>\n",
       "      <td>0</td>\n",
       "      <td>NaN</td>\n",
       "      <td>NaN</td>\n",
       "    </tr>\n",
       "    <tr>\n",
       "      <th>4402</th>\n",
       "      <td>69999997</td>\n",
       "      <td>80072097</td>\n",
       "      <td>20230131</td>\n",
       "      <td>0</td>\n",
       "      <td>NaN</td>\n",
       "      <td>NaN</td>\n",
       "    </tr>\n",
       "    <tr>\n",
       "      <th>4403</th>\n",
       "      <td>69999997</td>\n",
       "      <td>80073594</td>\n",
       "      <td>20230131</td>\n",
       "      <td>0</td>\n",
       "      <td>NaN</td>\n",
       "      <td>NaN</td>\n",
       "    </tr>\n",
       "    <tr>\n",
       "      <th>4404</th>\n",
       "      <td>69999997</td>\n",
       "      <td>80132111</td>\n",
       "      <td>20230131</td>\n",
       "      <td>1</td>\n",
       "      <td>NaN</td>\n",
       "      <td>1.0</td>\n",
       "    </tr>\n",
       "  </tbody>\n",
       "</table>\n",
       "<p>4405 rows × 6 columns</p>\n",
       "</div>"
      ],
      "text/plain": [
       "     Issuing Agent Policy No    CUTOFF  Count_Policy  CC(-)  CC(+)\n",
       "0         60000073  80000089  20230131             0    NaN    NaN\n",
       "1         60000156  80000302  20230131             0    NaN    NaN\n",
       "2         60000204  80000483  20230131             0    NaN    NaN\n",
       "3         60000482  80132262  20230131             1    NaN    1.0\n",
       "4         60000717  80132247  20230131             1    NaN    1.0\n",
       "...            ...       ...       ...           ...    ...    ...\n",
       "4400      69999993  80000222  20230131             0    NaN    NaN\n",
       "4401      69999996  80000077  20230131             0    NaN    NaN\n",
       "4402      69999997  80072097  20230131             0    NaN    NaN\n",
       "4403      69999997  80073594  20230131             0    NaN    NaN\n",
       "4404      69999997  80132111  20230131             1    NaN    1.0\n",
       "\n",
       "[4405 rows x 6 columns]"
      ]
     },
     "execution_count": 76,
     "metadata": {},
     "output_type": "execute_result"
    }
   ],
   "source": [
    "Sum_CC"
   ]
  },
  {
   "cell_type": "markdown",
   "id": "eb42ca53",
   "metadata": {},
   "source": [
    "<h5>4.1 Sum lại CaseCount theo Đại lý phát hành HD <h4>"
   ]
  },
  {
   "cell_type": "code",
   "execution_count": 78,
   "id": "28af40a3",
   "metadata": {},
   "outputs": [],
   "source": [
    "Agent_CC = Sum_CC.groupby(['Issuing Agent', 'CUTOFF'])[['CC(-)', 'CC(+)']].sum()\n",
    "Agent_CC = Agent_CC.reset_index()"
   ]
  },
  {
   "cell_type": "markdown",
   "id": "51f89a91",
   "metadata": {},
   "source": [
    "<h4>5. Tính FYP <h4>"
   ]
  },
  {
   "cell_type": "code",
   "execution_count": 113,
   "id": "2bdee249",
   "metadata": {},
   "outputs": [],
   "source": [
    "FYP_month = PREM_month\n",
    "FYP_month = pd.merge(FYP_month, Sum_CC, left_on = 'Policy No', right_on = 'Policy No', how = 'left' )\n",
    "FYP_month = FYP_month[['Policy No', 'Product Code', 'Premium transaction', 'PREM TRAN NAME',\n",
    "       'Premium Collected', 'Collected Date', 'Applied Premium Date',\n",
    "       'FYP Before Discount', 'FYP Discount', 'FYP', 'RYP', 'Topup Premium',\n",
    "       'Premium Term', 'Premium Year', 'Policy Status', 'Policy Year',\n",
    "       'Policy Term', 'Frequency of Payment', 'Issued Date', 'Effected Date',\n",
    "       'Terminated Date', 'Lapse Date', 'Due date', 'Next Due Date',\n",
    "       'Transfer Date', 'POLICY ACKNOWLED', 'Sum Assure', 'Area Code',\n",
    "       'Servicing Agent', 'Freelook', 'Proposal Receive Date',\n",
    "       'RISK_COMMENCE_DATE', 'Age_Customer', 'Issuing Agent_x', 'AFYP',\n",
    "       'CUTOFF_x', 'RETURN_DATE', 'Count_Policy_y']].rename(columns={'Issuing Agent_x': 'Issuing Agent', 'Count_Policy_y': 'Count_Policy','CUTOFF_x':'CUTOFF'})"
   ]
  },
  {
   "cell_type": "markdown",
   "id": "3461767a",
   "metadata": {},
   "source": [
    "<h5> 5.1 Sum lại theo Servicing Agent lấy FYP <h5>"
   ]
  },
  {
   "cell_type": "code",
   "execution_count": 116,
   "id": "f5e2ab08",
   "metadata": {},
   "outputs": [
    {
     "data": {
      "text/html": [
       "<div>\n",
       "<style scoped>\n",
       "    .dataframe tbody tr th:only-of-type {\n",
       "        vertical-align: middle;\n",
       "    }\n",
       "\n",
       "    .dataframe tbody tr th {\n",
       "        vertical-align: top;\n",
       "    }\n",
       "\n",
       "    .dataframe thead th {\n",
       "        text-align: right;\n",
       "    }\n",
       "</style>\n",
       "<table border=\"1\" class=\"dataframe\">\n",
       "  <thead>\n",
       "    <tr style=\"text-align: right;\">\n",
       "      <th></th>\n",
       "      <th></th>\n",
       "      <th>FYP(-)</th>\n",
       "      <th>FYP(+)</th>\n",
       "    </tr>\n",
       "    <tr>\n",
       "      <th>Servicing Agent</th>\n",
       "      <th>CUTOFF</th>\n",
       "      <th></th>\n",
       "      <th></th>\n",
       "    </tr>\n",
       "  </thead>\n",
       "  <tbody>\n",
       "    <tr>\n",
       "      <th>60000194</th>\n",
       "      <th>20230131</th>\n",
       "      <td>0.0</td>\n",
       "      <td>0.0</td>\n",
       "    </tr>\n",
       "    <tr>\n",
       "      <th>60000449</th>\n",
       "      <th>20230131</th>\n",
       "      <td>0.0</td>\n",
       "      <td>0.0</td>\n",
       "    </tr>\n",
       "    <tr>\n",
       "      <th>60000482</th>\n",
       "      <th>20230131</th>\n",
       "      <td>0.0</td>\n",
       "      <td>16026000.0</td>\n",
       "    </tr>\n",
       "    <tr>\n",
       "      <th>60000564</th>\n",
       "      <th>20230131</th>\n",
       "      <td>0.0</td>\n",
       "      <td>0.0</td>\n",
       "    </tr>\n",
       "    <tr>\n",
       "      <th>60000717</th>\n",
       "      <th>20230131</th>\n",
       "      <td>0.0</td>\n",
       "      <td>16141000.0</td>\n",
       "    </tr>\n",
       "    <tr>\n",
       "      <th>...</th>\n",
       "      <th>...</th>\n",
       "      <td>...</td>\n",
       "      <td>...</td>\n",
       "    </tr>\n",
       "    <tr>\n",
       "      <th>60076140</th>\n",
       "      <th>20230131</th>\n",
       "      <td>0.0</td>\n",
       "      <td>10003000.0</td>\n",
       "    </tr>\n",
       "    <tr>\n",
       "      <th>60076141</th>\n",
       "      <th>20230131</th>\n",
       "      <td>0.0</td>\n",
       "      <td>30256000.0</td>\n",
       "    </tr>\n",
       "    <tr>\n",
       "      <th>60076148</th>\n",
       "      <th>20230131</th>\n",
       "      <td>0.0</td>\n",
       "      <td>32048000.0</td>\n",
       "    </tr>\n",
       "    <tr>\n",
       "      <th>69999997</th>\n",
       "      <th>20230131</th>\n",
       "      <td>0.0</td>\n",
       "      <td>20622000.0</td>\n",
       "    </tr>\n",
       "    <tr>\n",
       "      <th>69999998</th>\n",
       "      <th>20230131</th>\n",
       "      <td>0.0</td>\n",
       "      <td>2075500.0</td>\n",
       "    </tr>\n",
       "  </tbody>\n",
       "</table>\n",
       "<p>2655 rows × 2 columns</p>\n",
       "</div>"
      ],
      "text/plain": [
       "                          FYP(-)      FYP(+)\n",
       "Servicing Agent CUTOFF                      \n",
       "60000194        20230131     0.0         0.0\n",
       "60000449        20230131     0.0         0.0\n",
       "60000482        20230131     0.0  16026000.0\n",
       "60000564        20230131     0.0         0.0\n",
       "60000717        20230131     0.0  16141000.0\n",
       "...                          ...         ...\n",
       "60076140        20230131     0.0  10003000.0\n",
       "60076141        20230131     0.0  30256000.0\n",
       "60076148        20230131     0.0  32048000.0\n",
       "69999997        20230131     0.0  20622000.0\n",
       "69999998        20230131     0.0   2075500.0\n",
       "\n",
       "[2655 rows x 2 columns]"
      ]
     },
     "execution_count": 116,
     "metadata": {},
     "output_type": "execute_result"
    }
   ],
   "source": [
    "Sum_FYP = FYP_month\n",
    "Sum_FYP['FYP_Total'] = Sum_FYP['FYP'] + Sum_FYP['Topup Premium']*0.1\n",
    "Sum_FYP.loc[(Sum_FYP['FYP_Total'] <0), 'FYP(-)'] = Sum_FYP['FYP_Total']\n",
    "Sum_FYP.loc[(Sum_FYP['FYP_Total'] >0), 'FYP(+)'] = Sum_FYP['FYP_Total']\n",
    "Sum_FYP = Sum_FYP.groupby(['Servicing Agent','Policy No', 'CUTOFF', 'Count_Policy'])['FYP_Total'].sum()\n",
    "Sum_FYP = Sum_FYP.reset_index()\n",
    "#Rules: Các HD Mark -1=> HD giảm phí, tính FYP(-), các HD đang còn IF, trạng thái 0, 1 => FYP(+)\n",
    "Sum_FYP.loc[(Sum_FYP['Count_Policy'] <0), 'FYP(-)'] = Sum_FYP['FYP_Total']\n",
    "Sum_FYP.loc[(Sum_FYP['Count_Policy'] >=0), 'FYP(+)'] = Sum_FYP['FYP_Total']\n",
    "Sum_FYP = Sum_FYP.groupby(['Servicing Agent', 'CUTOFF'])[['FYP(-)', 'FYP(+)']].sum()\n",
    "Sum_FYP"
   ]
  },
  {
   "cell_type": "code",
   "execution_count": 117,
   "id": "24a67fd9",
   "metadata": {},
   "outputs": [],
   "source": [
    "Sum_FYP.to_csv('checkFYP.csv')"
   ]
  },
  {
   "cell_type": "code",
   "execution_count": null,
   "id": "603d3657",
   "metadata": {},
   "outputs": [],
   "source": []
  }
 ],
 "metadata": {
  "kernelspec": {
   "display_name": "Python 3 (ipykernel)",
   "language": "python",
   "name": "python3"
  },
  "language_info": {
   "codemirror_mode": {
    "name": "ipython",
    "version": 3
   },
   "file_extension": ".py",
   "mimetype": "text/x-python",
   "name": "python",
   "nbconvert_exporter": "python",
   "pygments_lexer": "ipython3",
   "version": "3.10.9"
  }
 },
 "nbformat": 4,
 "nbformat_minor": 5
}

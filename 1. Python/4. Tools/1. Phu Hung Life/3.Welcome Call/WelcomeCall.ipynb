{
 "cells": [
  {
   "cell_type": "code",
   "execution_count": 1,
   "id": "84ba255c",
   "metadata": {},
   "outputs": [],
   "source": [
    "import pandas as pd\n",
    "handle_excel = pd.ExcelFile('20240126.xlsx')\n",
    "agent = handle_excel.parse('WCC_Agent')\n",
    "policy = handle_excel.parse('WCC_Policy')"
   ]
  },
  {
   "cell_type": "markdown",
   "id": "a0decb9b",
   "metadata": {},
   "source": [
    "<h4> Nhập kỳ CUTOFF <h4>"
   ]
  },
  {
   "cell_type": "code",
   "execution_count": 17,
   "id": "8932fdad",
   "metadata": {},
   "outputs": [],
   "source": [
    "cutoff = '20240126'"
   ]
  },
  {
   "cell_type": "code",
   "execution_count": 2,
   "id": "20c08b3f",
   "metadata": {},
   "outputs": [],
   "source": [
    "agent_call = agent\n",
    "policy_call = policy"
   ]
  },
  {
   "cell_type": "code",
   "execution_count": 26,
   "id": "804918f1",
   "metadata": {},
   "outputs": [],
   "source": [
    "agent_call = agent_call.fillna(value=0) #fillna để tránh lỗi trong việc đẩy data vào SQL\n",
    "#3.Tạo Connection\n",
    "conn_toSQL = pyo.connect(driver='{ODBC Driver 17 for SQL Server}', host = 'TEDPHO0134\\TANDT_DP', database = 'DP_Tan', trusted_connection = 'yes',\n",
    "                        ansi=True,autocommit=True)\n",
    "cursor = conn_toSQL.cursor()"
   ]
  },
  {
   "cell_type": "code",
   "execution_count": 8,
   "id": "ec0e5926",
   "metadata": {},
   "outputs": [
    {
     "data": {
      "text/plain": [
       "['Period Cập nhật ',\n",
       " 'Period Gỡ',\n",
       " 'CONTRACT_NUMBER',\n",
       " 'PO_NAME',\n",
       " 'POLICY_STATUS',\n",
       " 'AGENT_MOBILE',\n",
       " 'SALE_OFFICE',\n",
       " 'AGENT_CODE',\n",
       " 'AGENT_NAME',\n",
       " 'AGENT_GRADE',\n",
       " 'ISSUE_DATE',\n",
       " 'SALES UNIT',\n",
       " 'DATE OF LATEST WCC',\n",
       " 'FINAL WCC RESULT']"
      ]
     },
     "execution_count": 8,
     "metadata": {},
     "output_type": "execute_result"
    }
   ],
   "source": [
    "policy_call.columns.to_list()"
   ]
  },
  {
   "cell_type": "code",
   "execution_count": 6,
   "id": "0ba34838",
   "metadata": {},
   "outputs": [],
   "source": [
    "#Đổi tên cột\n",
    "agent_call.rename(columns = {'Period Cập nhật ':\"updatedPeriod\",\n",
    " 'Period Gỡ':\"duePeriod\",\n",
    " 'WCC ROOKIES / WCC TRAINEE':\"rookieTrainee\",\n",
    " 'Tháng gia nhập':\"appointedDate\",\n",
    " 'Ngày thực hiện cuộc gọi gần nhất ':'recentCallDate',\n",
    " 'KẾT QUẢ WCC':\"Result\"}, inplace = True) "
   ]
  },
  {
   "cell_type": "code",
   "execution_count": 9,
   "id": "ef0007ec",
   "metadata": {},
   "outputs": [],
   "source": [
    "policy_call.rename(columns={\n",
    "    'Period Cập nhật ': \"updatedPeriod\",\n",
    " 'Period Gỡ': \"duePeriod\",\n",
    " 'SALES UNIT': \"SalesUnit\",\n",
    " 'DATE OF LATEST WCC': \"LastedWCC\",\n",
    " 'FINAL WCC RESULT':\"finalResult\"\n",
    "}, inplace = True)"
   ]
  },
  {
   "cell_type": "code",
   "execution_count": 11,
   "id": "88f6cc01",
   "metadata": {},
   "outputs": [
    {
     "data": {
      "text/plain": [
       "Index(['updatedPeriod', 'duePeriod', 'CONTRACT_NUMBER', 'PO_NAME',\n",
       "       'POLICY_STATUS', 'AGENT_MOBILE', 'SALE_OFFICE', 'AGENT_CODE',\n",
       "       'AGENT_NAME', 'AGENT_GRADE', 'ISSUE_DATE', 'SalesUnit', 'LastedWCC',\n",
       "       'finalResult'],\n",
       "      dtype='object')"
      ]
     },
     "execution_count": 11,
     "metadata": {},
     "output_type": "execute_result"
    }
   ],
   "source": [
    "policy_call.columns"
   ]
  },
  {
   "cell_type": "code",
   "execution_count": 12,
   "id": "b082d575",
   "metadata": {
    "scrolled": true
   },
   "outputs": [
    {
     "data": {
      "text/plain": [
       "Index(['updatedPeriod', 'duePeriod', 'Agent_Number', 'Agent_Name',\n",
       "       'rookieTrainee', 'appointedDate', 'recentCallDate', 'Result'],\n",
       "      dtype='object')"
      ]
     },
     "execution_count": 12,
     "metadata": {},
     "output_type": "execute_result"
    }
   ],
   "source": [
    "agent_call.columns"
   ]
  },
  {
   "cell_type": "markdown",
   "id": "c9e8f612",
   "metadata": {},
   "source": [
    "<h4> Tạo cột CUTOFF <h4>"
   ]
  },
  {
   "cell_type": "code",
   "execution_count": 19,
   "id": "8f57c1a5",
   "metadata": {},
   "outputs": [],
   "source": [
    "agent_call['CUTOFF'] = cutoff\n",
    "policy_call['CUTOFF'] = cutoff"
   ]
  },
  {
   "cell_type": "markdown",
   "id": "174ee896",
   "metadata": {},
   "source": [
    "<h4> Tạo mới bảng trong SQL <h4>"
   ]
  },
  {
   "cell_type": "code",
   "execution_count": 20,
   "id": "e05c975c",
   "metadata": {},
   "outputs": [
    {
     "data": {
      "text/plain": [
       "69"
      ]
     },
     "execution_count": 20,
     "metadata": {},
     "output_type": "execute_result"
    }
   ],
   "source": [
    "#policy_call.to_sql(\"WCC_Policy\", conn, if_exists='replace', index=False)"
   ]
  },
  {
   "cell_type": "code",
   "execution_count": 21,
   "id": "c6684079",
   "metadata": {
    "scrolled": true
   },
   "outputs": [
    {
     "data": {
      "text/plain": [
       "189"
      ]
     },
     "execution_count": 21,
     "metadata": {},
     "output_type": "execute_result"
    }
   ],
   "source": [
    "#agent_call.to_sql(\"WCC_Agent\", conn, if_exists='replace', index=False)"
   ]
  },
  {
   "cell_type": "code",
   "execution_count": 31,
   "id": "924ccb85",
   "metadata": {},
   "outputs": [],
   "source": [
    "agent_call = agent_call.fillna(value=0) #fillna để tránh lỗi trong việc đẩy data vào SQL\n",
    "#Đẩy dữ liệu vào Bảng WCC_Agent\n",
    "for index, row in agent_call.iterrows():\n",
    "     cursor.execute(\"INSERT INTO dbo.WCC_Agent (updatedPeriod,duePeriod,Agent_Number,Agent_Name,rookieTrainee,appointedDate,recentCallDate,Result,CUTOFF) values(?,?,?,?,?,?,?,?,?)\"\n",
    ", \n",
    "row.updatedPeriod,\n",
    "row.duePeriod,\n",
    "row.Agent_Number,\n",
    "row.Agent_Name,\n",
    "row.rookieTrainee,\n",
    "row.appointedDate,\n",
    "row.recentCallDate,\n",
    "row.Result,\n",
    "row.CUTOFF\n",
    "\n",
    ")\n",
    "conn_toSQL.commit()"
   ]
  },
  {
   "cell_type": "code",
   "execution_count": 37,
   "id": "f90995c3",
   "metadata": {},
   "outputs": [],
   "source": [
    "policy_call = policy_call.fillna(value=0)\n",
    "#Đẩy dữ liệu vào Bảng WCC_Policy\n",
    "for index, row in policy_call.iterrows():\n",
    "     cursor.execute(\"INSERT INTO dbo.WCC_Policy (updatedPeriod,duePeriod,CONTRACT_NUMBER,PO_NAME,POLICY_STATUS,AGENT_MOBILE,SALE_OFFICE,AGENT_CODE,AGENT_NAME,AGENT_GRADE,ISSUE_DATE,SalesUnit,LastedWCC,finalResult,CUTOFF) values(?,?,?,?,?,?,?,?,?,?,?,?,?,?,?)\"\n",
    ", \n",
    "row.updatedPeriod,\n",
    "row.duePeriod,\n",
    "row.CONTRACT_NUMBER,\n",
    "row.PO_NAME,\n",
    "row.POLICY_STATUS,\n",
    "row.AGENT_MOBILE,\n",
    "row.SALE_OFFICE,\n",
    "row.AGENT_CODE,\n",
    "row.AGENT_NAME,\n",
    "row.AGENT_GRADE,\n",
    "row.ISSUE_DATE,\n",
    "row.SalesUnit,\n",
    "row.LastedWCC,\n",
    "row.finalResult,\n",
    "row.CUTOFF\n",
    "\n",
    "\n",
    ")\n",
    "conn_toSQL.commit()"
   ]
  },
  {
   "cell_type": "code",
   "execution_count": null,
   "id": "72b8cb09",
   "metadata": {},
   "outputs": [],
   "source": []
  }
 ],
 "metadata": {
  "kernelspec": {
   "display_name": "Python 3 (ipykernel)",
   "language": "python",
   "name": "python3"
  },
  "language_info": {
   "codemirror_mode": {
    "name": "ipython",
    "version": 3
   },
   "file_extension": ".py",
   "mimetype": "text/x-python",
   "name": "python",
   "nbconvert_exporter": "python",
   "pygments_lexer": "ipython3",
   "version": "3.10.9"
  }
 },
 "nbformat": 4,
 "nbformat_minor": 5
}

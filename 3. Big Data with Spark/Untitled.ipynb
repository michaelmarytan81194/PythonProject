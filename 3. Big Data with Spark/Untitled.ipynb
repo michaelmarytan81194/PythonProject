{
 "cells": [
  {
   "cell_type": "code",
   "execution_count": 1,
   "id": "6dc74462",
   "metadata": {},
   "outputs": [],
   "source": [
    "import findspark\n",
    "findspark.init()"
   ]
  },
  {
   "cell_type": "code",
   "execution_count": 2,
   "id": "6efa73e4",
   "metadata": {},
   "outputs": [],
   "source": [
    "import pyspark\n",
    "import pyodbc as pyo\n",
    "import pandas as pd"
   ]
  },
  {
   "cell_type": "code",
   "execution_count": 3,
   "id": "40261fb2",
   "metadata": {},
   "outputs": [],
   "source": [
    "from pyspark.sql import SparkSession"
   ]
  },
  {
   "cell_type": "code",
   "execution_count": 4,
   "id": "90c6e91e",
   "metadata": {},
   "outputs": [],
   "source": [
    "import os\n",
    "os.environ[\"JAVA_HOME\"] = 'C:\\Program Files\\Java\\jre-1.8'"
   ]
  },
  {
   "cell_type": "code",
   "execution_count": 5,
   "id": "21e63044",
   "metadata": {},
   "outputs": [],
   "source": [
    "spark = SparkSession.builder.getOrCreate()"
   ]
  },
  {
   "cell_type": "code",
   "execution_count": 6,
   "id": "6669db2e",
   "metadata": {},
   "outputs": [
    {
     "data": {
      "text/html": [
       "\n",
       "            <div>\n",
       "                <p><b>SparkSession - in-memory</b></p>\n",
       "                \n",
       "        <div>\n",
       "            <p><b>SparkContext</b></p>\n",
       "\n",
       "            <p><a href=\"http://TEDPHO0134.phuhunglife.com:4040\">Spark UI</a></p>\n",
       "\n",
       "            <dl>\n",
       "              <dt>Version</dt>\n",
       "                <dd><code>v3.5.0</code></dd>\n",
       "              <dt>Master</dt>\n",
       "                <dd><code>local[*]</code></dd>\n",
       "              <dt>AppName</dt>\n",
       "                <dd><code>pyspark-shell</code></dd>\n",
       "            </dl>\n",
       "        </div>\n",
       "        \n",
       "            </div>\n",
       "        "
      ],
      "text/plain": [
       "<pyspark.sql.session.SparkSession at 0x23533e17790>"
      ]
     },
     "execution_count": 6,
     "metadata": {},
     "output_type": "execute_result"
    }
   ],
   "source": [
    "spark"
   ]
  },
  {
   "cell_type": "code",
   "execution_count": 7,
   "id": "52cb4cf7",
   "metadata": {},
   "outputs": [],
   "source": [
    "conn = pyo.connect(driver='{ODBC Driver 17 for SQL Server}', host = 'TEDPHO0134\\TANDT_DP', database = 'DP_Tan', trusted_connection = 'yes')"
   ]
  },
  {
   "cell_type": "code",
   "execution_count": null,
   "id": "cd3b9751",
   "metadata": {},
   "outputs": [],
   "source": []
  },
  {
   "cell_type": "code",
   "execution_count": 8,
   "id": "d1500e1a",
   "metadata": {},
   "outputs": [],
   "source": [
    "def query_premium (cutoff):\n",
    "    return f\"select * from T_DP_TAGENTPREMIUM_TEST_CUTOFF where CUTOFF = {cutoff}\""
   ]
  },
  {
   "cell_type": "code",
   "execution_count": 9,
   "id": "251ae204",
   "metadata": {},
   "outputs": [
    {
     "name": "stderr",
     "output_type": "stream",
     "text": [
      "C:\\Users\\vagy1255\\AppData\\Local\\Temp\\ipykernel_16712\\1465289968.py:1: UserWarning: pandas only supports SQLAlchemy connectable (engine/connection) or database string URI or sqlite3 DBAPI2 connection. Other DBAPI2 objects are not tested. Please consider using SQLAlchemy.\n",
      "  df = pd.read_sql_query(query_premium(20231231), conn)\n"
     ]
    }
   ],
   "source": [
    "df = pd.read_sql_query(query_premium(20231231), conn)"
   ]
  },
  {
   "cell_type": "code",
   "execution_count": 12,
   "id": "ded0af90",
   "metadata": {},
   "outputs": [
    {
     "ename": "TypeError",
     "evalue": "SparkSession.createDataFrame() got an unexpected keyword argument 'inferSchema'",
     "output_type": "error",
     "traceback": [
      "\u001b[1;31m---------------------------------------------------------------------------\u001b[0m",
      "\u001b[1;31mTypeError\u001b[0m                                 Traceback (most recent call last)",
      "Cell \u001b[1;32mIn[12], line 1\u001b[0m\n\u001b[1;32m----> 1\u001b[0m premium_spark_df \u001b[38;5;241m=\u001b[39m \u001b[43mspark\u001b[49m\u001b[38;5;241;43m.\u001b[39;49m\u001b[43mcreateDataFrame\u001b[49m\u001b[43m(\u001b[49m\u001b[43mdf\u001b[49m\u001b[43m,\u001b[49m\u001b[43m \u001b[49m\u001b[43minferSchema\u001b[49m\u001b[43m \u001b[49m\u001b[38;5;241;43m=\u001b[39;49m\u001b[43m \u001b[49m\u001b[38;5;28;43;01mTrue\u001b[39;49;00m\u001b[43m)\u001b[49m\n\u001b[0;32m      2\u001b[0m premium_spark_df\u001b[38;5;241m.\u001b[39mshow(\u001b[38;5;241m5\u001b[39m)\n",
      "\u001b[1;31mTypeError\u001b[0m: SparkSession.createDataFrame() got an unexpected keyword argument 'inferSchema'"
     ]
    }
   ],
   "source": [
    "premium_spark_df = spark.createDataFrame(df, inferSchema = True)\n",
    "premium_spark_df.show(5)"
   ]
  },
  {
   "cell_type": "code",
   "execution_count": null,
   "id": "ba2cca1a",
   "metadata": {},
   "outputs": [],
   "source": []
  }
 ],
 "metadata": {
  "kernelspec": {
   "display_name": "Python 3 (ipykernel)",
   "language": "python",
   "name": "python3"
  },
  "language_info": {
   "codemirror_mode": {
    "name": "ipython",
    "version": 3
   },
   "file_extension": ".py",
   "mimetype": "text/x-python",
   "name": "python",
   "nbconvert_exporter": "python",
   "pygments_lexer": "ipython3",
   "version": "3.10.9"
  }
 },
 "nbformat": 4,
 "nbformat_minor": 5
}

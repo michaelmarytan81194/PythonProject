{
 "cells": [
  {
   "cell_type": "code",
   "execution_count": 2,
   "id": "7481ed09-8672-4161-a3a2-ab7b31f31b28",
   "metadata": {},
   "outputs": [],
   "source": [
    "#unzip the file\n",
    "import zipfile\n",
    "with zipfile.ZipFile('datasource.zip', 'r') as zip_ref:\n",
    "    zip_ref.extractall()"
   ]
  },
  {
   "cell_type": "code",
   "execution_count": null,
   "id": "b7bcc8c1-8ae7-4f38-bffd-900df85bc95a",
   "metadata": {},
   "outputs": [],
   "source": []
  }
 ],
 "metadata": {
  "kernelspec": {
   "display_name": "Python 3 (ipykernel)",
   "language": "python",
   "name": "python3"
  },
  "language_info": {
   "codemirror_mode": {
    "name": "ipython",
    "version": 3
   },
   "file_extension": ".py",
   "mimetype": "text/x-python",
   "name": "python",
   "nbconvert_exporter": "python",
   "pygments_lexer": "ipython3",
   "version": "3.9.13"
  }
 },
 "nbformat": 4,
 "nbformat_minor": 5
}

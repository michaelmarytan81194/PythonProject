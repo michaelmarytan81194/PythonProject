{
 "cells": [
  {
   "cell_type": "code",
   "execution_count": 2,
   "id": "459fd0f0",
   "metadata": {},
   "outputs": [],
   "source": [
    "def load_to_db():\n",
    "    cutoff = input(\"Nhập kỳ CUTOFF: \")\n",
    "    excel_file = '{}.xlsx'.format(cutoff)\n",
    "    import pandas as pd\n",
    "    import pyodbc as pyo\n",
    "    handle_excel = pd.ExcelFile(excel_file)\n",
    "    agent = handle_excel.parse('WCC_Agent')\n",
    "    policy = handle_excel.parse('WCC_Policy')\n",
    "    agent_call = agent\n",
    "    policy_call = policy\n",
    "    #3.Tạo Connection\n",
    "    conn_toSQL = pyo.connect(driver='{ODBC Driver 17 for SQL Server}', host = 'TEDPHO0134\\TANDT_DP', database = 'DP_Tan', trusted_connection = 'yes',\n",
    "                        ansi=True,autocommit=True)\n",
    "    cursor = conn_toSQL.cursor()\n",
    "    #Đổi tên cột\n",
    "    agent_call.rename(columns = {'Period Cập nhật ':\"updatedPeriod\",\n",
    "     'Period Gỡ':\"duePeriod\",\n",
    "     'WCC ROOKIES / WCC TRAINEE':\"rookieTrainee\",\n",
    "     'Tháng gia nhập':\"appointedDate\",\n",
    "     'Ngày thực hiện cuộc gọi gần nhất ':'recentCallDate',\n",
    "     'KẾT QUẢ WCC':\"Result\"}, inplace = True) \n",
    "    policy_call.rename(columns={\n",
    "    'Period Cập nhật ': \"updatedPeriod\",\n",
    "    'Period Gỡ': \"duePeriod\",\n",
    "     'SALES UNIT': \"SalesUnit\",\n",
    "     'DATE OF LATEST WCC': \"LastedWCC\",\n",
    "     'FINAL WCC RESULT':\"finalResult\"\n",
    "    }, inplace = True)\n",
    "    #Tạo cột CUTOFF\n",
    "    agent_call['CUTOFF'] = cutoff\n",
    "    policy_call['CUTOFF'] = cutoff\n",
    "    #Đẩy vào Database:\n",
    "    agent_call = agent_call.fillna(value=0) #fillna để tránh lỗi trong việc đẩy data vào SQL\n",
    "    #Đẩy dữ liệu vào Bảng WCC_Agent\n",
    "    for index, row in agent_call.iterrows():\n",
    "         cursor.execute(\"INSERT INTO dbo.WCC_Agent (updatedPeriod,duePeriod,Agent_Number,Agent_Name,rookieTrainee,appointedDate,recentCallDate,Result,CUTOFF) values(?,?,?,?,?,?,?,?,?)\"\n",
    "        , \n",
    "        row.updatedPeriod,\n",
    "        row.duePeriod,\n",
    "        row.Agent_Number,\n",
    "        row.Agent_Name,\n",
    "        row.rookieTrainee,\n",
    "        row.appointedDate,\n",
    "        row.recentCallDate,\n",
    "        row.Result,\n",
    "        row.CUTOFF\n",
    "    )\n",
    "    conn_toSQL.commit()\n",
    "    policy_call = policy_call.fillna(value=0)\n",
    "    #Đẩy dữ liệu vào Bảng WCC_Policy\n",
    "    for index, row in policy_call.iterrows():\n",
    "         cursor.execute(\"INSERT INTO dbo.WCC_Policy (updatedPeriod,duePeriod,CONTRACT_NUMBER,PO_NAME,POLICY_STATUS,AGENT_MOBILE,SALE_OFFICE,AGENT_CODE,AGENT_NAME,AGENT_GRADE,ISSUE_DATE,SalesUnit,LastedWCC,finalResult,CUTOFF) values(?,?,?,?,?,?,?,?,?,?,?,?,?,?,?)\"\n",
    "    , \n",
    "    row.updatedPeriod,\n",
    "    row.duePeriod,\n",
    "    row.CONTRACT_NUMBER,\n",
    "    row.PO_NAME,\n",
    "    row.POLICY_STATUS,\n",
    "    row.AGENT_MOBILE,\n",
    "    row.SALE_OFFICE,\n",
    "    row.AGENT_CODE,\n",
    "    row.AGENT_NAME,\n",
    "    row.AGENT_GRADE,\n",
    "    row.ISSUE_DATE,\n",
    "    row.SalesUnit,\n",
    "    row.LastedWCC,\n",
    "    row.finalResult,\n",
    "    row.CUTOFF\n",
    "    )\n",
    "    conn_toSQL.commit()\n",
    "    return \"Data loaded Successfully!\""
   ]
  },
  {
   "cell_type": "code",
   "execution_count": 3,
   "id": "b49cbf88",
   "metadata": {},
   "outputs": [
    {
     "name": "stdout",
     "output_type": "stream",
     "text": [
      "Nhập kỳ CUTOFF: 20240229\n"
     ]
    },
    {
     "data": {
      "text/plain": [
       "'Data loaded Successfully!'"
      ]
     },
     "execution_count": 3,
     "metadata": {},
     "output_type": "execute_result"
    }
   ],
   "source": [
    "load_to_db()"
   ]
  },
  {
   "cell_type": "code",
   "execution_count": null,
   "id": "4dfe7bb9",
   "metadata": {},
   "outputs": [],
   "source": []
  }
 ],
 "metadata": {
  "kernelspec": {
   "display_name": "Python 3 (ipykernel)",
   "language": "python",
   "name": "python3"
  },
  "language_info": {
   "codemirror_mode": {
    "name": "ipython",
    "version": 3
   },
   "file_extension": ".py",
   "mimetype": "text/x-python",
   "name": "python",
   "nbconvert_exporter": "python",
   "pygments_lexer": "ipython3",
   "version": "3.10.9"
  }
 },
 "nbformat": 4,
 "nbformat_minor": 5
}

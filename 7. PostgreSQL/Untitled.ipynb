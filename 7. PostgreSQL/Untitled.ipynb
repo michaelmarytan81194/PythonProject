{
 "cells": [
  {
   "cell_type": "markdown",
   "id": "c95e599e",
   "metadata": {},
   "source": [
    "<h3>1. Import Neccessary Libraries"
   ]
  },
  {
   "cell_type": "code",
   "execution_count": 1,
   "id": "ba4da9e8",
   "metadata": {},
   "outputs": [],
   "source": [
    "import psycopg2\n",
    "import hidden\n",
    "import time\n",
    "import myutils\n",
    "import requests\n",
    "import json"
   ]
  },
  {
   "cell_type": "code",
   "execution_count": null,
   "id": "d77d4c76",
   "metadata": {},
   "outputs": [],
   "source": [
    "def summary(cur):\n",
    "    total = myutils.queryValue(cur, 'SELECT COUNT(*) FROM swapi;')\n",
    "    todo = myutils."
   ]
  }
 ],
 "metadata": {
  "kernelspec": {
   "display_name": "Python 3 (ipykernel)",
   "language": "python",
   "name": "python3"
  },
  "language_info": {
   "codemirror_mode": {
    "name": "ipython",
    "version": 3
   },
   "file_extension": ".py",
   "mimetype": "text/x-python",
   "name": "python",
   "nbconvert_exporter": "python",
   "pygments_lexer": "ipython3",
   "version": "3.10.9"
  }
 },
 "nbformat": 4,
 "nbformat_minor": 5
}

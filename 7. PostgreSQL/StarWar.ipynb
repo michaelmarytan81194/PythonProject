{
 "cells": [
  {
   "cell_type": "code",
   "execution_count": 32,
   "id": "5946e4cc",
   "metadata": {},
   "outputs": [
    {
     "name": "stdout",
     "output_type": "stream",
     "text": [
      "If you want to restart the spider, run\n",
      "DROP TABLE IF EXISTS swapi CASCADE;\n",
      " \n",
      "\n",
      "CREATE TABLE IF NOT EXISTS swapi\n",
      "(id serial, url VARCHAR(2048) UNIQUE, status INTEGER, body JSONB,\n",
      "created_at TIMESTAMPTZ NOT NULL DEFAULT NOW(), updated_at TIMESTAMPTZ);\n",
      "\n",
      "Total=3 todo=3 good=0 error=0\n",
      "How many documents:5\n",
      "=== Url is https://swapi.py4e.com/api/films/1/\n",
      "=== Text is {\"title\":\"A New Hope\",\"episode_id\":4,\"opening_crawl\":\"It is a period of civil war.\\r\\nRebel spaceships, striking\\r\\nfrom a hidden base, have won\\r\\ntheir first victory against\\r\\nthe evil Galactic Empire.\\r\\n\\r\\nDuring the battle, Rebel\\r\\nspies managed to steal secret\\r\\nplans to the Empire's\\r\\nultimate weapon, the DEATH\\r\\nSTAR, an armored space\\r\\nstation with enough power\\r\\nto destroy an entire planet.\\r\\n\\r\\nPursued by the Empire's\\r\\nsinister agents, Princess\\r\\nLeia races home aboard her\\r\\nstarship, custodian of the\\r\\nstolen plans that can save her\\r\\npeople and restore\\r\\nfreedom to the galaxy....\",\"director\":\"George Lucas\",\"producer\":\"Gary Kurtz, Rick McCallum\",\"release_date\":\"1977-05-25\",\"characters\":[\"https://swapi.py4e.com/api/people/1/\",\"https://swapi.py4e.com/api/people/2/\",\"https://swapi.py4e.com/api/people/3/\",\"https://swapi.py4e.com/api/people/4/\",\"https://swapi.py4e.com/api/people/5/\",\"https://swapi.py4e.com/api/people/6/\",\"https://swapi.py4e.com/api/people/7/\",\"https://swapi.py4e.com/api/people/8/\",\"https://swapi.py4e.com/api/people/9/\",\"https://swapi.py4e.com/api/people/10/\",\"https://swapi.py4e.com/api/people/12/\",\"https://swapi.py4e.com/api/people/13/\",\"https://swapi.py4e.com/api/people/14/\",\"https://swapi.py4e.com/api/people/15/\",\"https://swapi.py4e.com/api/people/16/\",\"https://swapi.py4e.com/api/people/18/\",\"https://swapi.py4e.com/api/people/19/\",\"https://swapi.py4e.com/api/people/81/\"],\"planets\":[\"https://swapi.py4e.com/api/planets/1/\",\"https://swapi.py4e.com/api/planets/2/\",\"https://swapi.py4e.com/api/planets/3/\"],\"starships\":[\"https://swapi.py4e.com/api/starships/2/\",\"https://swapi.py4e.com/api/starships/3/\",\"https://swapi.py4e.com/api/starships/5/\",\"https://swapi.py4e.com/api/starships/9/\",\"https://swapi.py4e.com/api/starships/10/\",\"https://swapi.py4e.com/api/starships/11/\",\"https://swapi.py4e.com/api/starships/12/\",\"https://swapi.py4e.com/api/starships/13/\"],\"vehicles\":[\"https://swapi.py4e.com/api/vehicles/4/\",\"https://swapi.py4e.com/api/vehicles/6/\",\"https://swapi.py4e.com/api/vehicles/7/\",\"https://swapi.py4e.com/api/vehicles/8/\"],\"species\":[\"https://swapi.py4e.com/api/species/1/\",\"https://swapi.py4e.com/api/species/2/\",\"https://swapi.py4e.com/api/species/3/\",\"https://swapi.py4e.com/api/species/4/\",\"https://swapi.py4e.com/api/species/5/\"],\"created\":\"2014-12-10T14:23:31.880000Z\",\"edited\":\"2014-12-20T19:49:45.256000Z\",\"url\":\"https://swapi.py4e.com/api/films/1/\"}\n",
      "200 2435 https://swapi.py4e.com/api/films/1/ 2\n",
      "=== Url is https://swapi.py4e.com/api/species/1/\n",
      "=== Text is {\"name\":\"Human\",\"classification\":\"mammal\",\"designation\":\"sentient\",\"average_height\":\"180\",\"skin_colors\":\"caucasian, black, asian, hispanic\",\"hair_colors\":\"blonde, brown, black, red\",\"eye_colors\":\"brown, blue, green, hazel, grey, amber\",\"average_lifespan\":\"120\",\"homeworld\":\"https://swapi.py4e.com/api/planets/9/\",\"language\":\"Galactic Basic\",\"people\":[\"https://swapi.py4e.com/api/people/1/\",\"https://swapi.py4e.com/api/people/4/\",\"https://swapi.py4e.com/api/people/5/\",\"https://swapi.py4e.com/api/people/6/\",\"https://swapi.py4e.com/api/people/7/\",\"https://swapi.py4e.com/api/people/9/\",\"https://swapi.py4e.com/api/people/10/\",\"https://swapi.py4e.com/api/people/11/\",\"https://swapi.py4e.com/api/people/12/\",\"https://swapi.py4e.com/api/people/14/\",\"https://swapi.py4e.com/api/people/18/\",\"https://swapi.py4e.com/api/people/21/\",\"https://swapi.py4e.com/api/people/22/\",\"https://swapi.py4e.com/api/people/25/\",\"https://swapi.py4e.com/api/people/26/\",\"https://swapi.py4e.com/api/people/28/\",\"https://swapi.py4e.com/api/people/29/\",\"https://swapi.py4e.com/api/people/32/\",\"https://swapi.py4e.com/api/people/34/\",\"https://swapi.py4e.com/api/people/35/\",\"https://swapi.py4e.com/api/people/39/\",\"https://swapi.py4e.com/api/people/42/\",\"https://swapi.py4e.com/api/people/43/\",\"https://swapi.py4e.com/api/people/51/\",\"https://swapi.py4e.com/api/people/62/\",\"https://swapi.py4e.com/api/people/66/\",\"https://swapi.py4e.com/api/people/67/\",\"https://swapi.py4e.com/api/people/68/\",\"https://swapi.py4e.com/api/people/69/\",\"https://swapi.py4e.com/api/people/74/\",\"https://swapi.py4e.com/api/people/81/\",\"https://swapi.py4e.com/api/people/84/\",\"https://swapi.py4e.com/api/people/85/\",\"https://swapi.py4e.com/api/people/86/\",\"https://swapi.py4e.com/api/people/88/\"],\"films\":[\"https://swapi.py4e.com/api/films/1/\",\"https://swapi.py4e.com/api/films/2/\",\"https://swapi.py4e.com/api/films/3/\",\"https://swapi.py4e.com/api/films/4/\",\"https://swapi.py4e.com/api/films/5/\",\"https://swapi.py4e.com/api/films/6/\",\"https://swapi.py4e.com/api/films/7/\"],\"created\":\"2014-12-10T13:52:11.567000Z\",\"edited\":\"2014-12-20T21:36:42.136000Z\",\"url\":\"https://swapi.py4e.com/api/species/1/\"}\n",
      "200 2147 https://swapi.py4e.com/api/species/1/ 34\n",
      "=== Url is https://swapi.py4e.com/api/people/1/\n",
      "=== Text is {\"name\":\"Luke Skywalker\",\"height\":\"172\",\"mass\":\"77\",\"hair_color\":\"blond\",\"skin_color\":\"fair\",\"eye_color\":\"blue\",\"birth_year\":\"19BBY\",\"gender\":\"male\",\"homeworld\":\"https://swapi.py4e.com/api/planets/1/\",\"films\":[\"https://swapi.py4e.com/api/films/1/\",\"https://swapi.py4e.com/api/films/2/\",\"https://swapi.py4e.com/api/films/3/\",\"https://swapi.py4e.com/api/films/6/\",\"https://swapi.py4e.com/api/films/7/\"],\"species\":[\"https://swapi.py4e.com/api/species/1/\"],\"vehicles\":[\"https://swapi.py4e.com/api/vehicles/14/\",\"https://swapi.py4e.com/api/vehicles/30/\"],\"starships\":[\"https://swapi.py4e.com/api/starships/12/\",\"https://swapi.py4e.com/api/starships/22/\"],\"created\":\"2014-12-09T13:50:51.644000Z\",\"edited\":\"2014-12-20T21:17:56.891000Z\",\"url\":\"https://swapi.py4e.com/api/people/1/\"}\n",
      "200 774 https://swapi.py4e.com/api/people/1/ 39\n",
      "=== Url is https://swapi.py4e.com/api/species/2/\n",
      "=== Text is {\"name\":\"Droid\",\"classification\":\"artificial\",\"designation\":\"sentient\",\"average_height\":\"n/a\",\"skin_colors\":\"n/a\",\"hair_colors\":\"n/a\",\"eye_colors\":\"n/a\",\"average_lifespan\":\"indefinite\",\"homeworld\":null,\"language\":\"n/a\",\"people\":[\"https://swapi.py4e.com/api/people/2/\",\"https://swapi.py4e.com/api/people/3/\",\"https://swapi.py4e.com/api/people/8/\",\"https://swapi.py4e.com/api/people/23/\",\"https://swapi.py4e.com/api/people/87/\"],\"films\":[\"https://swapi.py4e.com/api/films/1/\",\"https://swapi.py4e.com/api/films/2/\",\"https://swapi.py4e.com/api/films/3/\",\"https://swapi.py4e.com/api/films/4/\",\"https://swapi.py4e.com/api/films/5/\",\"https://swapi.py4e.com/api/films/6/\",\"https://swapi.py4e.com/api/films/7/\"],\"created\":\"2014-12-10T15:16:16.259000Z\",\"edited\":\"2014-12-20T21:36:42.139000Z\",\"url\":\"https://swapi.py4e.com/api/species/2/\"}\n",
      "200 828 https://swapi.py4e.com/api/species/2/ 41\n",
      "=== Url is https://swapi.py4e.com/api/species/3/\n",
      "=== Text is {\"name\":\"Wookiee\",\"classification\":\"mammal\",\"designation\":\"sentient\",\"average_height\":\"210\",\"skin_colors\":\"gray\",\"hair_colors\":\"black, brown\",\"eye_colors\":\"blue, green, yellow, brown, golden, red\",\"average_lifespan\":\"400\",\"homeworld\":\"https://swapi.py4e.com/api/planets/14/\",\"language\":\"Shyriiwook\",\"people\":[\"https://swapi.py4e.com/api/people/13/\",\"https://swapi.py4e.com/api/people/80/\"],\"films\":[\"https://swapi.py4e.com/api/films/1/\",\"https://swapi.py4e.com/api/films/2/\",\"https://swapi.py4e.com/api/films/3/\",\"https://swapi.py4e.com/api/films/6/\",\"https://swapi.py4e.com/api/films/7/\"],\"created\":\"2014-12-10T16:44:31.486000Z\",\"edited\":\"2014-12-20T21:36:42.142000Z\",\"url\":\"https://swapi.py4e.com/api/species/3/\"}\n",
      "200 715 https://swapi.py4e.com/api/species/3/ 40\n",
      "How many documents:10\n",
      "=== Url is https://swapi.py4e.com/api/species/4/\n",
      "=== Text is {\"name\":\"Rodian\",\"classification\":\"sentient\",\"designation\":\"reptilian\",\"average_height\":\"170\",\"skin_colors\":\"green, blue\",\"hair_colors\":\"n/a\",\"eye_colors\":\"black\",\"average_lifespan\":\"unknown\",\"homeworld\":\"https://swapi.py4e.com/api/planets/23/\",\"language\":\"Galatic Basic\",\"people\":[\"https://swapi.py4e.com/api/people/15/\"],\"films\":[\"https://swapi.py4e.com/api/films/1/\"],\"created\":\"2014-12-10T17:05:26.471000Z\",\"edited\":\"2014-12-20T21:36:42.144000Z\",\"url\":\"https://swapi.py4e.com/api/species/4/\"}\n"
     ]
    },
    {
     "name": "stdout",
     "output_type": "stream",
     "text": [
      "200 496 https://swapi.py4e.com/api/species/4/ 39\n",
      "=== Url is https://swapi.py4e.com/api/species/5/\n",
      "=== Text is {\"name\":\"Hutt\",\"classification\":\"gastropod\",\"designation\":\"sentient\",\"average_height\":\"300\",\"skin_colors\":\"green, brown, tan\",\"hair_colors\":\"n/a\",\"eye_colors\":\"yellow, red\",\"average_lifespan\":\"1000\",\"homeworld\":\"https://swapi.py4e.com/api/planets/24/\",\"language\":\"Huttese\",\"people\":[\"https://swapi.py4e.com/api/people/16/\"],\"films\":[\"https://swapi.py4e.com/api/films/1/\",\"https://swapi.py4e.com/api/films/3/\"],\"created\":\"2014-12-10T17:12:50.410000Z\",\"edited\":\"2014-12-20T21:36:42.146000Z\",\"url\":\"https://swapi.py4e.com/api/species/5/\"}\n",
      "200 535 https://swapi.py4e.com/api/species/5/ 38\n",
      "=== Url is https://swapi.py4e.com/api/vehicles/4/\n",
      "=== Text is {\"name\":\"Sand Crawler\",\"model\":\"Digger Crawler\",\"manufacturer\":\"Corellia Mining Corporation\",\"cost_in_credits\":\"150000\",\"length\":\"36.8 \",\"max_atmosphering_speed\":\"30\",\"crew\":\"46\",\"passengers\":\"30\",\"cargo_capacity\":\"50000\",\"consumables\":\"2 months\",\"vehicle_class\":\"wheeled\",\"pilots\":[],\"films\":[\"https://swapi.py4e.com/api/films/1/\",\"https://swapi.py4e.com/api/films/5/\"],\"created\":\"2014-12-10T15:36:25.724000Z\",\"edited\":\"2014-12-20T21:30:21.661000Z\",\"url\":\"https://swapi.py4e.com/api/vehicles/4/\"}\n",
      "200 497 https://swapi.py4e.com/api/vehicles/4/ 37\n",
      "=== Url is https://swapi.py4e.com/api/vehicles/6/\n",
      "=== Text is {\"name\":\"T-16 skyhopper\",\"model\":\"T-16 skyhopper\",\"manufacturer\":\"Incom Corporation\",\"cost_in_credits\":\"14500\",\"length\":\"10.4 \",\"max_atmosphering_speed\":\"1200\",\"crew\":\"1\",\"passengers\":\"1\",\"cargo_capacity\":\"50\",\"consumables\":\"0\",\"vehicle_class\":\"repulsorcraft\",\"pilots\":[],\"films\":[\"https://swapi.py4e.com/api/films/1/\"],\"created\":\"2014-12-10T16:01:52.434000Z\",\"edited\":\"2014-12-20T21:30:21.665000Z\",\"url\":\"https://swapi.py4e.com/api/vehicles/6/\"}\n",
      "200 446 https://swapi.py4e.com/api/vehicles/6/ 36\n",
      "=== Url is https://swapi.py4e.com/api/vehicles/7/\n",
      "=== Text is {\"name\":\"X-34 landspeeder\",\"model\":\"X-34 landspeeder\",\"manufacturer\":\"SoroSuub Corporation\",\"cost_in_credits\":\"10550\",\"length\":\"3.4 \",\"max_atmosphering_speed\":\"250\",\"crew\":\"1\",\"passengers\":\"1\",\"cargo_capacity\":\"5\",\"consumables\":\"unknown\",\"vehicle_class\":\"repulsorcraft\",\"pilots\":[],\"films\":[\"https://swapi.py4e.com/api/films/1/\"],\"created\":\"2014-12-10T16:13:52.586000Z\",\"edited\":\"2014-12-20T21:30:21.668000Z\",\"url\":\"https://swapi.py4e.com/api/vehicles/7/\"}\n",
      "200 456 https://swapi.py4e.com/api/vehicles/7/ 35\n",
      "=== Url is https://swapi.py4e.com/api/vehicles/8/\n",
      "=== Text is {\"name\":\"TIE/LN starfighter\",\"model\":\"Twin Ion Engine/Ln Starfighter\",\"manufacturer\":\"Sienar Fleet Systems\",\"cost_in_credits\":\"unknown\",\"length\":\"6.4\",\"max_atmosphering_speed\":\"1200\",\"crew\":\"1\",\"passengers\":\"0\",\"cargo_capacity\":\"65\",\"consumables\":\"2 days\",\"vehicle_class\":\"starfighter\",\"pilots\":[],\"films\":[\"https://swapi.py4e.com/api/films/1/\",\"https://swapi.py4e.com/api/films/2/\",\"https://swapi.py4e.com/api/films/3/\"],\"created\":\"2014-12-10T16:33:52.860000Z\",\"edited\":\"2014-12-20T21:30:21.670000Z\",\"url\":\"https://swapi.py4e.com/api/vehicles/8/\"}\n",
      "200 548 https://swapi.py4e.com/api/vehicles/8/ 34\n",
      "=== Url is https://swapi.py4e.com/api/starships/2/\n",
      "=== Text is {\"name\":\"CR90 corvette\",\"model\":\"CR90 corvette\",\"manufacturer\":\"Corellian Engineering Corporation\",\"cost_in_credits\":\"3500000\",\"length\":\"150\",\"max_atmosphering_speed\":\"950\",\"crew\":\"30-165\",\"passengers\":\"600\",\"cargo_capacity\":\"3000000\",\"consumables\":\"1 year\",\"hyperdrive_rating\":\"2.0\",\"MGLT\":\"60\",\"starship_class\":\"corvette\",\"pilots\":[],\"films\":[\"https://swapi.py4e.com/api/films/1/\",\"https://swapi.py4e.com/api/films/3/\",\"https://swapi.py4e.com/api/films/6/\"],\"created\":\"2014-12-10T14:20:33.369000Z\",\"edited\":\"2014-12-20T21:23:49.867000Z\",\"url\":\"https://swapi.py4e.com/api/starships/2/\"}\n",
      "200 587 https://swapi.py4e.com/api/starships/2/ 33\n",
      "=== Url is https://swapi.py4e.com/api/starships/3/\n",
      "=== Text is {\"name\":\"Star Destroyer\",\"model\":\"Imperial I-class Star Destroyer\",\"manufacturer\":\"Kuat Drive Yards\",\"cost_in_credits\":\"150000000\",\"length\":\"1,600\",\"max_atmosphering_speed\":\"975\",\"crew\":\"47,060\",\"passengers\":\"n/a\",\"cargo_capacity\":\"36000000\",\"consumables\":\"2 years\",\"hyperdrive_rating\":\"2.0\",\"MGLT\":\"60\",\"starship_class\":\"Star Destroyer\",\"pilots\":[],\"films\":[\"https://swapi.py4e.com/api/films/1/\",\"https://swapi.py4e.com/api/films/2/\",\"https://swapi.py4e.com/api/films/3/\"],\"created\":\"2014-12-10T15:08:19.848000Z\",\"edited\":\"2014-12-20T21:23:49.870000Z\",\"url\":\"https://swapi.py4e.com/api/starships/3/\"}\n",
      "200 601 https://swapi.py4e.com/api/starships/3/ 32\n",
      "=== Url is https://swapi.py4e.com/api/starships/5/\n",
      "=== Text is {\"name\":\"Sentinel-class landing craft\",\"model\":\"Sentinel-class landing craft\",\"manufacturer\":\"Sienar Fleet Systems, Cyngus Spaceworks\",\"cost_in_credits\":\"240000\",\"length\":\"38\",\"max_atmosphering_speed\":\"1000\",\"crew\":\"5\",\"passengers\":\"75\",\"cargo_capacity\":\"180000\",\"consumables\":\"1 month\",\"hyperdrive_rating\":\"1.0\",\"MGLT\":\"70\",\"starship_class\":\"landing craft\",\"pilots\":[],\"films\":[\"https://swapi.py4e.com/api/films/1/\"],\"created\":\"2014-12-10T15:48:00.586000Z\",\"edited\":\"2014-12-20T21:23:49.873000Z\",\"url\":\"https://swapi.py4e.com/api/starships/5/\"}\n",
      "200 545 https://swapi.py4e.com/api/starships/5/ 31\n",
      "=== Url is https://swapi.py4e.com/api/starships/9/\n",
      "=== Text is {\"name\":\"Death Star\",\"model\":\"DS-1 Orbital Battle Station\",\"manufacturer\":\"Imperial Department of Military Research, Sienar Fleet Systems\",\"cost_in_credits\":\"1000000000000\",\"length\":\"120000\",\"max_atmosphering_speed\":\"n/a\",\"crew\":\"342,953\",\"passengers\":\"843,342\",\"cargo_capacity\":\"1000000000000\",\"consumables\":\"3 years\",\"hyperdrive_rating\":\"4.0\",\"MGLT\":\"10\",\"starship_class\":\"Deep Space Mobile Battlestation\",\"pilots\":[],\"films\":[\"https://swapi.py4e.com/api/films/1/\"],\"created\":\"2014-12-10T16:36:50.509000Z\",\"edited\":\"2014-12-20T21:26:24.783000Z\",\"url\":\"https://swapi.py4e.com/api/starships/9/\"}\n",
      "200 595 https://swapi.py4e.com/api/starships/9/ 30\n",
      "How many documents:100\n",
      "=== Url is https://swapi.py4e.com/api/starships/10/\n",
      "=== Text is {\"name\":\"Millennium Falcon\",\"model\":\"YT-1300 light freighter\",\"manufacturer\":\"Corellian Engineering Corporation\",\"cost_in_credits\":\"100000\",\"length\":\"34.37\",\"max_atmosphering_speed\":\"1050\",\"crew\":\"4\",\"passengers\":\"6\",\"cargo_capacity\":\"100000\",\"consumables\":\"2 months\",\"hyperdrive_rating\":\"0.5\",\"MGLT\":\"75\",\"starship_class\":\"Light freighter\",\"pilots\":[\"https://swapi.py4e.com/api/people/13/\",\"https://swapi.py4e.com/api/people/14/\",\"https://swapi.py4e.com/api/people/25/\",\"https://swapi.py4e.com/api/people/31/\"],\"films\":[\"https://swapi.py4e.com/api/films/1/\",\"https://swapi.py4e.com/api/films/2/\",\"https://swapi.py4e.com/api/films/3/\",\"https://swapi.py4e.com/api/films/7/\"],\"created\":\"2014-12-10T16:59:45.094000Z\",\"edited\":\"2014-12-20T21:23:49.880000Z\",\"url\":\"https://swapi.py4e.com/api/starships/10/\"}\n",
      "200 802 https://swapi.py4e.com/api/starships/10/ 29\n",
      "=== Url is https://swapi.py4e.com/api/starships/11/\n",
      "=== Text is {\"name\":\"Y-wing\",\"model\":\"BTL Y-wing\",\"manufacturer\":\"Koensayr Manufacturing\",\"cost_in_credits\":\"134999\",\"length\":\"14\",\"max_atmosphering_speed\":\"1000km\",\"crew\":\"2\",\"passengers\":\"0\",\"cargo_capacity\":\"110\",\"consumables\":\"1 week\",\"hyperdrive_rating\":\"1.0\",\"MGLT\":\"80\",\"starship_class\":\"assault starfighter\",\"pilots\":[],\"films\":[\"https://swapi.py4e.com/api/films/1/\",\"https://swapi.py4e.com/api/films/2/\",\"https://swapi.py4e.com/api/films/3/\"],\"created\":\"2014-12-12T11:00:39.817000Z\",\"edited\":\"2014-12-20T21:23:49.883000Z\",\"url\":\"https://swapi.py4e.com/api/starships/11/\"}\n",
      "200 568 https://swapi.py4e.com/api/starships/11/ 28\n",
      "=== Url is https://swapi.py4e.com/api/starships/12/\n",
      "=== Text is {\"name\":\"X-wing\",\"model\":\"T-65 X-wing\",\"manufacturer\":\"Incom Corporation\",\"cost_in_credits\":\"149999\",\"length\":\"12.5\",\"max_atmosphering_speed\":\"1050\",\"crew\":\"1\",\"passengers\":\"0\",\"cargo_capacity\":\"110\",\"consumables\":\"1 week\",\"hyperdrive_rating\":\"1.0\",\"MGLT\":\"100\",\"starship_class\":\"Starfighter\",\"pilots\":[\"https://swapi.py4e.com/api/people/1/\",\"https://swapi.py4e.com/api/people/9/\",\"https://swapi.py4e.com/api/people/18/\",\"https://swapi.py4e.com/api/people/19/\"],\"films\":[\"https://swapi.py4e.com/api/films/1/\",\"https://swapi.py4e.com/api/films/2/\",\"https://swapi.py4e.com/api/films/3/\"],\"created\":\"2014-12-12T11:19:05.340000Z\",\"edited\":\"2014-12-20T21:23:49.886000Z\",\"url\":\"https://swapi.py4e.com/api/starships/12/\"}\n"
     ]
    },
    {
     "name": "stdout",
     "output_type": "stream",
     "text": [
      "200 714 https://swapi.py4e.com/api/starships/12/ 27\n",
      "=== Url is https://swapi.py4e.com/api/starships/13/\n",
      "=== Text is {\"name\":\"TIE Advanced x1\",\"model\":\"Twin Ion Engine Advanced x1\",\"manufacturer\":\"Sienar Fleet Systems\",\"cost_in_credits\":\"unknown\",\"length\":\"9.2\",\"max_atmosphering_speed\":\"1200\",\"crew\":\"1\",\"passengers\":\"0\",\"cargo_capacity\":\"150\",\"consumables\":\"5 days\",\"hyperdrive_rating\":\"1.0\",\"MGLT\":\"105\",\"starship_class\":\"Starfighter\",\"pilots\":[\"https://swapi.py4e.com/api/people/4/\"],\"films\":[\"https://swapi.py4e.com/api/films/1/\"],\"created\":\"2014-12-12T11:21:32.991000Z\",\"edited\":\"2014-12-20T21:23:49.889000Z\",\"url\":\"https://swapi.py4e.com/api/starships/13/\"}\n",
      "200 547 https://swapi.py4e.com/api/starships/13/ 26\n",
      "=== Url is https://swapi.py4e.com/api/people/2/\n",
      "=== Text is {\"name\":\"C-3PO\",\"height\":\"167\",\"mass\":\"75\",\"hair_color\":\"n/a\",\"skin_color\":\"gold\",\"eye_color\":\"yellow\",\"birth_year\":\"112BBY\",\"gender\":\"n/a\",\"homeworld\":\"https://swapi.py4e.com/api/planets/1/\",\"films\":[\"https://swapi.py4e.com/api/films/1/\",\"https://swapi.py4e.com/api/films/2/\",\"https://swapi.py4e.com/api/films/3/\",\"https://swapi.py4e.com/api/films/4/\",\"https://swapi.py4e.com/api/films/5/\",\"https://swapi.py4e.com/api/films/6/\"],\"species\":[\"https://swapi.py4e.com/api/species/2/\"],\"vehicles\":[],\"starships\":[],\"created\":\"2014-12-10T15:10:51.357000Z\",\"edited\":\"2014-12-20T21:17:50.309000Z\",\"url\":\"https://swapi.py4e.com/api/people/2/\"}\n",
      "200 635 https://swapi.py4e.com/api/people/2/ 25\n",
      "=== Url is https://swapi.py4e.com/api/people/3/\n",
      "=== Text is {\"name\":\"R2-D2\",\"height\":\"96\",\"mass\":\"32\",\"hair_color\":\"n/a\",\"skin_color\":\"white, blue\",\"eye_color\":\"red\",\"birth_year\":\"33BBY\",\"gender\":\"n/a\",\"homeworld\":\"https://swapi.py4e.com/api/planets/8/\",\"films\":[\"https://swapi.py4e.com/api/films/1/\",\"https://swapi.py4e.com/api/films/2/\",\"https://swapi.py4e.com/api/films/3/\",\"https://swapi.py4e.com/api/films/4/\",\"https://swapi.py4e.com/api/films/5/\",\"https://swapi.py4e.com/api/films/6/\",\"https://swapi.py4e.com/api/films/7/\"],\"species\":[\"https://swapi.py4e.com/api/species/2/\"],\"vehicles\":[],\"starships\":[],\"created\":\"2014-12-10T15:11:50.376000Z\",\"edited\":\"2014-12-20T21:17:50.311000Z\",\"url\":\"https://swapi.py4e.com/api/people/3/\"}\n",
      "200 675 https://swapi.py4e.com/api/people/3/ 24\n",
      "=== Url is https://swapi.py4e.com/api/people/4/\n",
      "=== Text is {\"name\":\"Darth Vader\",\"height\":\"202\",\"mass\":\"136\",\"hair_color\":\"none\",\"skin_color\":\"white\",\"eye_color\":\"yellow\",\"birth_year\":\"41.9BBY\",\"gender\":\"male\",\"homeworld\":\"https://swapi.py4e.com/api/planets/1/\",\"films\":[\"https://swapi.py4e.com/api/films/1/\",\"https://swapi.py4e.com/api/films/2/\",\"https://swapi.py4e.com/api/films/3/\",\"https://swapi.py4e.com/api/films/6/\"],\"species\":[\"https://swapi.py4e.com/api/species/1/\"],\"vehicles\":[],\"starships\":[\"https://swapi.py4e.com/api/starships/13/\"],\"created\":\"2014-12-10T15:18:20.704000Z\",\"edited\":\"2014-12-20T21:17:50.313000Z\",\"url\":\"https://swapi.py4e.com/api/people/4/\"}\n",
      "200 612 https://swapi.py4e.com/api/people/4/ 23\n",
      "=== Url is https://swapi.py4e.com/api/people/5/\n",
      "=== Text is {\"name\":\"Leia Organa\",\"height\":\"150\",\"mass\":\"49\",\"hair_color\":\"brown\",\"skin_color\":\"light\",\"eye_color\":\"brown\",\"birth_year\":\"19BBY\",\"gender\":\"female\",\"homeworld\":\"https://swapi.py4e.com/api/planets/2/\",\"films\":[\"https://swapi.py4e.com/api/films/1/\",\"https://swapi.py4e.com/api/films/2/\",\"https://swapi.py4e.com/api/films/3/\",\"https://swapi.py4e.com/api/films/6/\",\"https://swapi.py4e.com/api/films/7/\"],\"species\":[\"https://swapi.py4e.com/api/species/1/\"],\"vehicles\":[\"https://swapi.py4e.com/api/vehicles/30/\"],\"starships\":[],\"created\":\"2014-12-10T15:20:09.791000Z\",\"edited\":\"2014-12-20T21:17:50.315000Z\",\"url\":\"https://swapi.py4e.com/api/people/5/\"}\n",
      "200 648 https://swapi.py4e.com/api/people/5/ 22\n",
      "=== Url is https://swapi.py4e.com/api/people/6/\n",
      "=== Text is {\"name\":\"Owen Lars\",\"height\":\"178\",\"mass\":\"120\",\"hair_color\":\"brown, grey\",\"skin_color\":\"light\",\"eye_color\":\"blue\",\"birth_year\":\"52BBY\",\"gender\":\"male\",\"homeworld\":\"https://swapi.py4e.com/api/planets/1/\",\"films\":[\"https://swapi.py4e.com/api/films/1/\",\"https://swapi.py4e.com/api/films/5/\",\"https://swapi.py4e.com/api/films/6/\"],\"species\":[\"https://swapi.py4e.com/api/species/1/\"],\"vehicles\":[],\"starships\":[],\"created\":\"2014-12-10T15:52:14.024000Z\",\"edited\":\"2014-12-20T21:17:50.317000Z\",\"url\":\"https://swapi.py4e.com/api/people/6/\"}\n",
      "200 533 https://swapi.py4e.com/api/people/6/ 21\n",
      "=== Url is https://swapi.py4e.com/api/people/7/\n",
      "=== Text is {\"name\":\"Beru Whitesun lars\",\"height\":\"165\",\"mass\":\"75\",\"hair_color\":\"brown\",\"skin_color\":\"light\",\"eye_color\":\"blue\",\"birth_year\":\"47BBY\",\"gender\":\"female\",\"homeworld\":\"https://swapi.py4e.com/api/planets/1/\",\"films\":[\"https://swapi.py4e.com/api/films/1/\",\"https://swapi.py4e.com/api/films/5/\",\"https://swapi.py4e.com/api/films/6/\"],\"species\":[\"https://swapi.py4e.com/api/species/1/\"],\"vehicles\":[],\"starships\":[],\"created\":\"2014-12-10T15:53:41.121000Z\",\"edited\":\"2014-12-20T21:17:50.319000Z\",\"url\":\"https://swapi.py4e.com/api/people/7/\"}\n",
      "200 537 https://swapi.py4e.com/api/people/7/ 20\n",
      "25 loaded...\n",
      "=== Url is https://swapi.py4e.com/api/people/8/\n",
      "=== Text is {\"name\":\"R5-D4\",\"height\":\"97\",\"mass\":\"32\",\"hair_color\":\"n/a\",\"skin_color\":\"white, red\",\"eye_color\":\"red\",\"birth_year\":\"unknown\",\"gender\":\"n/a\",\"homeworld\":\"https://swapi.py4e.com/api/planets/1/\",\"films\":[\"https://swapi.py4e.com/api/films/1/\"],\"species\":[\"https://swapi.py4e.com/api/species/2/\"],\"vehicles\":[],\"starships\":[],\"created\":\"2014-12-10T15:57:50.959000Z\",\"edited\":\"2014-12-20T21:17:50.321000Z\",\"url\":\"https://swapi.py4e.com/api/people/8/\"}\n",
      "200 448 https://swapi.py4e.com/api/people/8/ 19\n",
      "=== Url is https://swapi.py4e.com/api/people/9/\n",
      "=== Text is {\"name\":\"Biggs Darklighter\",\"height\":\"183\",\"mass\":\"84\",\"hair_color\":\"black\",\"skin_color\":\"light\",\"eye_color\":\"brown\",\"birth_year\":\"24BBY\",\"gender\":\"male\",\"homeworld\":\"https://swapi.py4e.com/api/planets/1/\",\"films\":[\"https://swapi.py4e.com/api/films/1/\"],\"species\":[\"https://swapi.py4e.com/api/species/1/\"],\"vehicles\":[],\"starships\":[\"https://swapi.py4e.com/api/starships/12/\"],\"created\":\"2014-12-10T15:59:50.509000Z\",\"edited\":\"2014-12-20T21:17:50.323000Z\",\"url\":\"https://swapi.py4e.com/api/people/9/\"}\n",
      "200 501 https://swapi.py4e.com/api/people/9/ 18\n",
      "=== Url is https://swapi.py4e.com/api/people/10/\n",
      "=== Text is {\"name\":\"Obi-Wan Kenobi\",\"height\":\"182\",\"mass\":\"77\",\"hair_color\":\"auburn, white\",\"skin_color\":\"fair\",\"eye_color\":\"blue-gray\",\"birth_year\":\"57BBY\",\"gender\":\"male\",\"homeworld\":\"https://swapi.py4e.com/api/planets/20/\",\"films\":[\"https://swapi.py4e.com/api/films/1/\",\"https://swapi.py4e.com/api/films/2/\",\"https://swapi.py4e.com/api/films/3/\",\"https://swapi.py4e.com/api/films/4/\",\"https://swapi.py4e.com/api/films/5/\",\"https://swapi.py4e.com/api/films/6/\"],\"species\":[\"https://swapi.py4e.com/api/species/1/\"],\"vehicles\":[\"https://swapi.py4e.com/api/vehicles/38/\"],\"starships\":[\"https://swapi.py4e.com/api/starships/48/\",\"https://swapi.py4e.com/api/starships/59/\",\"https://swapi.py4e.com/api/starships/64/\",\"https://swapi.py4e.com/api/starships/65/\",\"https://swapi.py4e.com/api/starships/74/\"],\"created\":\"2014-12-10T16:16:29.192000Z\",\"edited\":\"2014-12-20T21:17:50.325000Z\",\"url\":\"https://swapi.py4e.com/api/people/10/\"}\n",
      "200 914 https://swapi.py4e.com/api/people/10/ 17\n",
      "=== Url is https://swapi.py4e.com/api/people/12/\n",
      "=== Text is {\"name\":\"Wilhuff Tarkin\",\"height\":\"180\",\"mass\":\"unknown\",\"hair_color\":\"auburn, grey\",\"skin_color\":\"fair\",\"eye_color\":\"blue\",\"birth_year\":\"64BBY\",\"gender\":\"male\",\"homeworld\":\"https://swapi.py4e.com/api/planets/21/\",\"films\":[\"https://swapi.py4e.com/api/films/1/\",\"https://swapi.py4e.com/api/films/6/\"],\"species\":[\"https://swapi.py4e.com/api/species/1/\"],\"vehicles\":[],\"starships\":[],\"created\":\"2014-12-10T16:26:56.138000Z\",\"edited\":\"2014-12-20T21:17:50.330000Z\",\"url\":\"https://swapi.py4e.com/api/people/12/\"}\n",
      "200 506 https://swapi.py4e.com/api/people/12/ 22\n",
      "=== Url is https://swapi.py4e.com/api/people/13/\n",
      "=== Text is <!DOCTYPE html>\n",
      "<!--[if lt IE 7]> <html class=\"no-js ie6 oldie\" lang=\"en-US\"> <![endif]-->\n",
      "<!--[if IE 7]>    <html class=\"no-js ie7 oldie\" lang=\"en-US\"> <![endif]-->\n",
      "<!--[if IE 8]>    <html class=\"no-js ie8 oldie\" lang=\"en-US\"> <![endif]-->\n",
      "<!--[if gt IE 8]><!--> <html class=\"no-js\" lang=\"en-US\"> <!--<![endif]-->\n",
      "<head>\n",
      "\n",
      "\n",
      "<title>swapi.py4e.com | 522: Connection timed out</title>\n",
      "<meta charset=\"UTF-8\" />\n",
      "<meta http-equiv=\"Content-Type\" content=\"text/html; charset=UTF-8\" />\n",
      "<meta http-equiv=\"X-UA-Compatible\" content=\"IE=Edge\" />\n",
      "<meta name=\"robots\" content=\"noindex, nofollow\" />\n",
      "<meta name=\"viewport\" content=\"width=device-width,initial-scale=1\" />\n",
      "<link rel=\"stylesheet\" id=\"cf_styles-css\" href=\"/cdn-cgi/styles/main.css\" />\n",
      "\n",
      "\n",
      "</head>\n",
      "<body>\n",
      "<div id=\"cf-wrapper\">\n",
      "    <div id=\"cf-error-details\" class=\"p-0\">\n",
      "        <header class=\"mx-auto pt-10 lg:pt-6 lg:px-8 w-240 lg:w-full mb-8\">\n",
      "            <h1 class=\"inline-block sm:block sm:mb-2 font-light text-60 lg:text-4xl text-black-dark leading-tight mr-2\">\n",
      "              <span class=\"inline-block\">Connection timed out</span>\n",
      "              <span class=\"code-label\">Error code 522</span>\n",
      "            </h1>\n",
      "            <div>\n",
      "               Visit <a href=\"https://www.cloudflare.com/5xx-error-landing?utm_source=errorcode_522&utm_campaign=swapi.py4e.com\" target=\"_blank\" rel=\"noopener noreferrer\">cloudflare.com</a> for more information.\n",
      "            </div>\n",
      "            <div class=\"mt-3\">2024-03-29 09:10:46 UTC</div>\n",
      "        </header>\n",
      "        <div class=\"my-8 bg-gradient-gray\">\n",
      "            <div class=\"w-240 lg:w-full mx-auto\">\n",
      "                <div class=\"clearfix md:px-8\">\n",
      "                  \n",
      "<div id=\"cf-browser-status\" class=\" relative w-1/3 md:w-full py-15 md:p-0 md:py-8 md:text-left md:border-solid md:border-0 md:border-b md:border-gray-400 overflow-hidden float-left md:float-none text-center\">\n",
      "  <div class=\"relative mb-10 md:m-0\">\n",
      "    \n",
      "    <span class=\"cf-icon-browser block md:hidden h-20 bg-center bg-no-repeat\"></span>\n",
      "    <span class=\"cf-icon-ok w-12 h-12 absolute left-1/2 md:left-auto md:right-0 md:top-0 -ml-6 -bottom-4\"></span>\n",
      "    \n",
      "  </div>\n",
      "  <span class=\"md:block w-full truncate\">You</span>\n",
      "  <h3 class=\"md:inline-block mt-3 md:mt-0 text-2xl text-gray-600 font-light leading-1.3\">\n",
      "    \n",
      "    Browser\n",
      "    \n",
      "  </h3>\n",
      "  <span class=\"leading-1.3 text-2xl text-green-success\">Working</span>\n",
      "</div>\n",
      "\n",
      "<div id=\"cf-cloudflare-status\" class=\" relative w-1/3 md:w-full py-15 md:p-0 md:py-8 md:text-left md:border-solid md:border-0 md:border-b md:border-gray-400 overflow-hidden float-left md:float-none text-center\">\n",
      "  <div class=\"relative mb-10 md:m-0\">\n",
      "    <a href=\"https://www.cloudflare.com/5xx-error-landing?utm_source=errorcode_522&utm_campaign=swapi.py4e.com\" target=\"_blank\" rel=\"noopener noreferrer\">\n",
      "    <span class=\"cf-icon-cloud block md:hidden h-20 bg-center bg-no-repeat\"></span>\n",
      "    <span class=\"cf-icon-ok w-12 h-12 absolute left-1/2 md:left-auto md:right-0 md:top-0 -ml-6 -bottom-4\"></span>\n",
      "    </a>\n",
      "  </div>\n",
      "  <span class=\"md:block w-full truncate\">Singapore</span>\n",
      "  <h3 class=\"md:inline-block mt-3 md:mt-0 text-2xl text-gray-600 font-light leading-1.3\">\n",
      "    <a href=\"https://www.cloudflare.com/5xx-error-landing?utm_source=errorcode_522&utm_campaign=swapi.py4e.com\" target=\"_blank\" rel=\"noopener noreferrer\">\n",
      "    Cloudflare\n",
      "    </a>\n",
      "  </h3>\n",
      "  <span class=\"leading-1.3 text-2xl text-green-success\">Working</span>\n",
      "</div>\n",
      "\n",
      "<div id=\"cf-host-status\" class=\"cf-error-source relative w-1/3 md:w-full py-15 md:p-0 md:py-8 md:text-left md:border-solid md:border-0 md:border-b md:border-gray-400 overflow-hidden float-left md:float-none text-center\">\n",
      "  <div class=\"relative mb-10 md:m-0\">\n",
      "    \n",
      "    <span class=\"cf-icon-server block md:hidden h-20 bg-center bg-no-repeat\"></span>\n",
      "    <span class=\"cf-icon-error w-12 h-12 absolute left-1/2 md:left-auto md:right-0 md:top-0 -ml-6 -bottom-4\"></span>\n",
      "    \n",
      "  </div>\n",
      "  <span class=\"md:block w-full truncate\">swapi.py4e.com</span>\n",
      "  <h3 class=\"md:inline-block mt-3 md:mt-0 text-2xl text-gray-600 font-light leading-1.3\">\n",
      "    \n",
      "    Host\n",
      "    \n",
      "  </h3>\n",
      "  <span class=\"leading-1.3 text-2xl text-red-error\">Error</span>\n",
      "</div>\n",
      "\n",
      "                </div>\n",
      "            </div>\n",
      "        </div>\n",
      "\n",
      "        <div class=\"w-240 lg:w-full mx-auto mb-8 lg:px-8\">\n",
      "            <div class=\"clearfix\">\n",
      "                <div class=\"w-1/2 md:w-full float-left pr-6 md:pb-10 md:pr-0 leading-relaxed\">\n",
      "                    <h2 class=\"text-3xl font-normal leading-1.3 mb-4\">What happened?</h2>\n",
      "                    <p>The initial connection between Cloudflare's network and the origin web server timed out. As a result, the web page can not be displayed.</p>\n",
      "                </div>\n",
      "                <div class=\"w-1/2 md:w-full float-left leading-relaxed\">\n",
      "                    <h2 class=\"text-3xl font-normal leading-1.3 mb-4\">What can I do?</h2>\n",
      "                          <h3 class=\"text-15 font-semibold mb-2\">If you're a visitor of this website:</h3>\n",
      "      <p class=\"mb-6\">Please try again in a few minutes.</p>\n",
      "\n",
      "      <h3 class=\"text-15 font-semibold mb-2\">If you're the owner of this website:</h3>\n",
      "      <p><span>Contact your hosting provider letting them know your web server is not completing requests. An Error 522 means that the request was able to connect to your web server, but that the request didn't finish. The most likely cause is that something on your server is hogging resources.</span> <a rel=\"noopener noreferrer\" href=\"https://support.cloudflare.com/hc/en-us/articles/200171906-Error-522\">Additional troubleshooting information here.</a></p>\n",
      "                </div>\n",
      "            </div>\n",
      "        </div>\n",
      "\n",
      "        <div class=\"cf-error-footer cf-wrapper w-240 lg:w-full py-10 sm:py-4 sm:px-8 mx-auto text-center sm:text-left border-solid border-0 border-t border-gray-300\">\n",
      "  <p class=\"text-13\">\n",
      "    <span class=\"cf-footer-item sm:block sm:mb-1\">Cloudflare Ray ID: <strong class=\"font-semibold\">86beba2f380f3ddc</strong></span>\n",
      "    <span class=\"cf-footer-separator sm:hidden\">&bull;</span>\n",
      "    <span id=\"cf-footer-item-ip\" class=\"cf-footer-item hidden sm:block sm:mb-1\">\n",
      "      Your IP:\n",
      "      <button type=\"button\" id=\"cf-footer-ip-reveal\" class=\"cf-footer-ip-reveal-btn\">Click to reveal</button>\n",
      "      <span class=\"hidden\" id=\"cf-footer-ip\">115.79.5.225</span>\n",
      "      <span class=\"cf-footer-separator sm:hidden\">&bull;</span>\n",
      "    </span>\n",
      "    <span class=\"cf-footer-item sm:block sm:mb-1\"><span>Performance &amp; security by</span> <a rel=\"noopener noreferrer\" href=\"https://www.cloudflare.com/5xx-error-landing?utm_source=errorcode_522&utm_campaign=swapi.py4e.com\" id=\"brand_link\" target=\"_blank\">Cloudflare</a></span>\n",
      "    \n",
      "  </p>\n",
      "  <script>(function(){function d(){var b=a.getElementById(\"cf-footer-item-ip\"),c=a.getElementById(\"cf-footer-ip-reveal\");b&&\"classList\"in b&&(b.classList.remove(\"hidden\"),c.addEventListener(\"click\",function(){c.classList.add(\"hidden\");a.getElementById(\"cf-footer-ip\").classList.remove(\"hidden\")}))}var a=document;document.addEventListener&&a.addEventListener(\"DOMContentLoaded\",d)})();</script>\n",
      "</div><!-- /.error-footer -->\n",
      "\n",
      "\n",
      "    </div>\n",
      "</div>\n",
      "</body>\n",
      "</html>\n",
      "\n"
     ]
    },
    {
     "name": "stdout",
     "output_type": "stream",
     "text": [
      "Unable to retrieve or parse page https://swapi.py4e.com/api/people/13/\n",
      "Error invalid input syntax for type json\n",
      "LINE 1: UPDATE swapi SET status=522, body='<!DOCTYPE html>\n",
      "                                          ^\n",
      "DETAIL:  Token \"<\" is invalid.\n",
      "CONTEXT:  JSON data, line 1: <...\n",
      "\n"
     ]
    },
    {
     "ename": "InFailedSqlTransaction",
     "evalue": "current transaction is aborted, commands ignored until end of transaction block\n",
     "output_type": "error",
     "traceback": [
      "\u001b[1;31m---------------------------------------------------------------------------\u001b[0m",
      "\u001b[1;31mInFailedSqlTransaction\u001b[0m                    Traceback (most recent call last)",
      "Cell \u001b[1;32mIn[32], line 76\u001b[0m\n\u001b[0;32m     73\u001b[0m     many \u001b[38;5;241m=\u001b[39m \u001b[38;5;28mint\u001b[39m(sval)\n\u001b[0;32m     75\u001b[0m sql \u001b[38;5;241m=\u001b[39m \u001b[38;5;124m'\u001b[39m\u001b[38;5;124mSELECT url FROM swapi WHERE status IS NULL LIMIT 1;\u001b[39m\u001b[38;5;124m'\u001b[39m\n\u001b[1;32m---> 76\u001b[0m url \u001b[38;5;241m=\u001b[39m \u001b[43mmyutils\u001b[49m\u001b[38;5;241;43m.\u001b[39;49m\u001b[43mqueryValue\u001b[49m\u001b[43m(\u001b[49m\u001b[43mcur\u001b[49m\u001b[43m,\u001b[49m\u001b[43m \u001b[49m\u001b[43msql\u001b[49m\u001b[43m)\u001b[49m\n\u001b[0;32m     77\u001b[0m \u001b[38;5;28;01mif\u001b[39;00m url \u001b[38;5;129;01mis\u001b[39;00m \u001b[38;5;28;01mNone\u001b[39;00m:\n\u001b[0;32m     78\u001b[0m     \u001b[38;5;28mprint\u001b[39m(\u001b[38;5;124m'\u001b[39m\u001b[38;5;124mThere are no unretrieved documents\u001b[39m\u001b[38;5;124m'\u001b[39m)\n",
      "File \u001b[1;32m~\\Documents\\GitHub\\PythonProject\\7. PostgreSQL\\myutils.py:3\u001b[0m, in \u001b[0;36mqueryValue\u001b[1;34m(cur, sql, fields, error)\u001b[0m\n\u001b[0;32m      2\u001b[0m \u001b[38;5;28;01mdef\u001b[39;00m \u001b[38;5;21mqueryValue\u001b[39m(cur, sql, fields\u001b[38;5;241m=\u001b[39m\u001b[38;5;28;01mNone\u001b[39;00m, error\u001b[38;5;241m=\u001b[39m\u001b[38;5;28;01mNone\u001b[39;00m) :\n\u001b[1;32m----> 3\u001b[0m     row \u001b[38;5;241m=\u001b[39m \u001b[43mqueryRow\u001b[49m\u001b[43m(\u001b[49m\u001b[43mcur\u001b[49m\u001b[43m,\u001b[49m\u001b[43m \u001b[49m\u001b[43msql\u001b[49m\u001b[43m,\u001b[49m\u001b[43m \u001b[49m\u001b[43mfields\u001b[49m\u001b[43m,\u001b[49m\u001b[43m \u001b[49m\u001b[43merror\u001b[49m\u001b[43m)\u001b[49m;\n\u001b[0;32m      4\u001b[0m     \u001b[38;5;28;01mif\u001b[39;00m row \u001b[38;5;129;01mis\u001b[39;00m \u001b[38;5;28;01mNone\u001b[39;00m : \u001b[38;5;28;01mreturn\u001b[39;00m \u001b[38;5;28;01mNone\u001b[39;00m\n\u001b[0;32m      5\u001b[0m     \u001b[38;5;28;01mreturn\u001b[39;00m row[\u001b[38;5;241m0\u001b[39m]\n",
      "File \u001b[1;32m~\\Documents\\GitHub\\PythonProject\\7. PostgreSQL\\myutils.py:8\u001b[0m, in \u001b[0;36mqueryRow\u001b[1;34m(cur, sql, fields, error)\u001b[0m\n\u001b[0;32m      7\u001b[0m \u001b[38;5;28;01mdef\u001b[39;00m \u001b[38;5;21mqueryRow\u001b[39m(cur, sql, fields\u001b[38;5;241m=\u001b[39m\u001b[38;5;28;01mNone\u001b[39;00m, error\u001b[38;5;241m=\u001b[39m\u001b[38;5;28;01mNone\u001b[39;00m) :\n\u001b[1;32m----> 8\u001b[0m     row \u001b[38;5;241m=\u001b[39m \u001b[43mdoQuery\u001b[49m\u001b[43m(\u001b[49m\u001b[43mcur\u001b[49m\u001b[43m,\u001b[49m\u001b[43m \u001b[49m\u001b[43msql\u001b[49m\u001b[43m,\u001b[49m\u001b[43m \u001b[49m\u001b[43mfields\u001b[49m\u001b[43m)\u001b[49m\n\u001b[0;32m      9\u001b[0m     \u001b[38;5;28;01mtry\u001b[39;00m:\n\u001b[0;32m     10\u001b[0m         row \u001b[38;5;241m=\u001b[39m cur\u001b[38;5;241m.\u001b[39mfetchone()\n",
      "File \u001b[1;32m~\\Documents\\GitHub\\PythonProject\\7. PostgreSQL\\myutils.py:20\u001b[0m, in \u001b[0;36mdoQuery\u001b[1;34m(cur, sql, fields)\u001b[0m\n\u001b[0;32m     19\u001b[0m \u001b[38;5;28;01mdef\u001b[39;00m \u001b[38;5;21mdoQuery\u001b[39m(cur, sql, fields\u001b[38;5;241m=\u001b[39m\u001b[38;5;28;01mNone\u001b[39;00m) :\n\u001b[1;32m---> 20\u001b[0m     row \u001b[38;5;241m=\u001b[39m \u001b[43mcur\u001b[49m\u001b[38;5;241;43m.\u001b[39;49m\u001b[43mexecute\u001b[49m\u001b[43m(\u001b[49m\u001b[43msql\u001b[49m\u001b[43m,\u001b[49m\u001b[43m \u001b[49m\u001b[43mfields\u001b[49m\u001b[43m)\u001b[49m\n\u001b[0;32m     21\u001b[0m     \u001b[38;5;28;01mreturn\u001b[39;00m row\n",
      "\u001b[1;31mInFailedSqlTransaction\u001b[0m: current transaction is aborted, commands ignored until end of transaction block\n"
     ]
    }
   ],
   "source": [
    "\n",
    "# https://www.pg4e.com/code/swapi.py\n",
    "# https://www.pg4e.com/code/myutils.py\n",
    "\n",
    "# If needed:\n",
    "# https://www.pg4e.com/code/hidden-dist.py\n",
    "# copy hidden-dist.py to hidden.py\n",
    "# edit hidden.py and put in your credentials\n",
    "\n",
    "# python3 swapi.py\n",
    "# Pulls data from the swapi.py4e.com API and puts it into our swapi table\n",
    "\n",
    "import psycopg2\n",
    "import hidden\n",
    "import time\n",
    "import myutils\n",
    "import requests\n",
    "import json\n",
    "\n",
    "def summary(cur) :\n",
    "    total = myutils.queryValue(cur, 'SELECT COUNT(*) FROM swapi;')\n",
    "    todo = myutils.queryValue(cur, 'SELECT COUNT(*) FROM swapi WHERE status IS NULL;')\n",
    "    good = myutils.queryValue(cur, 'SELECT COUNT(*) FROM swapi WHERE status = 200;')\n",
    "    error = myutils.queryValue(cur, 'SELECT COUNT(*) FROM swapi WHERE status != 200;')\n",
    "    print(f'Total={total} todo={todo} good={good} error={error}')\n",
    "\n",
    "# Load the secrets\n",
    "secrets = hidden.secrets()\n",
    "\n",
    "conn = psycopg2.connect(host=secrets['host'],\n",
    "        port=secrets['port'],\n",
    "        database=secrets['database'],\n",
    "        user=secrets['user'],\n",
    "        password=secrets['pass'],\n",
    "        connect_timeout=3)\n",
    "\n",
    "cur = conn.cursor()\n",
    "\n",
    "defaulturl = 'https://swapi.py4e.com/api/films/1/'\n",
    "print('If you want to restart the spider, run')\n",
    "print('DROP TABLE IF EXISTS swapi CASCADE;')\n",
    "print(' ')\n",
    "\n",
    "sql = '''\n",
    "CREATE TABLE IF NOT EXISTS swapi\n",
    "(id serial, url VARCHAR(2048) UNIQUE, status INTEGER, body JSONB,\n",
    "created_at TIMESTAMPTZ NOT NULL DEFAULT NOW(), updated_at TIMESTAMPTZ);\n",
    "'''\n",
    "print(sql)\n",
    "cur.execute(sql)\n",
    "\n",
    "# Check to see if we have urls in the table, if not add starting points\n",
    "# for each of the object trees\n",
    "sql = 'SELECT COUNT(url) FROM swapi;'\n",
    "count = myutils.queryValue(cur, sql)\n",
    "if count < 1:\n",
    "    objects = ['films', 'species', 'people']\n",
    "    for obj in objects:\n",
    "        sql = f\"INSERT INTO swapi (url) VALUES ( 'https://swapi.py4e.com/api/{obj}/1/' )\";\n",
    "        print(sql)\n",
    "        cur.execute(sql, (defaulturl))\n",
    "    conn.commit()\n",
    "\n",
    "many = 0\n",
    "count = 0\n",
    "chars = 0\n",
    "fail = 0\n",
    "summary(cur)\n",
    "while True:\n",
    "    if ( many < 1 ) :\n",
    "        conn.commit()\n",
    "        sval = input('How many documents:')\n",
    "        if ( len(sval) < 1 ) : break\n",
    "        many = int(sval)\n",
    "\n",
    "    sql = 'SELECT url FROM swapi WHERE status IS NULL LIMIT 1;'\n",
    "    url = myutils.queryValue(cur, sql)\n",
    "    if url is None:\n",
    "        print('There are no unretrieved documents')\n",
    "        break\n",
    "\n",
    "    text = \"None\"\n",
    "    try:\n",
    "        print('=== Url is', url)\n",
    "        response = requests.get(url)\n",
    "        text = response.text\n",
    "        print('=== Text is', text)\n",
    "        status = response.status_code\n",
    "        sql = 'UPDATE swapi SET status=%s, body=%s, updated_at=NOW() WHERE url = %s;'\n",
    "        row = cur.execute(sql, (status, text, url))\n",
    "        count = count + 1\n",
    "        chars = chars + len(text)\n",
    "    except KeyboardInterrupt:\n",
    "        print('')\n",
    "        print('Program interrupted by user...')\n",
    "        break\n",
    "    except Exception as e:\n",
    "        print(\"Unable to retrieve or parse page\",url)\n",
    "        print(\"Error\",e)\n",
    "        fail = fail + 1\n",
    "        if fail > 5 : break\n",
    "        continue\n",
    "\n",
    "    todo = myutils.queryValue(cur, 'SELECT COUNT(*) FROM swapi WHERE status IS NULL;')\n",
    "    print(status, len(text), url, todo)\n",
    "\n",
    "    # TODO: Add try/except Once we figure out what goes wrong\n",
    "    js = json.loads(text)\n",
    "\n",
    "    # Look through all of the \"linked data\" for other urls to retrieve\n",
    "    links = ['films', 'species', 'vehicles', 'starships', 'characters']\n",
    "    for link in links:\n",
    "        stuff = js.get(link, None)\n",
    "        if not isinstance(stuff, list) : continue\n",
    "        for item in stuff:\n",
    "            sql = 'INSERT INTO swapi (url) VALUES ( %s ) ON CONFLICT (url) DO NOTHING;';\n",
    "            cur.execute(sql, (item, ))\n",
    "\n",
    "    many = many - 1\n",
    "    if count % 25 == 0 :\n",
    "        conn.commit()\n",
    "        print(count, 'loaded...')\n",
    "        time.sleep(1)\n",
    "        continue\n",
    "\n",
    "print(' ')\n",
    "print(f'Loaded {count} documents, {chars} characters')\n",
    "\n",
    "summary(cur)\n",
    "\n",
    "print('Closing database connection...')\n",
    "conn.commit()\n",
    "cur.close()\n"
   ]
  },
  {
   "cell_type": "code",
   "execution_count": 2,
   "id": "5076f4a1",
   "metadata": {},
   "outputs": [],
   "source": [
    "def summary(cur) :\n",
    "    total = myutils.queryValue(cur, 'SELECT COUNT(*) FROM swapi;')\n",
    "    todo = myutils.queryValue(cur, 'SELECT COUNT(*) FROM swapi WHERE status IS NULL;')\n",
    "    good = myutils.queryValue(cur, 'SELECT COUNT(*) FROM swapi WHERE status = 200;')\n",
    "    error = myutils.queryValue(cur, 'SELECT COUNT(*) FROM swapi WHERE status != 200;')\n",
    "    print(f'Total={total} todo={todo} good={good} error={error}')"
   ]
  },
  {
   "cell_type": "code",
   "execution_count": 18,
   "id": "283b0ba2",
   "metadata": {},
   "outputs": [],
   "source": [
    "# Load the secrets\n",
    "secrets = hidden.secrets()\n",
    "conn = psycopg2.connect(host=secrets['host'],\n",
    "        port=secrets['port'],\n",
    "        database=secrets['database'],\n",
    "        user=secrets['user'],\n",
    "        password=secrets['pass'])\n",
    "cur = conn.cursor()"
   ]
  },
  {
   "cell_type": "code",
   "execution_count": 4,
   "id": "7f63c660",
   "metadata": {},
   "outputs": [
    {
     "name": "stdout",
     "output_type": "stream",
     "text": [
      "If you want to restart the spider, run\n",
      "DROP TABLE IF EXISTS swapi CASCADE;\n",
      " \n"
     ]
    }
   ],
   "source": [
    "defaulturl = 'https://swapi.py4e.com/api/films/1/'\n",
    "print('If you want to restart the spider, run')\n",
    "print('DROP TABLE IF EXISTS swapi CASCADE;')\n",
    "print(' ')"
   ]
  },
  {
   "cell_type": "code",
   "execution_count": 11,
   "id": "bcdbd9f2",
   "metadata": {},
   "outputs": [
    {
     "name": "stdout",
     "output_type": "stream",
     "text": [
      "\n",
      "SELECT * FROM swapi\n",
      "\n"
     ]
    }
   ],
   "source": [
    "sql = '''\n",
    "SELECT * FROM swapi\n",
    "'''\n",
    "print(sql)\n",
    "cur.execute(sql)"
   ]
  },
  {
   "cell_type": "code",
   "execution_count": 12,
   "id": "c2deef84",
   "metadata": {},
   "outputs": [
    {
     "data": {
      "text/plain": [
       "[]"
      ]
     },
     "execution_count": 12,
     "metadata": {},
     "output_type": "execute_result"
    }
   ],
   "source": [
    "cur.fetchall()"
   ]
  },
  {
   "cell_type": "code",
   "execution_count": 20,
   "id": "0ac87383",
   "metadata": {},
   "outputs": [
    {
     "name": "stdout",
     "output_type": "stream",
     "text": [
      "INSERT INTO swapi (url) VALUES ('https://swapi.py4e.com/api/films/1/')\n",
      "INSERT INTO swapi (url) VALUES ('https://swapi.py4e.com/api/species/1/')\n",
      "INSERT INTO swapi (url) VALUES ('https://swapi.py4e.com/api/people/1/')\n"
     ]
    }
   ],
   "source": [
    "sql = 'SELECT COUNT(url) FROM swapi;'\n",
    "count = myutils.queryValue(cur, sql) #Nếu chưa có giá trị: count = 0\n",
    "if count < 1:\n",
    "    objects = ['films', 'species', 'people']\n",
    "    for obj in objects:\n",
    "        sql = f\"INSERT INTO swapi (url) VALUES ('https://swapi.py4e.com/api/{obj}/1/')\";\n",
    "        print(sql)\n",
    "        cur.execute(sql, (defaulturl))\n",
    "    conn.commit()"
   ]
  },
  {
   "cell_type": "code",
   "execution_count": 21,
   "id": "97f65f3a",
   "metadata": {},
   "outputs": [
    {
     "data": {
      "text/plain": [
       "0"
      ]
     },
     "execution_count": 21,
     "metadata": {},
     "output_type": "execute_result"
    }
   ],
   "source": [
    "many = 0\n",
    "count = 0\n",
    "chars =0\n",
    "fail =0 \n",
    "summary(cur)\n",
    "while True:\n",
    "    if (many <1):\n",
    "        conn.commit()\n",
    "        sval = input('How many documents: ')\n",
    "        if(len(sval) <1): break\n",
    "        many =int(sval)\n",
    "    \n",
    "    sql = 'SELECT url FROM swapi WHERE status IS NULL LIMIT 1;'\n",
    "    url = myutils.queryValue(cur, sql)\n",
    "    if url is None:\n",
    "        print('There are no unretrieved documents')\n",
    "        break\n",
    "    text = \"None\"\n",
    "    try:\n",
    "        print('=== Url is', url)\n",
    "        response = requests.get(url)\n",
    "        text = response.text\n",
    "        print('=== Text is', text)\n",
    "        status= response.status_code\n",
    "        sql = 'UPDATE swapi SET status=%, body=%, updated_at=NOW() WHERE url=%s;'\n",
    "        row = cur.execute(sql, (status, text, url))\n",
    "        count +=1\n",
    "        chars = chars + len(text)\n",
    "    except KeyboardInterrupt:\n",
    "        print('')\n",
    "        print('Program interrupted by user...')\n",
    "        break\n",
    "    except Exception as e:\n",
    "        print(\"Unable to retrieve or parse page\", url)\n",
    "        print(\"Errors\", e)\n",
    "        fail += 1\n",
    "        if fail > 5: break\n",
    "        continue\n",
    " \n",
    "    todo = myutils.queryValue(cur, 'SELECT COUNT(*) FROM swapi WHERE status IS NULL;')\n",
    "    print(status, len(text), url, todo)\n",
    "    js = json.loads(text)\n",
    "    links =['films', 'species', 'vehicles', 'starships', 'characters']\n",
    "    for link in links:\n",
    "        stuff = js.get(link, None)\n",
    "        if not isinstance(stuff, list): continue\n",
    "        for item in stuff:\n",
    "            sql = 'INSERT INTO swapi (url) VALUES (%s) ON CONFLICT (url) DO NOTHING;'"
   ]
  },
  {
   "cell_type": "code",
   "execution_count": 23,
   "id": "722ce805",
   "metadata": {},
   "outputs": [
    {
     "data": {
      "text/plain": [
       "'{\"name\":\"Luke Skywalker\",\"height\":\"172\",\"mass\":\"77\",\"hair_color\":\"blond\",\"skin_color\":\"fair\",\"eye_color\":\"blue\",\"birth_year\":\"19BBY\",\"gender\":\"male\",\"homeworld\":\"https://swapi.py4e.com/api/planets/1/\",\"films\":[\"https://swapi.py4e.com/api/films/1/\",\"https://swapi.py4e.com/api/films/2/\",\"https://swapi.py4e.com/api/films/3/\",\"https://swapi.py4e.com/api/films/6/\",\"https://swapi.py4e.com/api/films/7/\"],\"species\":[\"https://swapi.py4e.com/api/species/1/\"],\"vehicles\":[\"https://swapi.py4e.com/api/vehicles/14/\",\"https://swapi.py4e.com/api/vehicles/30/\"],\"starships\":[\"https://swapi.py4e.com/api/starships/12/\",\"https://swapi.py4e.com/api/starships/22/\"],\"created\":\"2014-12-09T13:50:51.644000Z\",\"edited\":\"2014-12-20T21:17:56.891000Z\",\"url\":\"https://swapi.py4e.com/api/people/1/\"}'"
      ]
     },
     "execution_count": 23,
     "metadata": {},
     "output_type": "execute_result"
    }
   ],
   "source": [
    "response = requests.get('https://swapi.py4e.com/api/people/1/')\n",
    "text = response.text\n",
    "text"
   ]
  },
  {
   "cell_type": "code",
   "execution_count": 25,
   "id": "b5df938a",
   "metadata": {},
   "outputs": [
    {
     "data": {
      "text/plain": [
       "200"
      ]
     },
     "execution_count": 25,
     "metadata": {},
     "output_type": "execute_result"
    }
   ],
   "source": [
    "status = response.status_code\n",
    "status"
   ]
  },
  {
   "cell_type": "code",
   "execution_count": 26,
   "id": "56df6939",
   "metadata": {
    "scrolled": true
   },
   "outputs": [
    {
     "data": {
      "text/plain": [
       "{'name': 'Luke Skywalker',\n",
       " 'height': '172',\n",
       " 'mass': '77',\n",
       " 'hair_color': 'blond',\n",
       " 'skin_color': 'fair',\n",
       " 'eye_color': 'blue',\n",
       " 'birth_year': '19BBY',\n",
       " 'gender': 'male',\n",
       " 'homeworld': 'https://swapi.py4e.com/api/planets/1/',\n",
       " 'films': ['https://swapi.py4e.com/api/films/1/',\n",
       "  'https://swapi.py4e.com/api/films/2/',\n",
       "  'https://swapi.py4e.com/api/films/3/',\n",
       "  'https://swapi.py4e.com/api/films/6/',\n",
       "  'https://swapi.py4e.com/api/films/7/'],\n",
       " 'species': ['https://swapi.py4e.com/api/species/1/'],\n",
       " 'vehicles': ['https://swapi.py4e.com/api/vehicles/14/',\n",
       "  'https://swapi.py4e.com/api/vehicles/30/'],\n",
       " 'starships': ['https://swapi.py4e.com/api/starships/12/',\n",
       "  'https://swapi.py4e.com/api/starships/22/'],\n",
       " 'created': '2014-12-09T13:50:51.644000Z',\n",
       " 'edited': '2014-12-20T21:17:56.891000Z',\n",
       " 'url': 'https://swapi.py4e.com/api/people/1/'}"
      ]
     },
     "execution_count": 26,
     "metadata": {},
     "output_type": "execute_result"
    }
   ],
   "source": [
    "js = json.loads(text)\n",
    "js"
   ]
  },
  {
   "cell_type": "code",
   "execution_count": 28,
   "id": "57b56eec",
   "metadata": {},
   "outputs": [
    {
     "data": {
      "text/plain": [
       "['https://swapi.py4e.com/api/films/1/',\n",
       " 'https://swapi.py4e.com/api/films/2/',\n",
       " 'https://swapi.py4e.com/api/films/3/',\n",
       " 'https://swapi.py4e.com/api/films/6/',\n",
       " 'https://swapi.py4e.com/api/films/7/']"
      ]
     },
     "execution_count": 28,
     "metadata": {},
     "output_type": "execute_result"
    }
   ],
   "source": [
    "stuff = js.get('films', None)\n",
    "stuff"
   ]
  },
  {
   "cell_type": "code",
   "execution_count": 31,
   "id": "f47e8672",
   "metadata": {},
   "outputs": [
    {
     "data": {
      "text/plain": [
       "True"
      ]
     },
     "execution_count": 31,
     "metadata": {},
     "output_type": "execute_result"
    }
   ],
   "source": []
  },
  {
   "cell_type": "code",
   "execution_count": null,
   "id": "4b807ae8",
   "metadata": {},
   "outputs": [],
   "source": []
  }
 ],
 "metadata": {
  "kernelspec": {
   "display_name": "Python 3 (ipykernel)",
   "language": "python",
   "name": "python3"
  },
  "language_info": {
   "codemirror_mode": {
    "name": "ipython",
    "version": 3
   },
   "file_extension": ".py",
   "mimetype": "text/x-python",
   "name": "python",
   "nbconvert_exporter": "python",
   "pygments_lexer": "ipython3",
   "version": "3.10.9"
  }
 },
 "nbformat": 4,
 "nbformat_minor": 5
}

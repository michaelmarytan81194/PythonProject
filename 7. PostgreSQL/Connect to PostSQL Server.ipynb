{
 "cells": [
  {
   "cell_type": "code",
   "execution_count": 5,
   "id": "3ba1b85b",
   "metadata": {},
   "outputs": [],
   "source": [
    "import psycopg2 as pypsql"
   ]
  },
  {
   "cell_type": "markdown",
   "id": "3a060697",
   "metadata": {},
   "source": [
    "<h4>1. Create Connection with PostSQL"
   ]
  },
  {
   "cell_type": "code",
   "execution_count": 33,
   "id": "5a939633",
   "metadata": {},
   "outputs": [],
   "source": [
    "conn = pypsql.connect(host='pg.pg4e.com',\n",
    "database = 'pg4e_a4aea1f225', user ='pg4e_a4aea1f225', password ='pg4e_p_2df491e75d1f6ae', connect_timeout=3\n",
    ")\n",
    "cursor = conn.cursor()"
   ]
  },
  {
   "cell_type": "code",
   "execution_count": 22,
   "id": "c2b78f41",
   "metadata": {},
   "outputs": [
    {
     "name": "stdout",
     "output_type": "stream",
     "text": [
      "Enter book file: (i.e. pg19337.txt): pg19337.txt\n"
     ]
    }
   ],
   "source": [
    "bookfile = input('Enter book file: (i.e. pg19337.txt): ')\n",
    "if bookfile == '':\n",
    "    bookfile = 'pg19337.txt';"
   ]
  },
  {
   "cell_type": "code",
   "execution_count": 24,
   "id": "7db3e079",
   "metadata": {},
   "outputs": [
    {
     "data": {
      "text/plain": [
       "'pg19337'"
      ]
     },
     "execution_count": 24,
     "metadata": {},
     "output_type": "execute_result"
    }
   ],
   "source": [
    "base = bookfile.split('.')[0]\n",
    "base"
   ]
  },
  {
   "cell_type": "markdown",
   "id": "ce100806",
   "metadata": {},
   "source": [
    "<h5> 1.1 Open the file"
   ]
  },
  {
   "cell_type": "code",
   "execution_count": 27,
   "id": "a2161356",
   "metadata": {},
   "outputs": [],
   "source": [
    "fhand = open(bookfile)"
   ]
  },
  {
   "cell_type": "code",
   "execution_count": 29,
   "id": "b82c0d32",
   "metadata": {},
   "outputs": [],
   "source": [
    "sql = 'DROP TABLE IF EXISTS '+base+' CASCADE;' #lƯU Ý CÁCH DROP TRONG TH ĐÃ CÓ BẢNG\n",
    "cursor.execute(sql)"
   ]
  },
  {
   "cell_type": "code",
   "execution_count": 34,
   "id": "689c809d",
   "metadata": {},
   "outputs": [],
   "source": [
    "sql= 'CREATE TABLE '+base+' (id SERIAL, body TEXT);'\n",
    "cursor.execute(sql)"
   ]
  },
  {
   "cell_type": "code",
   "execution_count": 41,
   "id": "c76dd9a8",
   "metadata": {},
   "outputs": [
    {
     "name": "stdout",
     "output_type": "stream",
     "text": [
      "\n",
      "\n"
     ]
    }
   ],
   "source": [
    "for line in fhand:\n",
    "    line = line.strip()\n",
    "print(line)"
   ]
  },
  {
   "cell_type": "code",
   "execution_count": null,
   "id": "2ce42083",
   "metadata": {},
   "outputs": [],
   "source": [
    "para =''\n",
    "chars = 0\n",
    "count = 0\n",
    "pcount = 0\n",
    "for line in fhand:\n",
    "    count += 1\n",
    "    line = line.strip() #\n",
    "    chars = chars + len(line)"
   ]
  }
 ],
 "metadata": {
  "kernelspec": {
   "display_name": "Python 3 (ipykernel)",
   "language": "python",
   "name": "python3"
  },
  "language_info": {
   "codemirror_mode": {
    "name": "ipython",
    "version": 3
   },
   "file_extension": ".py",
   "mimetype": "text/x-python",
   "name": "python",
   "nbconvert_exporter": "python",
   "pygments_lexer": "ipython3",
   "version": "3.10.9"
  }
 },
 "nbformat": 4,
 "nbformat_minor": 5
}

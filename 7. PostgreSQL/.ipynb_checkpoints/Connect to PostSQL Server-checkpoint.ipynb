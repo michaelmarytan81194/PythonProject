{
 "cells": [
  {
   "cell_type": "code",
   "execution_count": 14,
   "id": "3ba1b85b",
   "metadata": {},
   "outputs": [],
   "source": [
    "import psycopg2 as pypsql\n",
    "import hidden\n",
    "import time"
   ]
  },
  {
   "cell_type": "markdown",
   "id": "3a060697",
   "metadata": {},
   "source": [
    "<h4>1. Create Connection with PostSQL"
   ]
  },
  {
   "cell_type": "markdown",
   "id": "0b63cfb6",
   "metadata": {},
   "source": [
    "<h5> 1.1 Connect with Method of pypsql "
   ]
  },
  {
   "cell_type": "code",
   "execution_count": 12,
   "id": "5a939633",
   "metadata": {},
   "outputs": [],
   "source": [
    "conn = pypsql.connect(host='pg.pg4e.com',\n",
    "database = 'pg4e_a4aea1f225', user ='pg4e_a4aea1f225', password ='pg4e_p_2df491e75d1f6ae', connect_timeout=3\n",
    ")\n",
    "cursor = conn.cursor()"
   ]
  },
  {
   "cell_type": "markdown",
   "id": "64940029",
   "metadata": {},
   "source": [
    "<h5>1.2 Connect with User-defined Library"
   ]
  },
  {
   "cell_type": "code",
   "execution_count": 16,
   "id": "0fb1326c",
   "metadata": {},
   "outputs": [
    {
     "data": {
      "text/plain": [
       "{'host': 'pg.pg4e.com',\n",
       " 'port': 5432,\n",
       " 'database': 'pg4e_be9e729093',\n",
       " 'user': 'pg4e_be9e729093',\n",
       " 'pass': 'pg4e_p_d5fab7440699124'}"
      ]
     },
     "execution_count": 16,
     "metadata": {},
     "output_type": "execute_result"
    }
   ],
   "source": [
    "secrets = hidden.secrets()\n",
    "secrets"
   ]
  },
  {
   "cell_type": "code",
   "execution_count": 11,
   "id": "add82dc8",
   "metadata": {},
   "outputs": [
    {
     "ename": "OperationalError",
     "evalue": "connection to server at \"pg.pg4e.com\" (3.101.11.254), port 5432 failed: FATAL:  password authentication failed for user \"pg4e_be9e729093\"\nconnection to server at \"pg.pg4e.com\" (3.101.11.254), port 5432 failed: FATAL:  password authentication failed for user \"pg4e_be9e729093\"\n",
     "output_type": "error",
     "traceback": [
      "\u001b[1;31m---------------------------------------------------------------------------\u001b[0m",
      "\u001b[1;31mOperationalError\u001b[0m                          Traceback (most recent call last)",
      "\u001b[1;32m~\\AppData\\Local\\Temp\\ipykernel_20116\\299106717.py\u001b[0m in \u001b[0;36m<module>\u001b[1;34m\u001b[0m\n\u001b[0;32m      1\u001b[0m \u001b[0msecrets\u001b[0m \u001b[1;33m=\u001b[0m \u001b[0mhidden\u001b[0m\u001b[1;33m.\u001b[0m\u001b[0msecrets\u001b[0m\u001b[1;33m(\u001b[0m\u001b[1;33m)\u001b[0m\u001b[1;33m\u001b[0m\u001b[1;33m\u001b[0m\u001b[0m\n\u001b[1;32m----> 2\u001b[1;33m conn = pypsql.connect(host = secrets['host'],\n\u001b[0m\u001b[0;32m      3\u001b[0m                      \u001b[0mdatabase\u001b[0m\u001b[1;33m=\u001b[0m \u001b[0msecrets\u001b[0m\u001b[1;33m[\u001b[0m\u001b[1;34m'database'\u001b[0m\u001b[1;33m]\u001b[0m\u001b[1;33m,\u001b[0m\u001b[1;33m\u001b[0m\u001b[1;33m\u001b[0m\u001b[0m\n\u001b[0;32m      4\u001b[0m                      \u001b[0muser\u001b[0m \u001b[1;33m=\u001b[0m \u001b[0msecrets\u001b[0m\u001b[1;33m[\u001b[0m\u001b[1;34m'user'\u001b[0m\u001b[1;33m]\u001b[0m\u001b[1;33m,\u001b[0m\u001b[1;33m\u001b[0m\u001b[1;33m\u001b[0m\u001b[0m\n\u001b[0;32m      5\u001b[0m                      \u001b[0mpassword\u001b[0m \u001b[1;33m=\u001b[0m \u001b[0msecrets\u001b[0m\u001b[1;33m[\u001b[0m\u001b[1;34m'pass'\u001b[0m\u001b[1;33m]\u001b[0m\u001b[1;33m,\u001b[0m\u001b[1;33m\u001b[0m\u001b[1;33m\u001b[0m\u001b[0m\n",
      "\u001b[1;32m~\\anaconda3\\lib\\site-packages\\psycopg2\\__init__.py\u001b[0m in \u001b[0;36mconnect\u001b[1;34m(dsn, connection_factory, cursor_factory, **kwargs)\u001b[0m\n\u001b[0;32m    120\u001b[0m \u001b[1;33m\u001b[0m\u001b[0m\n\u001b[0;32m    121\u001b[0m     \u001b[0mdsn\u001b[0m \u001b[1;33m=\u001b[0m \u001b[0m_ext\u001b[0m\u001b[1;33m.\u001b[0m\u001b[0mmake_dsn\u001b[0m\u001b[1;33m(\u001b[0m\u001b[0mdsn\u001b[0m\u001b[1;33m,\u001b[0m \u001b[1;33m**\u001b[0m\u001b[0mkwargs\u001b[0m\u001b[1;33m)\u001b[0m\u001b[1;33m\u001b[0m\u001b[1;33m\u001b[0m\u001b[0m\n\u001b[1;32m--> 122\u001b[1;33m     \u001b[0mconn\u001b[0m \u001b[1;33m=\u001b[0m \u001b[0m_connect\u001b[0m\u001b[1;33m(\u001b[0m\u001b[0mdsn\u001b[0m\u001b[1;33m,\u001b[0m \u001b[0mconnection_factory\u001b[0m\u001b[1;33m=\u001b[0m\u001b[0mconnection_factory\u001b[0m\u001b[1;33m,\u001b[0m \u001b[1;33m**\u001b[0m\u001b[0mkwasync\u001b[0m\u001b[1;33m)\u001b[0m\u001b[1;33m\u001b[0m\u001b[1;33m\u001b[0m\u001b[0m\n\u001b[0m\u001b[0;32m    123\u001b[0m     \u001b[1;32mif\u001b[0m \u001b[0mcursor_factory\u001b[0m \u001b[1;32mis\u001b[0m \u001b[1;32mnot\u001b[0m \u001b[1;32mNone\u001b[0m\u001b[1;33m:\u001b[0m\u001b[1;33m\u001b[0m\u001b[1;33m\u001b[0m\u001b[0m\n\u001b[0;32m    124\u001b[0m         \u001b[0mconn\u001b[0m\u001b[1;33m.\u001b[0m\u001b[0mcursor_factory\u001b[0m \u001b[1;33m=\u001b[0m \u001b[0mcursor_factory\u001b[0m\u001b[1;33m\u001b[0m\u001b[1;33m\u001b[0m\u001b[0m\n",
      "\u001b[1;31mOperationalError\u001b[0m: connection to server at \"pg.pg4e.com\" (3.101.11.254), port 5432 failed: FATAL:  password authentication failed for user \"pg4e_be9e729093\"\nconnection to server at \"pg.pg4e.com\" (3.101.11.254), port 5432 failed: FATAL:  password authentication failed for user \"pg4e_be9e729093\"\n"
     ]
    }
   ],
   "source": [
    "secrets = hidden.secrets()\n",
    "conn = pypsql.connect(host = secrets['host'],\n",
    "                     database= secrets['database'],\n",
    "                     user = secrets['user'],\n",
    "                     password = secrets['pass'],\n",
    "                     connect_timeout =3)\n",
    "cursor = conn.cursor()"
   ]
  },
  {
   "cell_type": "markdown",
   "id": "0b658d36",
   "metadata": {},
   "source": [
    "#trỏ tới:\n",
    "def secrets():\n",
    "    \n",
    "    return {\"host\": \"pg.pg4e.com\",\n",
    "            \"port\": 5432,\n",
    "            \"database\": \"pg4e_be9e729093\",\n",
    "            \"user\": \"pg4e_be9e729093\",\n",
    "            \"pass\": \"pg4e_p_d5fab7440699124\"}\n",
    " => Trả ra 1 dictionary"
   ]
  },
  {
   "cell_type": "code",
   "execution_count": 2,
   "id": "c2b78f41",
   "metadata": {},
   "outputs": [
    {
     "name": "stdout",
     "output_type": "stream",
     "text": [
      "Enter book file: (i.e. pg19337.txt): \n"
     ]
    }
   ],
   "source": [
    "bookfile = input('Enter book file: (i.e. pg19337.txt): ')\n",
    "if bookfile == '':\n",
    "    bookfile = 'pg19337.txt';"
   ]
  },
  {
   "cell_type": "code",
   "execution_count": 24,
   "id": "7db3e079",
   "metadata": {},
   "outputs": [
    {
     "data": {
      "text/plain": [
       "'pg19337'"
      ]
     },
     "execution_count": 24,
     "metadata": {},
     "output_type": "execute_result"
    }
   ],
   "source": [
    "base = bookfile.split('.')[0]\n",
    "base"
   ]
  },
  {
   "cell_type": "markdown",
   "id": "ce100806",
   "metadata": {},
   "source": [
    "<h5> 1.1 Open the file"
   ]
  },
  {
   "cell_type": "code",
   "execution_count": 27,
   "id": "a2161356",
   "metadata": {},
   "outputs": [],
   "source": [
    "fhand = open(bookfile)"
   ]
  },
  {
   "cell_type": "code",
   "execution_count": 29,
   "id": "b82c0d32",
   "metadata": {},
   "outputs": [],
   "source": [
    "sql = 'DROP TABLE IF EXISTS '+base+' CASCADE;' #lƯU Ý CÁCH DROP TRONG TH ĐÃ CÓ BẢNG\n",
    "cursor.execute(sql)"
   ]
  },
  {
   "cell_type": "code",
   "execution_count": 34,
   "id": "689c809d",
   "metadata": {},
   "outputs": [],
   "source": [
    "sql= 'CREATE TABLE '+base+' (id SERIAL, body TEXT);'\n",
    "cursor.execute(sql)"
   ]
  },
  {
   "cell_type": "code",
   "execution_count": 41,
   "id": "c76dd9a8",
   "metadata": {},
   "outputs": [
    {
     "name": "stdout",
     "output_type": "stream",
     "text": [
      "\n",
      "\n"
     ]
    }
   ],
   "source": [
    "for line in fhand:\n",
    "    line = line.strip()\n",
    "print(line)"
   ]
  },
  {
   "cell_type": "code",
   "execution_count": null,
   "id": "2ce42083",
   "metadata": {},
   "outputs": [],
   "source": [
    "para =''\n",
    "chars = 0\n",
    "count = 0\n",
    "pcount = 0\n",
    "for line in fhand:\n",
    "    count += 1\n",
    "    line = line.strip() #\n",
    "    chars = chars + len(line)"
   ]
  }
 ],
 "metadata": {
  "kernelspec": {
   "display_name": "Python 3 (ipykernel)",
   "language": "python",
   "name": "python3"
  },
  "language_info": {
   "codemirror_mode": {
    "name": "ipython",
    "version": 3
   },
   "file_extension": ".py",
   "mimetype": "text/x-python",
   "name": "python",
   "nbconvert_exporter": "python",
   "pygments_lexer": "ipython3",
   "version": "3.9.13"
  }
 },
 "nbformat": 4,
 "nbformat_minor": 5
}

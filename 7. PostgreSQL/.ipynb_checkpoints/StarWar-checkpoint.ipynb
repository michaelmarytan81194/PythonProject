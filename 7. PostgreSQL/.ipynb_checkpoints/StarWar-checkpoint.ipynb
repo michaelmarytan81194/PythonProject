{
 "cells": [
  {
   "cell_type": "code",
   "execution_count": 1,
   "id": "f8e105f6",
   "metadata": {},
   "outputs": [],
   "source": [
    "#import neccesary libraries\n",
    "import psycopg2\n",
    "import hidden\n",
    "import time\n",
    "import myutils\n",
    "import requests\n",
    "import json"
   ]
  },
  {
   "cell_type": "code",
   "execution_count": 2,
   "id": "eb18532e",
   "metadata": {},
   "outputs": [],
   "source": [
    "def summary(cur) :\n",
    "    total = myutils.queryValue(cur, 'SELECT COUNT(*) FROM swapi;')\n",
    "    todo = myutils.queryValue(cur, 'SELECT COUNT(*) FROM swapi WHERE status IS NULL;')\n",
    "    good = myutils.queryValue(cur, 'SELECT COUNT(*) FROM swapi WHERE status = 200;')\n",
    "    error = myutils.queryValue(cur, 'SELECT COUNT(*) FROM swapi WHERE status != 200;')\n",
    "    print(f'Total={total} todo={todo} good={good} error={error}')"
   ]
  },
  {
   "cell_type": "code",
   "execution_count": 3,
   "id": "1c455bd0",
   "metadata": {},
   "outputs": [],
   "source": [
    "# Load the secrets\n",
    "secrets = hidden.secrets()\n",
    "\n",
    "conn = psycopg2.connect(host=secrets['host'],\n",
    "        port=secrets['port'],\n",
    "        database=secrets['database'],\n",
    "        user=secrets['user'],\n",
    "        password=secrets['pass'])\n",
    "cur = conn.cursor()"
   ]
  },
  {
   "cell_type": "code",
   "execution_count": 4,
   "id": "e15c9d23",
   "metadata": {},
   "outputs": [
    {
     "name": "stdout",
     "output_type": "stream",
     "text": [
      "If you want to restart the spider, run\n",
      "DROP TABLE IF EXISTS swapi CASCADE;\n",
      " \n"
     ]
    }
   ],
   "source": [
    "defaulturl = 'https://swapi.py4e.com/api/films/1/'\n",
    "print('If you want to restart the spider, run')\n",
    "print('DROP TABLE IF EXISTS swapi CASCADE;')\n",
    "print(' ')"
   ]
  },
  {
   "cell_type": "code",
   "execution_count": 5,
   "id": "db939000",
   "metadata": {},
   "outputs": [
    {
     "name": "stdout",
     "output_type": "stream",
     "text": [
      "\n",
      "CREATE TABLE IF NOT EXISTS swapi\n",
      "(id serial, url VARCHAR(2048) UNIQUE, status INTEGER, body JSONB,\n",
      "created_at TIMESTAMPTZ NOT NULL DEFAULT NOW(), updated_at TIMESTAMPTZ);\n",
      "\n"
     ]
    }
   ],
   "source": [
    "sql = '''\n",
    "CREATE TABLE IF NOT EXISTS swapi\n",
    "(id serial, url VARCHAR(2048) UNIQUE, status INTEGER, body JSONB,\n",
    "created_at TIMESTAMPTZ NOT NULL DEFAULT NOW(), updated_at TIMESTAMPTZ);\n",
    "'''\n",
    "print(sql)\n",
    "cur.execute(sql)"
   ]
  },
  {
   "cell_type": "code",
   "execution_count": null,
   "id": "0b2ad349",
   "metadata": {},
   "outputs": [],
   "source": []
  }
 ],
 "metadata": {
  "kernelspec": {
   "display_name": "Python 3 (ipykernel)",
   "language": "python",
   "name": "python3"
  },
  "language_info": {
   "codemirror_mode": {
    "name": "ipython",
    "version": 3
   },
   "file_extension": ".py",
   "mimetype": "text/x-python",
   "name": "python",
   "nbconvert_exporter": "python",
   "pygments_lexer": "ipython3",
   "version": "3.10.9"
  }
 },
 "nbformat": 4,
 "nbformat_minor": 5
}

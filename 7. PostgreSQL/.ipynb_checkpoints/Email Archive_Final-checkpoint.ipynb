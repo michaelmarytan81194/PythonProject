{
 "cells": [
  {
   "cell_type": "code",
   "execution_count": 1,
   "id": "c6ce5a4a",
   "metadata": {},
   "outputs": [],
   "source": [
    "import psycopg2\n",
    "import requests\n",
    "import time\n",
    "import re\n",
    "import hidden\n",
    "import myutils\n",
    "import datecompat"
   ]
  },
  {
   "cell_type": "code",
   "execution_count": 2,
   "id": "aaddf106",
   "metadata": {},
   "outputs": [],
   "source": [
    "#CÁCH CHUYỂN THÀNH KIỂU DATETIME\n",
    "import dateutil.parser as parser"
   ]
  },
  {
   "cell_type": "code",
   "execution_count": 3,
   "id": "2176161d",
   "metadata": {},
   "outputs": [
    {
     "data": {
      "text/plain": [
       "'2023-01-31T00:00:00'"
      ]
     },
     "execution_count": 3,
     "metadata": {},
     "output_type": "execute_result"
    }
   ],
   "source": [
    "#TEST HOW IT WORKS\n",
    "a = parser.parse('2023-01-31') #datetime.datetime(2023, 1, 31, 0, 0)\n",
    "a = a.isoformat()\n",
    "a"
   ]
  },
  {
   "cell_type": "markdown",
   "id": "8a56dba3",
   "metadata": {},
   "source": [
    "<h3>1. Build function to parse DATETIME format"
   ]
  },
  {
   "cell_type": "code",
   "execution_count": 4,
   "id": "41e05a27",
   "metadata": {},
   "outputs": [],
   "source": [
    "def parsemaildate(md):\n",
    "    try:\n",
    "        pdate = parser.parse(tdate)\n",
    "        test_at = pdate.isoformat()\n",
    "        return test_at\n",
    "    except:\n",
    "        return datecompat.parsemaildate(md) #nếu trường hợp ngoại lệ, dùng hàm trong thư viện để parse ngày tháng"
   ]
  },
  {
   "cell_type": "markdown",
   "id": "aab08471",
   "metadata": {},
   "source": [
    "<h3>2. Get the connect with PostSQL Server"
   ]
  },
  {
   "cell_type": "code",
   "execution_count": 5,
   "id": "0d101302",
   "metadata": {},
   "outputs": [
    {
     "data": {
      "text/plain": [
       "{'host': 'pg.pg4e.com',\n",
       " 'port': 5432,\n",
       " 'database': 'pg4e_a4aea1f225',\n",
       " 'user': 'pg4e_a4aea1f225',\n",
       " 'pass': 'pg4e_p_2df491e75d1f6ae'}"
      ]
     },
     "execution_count": 5,
     "metadata": {},
     "output_type": "execute_result"
    }
   ],
   "source": [
    "secrets = hidden.secrets()\n",
    "secrets #It will return a dictionary"
   ]
  },
  {
   "cell_type": "code",
   "execution_count": 6,
   "id": "3e91ad1c",
   "metadata": {},
   "outputs": [
    {
     "name": "stdout",
     "output_type": "stream",
     "text": [
      "Successfully connected\n"
     ]
    }
   ],
   "source": [
    "try:\n",
    "    conn = psycopg2.connect(host = secrets['host'], database =secrets['database'], user=secrets['user'], password=secrets['pass'])\n",
    "    cursor = conn.cursor()\n",
    "    print('Successfully connected')\n",
    "except:\n",
    "    print('Failed')"
   ]
  },
  {
   "cell_type": "markdown",
   "id": "99ccdf00",
   "metadata": {},
   "source": [
    "<h3>3. Get the link to retrieve data from"
   ]
  },
  {
   "cell_type": "code",
   "execution_count": 7,
   "id": "1b7b15d9",
   "metadata": {},
   "outputs": [],
   "source": [
    "baseurl = 'http://mbox.dr-chuck.net/sakai.devel/'"
   ]
  },
  {
   "cell_type": "markdown",
   "id": "1b9b4a78",
   "metadata": {},
   "source": [
    "<h3> 4. Pick up where we left off"
   ]
  },
  {
   "cell_type": "code",
   "execution_count": 8,
   "id": "19fe1a3c",
   "metadata": {},
   "outputs": [],
   "source": [
    "sql = 'SELECT max(id) FROM messages;'\n",
    "start = myutils.queryValue(cursor, sql)\n",
    "if start is None: start =0 #nếu ko có KQ gì thì start = 0"
   ]
  },
  {
   "cell_type": "code",
   "execution_count": 11,
   "id": "dfa099b4",
   "metadata": {},
   "outputs": [
    {
     "name": "stdout",
     "output_type": "stream",
     "text": [
      "101 From news@gmane.org Tue Mar 04 03:33:20 2003\n",
      "From: \"Feldstein, Michael\" <Michael.Feldstein@suny.edu>\n",
      "Subject: RE: LMS/VLE rants/comments\n",
      "Date: Fri, 09 Dec 2005 09:43:12 -0500\n",
      "Lines: 213\n",
      "Message-ID: <9622225.1134139564303.JavaMail.tomcat5@mahimahi.ds.itd.umich.edu>\n",
      "Mime-Version: 1.0\n",
      "Content-Type: text/plain; charset=us-ascii\n",
      "Content-Transfer-Encoding: 7bit\n",
      "Cc: \"Masson, Patrick\" <Patrick.Masson@suny.edu>,\n",
      "\tPatrick Carmichael <patrick@caret.cam.ac.uk>\n",
      "X-From: postmaster@collab.sakaiproject.org Fri Dec 09 15:51:56 2005\n",
      "Return-path: <postmaster@collab.sakaiproject.org>\n",
      "Received: from girlinterrupted.mr.itd.umich.edu ([141.211.14.73])\n",
      "\tby ciao.gmane.org with esmtp (Exim 4.43)\n",
      "\tid 1EkjVd-0003lU-QX\n",
      "\tfor gccsd-sakai-dev@m.gmane.org; Fri, 09 Dec 2005 15:46:06 +0100\n",
      "Received: FROM mahimahi.ds.itd.umich.edu (mahimahi.ds.itd.umich.edu [141.211.253.162])\n",
      "\tBY girlinterrupted.mr.itd.umich.edu ID 439998AC.540D9.30848 ; \n",
      "\t 9 Dec 2005 09:46:04 -0500\n",
      "Received: from mahimahi.ds.itd.umich.edu ([127.0.0.1])\n",
      "          by mahimahi.ds.itd.umich.edu (JAMES SMTP Server 2.1.3) with SMTP ID 1020\n",
      "          for <sakai-dev@collab.sakaiproject.org>;\n",
      "          Fri, 9 Dec 2005 09:43:14 -0500 (EST)\n",
      "Received: from saam1.sysadm.suny.edu (ns-map.ds.itd.umich.edu [141.211.253.192])\n",
      "\tby mahimahi.ds.itd.umich.edu (Postfix) with ESMTP id AAC9614023\n",
      "\tfor <sakai-dev@collab.sakaiproject.org>; Fri,  9 Dec 2005 09:43:14 -0500 (EST)\n",
      "Received: from scenm1.sysadmin.suny.edu ([141.254.1.215])\n",
      " by sysadm.suny.edu (PMDF V6.2 #30588)\n",
      " with ESMTP id <01LWCRDJ4J2E0004WI@sysadm.suny.edu> for\n",
      " sakai-dev@collab.sakaiproject.org; Fri, 09 Dec 2005 09:44:14 -0500 (EST)\n",
      "To: John Norman <john@caret.cam.ac.uk>,\n",
      "\tsakai-dev@collab.sakaiproject.org\n",
      "X-MIMEOLE: Produced By Microsoft Exchange V6.0.6603.0\n",
      "Thread-Topic: LMS/VLE rants/comments\n",
      "Thread-Index: AcX8DyZ3lFYRKl4wQm6UNi17qriurgAtEXDwAAHtoDA=\n",
      "content-class: urn:content-classes:message\n",
      "X-MS-Has-Attach: \n",
      "X-MS-TNEF-Correlator: \n",
      "X-Content-Type-Message-Body: text/plain; charset=us-ascii\n",
      "Archived-At: <http://permalink.gmane.org/gmane.comp.cms.sakai.devel/5>\n",
      "\n",
      "Yup, I think this is spot-on. Either/or, in reality, is actually neither\n",
      "and both. We've had many discussions internally at SUNY about just how\n",
      "loose our coupling can be. You start from either end and you work toward\n",
      "the middle. But as a teaching and learning person, as a person who is\n",
      "going to live in this app every day, I feel a strong sense of personal\n",
      "urgency to put the issue of the long tail of learning applications as a\n",
      "core design concern (which is why, by the way, that I think this\n",
      "discussion belongs on the dev list and not the advocacy list). This is\n",
      "not an issue of making your LMS cooler or sexier or more interesting.\n",
      "It's about making it more *useful*. Regardless of whether \"LMS\" or \"VLE\"\n",
      "is your preferred term, there is an \"L\" in there somewhere. \n",
      "\n",
      "Look, I'm a teacher. I don't care whether you guys decide to use flux\n",
      "capacitor or an oscillating overthruster. I just want a good environment\n",
      "to teach in. And my perspective as a teacher is that this long tail\n",
      "issue is really, really important. Any LMS design that doesn't take it\n",
      "very seriously as a core design requirement, IMHO, is not really\n",
      "addressing the \"L\" the way it needs to be addressed in next-generation\n",
      "learning environments.\n",
      "\n",
      "I would add that, from my perspective, this debate also isn't really\n",
      "about Sakai vs. something else. SUNY has particular needs which favor a\n",
      "particular implementation strategy. That's a relatively local concern of\n",
      "one institution. In the biggest picture, SUNY doesn't matter that much.\n",
      "Neither does Sakai. What matters is that the global community is in the\n",
      "midst of thinking through next-generation learning environment design.\n",
      "As John points out, we agree on a lot. But the devil is in the details.\n",
      "\n",
      "Kindest regards,\n",
      "Michael\n",
      "\n",
      "______________________________\n",
      "\n",
      "Michael Feldstein\n",
      "Assistant Director, Blended Learning\n",
      "email: Michael.Feldstein@suny.edu\n",
      "phone: 518-443-5476\n",
      "cell: 917-921-8895\n",
      "\n",
      "\n",
      "-----Original Message-----\n",
      "From: John Norman [mailto:john@caret.cam.ac.uk] \n",
      "Sent: Friday, December 09, 2005 8:32 AM\n",
      "To: sakai-dev@collab.sakaiproject.org\n",
      "Cc: Masson, Patrick; 'Patrick Carmichael'\n",
      "Subject: RE: LMS/VLE rants/comments\n",
      "\n",
      "\n",
      "I should chip in her as Dan's PHB :)\n",
      "\n",
      "Our strategy at Cambridge is to try and get the best of both worlds. I\n",
      "am dismayed by the either/or tone of many discussions on this topic. If\n",
      "you start from a monolithic place you will find yourself wanting/needing\n",
      "to be loosening things up. If you start from a very loosely coupled\n",
      "place you will find yourself wanting to provide some coordination\n",
      "(broker service in SUNY plans I think).\n",
      "\n",
      "Although the Sakai project and the SUNY design (and others) are at\n",
      "different places on the spectrum I hope we can have conversations that\n",
      "lead to learning from each other and conversion, or at least an\n",
      "understanding of when one approach is better than another and when it is\n",
      "not.\n",
      "\n",
      "John\n",
      "\n",
      "PS and from my point of view Dan is free to continue to voice his\n",
      "opinions. He has had an interesting experience of building a custom LMS\n",
      "for a multi-departmental course based on Wiki technology before joining\n",
      "CARET.\n",
      "\n",
      "But perhaps some of this belongs on the strategy and advocacy list\n",
      "rather than Dev?\n",
      "\n",
      "> -----Original Message-----\n",
      "> From: Dan Sheppard [mailto:dan@caret.cam.ac.uk]\n",
      "> Sent: 08 December 2005 15:48\n",
      "> To: sakai-dev@collab.sakaiproject.org\n",
      "> Cc: Masson, Patrick; Patrick Carmichael\n",
      "> Subject: LMS/VLE rants/comments\n",
      "> \n",
      "> Concerning Patrick Masson's and (to a certain extent) Ian Dolphin's \n",
      "> comments on LMSes in general (beyond intergration with repositories).\n",
      "> \n",
      "> (I'll post the summary of the responses I received concerning \n",
      "> Repository/VLE integration to here and sepp-library in a moment).\n",
      "> \n",
      "> I should say from the start that I'm primarily a developer, and don't \n",
      "> pretend to speak from anyone other than myself, though I'm trying to \n",
      "> reflect what I believe is strategy amongst my immediate managers, \n",
      "> where I know it!\n",
      "> \n",
      "> I mentioned that VLEs are seen here, in some ways, as a sepcial case \n",
      "> of VREs, or that VREs are a more primary purpose. I agree with Ian in \n",
      "> a dislike for this jargon, and I'm sorry for lasping into it! What I \n",
      "> really mean (I think) is that at a research-led University, much of \n",
      "> our teaching in terms of styles of interaction, is derivative of, or \n",
      "> based upon, how research is performed, rather than teaching as it \n",
      "> might be seen as an adaptation of school teaching to a different \n",
      "> demographic.\n",
      "> \n",
      "> I know that sounds vague, but things like group size, formality of \n",
      "> \"courses\", open access to learning resources, the degree of direction \n",
      "> and self-motivation, and so on, have real practical implications on \n",
      "> any system we might deliver to campus.\n",
      "> \n",
      "> A collegiate University also has incredibly complex reporting and \n",
      "> responsibility structure, which impacts on any top-down type approach.\n",
      "\n",
      "> Essentially, nobody has the whole picture of a researcher or student's\n",
      "\n",
      "> learning experience other than that person themselves. That's part of \n",
      "> the reason, I think, that we're after a system which focuses on the \n",
      "> individual first, then their researching role, and then their teaching\n",
      "\n",
      "> role, and allowing people to exchange their various roles in different\n",
      "\n",
      "> contexts with ease.\n",
      "> \n",
      "> It's these concerns which are the outstanding pressures, as I see it, \n",
      "> in choosing a learning system. I think that many of these issues are \n",
      "> reflected in Oxford University's report on the choice of Bodington \n",
      "> (fine-grained access control, no course registration, etc).\n",
      "> \n",
      "> The real 'selling' point of Sakai, as I see it, at the moment as a \n",
      "> tool is its community and adopters, rather than its codebase. And a \n",
      "> large number of research-led (comparatively) resource-rich \n",
      "> Universities are adopting it, some completely committed to it at least\n",
      "\n",
      "> in the medium-term, and so we can be reasonably sure that where needs \n",
      "> of research-led Universities are not met by Sakai, then they will be \n",
      "> forthwith, and Sakai won't move in a direction incompatible with this \n",
      "> use (not that this will be its exclusive use!).\n",
      "> \n",
      "> Also, it currently does the job tolerably well: group management can \n",
      "> be easily delegated, it accomodates small informal teaching groups, \n",
      "> navigation between many fragmented informal components\n",
      "> \n",
      "> This is why, I think, we have interests in, for example, the JISC VRE \n",
      "> Sakai work.\n",
      "> \n",
      "> We've spoken a lot recently here, internally, about approaches to \n",
      "> providing resources along those lines, and the SUNY LMOS model \n",
      "> (mentioned by name!) was the other leading contender.\n",
      "> \n",
      "> I don't disagree with any of the downsides to using an integrated LMS \n",
      "> that Patrick raised. Core tools are often behind the state-of-the-art,\n",
      "\n",
      "> and need to be integrated into a VLE. It could be argued that a set of\n",
      "\n",
      "> enterprise-type services (single-sign-on auth, LDAP, common navigation\n",
      "\n",
      "> 'frame', etc) can be used to support a set of tools.\n",
      "> \n",
      "> Part of the problem we find, though, is that many of the enterprise \n",
      "> tools are not suited to an environment like this (it's difficult, for \n",
      "> example, for LDAP, to capture the creative anarchy of the way many \n",
      "> research and tutorial groups tend to assemble and disperse).\n",
      "> \n",
      "> Users also seem, in practice, to react positively to the consistent \n",
      "> navigation and style provided by these tools. The more vociferous \n",
      "> users, those who have more issues with the presentation of identity, \n",
      "> may react against the blandly repetitive styling and the attribution \n",
      "> issues raised. But the majority, as far as I can tell, react \n",
      "> positively to simple navigation around a single server  (rather than \n",
      "> the >1000 we must have here at the moment, each with their own tweaks \n",
      "> and ideosynchrosies). I realise that the navigation and branding \n",
      "> issues are distinct, but they're highly entwined.\n",
      "> \n",
      "> Also, as more tools are added, the problem starts to escalate with an \n",
      "> assembly of interoperating tools (as O(n^2)), but remain linear (O(n))\n",
      "\n",
      "> with each tool which is added to an LMS framework (obviously this is a\n",
      "\n",
      "> simplification). Also, it becomes simple to develop \"mix-and-match\" \n",
      "> tools from services already in the framework because of their \n",
      "> comonalities.\n",
      "> \n",
      "> As the issues you raise concerning lock-in become apparent there are \n",
      "> starting to be standards developed which allow \"external\" \n",
      "> applications, like IMS launch, though they're currently a little \n",
      "> immature.\n",
      "> \n",
      "> Another advantage to a deployer at the moment, of course, is that \n",
      "> Sakai exists! Personally, if I were given a good integrated, styled, \n",
      "> LMOS, with excellent delegated user management, and plenty of tools, I\n",
      "\n",
      "> would be very pleased, but I've yet to see anything approaching this \n",
      "> at the present time. But good luck in developing such!\n",
      "> \n",
      "> Personally, I agree that there's currently no VLE/LMS which I could be\n",
      "\n",
      "> comfortable as describing as \"good\": just some which are heading in \n",
      "> the right direction, and really very few extant alternatives.\n",
      "> \n",
      "> Dan.\n",
      "> \n",
      "> ----------------------\n",
      "> This automatic notification message was sent by Sakai Collab\n",
      "> (http://collab.sakaiproject.org/portal) from the Sakai Development \n",
      "> site. You can modify how you receive notifications at My Workspace > \n",
      "> Preferences.\n",
      "\n",
      "----------------------\n",
      "This automatic notification message was sent by Sakai Collab\n",
      "(http://collab.sakaiproject.org/portal) from the Sakai Development site.\n",
      "You can modify how you receive notifications at My Workspace >\n",
      "Preferences.\n",
      "\n",
      "----------------------\n",
      "This automatic notification message was sent by Sakai Collab (http://collab.sakaiproject.org/portal) from the Sakai Development site.\n",
      "You can modify how you receive notifications at My Workspace > Preferences.\n",
      "From news@gmane.org Tue Mar 04 03:33:20 2003\n",
      "From: John Norman <john@caret.cam.ac.uk>\n",
      "Subject: RE: LMS/VLE rants/comments\n",
      "Date: Fri, 9 Dec 2005 13:32:29 -0000\n",
      "Lines: 143\n",
      "Message-ID: <22585576.1134135343809.JavaMail.tomcat5@mahimahi.ds.itd.umich.edu>\n",
      "References: <11092568.1134057033105.JavaMail.tomcat5@mahimahi.ds.itd.umich.edu>\n",
      "Mime-Version: 1.0\n",
      "Content-Type: text/plain;\n",
      "\tcharset=ISO-8859-1\n",
      "Content-Transfer-Encoding: 7bit\n",
      "Cc: \"'Masson, Patrick'\" <Patrick.Masson@suny.edu>,\n",
      "\t\"'Patrick Carmichael'\" <patrick@caret.cam.ac.uk>\n",
      "X-From: postmaster@collab.sakaiproject.org Fri Dec 09 14:37:23 2005\n",
      "Return-path: <postmaster@collab.sakaiproject.org>\n",
      "Received: from girlinterrupted.mr.itd.umich.edu ([141.211.14.73])\n",
      "\tby ciao.gmane.org with esmtp (Exim 4.43)\n",
      "\tid 1EkiPZ-0005Hg-V4\n",
      "\tfor gccsd-sakai-dev@m.gmane.org; Fri, 09 Dec 2005 14:35:46 +0100\n",
      "Received: FROM mahimahi.ds.itd.umich.edu (mahimahi.ds.itd.umich.edu [141.211.253.162])\n",
      "\tBY girlinterrupted.mr.itd.umich.edu ID 4399882F.CEBD4.13395 ; \n",
      "\t 9 Dec 2005 08:35:43 -0500\n",
      "Received: from mahimahi.ds.itd.umich.edu ([127.0.0.1])\n",
      "          by mahimahi.ds.itd.umich.edu (JAMES SMTP Server 2.1.3) with SMTP ID 280\n",
      "          for <sakai-dev@collab.sakaiproject.org>;\n",
      "          Fri, 9 Dec 2005 08:32:47 -0500 (EST)\n",
      "Received: from caret.cam.ac.uk (ns-map.ds.itd.umich.edu [141.211.253.192])\n",
      "\tby mahimahi.ds.itd.umich.edu (Postfix) with ESMTP id DF0D914023\n",
      "\tfor <sakai-dev@collab.sakaiproject.org>; Fri,  9 Dec 2005 08:32:46 -0500 (EST)\n",
      "Received: from insidepixpool.dmz.caret.local ([192.168.101.17] helo=linarite)\n",
      "\tby caret.cam.ac.uk with esmtp (Exim 4.60)\n",
      "\t(envelope-from <john@caret.cam.ac.uk>)\n",
      "\tid 1EkiMP-000182-85; Fri, 09 Dec 2005 13:32:35 +0000\n",
      "To: <sakai-dev@collab.sakaiproject.org>\n",
      "X-Content-Type-Outer-Envelope: text/plain;\n",
      "\tcharset=\"US-ASCII\"\n",
      "X-Mailer: Microsoft Office Outlook 11\n",
      "In-Reply-To: <11092568.1134057033105.JavaMail.tomcat5@mahimahi.ds.itd.umich.edu>\n",
      "X-MimeOLE: Produced By Microsoft MimeOLE V6.00.2900.2670\n",
      "Thread-Index: AcX8DyZ3lFYRKl4wQm6UNi17qriurgAtEXDw\n",
      "X-CARET-Spam-Score: -1.4 (-)\n",
      "X-CARET-Scan-Signature: 35b8bacd9f92a946d21fffd0f2ce35db\n",
      "X-Content-Type-Message-Body: text/plain;\n",
      "\tcharset=\"US-ASCII\"\n",
      "Archived-At: <http://permalink.gmane.org/gmane.comp.cms.sakai.devel/3>\n",
      "\n",
      "I should chip in her as Dan's PHB :)\n",
      "\n",
      "Our strategy at Cambridge is to try and get the best of both worlds. I am\n",
      "dismayed by the either/or tone of many discussions on this topic. If you\n",
      "start from a monolithic place you will find yourself wanting/needing to be\n",
      "loosening things up. If you start from a very loosely coupled place you will\n",
      "find yourself wanting to provide some coordination (broker service in SUNY\n",
      "plans I think).\n",
      "\n",
      "Although the Sakai project and the SUNY design (and others) are at different\n",
      "places on the spectrum I hope we can have conversations that lead to\n",
      "learning from each other and conversion, or at least an understanding of\n",
      "when one approach is better than another and when it is not.\n",
      "\n",
      "John\n",
      "\n",
      "PS and from my point of view Dan is free to continue to voice his opinions.\n",
      "He has had an interesting experience of building a custom LMS for a\n",
      "multi-departmental course based on Wiki technology before joining CARET.\n",
      "\n",
      "But perhaps some of this belongs on the strategy and advocacy list rather\n",
      "than Dev?\n",
      "\n",
      "> -----Original Message-----\n",
      "> From: Dan Sheppard [mailto:dan@caret.cam.ac.uk]\n",
      "> Sent: 08 December 2005 15:48\n",
      "> To: sakai-dev@collab.sakaiproject.org\n",
      "> Cc: Masson, Patrick; Patrick Carmichael\n",
      "> Subject: LMS/VLE rants/comments\n",
      "> \n",
      "> Concerning Patrick Masson's and (to a certain extent) Ian Dolphin's\n",
      "> comments on LMSes in general (beyond intergration with repositories).\n",
      "> \n",
      "> (I'll post the summary of the responses I received concerning\n",
      "> Repository/VLE integration to here and sepp-library in a moment).\n",
      "> \n",
      "> I should say from the start that I'm primarily a developer, and don't\n",
      "> pretend to speak from anyone other than myself, though I'm trying to\n",
      "> reflect what I believe is strategy amongst my immediate managers, where\n",
      "> I know it!\n",
      "> \n",
      "> I mentioned that VLEs are seen here, in some ways, as a sepcial case of\n",
      "> VREs, or that VREs are a more primary purpose. I agree with Ian in a\n",
      "> dislike for this jargon, and I'm sorry for lasping into it! What I\n",
      "> really mean (I think) is that at a research-led University, much of our\n",
      "> teaching in terms of styles of interaction, is derivative of, or based\n",
      "> upon, how research is performed, rather than teaching as it might be\n",
      "> seen as an adaptation of school teaching to a different demographic.\n",
      "> \n",
      "> I know that sounds vague, but things like group size, formality of\n",
      "> \"courses\", open access to learning resources, the degree of direction\n",
      "> and self-motivation, and so on, have real practical implications on any\n",
      "> system we might deliver to campus.\n",
      "> \n",
      "> A collegiate University also has incredibly complex reporting and\n",
      "> responsibility structure, which impacts on any top-down type approach.\n",
      "> Essentially, nobody has the whole picture of a researcher or student's\n",
      "> learning experience other than that person themselves. That's part of\n",
      "> the reason, I think, that we're after a system which focuses on the\n",
      "> individual first, then their researching role, and then their teaching\n",
      "> role, and allowing people to exchange their various roles in different\n",
      "> contexts with ease.\n",
      "> \n",
      "> It's these concerns which are the outstanding pressures, as I see it, in\n",
      "> choosing a learning system. I think that many of these issues are\n",
      "> reflected in Oxford University's report on the choice of Bodington\n",
      "> (fine-grained access control, no course registration, etc).\n",
      "> \n",
      "> The real 'selling' point of Sakai, as I see it, at the moment as a tool\n",
      "> is its community and adopters, rather than its codebase. And a large\n",
      "> number of research-led (comparatively) resource-rich Universities are\n",
      "> adopting it, some completely committed to it at least in the\n",
      "> medium-term, and so we can be reasonably sure that where needs of\n",
      "> research-led Universities are not met by Sakai, then they will be\n",
      "> forthwith, and Sakai won't move in a direction incompatible with this\n",
      "> use (not that this will be its exclusive use!).\n",
      "> \n",
      "> Also, it currently does the job tolerably well: group management can be\n",
      "> easily delegated, it accomodates small informal teaching groups,\n",
      "> navigation between many fragmented informal components\n",
      "> \n",
      "> This is why, I think, we have interests in, for example, the JISC VRE\n",
      "> Sakai work.\n",
      "> \n",
      "> We've spoken a lot recently here, internally, about approaches to\n",
      "> providing resources along those lines, and the SUNY LMOS model\n",
      "> (mentioned by name!) was the other leading contender.\n",
      "> \n",
      "> I don't disagree with any of the downsides to using an integrated LMS\n",
      "> that Patrick raised. Core tools are often behind the state-of-the-art,\n",
      "> and need to be integrated into a VLE. It could be argued that a set of\n",
      "> enterprise-type services (single-sign-on auth, LDAP, common navigation\n",
      "> 'frame', etc) can be used to support a set of tools.\n",
      "> \n",
      "> Part of the problem we find, though, is that many of the enterprise\n",
      "> tools are not suited to an environment like this (it's difficult, for\n",
      "> example, for LDAP, to capture the creative anarchy of the way many\n",
      "> research and tutorial groups tend to assemble and disperse).\n",
      "> \n",
      "> Users also seem, in practice, to react positively to the consistent\n",
      "> navigation and style provided by these tools. The more vociferous users,\n",
      "> those who have more issues with the presentation of identity, may react\n",
      "> against the blandly repetitive styling and the attribution issues\n",
      "> raised. But the majority, as far as I can tell, react positively to\n",
      "> simple navigation around a single server  (rather than the >1000 we must\n",
      "> have here at the moment, each with their own tweaks and\n",
      "> ideosynchrosies). I realise that the navigation and branding issues are\n",
      "> distinct, but they're highly entwined.\n",
      "> \n",
      "> Also, as more tools are added, the problem starts to escalate with an\n",
      "> assembly of interoperating tools (as O(n^2)), but remain linear (O(n))\n",
      "> with each tool which is added to an LMS framework (obviously this is a\n",
      "> simplification). Also, it becomes simple to develop \"mix-and-match\"\n",
      "> tools from services already in the framework because of their\n",
      "> comonalities.\n",
      "> \n",
      "> As the issues you raise concerning lock-in become apparent there are\n",
      "> starting to be standards developed which allow \"external\" applications,\n",
      "> like IMS launch, though they're currently a little immature.\n",
      "> \n",
      "> Another advantage to a deployer at the moment, of course, is that Sakai\n",
      "> exists! Personally, if I were given a good integrated, styled, LMOS,\n",
      "> with excellent delegated user management, and plenty of tools, I would\n",
      "> be very pleased, but I've yet to see anything approaching this at the\n",
      "> present time. But good luck in developing such!\n",
      "> \n",
      "> Personally, I agree that there's currently no VLE/LMS which I could be\n",
      "> comfortable as describing as \"good\": just some which are heading in the\n",
      "> right direction, and really very few extant alternatives.\n",
      "> \n",
      "> Dan.\n",
      "> \n",
      "> ----------------------\n",
      "> This automatic notification message was sent by Sakai Collab\n",
      "> (http://collab.sakaiproject.org/portal) from the Sakai Development site.\n",
      "> You can modify how you receive notifications at My Workspace >\n",
      "> Preferences.\n",
      "\n",
      "----------------------\n",
      "This automatic notification message was sent by Sakai Collab (http://collab.sakaiproject.org/portal) from the Sakai Development site.\n",
      "You can modify how you receive notifications at My Workspace > Preferences.\n",
      "\n"
     ]
    }
   ],
   "source": [
    "test_url = 'https://mbox.dr-chuck.net/sakai.devel/4/6'\n",
    "response = requests.get(test_url).text\n",
    "find_test = response.find('\\n\\n')\n",
    "find_test_2 = response.find('Subject')\n",
    "print(find_test_2, response)"
   ]
  },
  {
   "cell_type": "code",
   "execution_count": 12,
   "id": "3324206f",
   "metadata": {},
   "outputs": [
    {
     "data": {
      "text/plain": [
       "'From news@gmane.org Tue Mar 04 03:33:20 2003\\nFrom: \"Feldstein, Michael\" <Michael.Feldstein@suny.edu>\\nSubject: RE: LMS/VLE rants/comments\\nDate: Fri, 09 Dec 2005 09:43:12 -0500\\nLines: 213\\nMessage-ID: <9622225.1134139564303.JavaMail.tomcat5@mahimahi.ds.itd.umich.edu>\\nMime-Version: 1.0\\nContent-Type: text/plain; charset=us-ascii\\nContent-Transfer-Encoding: 7bit\\nCc: \"Masson, Patrick\" <Patrick.Masson@suny.edu>,\\n\\tPatrick Carmichael <patrick@caret.cam.ac.uk>\\nX-From: postmaster@collab.sakaiproject.org Fri Dec 09 15:51:56 2005\\nReturn-path: <postmaster@collab.sakaiproject.org>\\nReceived: from girlinterrupted.mr.itd.umich.edu ([141.211.14.73])\\n\\tby ciao.gmane.org with esmtp (Exim 4.43)\\n\\tid 1EkjVd-0003lU-QX\\n\\tfor gccsd-sakai-dev@m.gmane.org; Fri, 09 Dec 2005 15:46:06 +0100\\nReceived: FROM mahimahi.ds.itd.umich.edu (mahimahi.ds.itd.umich.edu [141.211.253.162])\\n\\tBY girlinterrupted.mr.itd.umich.edu ID 439998AC.540D9.30848 ; \\n\\t 9 Dec 2005 09:46:04 -0500\\nReceived: from mahimahi.ds.itd.umich.edu ([127.0.0.1])\\n          by mahimahi.ds.itd.umich.edu (JAMES SMTP Server 2.1.3) with SMTP ID 1020\\n          for <sakai-dev@collab.sakaiproject.org>;\\n          Fri, 9 Dec 2005 09:43:14 -0500 (EST)\\nReceived: from saam1.sysadm.suny.edu (ns-map.ds.itd.umich.edu [141.211.253.192])\\n\\tby mahimahi.ds.itd.umich.edu (Postfix) with ESMTP id AAC9614023\\n\\tfor <sakai-dev@collab.sakaiproject.org>; Fri,  9 Dec 2005 09:43:14 -0500 (EST)\\nReceived: from scenm1.sysadmin.suny.edu ([141.254.1.215])\\n by sysadm.suny.edu (PMDF V6.2 #30588)\\n with ESMTP id <01LWCRDJ4J2E0004WI@sysadm.suny.edu> for\\n sakai-dev@collab.sakaiproject.org; Fri, 09 Dec 2005 09:44:14 -0500 (EST)\\nTo: John Norman <john@caret.cam.ac.uk>,\\n\\tsakai-dev@collab.sakaiproject.org\\nX-MIMEOLE: Produced By Microsoft Exchange V6.0.6603.0\\nThread-Topic: LMS/VLE rants/comments\\nThread-Index: AcX8DyZ3lFYRKl4wQm6UNi17qriurgAtEXDwAAHtoDA=\\ncontent-class: urn:content-classes:message\\nX-MS-Has-Attach: \\nX-MS-TNEF-Correlator: \\nX-Content-Type-Message-Body: text/plain; charset=us-ascii\\nArchived-At: <http://permalink.gmane.org/gmane.comp.cms.sakai.devel/5>'"
      ]
     },
     "execution_count": 12,
     "metadata": {},
     "output_type": "execute_result"
    }
   ],
   "source": [
    "response[:find_test]"
   ]
  },
  {
   "cell_type": "code",
   "execution_count": 16,
   "id": "d933c672",
   "metadata": {},
   "outputs": [
    {
     "data": {
      "text/plain": [
       "['Michael.Feldstein@suny.edu']"
      ]
     },
     "execution_count": 16,
     "metadata": {},
     "output_type": "execute_result"
    }
   ],
   "source": [
    "test_header = response[:find_test]\n",
    "re.findall('\\nFrom: .* <(\\S+@\\S+)>\\n', test_header)"
   ]
  },
  {
   "cell_type": "code",
   "execution_count": 22,
   "id": "f10e0876",
   "metadata": {},
   "outputs": [
    {
     "data": {
      "text/plain": [
       "'michael.feldstein@suny.edu'"
      ]
     },
     "execution_count": 22,
     "metadata": {},
     "output_type": "execute_result"
    }
   ],
   "source": [
    "result = re.findall('\\nFrom: .* <(\\S+@\\S+)>\\n', test_header)\n",
    "\n",
    "result = result[0] # => Michael.Feldstein@suny.edu\n",
    "result.strip().lower()"
   ]
  },
  {
   "cell_type": "code",
   "execution_count": 23,
   "id": "cfe26e74",
   "metadata": {},
   "outputs": [
    {
     "data": {
      "text/plain": [
       "[]"
      ]
     },
     "execution_count": 23,
     "metadata": {},
     "output_type": "execute_result"
    }
   ],
   "source": [
    "result_1 = re.findall('\\nFrom: (\\S+@\\S+)\\n', test_header)\n",
    "result_1"
   ]
  },
  {
   "cell_type": "code",
   "execution_count": 25,
   "id": "b06fbd3c",
   "metadata": {},
   "outputs": [
    {
     "data": {
      "text/plain": [
       "['09 Dec 2005 09:43:12 -0500']"
      ]
     },
     "execution_count": 25,
     "metadata": {},
     "output_type": "execute_result"
    }
   ],
   "source": [
    "test_time = re.findall('\\nDate: .*, (.*)\\n', test_header)\n",
    "test_time"
   ]
  },
  {
   "cell_type": "code",
   "execution_count": 26,
   "id": "47d42c7e",
   "metadata": {},
   "outputs": [
    {
     "data": {
      "text/plain": [
       "['RE: LMS/VLE rants/comments']"
      ]
     },
     "execution_count": 26,
     "metadata": {},
     "output_type": "execute_result"
    }
   ],
   "source": [
    "test_subject = re.findall('\\nSubject: (.*)\\n', test_header)\n",
    "test_subject"
   ]
  },
  {
   "cell_type": "code",
   "execution_count": 14,
   "id": "605a1206",
   "metadata": {},
   "outputs": [
    {
     "data": {
      "text/plain": [
       "'\\n\\nYup, I think this is spot-on. Either/or, in reality, is actually neither\\nand both. We\\'ve had many discussions internally at SUNY about just how\\nloose our coupling can be. You start from either end and you work toward\\nthe middle. But as a teaching and learning person, as a person who is\\ngoing to live in this app every day, I feel a strong sense of personal\\nurgency to put the issue of the long tail of learning applications as a\\ncore design concern (which is why, by the way, that I think this\\ndiscussion belongs on the dev list and not the advocacy list). This is\\nnot an issue of making your LMS cooler or sexier or more interesting.\\nIt\\'s about making it more *useful*. Regardless of whether \"LMS\" or \"VLE\"\\nis your preferred term, there is an \"L\" in there somewhere. \\n\\nLook, I\\'m a teacher. I don\\'t care whether you guys decide to use flux\\ncapacitor or an oscillating overthruster. I just want a good environment\\nto teach in. And my perspective as a teacher is that this long tail\\nissue is really, really important. Any LMS design that doesn\\'t take it\\nvery seriously as a core design requirement, IMHO, is not really\\naddressing the \"L\" the way it needs to be addressed in next-generation\\nlearning environments.\\n\\nI would add that, from my perspective, this debate also isn\\'t really\\nabout Sakai vs. something else. SUNY has particular needs which favor a\\nparticular implementation strategy. That\\'s a relatively local concern of\\none institution. In the biggest picture, SUNY doesn\\'t matter that much.\\nNeither does Sakai. What matters is that the global community is in the\\nmidst of thinking through next-generation learning environment design.\\nAs John points out, we agree on a lot. But the devil is in the details.\\n\\nKindest regards,\\nMichael\\n\\n______________________________\\n\\nMichael Feldstein\\nAssistant Director, Blended Learning\\nemail: Michael.Feldstein@suny.edu\\nphone: 518-443-5476\\ncell: 917-921-8895\\n\\n\\n-----Original Message-----\\nFrom: John Norman [mailto:john@caret.cam.ac.uk] \\nSent: Friday, December 09, 2005 8:32 AM\\nTo: sakai-dev@collab.sakaiproject.org\\nCc: Masson, Patrick; \\'Patrick Carmichael\\'\\nSubject: RE: LMS/VLE rants/comments\\n\\n\\nI should chip in her as Dan\\'s PHB :)\\n\\nOur strategy at Cambridge is to try and get the best of both worlds. I\\nam dismayed by the either/or tone of many discussions on this topic. If\\nyou start from a monolithic place you will find yourself wanting/needing\\nto be loosening things up. If you start from a very loosely coupled\\nplace you will find yourself wanting to provide some coordination\\n(broker service in SUNY plans I think).\\n\\nAlthough the Sakai project and the SUNY design (and others) are at\\ndifferent places on the spectrum I hope we can have conversations that\\nlead to learning from each other and conversion, or at least an\\nunderstanding of when one approach is better than another and when it is\\nnot.\\n\\nJohn\\n\\nPS and from my point of view Dan is free to continue to voice his\\nopinions. He has had an interesting experience of building a custom LMS\\nfor a multi-departmental course based on Wiki technology before joining\\nCARET.\\n\\nBut perhaps some of this belongs on the strategy and advocacy list\\nrather than Dev?\\n\\n> -----Original Message-----\\n> From: Dan Sheppard [mailto:dan@caret.cam.ac.uk]\\n> Sent: 08 December 2005 15:48\\n> To: sakai-dev@collab.sakaiproject.org\\n> Cc: Masson, Patrick; Patrick Carmichael\\n> Subject: LMS/VLE rants/comments\\n> \\n> Concerning Patrick Masson\\'s and (to a certain extent) Ian Dolphin\\'s \\n> comments on LMSes in general (beyond intergration with repositories).\\n> \\n> (I\\'ll post the summary of the responses I received concerning \\n> Repository/VLE integration to here and sepp-library in a moment).\\n> \\n> I should say from the start that I\\'m primarily a developer, and don\\'t \\n> pretend to speak from anyone other than myself, though I\\'m trying to \\n> reflect what I believe is strategy amongst my immediate managers, \\n> where I know it!\\n> \\n> I mentioned that VLEs are seen here, in some ways, as a sepcial case \\n> of VREs, or that VREs are a more primary purpose. I agree with Ian in \\n> a dislike for this jargon, and I\\'m sorry for lasping into it! What I \\n> really mean (I think) is that at a research-led University, much of \\n> our teaching in terms of styles of interaction, is derivative of, or \\n> based upon, how research is performed, rather than teaching as it \\n> might be seen as an adaptation of school teaching to a different \\n> demographic.\\n> \\n> I know that sounds vague, but things like group size, formality of \\n> \"courses\", open access to learning resources, the degree of direction \\n> and self-motivation, and so on, have real practical implications on \\n> any system we might deliver to campus.\\n> \\n> A collegiate University also has incredibly complex reporting and \\n> responsibility structure, which impacts on any top-down type approach.\\n\\n> Essentially, nobody has the whole picture of a researcher or student\\'s\\n\\n> learning experience other than that person themselves. That\\'s part of \\n> the reason, I think, that we\\'re after a system which focuses on the \\n> individual first, then their researching role, and then their teaching\\n\\n> role, and allowing people to exchange their various roles in different\\n\\n> contexts with ease.\\n> \\n> It\\'s these concerns which are the outstanding pressures, as I see it, \\n> in choosing a learning system. I think that many of these issues are \\n> reflected in Oxford University\\'s report on the choice of Bodington \\n> (fine-grained access control, no course registration, etc).\\n> \\n> The real \\'selling\\' point of Sakai, as I see it, at the moment as a \\n> tool is its community and adopters, rather than its codebase. And a \\n> large number of research-led (comparatively) resource-rich \\n> Universities are adopting it, some completely committed to it at least\\n\\n> in the medium-term, and so we can be reasonably sure that where needs \\n> of research-led Universities are not met by Sakai, then they will be \\n> forthwith, and Sakai won\\'t move in a direction incompatible with this \\n> use (not that this will be its exclusive use!).\\n> \\n> Also, it currently does the job tolerably well: group management can \\n> be easily delegated, it accomodates small informal teaching groups, \\n> navigation between many fragmented informal components\\n> \\n> This is why, I think, we have interests in, for example, the JISC VRE \\n> Sakai work.\\n> \\n> We\\'ve spoken a lot recently here, internally, about approaches to \\n> providing resources along those lines, and the SUNY LMOS model \\n> (mentioned by name!) was the other leading contender.\\n> \\n> I don\\'t disagree with any of the downsides to using an integrated LMS \\n> that Patrick raised. Core tools are often behind the state-of-the-art,\\n\\n> and need to be integrated into a VLE. It could be argued that a set of\\n\\n> enterprise-type services (single-sign-on auth, LDAP, common navigation\\n\\n> \\'frame\\', etc) can be used to support a set of tools.\\n> \\n> Part of the problem we find, though, is that many of the enterprise \\n> tools are not suited to an environment like this (it\\'s difficult, for \\n> example, for LDAP, to capture the creative anarchy of the way many \\n> research and tutorial groups tend to assemble and disperse).\\n> \\n> Users also seem, in practice, to react positively to the consistent \\n> navigation and style provided by these tools. The more vociferous \\n> users, those who have more issues with the presentation of identity, \\n> may react against the blandly repetitive styling and the attribution \\n> issues raised. But the majority, as far as I can tell, react \\n> positively to simple navigation around a single server  (rather than \\n> the >1000 we must have here at the moment, each with their own tweaks \\n> and ideosynchrosies). I realise that the navigation and branding \\n> issues are distinct, but they\\'re highly entwined.\\n> \\n> Also, as more tools are added, the problem starts to escalate with an \\n> assembly of interoperating tools (as O(n^2)), but remain linear (O(n))\\n\\n> with each tool which is added to an LMS framework (obviously this is a\\n\\n> simplification). Also, it becomes simple to develop \"mix-and-match\" \\n> tools from services already in the framework because of their \\n> comonalities.\\n> \\n> As the issues you raise concerning lock-in become apparent there are \\n> starting to be standards developed which allow \"external\" \\n> applications, like IMS launch, though they\\'re currently a little \\n> immature.\\n> \\n> Another advantage to a deployer at the moment, of course, is that \\n> Sakai exists! Personally, if I were given a good integrated, styled, \\n> LMOS, with excellent delegated user management, and plenty of tools, I\\n\\n> would be very pleased, but I\\'ve yet to see anything approaching this \\n> at the present time. But good luck in developing such!\\n> \\n> Personally, I agree that there\\'s currently no VLE/LMS which I could be\\n\\n> comfortable as describing as \"good\": just some which are heading in \\n> the right direction, and really very few extant alternatives.\\n> \\n> Dan.\\n> \\n> ----------------------\\n> This automatic notification message was sent by Sakai Collab\\n> (http://collab.sakaiproject.org/portal) from the Sakai Development \\n> site. You can modify how you receive notifications at My Workspace > \\n> Preferences.\\n\\n----------------------\\nThis automatic notification message was sent by Sakai Collab\\n(http://collab.sakaiproject.org/portal) from the Sakai Development site.\\nYou can modify how you receive notifications at My Workspace >\\nPreferences.\\n\\n----------------------\\nThis automatic notification message was sent by Sakai Collab (http://collab.sakaiproject.org/portal) from the Sakai Development site.\\nYou can modify how you receive notifications at My Workspace > Preferences.\\nFrom news@gmane.org Tue Mar 04 03:33:20 2003\\nFrom: John Norman <john@caret.cam.ac.uk>\\nSubject: RE: LMS/VLE rants/comments\\nDate: Fri, 9 Dec 2005 13:32:29 -0000\\nLines: 143\\nMessage-ID: <22585576.1134135343809.JavaMail.tomcat5@mahimahi.ds.itd.umich.edu>\\nReferences: <11092568.1134057033105.JavaMail.tomcat5@mahimahi.ds.itd.umich.edu>\\nMime-Version: 1.0\\nContent-Type: text/plain;\\n\\tcharset=ISO-8859-1\\nContent-Transfer-Encoding: 7bit\\nCc: \"\\'Masson, Patrick\\'\" <Patrick.Masson@suny.edu>,\\n\\t\"\\'Patrick Carmichael\\'\" <patrick@caret.cam.ac.uk>\\nX-From: postmaster@collab.sakaiproject.org Fri Dec 09 14:37:23 2005\\nReturn-path: <postmaster@collab.sakaiproject.org>\\nReceived: from girlinterrupted.mr.itd.umich.edu ([141.211.14.73])\\n\\tby ciao.gmane.org with esmtp (Exim 4.43)\\n\\tid 1EkiPZ-0005Hg-V4\\n\\tfor gccsd-sakai-dev@m.gmane.org; Fri, 09 Dec 2005 14:35:46 +0100\\nReceived: FROM mahimahi.ds.itd.umich.edu (mahimahi.ds.itd.umich.edu [141.211.253.162])\\n\\tBY girlinterrupted.mr.itd.umich.edu ID 4399882F.CEBD4.13395 ; \\n\\t 9 Dec 2005 08:35:43 -0500\\nReceived: from mahimahi.ds.itd.umich.edu ([127.0.0.1])\\n          by mahimahi.ds.itd.umich.edu (JAMES SMTP Server 2.1.3) with SMTP ID 280\\n          for <sakai-dev@collab.sakaiproject.org>;\\n          Fri, 9 Dec 2005 08:32:47 -0500 (EST)\\nReceived: from caret.cam.ac.uk (ns-map.ds.itd.umich.edu [141.211.253.192])\\n\\tby mahimahi.ds.itd.umich.edu (Postfix) with ESMTP id DF0D914023\\n\\tfor <sakai-dev@collab.sakaiproject.org>; Fri,  9 Dec 2005 08:32:46 -0500 (EST)\\nReceived: from insidepixpool.dmz.caret.local ([192.168.101.17] helo=linarite)\\n\\tby caret.cam.ac.uk with esmtp (Exim 4.60)\\n\\t(envelope-from <john@caret.cam.ac.uk>)\\n\\tid 1EkiMP-000182-85; Fri, 09 Dec 2005 13:32:35 +0000\\nTo: <sakai-dev@collab.sakaiproject.org>\\nX-Content-Type-Outer-Envelope: text/plain;\\n\\tcharset=\"US-ASCII\"\\nX-Mailer: Microsoft Office Outlook 11\\nIn-Reply-To: <11092568.1134057033105.JavaMail.tomcat5@mahimahi.ds.itd.umich.edu>\\nX-MimeOLE: Produced By Microsoft MimeOLE V6.00.2900.2670\\nThread-Index: AcX8DyZ3lFYRKl4wQm6UNi17qriurgAtEXDw\\nX-CARET-Spam-Score: -1.4 (-)\\nX-CARET-Scan-Signature: 35b8bacd9f92a946d21fffd0f2ce35db\\nX-Content-Type-Message-Body: text/plain;\\n\\tcharset=\"US-ASCII\"\\nArchived-At: <http://permalink.gmane.org/gmane.comp.cms.sakai.devel/3>\\n\\nI should chip in her as Dan\\'s PHB :)\\n\\nOur strategy at Cambridge is to try and get the best of both worlds. I am\\ndismayed by the either/or tone of many discussions on this topic. If you\\nstart from a monolithic place you will find yourself wanting/needing to be\\nloosening things up. If you start from a very loosely coupled place you will\\nfind yourself wanting to provide some coordination (broker service in SUNY\\nplans I think).\\n\\nAlthough the Sakai project and the SUNY design (and others) are at different\\nplaces on the spectrum I hope we can have conversations that lead to\\nlearning from each other and conversion, or at least an understanding of\\nwhen one approach is better than another and when it is not.\\n\\nJohn\\n\\nPS and from my point of view Dan is free to continue to voice his opinions.\\nHe has had an interesting experience of building a custom LMS for a\\nmulti-departmental course based on Wiki technology before joining CARET.\\n\\nBut perhaps some of this belongs on the strategy and advocacy list rather\\nthan Dev?\\n\\n> -----Original Message-----\\n> From: Dan Sheppard [mailto:dan@caret.cam.ac.uk]\\n> Sent: 08 December 2005 15:48\\n> To: sakai-dev@collab.sakaiproject.org\\n> Cc: Masson, Patrick; Patrick Carmichael\\n> Subject: LMS/VLE rants/comments\\n> \\n> Concerning Patrick Masson\\'s and (to a certain extent) Ian Dolphin\\'s\\n> comments on LMSes in general (beyond intergration with repositories).\\n> \\n> (I\\'ll post the summary of the responses I received concerning\\n> Repository/VLE integration to here and sepp-library in a moment).\\n> \\n> I should say from the start that I\\'m primarily a developer, and don\\'t\\n> pretend to speak from anyone other than myself, though I\\'m trying to\\n> reflect what I believe is strategy amongst my immediate managers, where\\n> I know it!\\n> \\n> I mentioned that VLEs are seen here, in some ways, as a sepcial case of\\n> VREs, or that VREs are a more primary purpose. I agree with Ian in a\\n> dislike for this jargon, and I\\'m sorry for lasping into it! What I\\n> really mean (I think) is that at a research-led University, much of our\\n> teaching in terms of styles of interaction, is derivative of, or based\\n> upon, how research is performed, rather than teaching as it might be\\n> seen as an adaptation of school teaching to a different demographic.\\n> \\n> I know that sounds vague, but things like group size, formality of\\n> \"courses\", open access to learning resources, the degree of direction\\n> and self-motivation, and so on, have real practical implications on any\\n> system we might deliver to campus.\\n> \\n> A collegiate University also has incredibly complex reporting and\\n> responsibility structure, which impacts on any top-down type approach.\\n> Essentially, nobody has the whole picture of a researcher or student\\'s\\n> learning experience other than that person themselves. That\\'s part of\\n> the reason, I think, that we\\'re after a system which focuses on the\\n> individual first, then their researching role, and then their teaching\\n> role, and allowing people to exchange their various roles in different\\n> contexts with ease.\\n> \\n> It\\'s these concerns which are the outstanding pressures, as I see it, in\\n> choosing a learning system. I think that many of these issues are\\n> reflected in Oxford University\\'s report on the choice of Bodington\\n> (fine-grained access control, no course registration, etc).\\n> \\n> The real \\'selling\\' point of Sakai, as I see it, at the moment as a tool\\n> is its community and adopters, rather than its codebase. And a large\\n> number of research-led (comparatively) resource-rich Universities are\\n> adopting it, some completely committed to it at least in the\\n> medium-term, and so we can be reasonably sure that where needs of\\n> research-led Universities are not met by Sakai, then they will be\\n> forthwith, and Sakai won\\'t move in a direction incompatible with this\\n> use (not that this will be its exclusive use!).\\n> \\n> Also, it currently does the job tolerably well: group management can be\\n> easily delegated, it accomodates small informal teaching groups,\\n> navigation between many fragmented informal components\\n> \\n> This is why, I think, we have interests in, for example, the JISC VRE\\n> Sakai work.\\n> \\n> We\\'ve spoken a lot recently here, internally, about approaches to\\n> providing resources along those lines, and the SUNY LMOS model\\n> (mentioned by name!) was the other leading contender.\\n> \\n> I don\\'t disagree with any of the downsides to using an integrated LMS\\n> that Patrick raised. Core tools are often behind the state-of-the-art,\\n> and need to be integrated into a VLE. It could be argued that a set of\\n> enterprise-type services (single-sign-on auth, LDAP, common navigation\\n> \\'frame\\', etc) can be used to support a set of tools.\\n> \\n> Part of the problem we find, though, is that many of the enterprise\\n> tools are not suited to an environment like this (it\\'s difficult, for\\n> example, for LDAP, to capture the creative anarchy of the way many\\n> research and tutorial groups tend to assemble and disperse).\\n> \\n> Users also seem, in practice, to react positively to the consistent\\n> navigation and style provided by these tools. The more vociferous users,\\n> those who have more issues with the presentation of identity, may react\\n> against the blandly repetitive styling and the attribution issues\\n> raised. But the majority, as far as I can tell, react positively to\\n> simple navigation around a single server  (rather than the >1000 we must\\n> have here at the moment, each with their own tweaks and\\n> ideosynchrosies). I realise that the navigation and branding issues are\\n> distinct, but they\\'re highly entwined.\\n> \\n> Also, as more tools are added, the problem starts to escalate with an\\n> assembly of interoperating tools (as O(n^2)), but remain linear (O(n))\\n> with each tool which is added to an LMS framework (obviously this is a\\n> simplification). Also, it becomes simple to develop \"mix-and-match\"\\n> tools from services already in the framework because of their\\n> comonalities.\\n> \\n> As the issues you raise concerning lock-in become apparent there are\\n> starting to be standards developed which allow \"external\" applications,\\n> like IMS launch, though they\\'re currently a little immature.\\n> \\n> Another advantage to a deployer at the moment, of course, is that Sakai\\n> exists! Personally, if I were given a good integrated, styled, LMOS,\\n> with excellent delegated user management, and plenty of tools, I would\\n> be very pleased, but I\\'ve yet to see anything approaching this at the\\n> present time. But good luck in developing such!\\n> \\n> Personally, I agree that there\\'s currently no VLE/LMS which I could be\\n> comfortable as describing as \"good\": just some which are heading in the\\n> right direction, and really very few extant alternatives.\\n> \\n> Dan.\\n> \\n> ----------------------\\n> This automatic notification message was sent by Sakai Collab\\n> (http://collab.sakaiproject.org/portal) from the Sakai Development site.\\n> You can modify how you receive notifications at My Workspace >\\n> Preferences.\\n\\n----------------------\\nThis automatic notification message was sent by Sakai Collab (http://collab.sakaiproject.org/portal) from the Sakai Development site.\\nYou can modify how you receive notifications at My Workspace > Preferences.\\n'"
      ]
     },
     "execution_count": 14,
     "metadata": {},
     "output_type": "execute_result"
    }
   ],
   "source": [
    "response[find_test:] #Note the'\\n\\n', so we have to get further 2 points"
   ]
  },
  {
   "cell_type": "code",
   "execution_count": 15,
   "id": "f585d4ce",
   "metadata": {},
   "outputs": [
    {
     "data": {
      "text/plain": [
       "'Yup, I think this is spot-on. Either/or, in reality, is actually neither\\nand both. We\\'ve had many discussions internally at SUNY about just how\\nloose our coupling can be. You start from either end and you work toward\\nthe middle. But as a teaching and learning person, as a person who is\\ngoing to live in this app every day, I feel a strong sense of personal\\nurgency to put the issue of the long tail of learning applications as a\\ncore design concern (which is why, by the way, that I think this\\ndiscussion belongs on the dev list and not the advocacy list). This is\\nnot an issue of making your LMS cooler or sexier or more interesting.\\nIt\\'s about making it more *useful*. Regardless of whether \"LMS\" or \"VLE\"\\nis your preferred term, there is an \"L\" in there somewhere. \\n\\nLook, I\\'m a teacher. I don\\'t care whether you guys decide to use flux\\ncapacitor or an oscillating overthruster. I just want a good environment\\nto teach in. And my perspective as a teacher is that this long tail\\nissue is really, really important. Any LMS design that doesn\\'t take it\\nvery seriously as a core design requirement, IMHO, is not really\\naddressing the \"L\" the way it needs to be addressed in next-generation\\nlearning environments.\\n\\nI would add that, from my perspective, this debate also isn\\'t really\\nabout Sakai vs. something else. SUNY has particular needs which favor a\\nparticular implementation strategy. That\\'s a relatively local concern of\\none institution. In the biggest picture, SUNY doesn\\'t matter that much.\\nNeither does Sakai. What matters is that the global community is in the\\nmidst of thinking through next-generation learning environment design.\\nAs John points out, we agree on a lot. But the devil is in the details.\\n\\nKindest regards,\\nMichael\\n\\n______________________________\\n\\nMichael Feldstein\\nAssistant Director, Blended Learning\\nemail: Michael.Feldstein@suny.edu\\nphone: 518-443-5476\\ncell: 917-921-8895\\n\\n\\n-----Original Message-----\\nFrom: John Norman [mailto:john@caret.cam.ac.uk] \\nSent: Friday, December 09, 2005 8:32 AM\\nTo: sakai-dev@collab.sakaiproject.org\\nCc: Masson, Patrick; \\'Patrick Carmichael\\'\\nSubject: RE: LMS/VLE rants/comments\\n\\n\\nI should chip in her as Dan\\'s PHB :)\\n\\nOur strategy at Cambridge is to try and get the best of both worlds. I\\nam dismayed by the either/or tone of many discussions on this topic. If\\nyou start from a monolithic place you will find yourself wanting/needing\\nto be loosening things up. If you start from a very loosely coupled\\nplace you will find yourself wanting to provide some coordination\\n(broker service in SUNY plans I think).\\n\\nAlthough the Sakai project and the SUNY design (and others) are at\\ndifferent places on the spectrum I hope we can have conversations that\\nlead to learning from each other and conversion, or at least an\\nunderstanding of when one approach is better than another and when it is\\nnot.\\n\\nJohn\\n\\nPS and from my point of view Dan is free to continue to voice his\\nopinions. He has had an interesting experience of building a custom LMS\\nfor a multi-departmental course based on Wiki technology before joining\\nCARET.\\n\\nBut perhaps some of this belongs on the strategy and advocacy list\\nrather than Dev?\\n\\n> -----Original Message-----\\n> From: Dan Sheppard [mailto:dan@caret.cam.ac.uk]\\n> Sent: 08 December 2005 15:48\\n> To: sakai-dev@collab.sakaiproject.org\\n> Cc: Masson, Patrick; Patrick Carmichael\\n> Subject: LMS/VLE rants/comments\\n> \\n> Concerning Patrick Masson\\'s and (to a certain extent) Ian Dolphin\\'s \\n> comments on LMSes in general (beyond intergration with repositories).\\n> \\n> (I\\'ll post the summary of the responses I received concerning \\n> Repository/VLE integration to here and sepp-library in a moment).\\n> \\n> I should say from the start that I\\'m primarily a developer, and don\\'t \\n> pretend to speak from anyone other than myself, though I\\'m trying to \\n> reflect what I believe is strategy amongst my immediate managers, \\n> where I know it!\\n> \\n> I mentioned that VLEs are seen here, in some ways, as a sepcial case \\n> of VREs, or that VREs are a more primary purpose. I agree with Ian in \\n> a dislike for this jargon, and I\\'m sorry for lasping into it! What I \\n> really mean (I think) is that at a research-led University, much of \\n> our teaching in terms of styles of interaction, is derivative of, or \\n> based upon, how research is performed, rather than teaching as it \\n> might be seen as an adaptation of school teaching to a different \\n> demographic.\\n> \\n> I know that sounds vague, but things like group size, formality of \\n> \"courses\", open access to learning resources, the degree of direction \\n> and self-motivation, and so on, have real practical implications on \\n> any system we might deliver to campus.\\n> \\n> A collegiate University also has incredibly complex reporting and \\n> responsibility structure, which impacts on any top-down type approach.\\n\\n> Essentially, nobody has the whole picture of a researcher or student\\'s\\n\\n> learning experience other than that person themselves. That\\'s part of \\n> the reason, I think, that we\\'re after a system which focuses on the \\n> individual first, then their researching role, and then their teaching\\n\\n> role, and allowing people to exchange their various roles in different\\n\\n> contexts with ease.\\n> \\n> It\\'s these concerns which are the outstanding pressures, as I see it, \\n> in choosing a learning system. I think that many of these issues are \\n> reflected in Oxford University\\'s report on the choice of Bodington \\n> (fine-grained access control, no course registration, etc).\\n> \\n> The real \\'selling\\' point of Sakai, as I see it, at the moment as a \\n> tool is its community and adopters, rather than its codebase. And a \\n> large number of research-led (comparatively) resource-rich \\n> Universities are adopting it, some completely committed to it at least\\n\\n> in the medium-term, and so we can be reasonably sure that where needs \\n> of research-led Universities are not met by Sakai, then they will be \\n> forthwith, and Sakai won\\'t move in a direction incompatible with this \\n> use (not that this will be its exclusive use!).\\n> \\n> Also, it currently does the job tolerably well: group management can \\n> be easily delegated, it accomodates small informal teaching groups, \\n> navigation between many fragmented informal components\\n> \\n> This is why, I think, we have interests in, for example, the JISC VRE \\n> Sakai work.\\n> \\n> We\\'ve spoken a lot recently here, internally, about approaches to \\n> providing resources along those lines, and the SUNY LMOS model \\n> (mentioned by name!) was the other leading contender.\\n> \\n> I don\\'t disagree with any of the downsides to using an integrated LMS \\n> that Patrick raised. Core tools are often behind the state-of-the-art,\\n\\n> and need to be integrated into a VLE. It could be argued that a set of\\n\\n> enterprise-type services (single-sign-on auth, LDAP, common navigation\\n\\n> \\'frame\\', etc) can be used to support a set of tools.\\n> \\n> Part of the problem we find, though, is that many of the enterprise \\n> tools are not suited to an environment like this (it\\'s difficult, for \\n> example, for LDAP, to capture the creative anarchy of the way many \\n> research and tutorial groups tend to assemble and disperse).\\n> \\n> Users also seem, in practice, to react positively to the consistent \\n> navigation and style provided by these tools. The more vociferous \\n> users, those who have more issues with the presentation of identity, \\n> may react against the blandly repetitive styling and the attribution \\n> issues raised. But the majority, as far as I can tell, react \\n> positively to simple navigation around a single server  (rather than \\n> the >1000 we must have here at the moment, each with their own tweaks \\n> and ideosynchrosies). I realise that the navigation and branding \\n> issues are distinct, but they\\'re highly entwined.\\n> \\n> Also, as more tools are added, the problem starts to escalate with an \\n> assembly of interoperating tools (as O(n^2)), but remain linear (O(n))\\n\\n> with each tool which is added to an LMS framework (obviously this is a\\n\\n> simplification). Also, it becomes simple to develop \"mix-and-match\" \\n> tools from services already in the framework because of their \\n> comonalities.\\n> \\n> As the issues you raise concerning lock-in become apparent there are \\n> starting to be standards developed which allow \"external\" \\n> applications, like IMS launch, though they\\'re currently a little \\n> immature.\\n> \\n> Another advantage to a deployer at the moment, of course, is that \\n> Sakai exists! Personally, if I were given a good integrated, styled, \\n> LMOS, with excellent delegated user management, and plenty of tools, I\\n\\n> would be very pleased, but I\\'ve yet to see anything approaching this \\n> at the present time. But good luck in developing such!\\n> \\n> Personally, I agree that there\\'s currently no VLE/LMS which I could be\\n\\n> comfortable as describing as \"good\": just some which are heading in \\n> the right direction, and really very few extant alternatives.\\n> \\n> Dan.\\n> \\n> ----------------------\\n> This automatic notification message was sent by Sakai Collab\\n> (http://collab.sakaiproject.org/portal) from the Sakai Development \\n> site. You can modify how you receive notifications at My Workspace > \\n> Preferences.\\n\\n----------------------\\nThis automatic notification message was sent by Sakai Collab\\n(http://collab.sakaiproject.org/portal) from the Sakai Development site.\\nYou can modify how you receive notifications at My Workspace >\\nPreferences.\\n\\n----------------------\\nThis automatic notification message was sent by Sakai Collab (http://collab.sakaiproject.org/portal) from the Sakai Development site.\\nYou can modify how you receive notifications at My Workspace > Preferences.\\nFrom news@gmane.org Tue Mar 04 03:33:20 2003\\nFrom: John Norman <john@caret.cam.ac.uk>\\nSubject: RE: LMS/VLE rants/comments\\nDate: Fri, 9 Dec 2005 13:32:29 -0000\\nLines: 143\\nMessage-ID: <22585576.1134135343809.JavaMail.tomcat5@mahimahi.ds.itd.umich.edu>\\nReferences: <11092568.1134057033105.JavaMail.tomcat5@mahimahi.ds.itd.umich.edu>\\nMime-Version: 1.0\\nContent-Type: text/plain;\\n\\tcharset=ISO-8859-1\\nContent-Transfer-Encoding: 7bit\\nCc: \"\\'Masson, Patrick\\'\" <Patrick.Masson@suny.edu>,\\n\\t\"\\'Patrick Carmichael\\'\" <patrick@caret.cam.ac.uk>\\nX-From: postmaster@collab.sakaiproject.org Fri Dec 09 14:37:23 2005\\nReturn-path: <postmaster@collab.sakaiproject.org>\\nReceived: from girlinterrupted.mr.itd.umich.edu ([141.211.14.73])\\n\\tby ciao.gmane.org with esmtp (Exim 4.43)\\n\\tid 1EkiPZ-0005Hg-V4\\n\\tfor gccsd-sakai-dev@m.gmane.org; Fri, 09 Dec 2005 14:35:46 +0100\\nReceived: FROM mahimahi.ds.itd.umich.edu (mahimahi.ds.itd.umich.edu [141.211.253.162])\\n\\tBY girlinterrupted.mr.itd.umich.edu ID 4399882F.CEBD4.13395 ; \\n\\t 9 Dec 2005 08:35:43 -0500\\nReceived: from mahimahi.ds.itd.umich.edu ([127.0.0.1])\\n          by mahimahi.ds.itd.umich.edu (JAMES SMTP Server 2.1.3) with SMTP ID 280\\n          for <sakai-dev@collab.sakaiproject.org>;\\n          Fri, 9 Dec 2005 08:32:47 -0500 (EST)\\nReceived: from caret.cam.ac.uk (ns-map.ds.itd.umich.edu [141.211.253.192])\\n\\tby mahimahi.ds.itd.umich.edu (Postfix) with ESMTP id DF0D914023\\n\\tfor <sakai-dev@collab.sakaiproject.org>; Fri,  9 Dec 2005 08:32:46 -0500 (EST)\\nReceived: from insidepixpool.dmz.caret.local ([192.168.101.17] helo=linarite)\\n\\tby caret.cam.ac.uk with esmtp (Exim 4.60)\\n\\t(envelope-from <john@caret.cam.ac.uk>)\\n\\tid 1EkiMP-000182-85; Fri, 09 Dec 2005 13:32:35 +0000\\nTo: <sakai-dev@collab.sakaiproject.org>\\nX-Content-Type-Outer-Envelope: text/plain;\\n\\tcharset=\"US-ASCII\"\\nX-Mailer: Microsoft Office Outlook 11\\nIn-Reply-To: <11092568.1134057033105.JavaMail.tomcat5@mahimahi.ds.itd.umich.edu>\\nX-MimeOLE: Produced By Microsoft MimeOLE V6.00.2900.2670\\nThread-Index: AcX8DyZ3lFYRKl4wQm6UNi17qriurgAtEXDw\\nX-CARET-Spam-Score: -1.4 (-)\\nX-CARET-Scan-Signature: 35b8bacd9f92a946d21fffd0f2ce35db\\nX-Content-Type-Message-Body: text/plain;\\n\\tcharset=\"US-ASCII\"\\nArchived-At: <http://permalink.gmane.org/gmane.comp.cms.sakai.devel/3>\\n\\nI should chip in her as Dan\\'s PHB :)\\n\\nOur strategy at Cambridge is to try and get the best of both worlds. I am\\ndismayed by the either/or tone of many discussions on this topic. If you\\nstart from a monolithic place you will find yourself wanting/needing to be\\nloosening things up. If you start from a very loosely coupled place you will\\nfind yourself wanting to provide some coordination (broker service in SUNY\\nplans I think).\\n\\nAlthough the Sakai project and the SUNY design (and others) are at different\\nplaces on the spectrum I hope we can have conversations that lead to\\nlearning from each other and conversion, or at least an understanding of\\nwhen one approach is better than another and when it is not.\\n\\nJohn\\n\\nPS and from my point of view Dan is free to continue to voice his opinions.\\nHe has had an interesting experience of building a custom LMS for a\\nmulti-departmental course based on Wiki technology before joining CARET.\\n\\nBut perhaps some of this belongs on the strategy and advocacy list rather\\nthan Dev?\\n\\n> -----Original Message-----\\n> From: Dan Sheppard [mailto:dan@caret.cam.ac.uk]\\n> Sent: 08 December 2005 15:48\\n> To: sakai-dev@collab.sakaiproject.org\\n> Cc: Masson, Patrick; Patrick Carmichael\\n> Subject: LMS/VLE rants/comments\\n> \\n> Concerning Patrick Masson\\'s and (to a certain extent) Ian Dolphin\\'s\\n> comments on LMSes in general (beyond intergration with repositories).\\n> \\n> (I\\'ll post the summary of the responses I received concerning\\n> Repository/VLE integration to here and sepp-library in a moment).\\n> \\n> I should say from the start that I\\'m primarily a developer, and don\\'t\\n> pretend to speak from anyone other than myself, though I\\'m trying to\\n> reflect what I believe is strategy amongst my immediate managers, where\\n> I know it!\\n> \\n> I mentioned that VLEs are seen here, in some ways, as a sepcial case of\\n> VREs, or that VREs are a more primary purpose. I agree with Ian in a\\n> dislike for this jargon, and I\\'m sorry for lasping into it! What I\\n> really mean (I think) is that at a research-led University, much of our\\n> teaching in terms of styles of interaction, is derivative of, or based\\n> upon, how research is performed, rather than teaching as it might be\\n> seen as an adaptation of school teaching to a different demographic.\\n> \\n> I know that sounds vague, but things like group size, formality of\\n> \"courses\", open access to learning resources, the degree of direction\\n> and self-motivation, and so on, have real practical implications on any\\n> system we might deliver to campus.\\n> \\n> A collegiate University also has incredibly complex reporting and\\n> responsibility structure, which impacts on any top-down type approach.\\n> Essentially, nobody has the whole picture of a researcher or student\\'s\\n> learning experience other than that person themselves. That\\'s part of\\n> the reason, I think, that we\\'re after a system which focuses on the\\n> individual first, then their researching role, and then their teaching\\n> role, and allowing people to exchange their various roles in different\\n> contexts with ease.\\n> \\n> It\\'s these concerns which are the outstanding pressures, as I see it, in\\n> choosing a learning system. I think that many of these issues are\\n> reflected in Oxford University\\'s report on the choice of Bodington\\n> (fine-grained access control, no course registration, etc).\\n> \\n> The real \\'selling\\' point of Sakai, as I see it, at the moment as a tool\\n> is its community and adopters, rather than its codebase. And a large\\n> number of research-led (comparatively) resource-rich Universities are\\n> adopting it, some completely committed to it at least in the\\n> medium-term, and so we can be reasonably sure that where needs of\\n> research-led Universities are not met by Sakai, then they will be\\n> forthwith, and Sakai won\\'t move in a direction incompatible with this\\n> use (not that this will be its exclusive use!).\\n> \\n> Also, it currently does the job tolerably well: group management can be\\n> easily delegated, it accomodates small informal teaching groups,\\n> navigation between many fragmented informal components\\n> \\n> This is why, I think, we have interests in, for example, the JISC VRE\\n> Sakai work.\\n> \\n> We\\'ve spoken a lot recently here, internally, about approaches to\\n> providing resources along those lines, and the SUNY LMOS model\\n> (mentioned by name!) was the other leading contender.\\n> \\n> I don\\'t disagree with any of the downsides to using an integrated LMS\\n> that Patrick raised. Core tools are often behind the state-of-the-art,\\n> and need to be integrated into a VLE. It could be argued that a set of\\n> enterprise-type services (single-sign-on auth, LDAP, common navigation\\n> \\'frame\\', etc) can be used to support a set of tools.\\n> \\n> Part of the problem we find, though, is that many of the enterprise\\n> tools are not suited to an environment like this (it\\'s difficult, for\\n> example, for LDAP, to capture the creative anarchy of the way many\\n> research and tutorial groups tend to assemble and disperse).\\n> \\n> Users also seem, in practice, to react positively to the consistent\\n> navigation and style provided by these tools. The more vociferous users,\\n> those who have more issues with the presentation of identity, may react\\n> against the blandly repetitive styling and the attribution issues\\n> raised. But the majority, as far as I can tell, react positively to\\n> simple navigation around a single server  (rather than the >1000 we must\\n> have here at the moment, each with their own tweaks and\\n> ideosynchrosies). I realise that the navigation and branding issues are\\n> distinct, but they\\'re highly entwined.\\n> \\n> Also, as more tools are added, the problem starts to escalate with an\\n> assembly of interoperating tools (as O(n^2)), but remain linear (O(n))\\n> with each tool which is added to an LMS framework (obviously this is a\\n> simplification). Also, it becomes simple to develop \"mix-and-match\"\\n> tools from services already in the framework because of their\\n> comonalities.\\n> \\n> As the issues you raise concerning lock-in become apparent there are\\n> starting to be standards developed which allow \"external\" applications,\\n> like IMS launch, though they\\'re currently a little immature.\\n> \\n> Another advantage to a deployer at the moment, of course, is that Sakai\\n> exists! Personally, if I were given a good integrated, styled, LMOS,\\n> with excellent delegated user management, and plenty of tools, I would\\n> be very pleased, but I\\'ve yet to see anything approaching this at the\\n> present time. But good luck in developing such!\\n> \\n> Personally, I agree that there\\'s currently no VLE/LMS which I could be\\n> comfortable as describing as \"good\": just some which are heading in the\\n> right direction, and really very few extant alternatives.\\n> \\n> Dan.\\n> \\n> ----------------------\\n> This automatic notification message was sent by Sakai Collab\\n> (http://collab.sakaiproject.org/portal) from the Sakai Development site.\\n> You can modify how you receive notifications at My Workspace >\\n> Preferences.\\n\\n----------------------\\nThis automatic notification message was sent by Sakai Collab (http://collab.sakaiproject.org/portal) from the Sakai Development site.\\nYou can modify how you receive notifications at My Workspace > Preferences.\\n'"
      ]
     },
     "execution_count": 15,
     "metadata": {},
     "output_type": "execute_result"
    }
   ],
   "source": [
    "response[find_test +2:]"
   ]
  },
  {
   "cell_type": "code",
   "execution_count": 24,
   "id": "020d820a",
   "metadata": {},
   "outputs": [
    {
     "ename": "OperationalError",
     "evalue": "SSL connection has been closed unexpectedly\n",
     "output_type": "error",
     "traceback": [
      "\u001b[1;31m---------------------------------------------------------------------------\u001b[0m",
      "\u001b[1;31mOperationalError\u001b[0m                          Traceback (most recent call last)",
      "Cell \u001b[1;32mIn[24], line 6\u001b[0m\n\u001b[0;32m      4\u001b[0m \u001b[38;5;28;01mwhile\u001b[39;00m \u001b[38;5;28;01mTrue\u001b[39;00m:\n\u001b[0;32m      5\u001b[0m     \u001b[38;5;28;01mif\u001b[39;00m (many \u001b[38;5;241m<\u001b[39m\u001b[38;5;241m1\u001b[39m):\n\u001b[1;32m----> 6\u001b[0m         \u001b[43mconn\u001b[49m\u001b[38;5;241;43m.\u001b[39;49m\u001b[43mcommit\u001b[49m\u001b[43m(\u001b[49m\u001b[43m)\u001b[49m\n\u001b[0;32m      7\u001b[0m         sval \u001b[38;5;241m=\u001b[39m \u001b[38;5;28minput\u001b[39m(\u001b[38;5;124m'\u001b[39m\u001b[38;5;124mHow many messages: \u001b[39m\u001b[38;5;124m'\u001b[39m)\n\u001b[0;32m      8\u001b[0m         \u001b[38;5;28;01mif\u001b[39;00m (\u001b[38;5;28mlen\u001b[39m(sval) \u001b[38;5;241m<\u001b[39m\u001b[38;5;241m1\u001b[39m ): \u001b[38;5;28;01mbreak\u001b[39;00m \u001b[38;5;66;03m#nếu ko có giá trị thì out vòng lặp\u001b[39;00m\n",
      "\u001b[1;31mOperationalError\u001b[0m: SSL connection has been closed unexpectedly\n"
     ]
    }
   ],
   "source": [
    "many = 0\n",
    "count = 0\n",
    "fail = 0\n",
    "while True:\n",
    "    if (many <1):\n",
    "        conn.commit()\n",
    "        sval = input('How many messages: ')\n",
    "        if (len(sval) <1 ): break #nếu ko có giá trị thì out vòng lặp\n",
    "        many = int(sval) #cast thành kiểu int\n",
    "    start += 1\n",
    "    \n",
    "    #Skip rows that are already retrieved\n",
    "    sql = 'SELECT id FROM messages WHERE id=%s' #%s is like a placeholder for parameter\n",
    "    row = myutils.queryValue(cur, sql, (start,))\n",
    "    if row is not None: continue #Skip rows that already exist\n",
    "    \n",
    "    many -= 1\n",
    "    url = baseurl + str(start) + '/' + str(start +1)\n",
    "    text = 'None'\n",
    "    try:\n",
    "        #Open with a timeout of 30 seconds\n",
    "        response = requests.get(url)\n",
    "        text = response.text\n",
    "        status = response.status_code #get the status of response\n",
    "        if status != 200:\n",
    "            print('Error Code= ', status, url)\n",
    "            break\n",
    "    except KeyboardInterrupt:\n",
    "        print('')\n",
    "        print('Program interrupted by user')\n",
    "        break\n",
    "    except Exception as e:\n",
    "        print('Unable to retrieve or parse page', url)\n",
    "        print('Error', e)\n",
    "        fail +=1\n",
    "        if fail >5: break\n",
    "        continue\n",
    "    print(url, len(text))\n",
    "    count +=1\n",
    "    if not text.startswith('From '):\n",
    "        print(text)\n",
    "        print('Did not find From ')\n",
    "        fail = fail +1\n",
    "        if fail >5: break #trên 5 lần out\n",
    "        continue\n",
    "    pos = text.find('\\n\\n')\n",
    "    if pos >0:\n",
    "        hdr = text[:pos] #header\n",
    "        body = text[pos+2:]\n",
    "    else:\n",
    "        print(text)\n",
    "        print('Count not find break between headers and body')\n",
    "        fail += 1\n",
    "        if fail > 5: break\n",
    "        continue\n",
    "    \n",
    "    #accept with or without < > \n",
    "    email = None\n",
    "    x = re.findall('\\nFrom :* <(\\S+@\\S+)>\\n', hdr)\n",
    "    if len(x) == 1:\n",
    "        email = x[0]\n",
    "        email = email.strip().lower()\n",
    "        email = email.replace('<', '')\n",
    "    else: \n",
    "        x = re.findall('\\nFrom: (\\S+@\\S+)\\n', hdr)\n",
    "        if len(x) == 1:\n",
    "            email = x[0]\n",
    "            email = email.strip().lower()\n",
    "            email = email.replace('<', '')\n",
    "            \n",
    "    sent_at = None\n",
    "    y = re.findall('\\nDate: .*, (.*)\\n', hdr)\n",
    "    if len(y) == 1:\n",
    "        tdate =y[0]\n",
    "        tdate = tdate[:26]\n",
    "    try:\n",
    "        sent_at = parsemaildate(tdate)\n",
    "    except:\n",
    "        print(text)\n",
    "        print('Parse fail', tdate)\n",
    "        fail = fail + 1\n",
    "        if fail >5: break\n",
    "        continue\n",
    "    subject = None\n",
    "    z = re.findall('\\nSubject: (.*)\\n', hdr)\n",
    "    if len(z) ==1: subject =z[0].strip().lower()\n",
    "    \n",
    "    fail = 0\n",
    "    "
   ]
  },
  {
   "cell_type": "code",
   "execution_count": null,
   "id": "4fd512f5",
   "metadata": {},
   "outputs": [],
   "source": []
  }
 ],
 "metadata": {
  "kernelspec": {
   "display_name": "Python 3 (ipykernel)",
   "language": "python",
   "name": "python3"
  },
  "language_info": {
   "codemirror_mode": {
    "name": "ipython",
    "version": 3
   },
   "file_extension": ".py",
   "mimetype": "text/x-python",
   "name": "python",
   "nbconvert_exporter": "python",
   "pygments_lexer": "ipython3",
   "version": "3.10.9"
  }
 },
 "nbformat": 4,
 "nbformat_minor": 5
}

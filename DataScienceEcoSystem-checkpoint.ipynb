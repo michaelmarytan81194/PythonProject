{
 "cells": [
  {
   "cell_type": "markdown",
   "id": "ca8c8415-c976-44a3-8438-8059e8fd12f5",
   "metadata": {},
   "source": [
    "# Data Science Tools and Ecosystem"
   ]
  },
  {
   "cell_type": "markdown",
   "id": "5d604d57-b422-4604-9ac9-1b9320f4ec13",
   "metadata": {},
   "source": [
    "In this notebook, Data Science Tools and Ecosystem are summarized\n",
    "Objective:\n",
    "* List popular languages for Data Science\n",
    "* Get familiar with using Jupyter Notebook\n",
    "* Review what I learnt"
   ]
  },
  {
   "cell_type": "markdown",
   "id": "c4f6aa98-58e2-4c21-9a35-349da6eec789",
   "metadata": {},
   "source": [
    "#### Some of the popular languages that Data Scientists use are.\n",
    "    1.Python\n",
    "    2.R\n",
    "    3.Java"
   ]
  },
  {
   "cell_type": "markdown",
   "id": "e01c905d-ad8b-40a9-acc2-e0039c4c7751",
   "metadata": {},
   "source": [
    "##### Some of the commonly used libraries used by Data Scientists include:\n",
    "1. Pandas\n",
    "2. Numpy\n",
    "3. MatplotLib"
   ]
  },
  {
   "cell_type": "markdown",
   "id": "e01c9ed9-12f2-4f73-9e96-c40298b7299f",
   "metadata": {},
   "source": [
    "| Data Science Tools |\n",
    "------------------\n",
    "| Anaconda |\n",
    "| Python |\n",
    "| RStudio |\n"
   ]
  },
  {
   "cell_type": "markdown",
   "id": "da054883-f9ed-473f-b35f-4635e6190928",
   "metadata": {},
   "source": [
    "### Below are a few examples of evaluating arithmetic expressions in Python"
   ]
  },
  {
   "cell_type": "code",
   "execution_count": 1,
   "id": "5e43e7fb-d8a3-475a-b221-64239859317a",
   "metadata": {},
   "outputs": [
    {
     "data": {
      "text/plain": [
       "17"
      ]
     },
     "execution_count": 1,
     "metadata": {},
     "output_type": "execute_result"
    }
   ],
   "source": [
    "# This a simple arithmetic expression to mutiply then add integers\n",
    "(3*4)+5"
   ]
  },
  {
   "cell_type": "code",
   "execution_count": 2,
   "id": "bf111183-3341-4de7-99f1-0ad325bf5e1b",
   "metadata": {},
   "outputs": [
    {
     "data": {
      "text/plain": [
       "3.3333333333333335"
      ]
     },
     "execution_count": 2,
     "metadata": {},
     "output_type": "execute_result"
    }
   ],
   "source": [
    "#This will convert 200 minutes to hours by diving by 60\n",
    "200/60"
   ]
  },
  {
   "cell_type": "markdown",
   "id": "8b95ed66-d5fc-4354-8cb6-32431333d33c",
   "metadata": {},
   "source": [
    "## Author \n",
    "Victor"
   ]
  },
  {
   "cell_type": "code",
   "execution_count": null,
   "id": "e6c0e95b-9d49-4650-a0a8-34a1891cde76",
   "metadata": {},
   "outputs": [],
   "source": []
  }
 ],
 "metadata": {
  "kernelspec": {
   "display_name": "Python 3 (ipykernel)",
   "language": "python",
   "name": "python3"
  },
  "language_info": {
   "codemirror_mode": {
    "name": "ipython",
    "version": 3
   },
   "file_extension": ".py",
   "mimetype": "text/x-python",
   "name": "python",
   "nbconvert_exporter": "python",
   "pygments_lexer": "ipython3",
   "version": "3.9.13"
  }
 },
 "nbformat": 4,
 "nbformat_minor": 5
}
